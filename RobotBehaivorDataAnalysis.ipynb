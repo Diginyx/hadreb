{
 "cells": [
  {
   "cell_type": "markdown",
   "id": "fe8c59e6",
   "metadata": {},
   "source": [
    "TODO:\n",
    "- Check rows where all emotion values in the row are the same e.g. all 1's or all 2's\n",
    "- Mean/std of each of the 8 emotion pairs\n",
    "- A nice figure that shows the mean/std of emotion pairs\n",
    "- Count of word tokens in the descriptions\n",
    "- Average description length (in words)\n",
    "- Size of vocabulary for descriptions\n",
    "- Figure that shows distribution of words based on count"
   ]
  },
  {
   "cell_type": "code",
   "execution_count": 2,
   "id": "090d8095",
   "metadata": {},
   "outputs": [],
   "source": [
    "import pandas as pd\n",
    "import numpy as np\n",
    "import pickle"
   ]
  },
  {
   "cell_type": "code",
   "execution_count": 22,
   "id": "d26e1028",
   "metadata": {},
   "outputs": [
    {
     "ename": "TypeError",
     "evalue": "read_csv() got an unexpected keyword argument 'index'",
     "output_type": "error",
     "traceback": [
      "\u001b[0;31m---------------------------------------------------------------------------\u001b[0m",
      "\u001b[0;31mTypeError\u001b[0m                                 Traceback (most recent call last)",
      "\u001b[0;32m/var/folders/3n/344lt8m52hgg43g5j4q6rtwh0000gp/T/ipykernel_52393/3627274424.py\u001b[0m in \u001b[0;36m<module>\u001b[0;34m\u001b[0m\n\u001b[0;32m----> 1\u001b[0;31m \u001b[0mcozmo_data\u001b[0m \u001b[0;34m=\u001b[0m \u001b[0mpd\u001b[0m\u001b[0;34m.\u001b[0m\u001b[0mread_csv\u001b[0m\u001b[0;34m(\u001b[0m\u001b[0;34m'responses_cozmo.csv'\u001b[0m\u001b[0;34m,\u001b[0m \u001b[0mindex\u001b[0m\u001b[0;34m=\u001b[0m\u001b[0;32mTrue\u001b[0m\u001b[0;34m)\u001b[0m\u001b[0;34m\u001b[0m\u001b[0;34m\u001b[0m\u001b[0m\n\u001b[0m",
      "\u001b[0;32m~/opt/anaconda3/envs/python3.7/lib/python3.7/site-packages/pandas/util/_decorators.py\u001b[0m in \u001b[0;36mwrapper\u001b[0;34m(*args, **kwargs)\u001b[0m\n\u001b[1;32m    309\u001b[0m                     \u001b[0mstacklevel\u001b[0m\u001b[0;34m=\u001b[0m\u001b[0mstacklevel\u001b[0m\u001b[0;34m,\u001b[0m\u001b[0;34m\u001b[0m\u001b[0;34m\u001b[0m\u001b[0m\n\u001b[1;32m    310\u001b[0m                 )\n\u001b[0;32m--> 311\u001b[0;31m             \u001b[0;32mreturn\u001b[0m \u001b[0mfunc\u001b[0m\u001b[0;34m(\u001b[0m\u001b[0;34m*\u001b[0m\u001b[0margs\u001b[0m\u001b[0;34m,\u001b[0m \u001b[0;34m**\u001b[0m\u001b[0mkwargs\u001b[0m\u001b[0;34m)\u001b[0m\u001b[0;34m\u001b[0m\u001b[0;34m\u001b[0m\u001b[0m\n\u001b[0m\u001b[1;32m    312\u001b[0m \u001b[0;34m\u001b[0m\u001b[0m\n\u001b[1;32m    313\u001b[0m         \u001b[0;32mreturn\u001b[0m \u001b[0mwrapper\u001b[0m\u001b[0;34m\u001b[0m\u001b[0;34m\u001b[0m\u001b[0m\n",
      "\u001b[0;31mTypeError\u001b[0m: read_csv() got an unexpected keyword argument 'index'"
     ]
    }
   ],
   "source": [
    "cozmo_data = pd.read_csv('responses_cozmo.csv')"
   ]
  },
  {
   "cell_type": "code",
   "execution_count": 57,
   "id": "a45dd54f",
   "metadata": {},
   "outputs": [],
   "source": [
    "cozmo_data = pd.read_pickle('./clean_cozmo_data.pkl')"
   ]
  },
  {
   "cell_type": "code",
   "execution_count": 51,
   "id": "736f5038",
   "metadata": {},
   "outputs": [],
   "source": [
    "cozmo_data.to_pickle('./clean_cozmo_data.pkl')"
   ]
  },
  {
   "cell_type": "code",
   "execution_count": 58,
   "id": "21d2d298",
   "metadata": {
    "scrolled": true
   },
   "outputs": [
    {
     "data": {
      "text/html": [
       "<div>\n",
       "<style scoped>\n",
       "    .dataframe tbody tr th:only-of-type {\n",
       "        vertical-align: middle;\n",
       "    }\n",
       "\n",
       "    .dataframe tbody tr th {\n",
       "        vertical-align: top;\n",
       "    }\n",
       "\n",
       "    .dataframe thead th {\n",
       "        text-align: right;\n",
       "    }\n",
       "</style>\n",
       "<table border=\"1\" class=\"dataframe\">\n",
       "  <thead>\n",
       "    <tr style=\"text-align: right;\">\n",
       "      <th></th>\n",
       "      <th>Timestamp, Description</th>\n",
       "      <th>Interst/Alarm</th>\n",
       "      <th>Confusion/Understanding</th>\n",
       "      <th>Frusteration/Relief</th>\n",
       "      <th>Sorrow/Joy</th>\n",
       "      <th>Anger/Gratitude</th>\n",
       "      <th>Fear/Hope</th>\n",
       "      <th>Boredom/Surprise</th>\n",
       "      <th>Disgust/Desire</th>\n",
       "    </tr>\n",
       "  </thead>\n",
       "  <tbody>\n",
       "    <tr>\n",
       "      <th>1.617917e+09</th>\n",
       "      <td>It went to investigate a thing it saw</td>\n",
       "      <td>1</td>\n",
       "      <td>1</td>\n",
       "      <td>3</td>\n",
       "      <td>3</td>\n",
       "      <td>3</td>\n",
       "      <td>4</td>\n",
       "      <td>4</td>\n",
       "      <td>5</td>\n",
       "    </tr>\n",
       "    <tr>\n",
       "      <th>1.619714e+09</th>\n",
       "      <td>drove forward for a bit and then turned to his...</td>\n",
       "      <td>2</td>\n",
       "      <td>3</td>\n",
       "      <td>3</td>\n",
       "      <td>3</td>\n",
       "      <td>3</td>\n",
       "      <td>3</td>\n",
       "      <td>3</td>\n",
       "      <td>3</td>\n",
       "    </tr>\n",
       "    <tr>\n",
       "      <th>1.619714e+09</th>\n",
       "      <td>just drove forward, made a little sound at the...</td>\n",
       "      <td>2</td>\n",
       "      <td>3</td>\n",
       "      <td>3</td>\n",
       "      <td>3</td>\n",
       "      <td>3</td>\n",
       "      <td>3</td>\n",
       "      <td>3</td>\n",
       "      <td>3</td>\n",
       "    </tr>\n",
       "    <tr>\n",
       "      <th>1.619714e+09</th>\n",
       "      <td>drove forward fairly quickly and then turned t...</td>\n",
       "      <td>1</td>\n",
       "      <td>3</td>\n",
       "      <td>3</td>\n",
       "      <td>3</td>\n",
       "      <td>4</td>\n",
       "      <td>4</td>\n",
       "      <td>3</td>\n",
       "      <td>4</td>\n",
       "    </tr>\n",
       "    <tr>\n",
       "      <th>1.619714e+09</th>\n",
       "      <td>looked down squinted eyes and then looked forw...</td>\n",
       "      <td>2</td>\n",
       "      <td>2</td>\n",
       "      <td>3</td>\n",
       "      <td>3</td>\n",
       "      <td>3</td>\n",
       "      <td>3</td>\n",
       "      <td>3</td>\n",
       "      <td>3</td>\n",
       "    </tr>\n",
       "    <tr>\n",
       "      <th>...</th>\n",
       "      <td>...</td>\n",
       "      <td>...</td>\n",
       "      <td>...</td>\n",
       "      <td>...</td>\n",
       "      <td>...</td>\n",
       "      <td>...</td>\n",
       "      <td>...</td>\n",
       "      <td>...</td>\n",
       "      <td>...</td>\n",
       "    </tr>\n",
       "    <tr>\n",
       "      <th>1.635203e+09</th>\n",
       "      <td>The robot showed no reaction at all.</td>\n",
       "      <td>3</td>\n",
       "      <td>3</td>\n",
       "      <td>3</td>\n",
       "      <td>3</td>\n",
       "      <td>3</td>\n",
       "      <td>3</td>\n",
       "      <td>3</td>\n",
       "      <td>3</td>\n",
       "    </tr>\n",
       "    <tr>\n",
       "      <th>1.635203e+09</th>\n",
       "      <td>The robot moved around and said something.</td>\n",
       "      <td>5</td>\n",
       "      <td>5</td>\n",
       "      <td>5</td>\n",
       "      <td>5</td>\n",
       "      <td>5</td>\n",
       "      <td>5</td>\n",
       "      <td>5</td>\n",
       "      <td>5</td>\n",
       "    </tr>\n",
       "    <tr>\n",
       "      <th>1.635203e+09</th>\n",
       "      <td>The robot said something and was sad.</td>\n",
       "      <td>5</td>\n",
       "      <td>1</td>\n",
       "      <td>1</td>\n",
       "      <td>1</td>\n",
       "      <td>1</td>\n",
       "      <td>1</td>\n",
       "      <td>1</td>\n",
       "      <td>1</td>\n",
       "    </tr>\n",
       "    <tr>\n",
       "      <th>1.635203e+09</th>\n",
       "      <td>Cozmo said something.</td>\n",
       "      <td>4</td>\n",
       "      <td>1</td>\n",
       "      <td>1</td>\n",
       "      <td>1</td>\n",
       "      <td>1</td>\n",
       "      <td>1</td>\n",
       "      <td>1</td>\n",
       "      <td>1</td>\n",
       "    </tr>\n",
       "    <tr>\n",
       "      <th>1.635203e+09</th>\n",
       "      <td>It showed almost no reaction.</td>\n",
       "      <td>3</td>\n",
       "      <td>3</td>\n",
       "      <td>3</td>\n",
       "      <td>3</td>\n",
       "      <td>3</td>\n",
       "      <td>3</td>\n",
       "      <td>3</td>\n",
       "      <td>3</td>\n",
       "    </tr>\n",
       "  </tbody>\n",
       "</table>\n",
       "<p>349 rows × 9 columns</p>\n",
       "</div>"
      ],
      "text/plain": [
       "                                         Timestamp, Description  \\\n",
       "1.617917e+09              It went to investigate a thing it saw   \n",
       "1.619714e+09  drove forward for a bit and then turned to his...   \n",
       "1.619714e+09  just drove forward, made a little sound at the...   \n",
       "1.619714e+09  drove forward fairly quickly and then turned t...   \n",
       "1.619714e+09  looked down squinted eyes and then looked forw...   \n",
       "...                                                         ...   \n",
       "1.635203e+09               The robot showed no reaction at all.   \n",
       "1.635203e+09         The robot moved around and said something.   \n",
       "1.635203e+09              The robot said something and was sad.   \n",
       "1.635203e+09                              Cozmo said something.   \n",
       "1.635203e+09                      It showed almost no reaction.   \n",
       "\n",
       "              Interst/Alarm  Confusion/Understanding  Frusteration/Relief  \\\n",
       "1.617917e+09              1                        1                    3   \n",
       "1.619714e+09              2                        3                    3   \n",
       "1.619714e+09              2                        3                    3   \n",
       "1.619714e+09              1                        3                    3   \n",
       "1.619714e+09              2                        2                    3   \n",
       "...                     ...                      ...                  ...   \n",
       "1.635203e+09              3                        3                    3   \n",
       "1.635203e+09              5                        5                    5   \n",
       "1.635203e+09              5                        1                    1   \n",
       "1.635203e+09              4                        1                    1   \n",
       "1.635203e+09              3                        3                    3   \n",
       "\n",
       "              Sorrow/Joy  Anger/Gratitude  Fear/Hope  Boredom/Surprise  \\\n",
       "1.617917e+09           3                3          4                 4   \n",
       "1.619714e+09           3                3          3                 3   \n",
       "1.619714e+09           3                3          3                 3   \n",
       "1.619714e+09           3                4          4                 3   \n",
       "1.619714e+09           3                3          3                 3   \n",
       "...                  ...              ...        ...               ...   \n",
       "1.635203e+09           3                3          3                 3   \n",
       "1.635203e+09           5                5          5                 5   \n",
       "1.635203e+09           1                1          1                 1   \n",
       "1.635203e+09           1                1          1                 1   \n",
       "1.635203e+09           3                3          3                 3   \n",
       "\n",
       "              Disgust/Desire  \n",
       "1.617917e+09               5  \n",
       "1.619714e+09               3  \n",
       "1.619714e+09               3  \n",
       "1.619714e+09               4  \n",
       "1.619714e+09               3  \n",
       "...                      ...  \n",
       "1.635203e+09               3  \n",
       "1.635203e+09               5  \n",
       "1.635203e+09               1  \n",
       "1.635203e+09               1  \n",
       "1.635203e+09               3  \n",
       "\n",
       "[349 rows x 9 columns]"
      ]
     },
     "execution_count": 58,
     "metadata": {},
     "output_type": "execute_result"
    }
   ],
   "source": [
    "cozmo_data"
   ]
  },
  {
   "cell_type": "code",
   "execution_count": 26,
   "id": "244937f7",
   "metadata": {},
   "outputs": [
    {
     "data": {
      "text/plain": [
       "Timestamp, Description     Moved right and dropped lift. Made sad/bored n...\n",
       "Interst/Alarm                                                              3\n",
       "Confusion/Understanding                                                    2\n",
       "Frusteration/Relief                                                        3\n",
       "Sorrow/Joy                                                                 1\n",
       "Anger/Gratitude                                                            3\n",
       "Fear/Hope                                                                  3\n",
       "Boredom/Surprise                                                           2\n",
       "Disgust/Desire                                                             3\n",
       "Name: 1620932710.6159298, dtype: object"
      ]
     },
     "execution_count": 26,
     "metadata": {},
     "output_type": "execute_result"
    }
   ],
   "source": [
    "cozmo_data.iloc[37]"
   ]
  },
  {
   "cell_type": "code",
   "execution_count": 37,
   "id": "d2867016",
   "metadata": {},
   "outputs": [],
   "source": [
    "#cozmo_data = cozmo_data.drop(cozmo_data.index[37])"
   ]
  },
  {
   "cell_type": "code",
   "execution_count": 27,
   "id": "d8f5a73f",
   "metadata": {},
   "outputs": [
    {
     "data": {
      "text/plain": [
       "(array([], dtype=int64), array([], dtype=int64))"
      ]
     },
     "execution_count": 27,
     "metadata": {},
     "output_type": "execute_result"
    }
   ],
   "source": [
    "np.where(pd.isnull(cozmo_data))"
   ]
  },
  {
   "cell_type": "code",
   "execution_count": 28,
   "id": "2c6c1fce",
   "metadata": {},
   "outputs": [
    {
     "data": {
      "text/plain": [
       "(array([], dtype=int64), array([], dtype=int64))"
      ]
     },
     "execution_count": 28,
     "metadata": {},
     "output_type": "execute_result"
    }
   ],
   "source": [
    "np.where(cozmo_data.applymap(lambda x: x == ''))"
   ]
  },
  {
   "cell_type": "code",
   "execution_count": 49,
   "id": "ade1b5f4",
   "metadata": {},
   "outputs": [
    {
     "data": {
      "text/plain": [
       "[]"
      ]
     },
     "execution_count": 49,
     "metadata": {},
     "output_type": "execute_result"
    }
   ],
   "source": [
    "test_rows = cozmo_data[cozmo_data['Timestamp, Description']=='test'].index.tolist()\n",
    "test_rows"
   ]
  },
  {
   "cell_type": "code",
   "execution_count": 6,
   "id": "f73a28bd",
   "metadata": {},
   "outputs": [],
   "source": [
    "misty_data = pd.read_csv('responses_misty.csv')"
   ]
  },
  {
   "cell_type": "code",
   "execution_count": 59,
   "id": "a1779ed1",
   "metadata": {},
   "outputs": [],
   "source": [
    "misty_data = pd.read_pickle('./clean_misty_data.pkl')"
   ]
  },
  {
   "cell_type": "code",
   "execution_count": 53,
   "id": "91468f8b",
   "metadata": {},
   "outputs": [],
   "source": [
    "misty_data.to_pickle('./clean_misty_data.pkl')"
   ]
  },
  {
   "cell_type": "code",
   "execution_count": 60,
   "id": "b50dde15",
   "metadata": {
    "scrolled": true
   },
   "outputs": [
    {
     "data": {
      "text/html": [
       "<div>\n",
       "<style scoped>\n",
       "    .dataframe tbody tr th:only-of-type {\n",
       "        vertical-align: middle;\n",
       "    }\n",
       "\n",
       "    .dataframe tbody tr th {\n",
       "        vertical-align: top;\n",
       "    }\n",
       "\n",
       "    .dataframe thead th {\n",
       "        text-align: right;\n",
       "    }\n",
       "</style>\n",
       "<table border=\"1\" class=\"dataframe\">\n",
       "  <thead>\n",
       "    <tr style=\"text-align: right;\">\n",
       "      <th></th>\n",
       "      <th>Timestamp, Description</th>\n",
       "      <th>Interst/Alarm</th>\n",
       "      <th>Confusion/Understanding</th>\n",
       "      <th>Frusteration/Relief</th>\n",
       "      <th>Sorrow/Joy</th>\n",
       "      <th>Anger/Gratitude</th>\n",
       "      <th>Fear/Hope</th>\n",
       "      <th>Boredom/Surprise</th>\n",
       "      <th>Disgust/Desire</th>\n",
       "    </tr>\n",
       "  </thead>\n",
       "  <tbody>\n",
       "    <tr>\n",
       "      <th>1.617916e+09</th>\n",
       "      <td>confused and asking for clarification almost</td>\n",
       "      <td>3</td>\n",
       "      <td>2</td>\n",
       "      <td>4</td>\n",
       "      <td>3</td>\n",
       "      <td>2</td>\n",
       "      <td>4</td>\n",
       "      <td>1</td>\n",
       "      <td>1</td>\n",
       "    </tr>\n",
       "    <tr>\n",
       "      <th>1.619713e+09</th>\n",
       "      <td>His eyes half closed, his head tilted up, his ...</td>\n",
       "      <td>2</td>\n",
       "      <td>4</td>\n",
       "      <td>3</td>\n",
       "      <td>3</td>\n",
       "      <td>4</td>\n",
       "      <td>4</td>\n",
       "      <td>3</td>\n",
       "      <td>5</td>\n",
       "    </tr>\n",
       "    <tr>\n",
       "      <th>1.619713e+09</th>\n",
       "      <td>eyes were half open, head tilted up and down s...</td>\n",
       "      <td>3</td>\n",
       "      <td>3</td>\n",
       "      <td>2</td>\n",
       "      <td>3</td>\n",
       "      <td>3</td>\n",
       "      <td>3</td>\n",
       "      <td>1</td>\n",
       "      <td>3</td>\n",
       "    </tr>\n",
       "    <tr>\n",
       "      <th>1.619713e+09</th>\n",
       "      <td>eyes were looking concerned to the left, then ...</td>\n",
       "      <td>3</td>\n",
       "      <td>2</td>\n",
       "      <td>3</td>\n",
       "      <td>3</td>\n",
       "      <td>3</td>\n",
       "      <td>3</td>\n",
       "      <td>4</td>\n",
       "      <td>3</td>\n",
       "    </tr>\n",
       "    <tr>\n",
       "      <th>1.619713e+09</th>\n",
       "      <td>one arm moved about halfway up twice head tilt...</td>\n",
       "      <td>3</td>\n",
       "      <td>3</td>\n",
       "      <td>2</td>\n",
       "      <td>2</td>\n",
       "      <td>3</td>\n",
       "      <td>3</td>\n",
       "      <td>2</td>\n",
       "      <td>3</td>\n",
       "    </tr>\n",
       "    <tr>\n",
       "      <th>...</th>\n",
       "      <td>...</td>\n",
       "      <td>...</td>\n",
       "      <td>...</td>\n",
       "      <td>...</td>\n",
       "      <td>...</td>\n",
       "      <td>...</td>\n",
       "      <td>...</td>\n",
       "      <td>...</td>\n",
       "      <td>...</td>\n",
       "    </tr>\n",
       "    <tr>\n",
       "      <th>1.635204e+09</th>\n",
       "      <td>It waved its hand.</td>\n",
       "      <td>3</td>\n",
       "      <td>3</td>\n",
       "      <td>3</td>\n",
       "      <td>3</td>\n",
       "      <td>3</td>\n",
       "      <td>3</td>\n",
       "      <td>3</td>\n",
       "      <td>3</td>\n",
       "    </tr>\n",
       "    <tr>\n",
       "      <th>1.635204e+09</th>\n",
       "      <td>It waved its hand.</td>\n",
       "      <td>3</td>\n",
       "      <td>3</td>\n",
       "      <td>3</td>\n",
       "      <td>3</td>\n",
       "      <td>3</td>\n",
       "      <td>3</td>\n",
       "      <td>3</td>\n",
       "      <td>3</td>\n",
       "    </tr>\n",
       "    <tr>\n",
       "      <th>1.635205e+09</th>\n",
       "      <td>It slightly nodded its head and moved right hand.</td>\n",
       "      <td>1</td>\n",
       "      <td>5</td>\n",
       "      <td>3</td>\n",
       "      <td>3</td>\n",
       "      <td>3</td>\n",
       "      <td>3</td>\n",
       "      <td>3</td>\n",
       "      <td>3</td>\n",
       "    </tr>\n",
       "    <tr>\n",
       "      <th>1.635205e+09</th>\n",
       "      <td>It nodded its head.</td>\n",
       "      <td>3</td>\n",
       "      <td>3</td>\n",
       "      <td>3</td>\n",
       "      <td>3</td>\n",
       "      <td>3</td>\n",
       "      <td>3</td>\n",
       "      <td>3</td>\n",
       "      <td>3</td>\n",
       "    </tr>\n",
       "    <tr>\n",
       "      <th>1.635205e+09</th>\n",
       "      <td>It slightly moved its right hand only.</td>\n",
       "      <td>3</td>\n",
       "      <td>3</td>\n",
       "      <td>3</td>\n",
       "      <td>3</td>\n",
       "      <td>3</td>\n",
       "      <td>3</td>\n",
       "      <td>3</td>\n",
       "      <td>3</td>\n",
       "    </tr>\n",
       "  </tbody>\n",
       "</table>\n",
       "<p>417 rows × 9 columns</p>\n",
       "</div>"
      ],
      "text/plain": [
       "                                         Timestamp, Description  \\\n",
       "1.617916e+09       confused and asking for clarification almost   \n",
       "1.619713e+09  His eyes half closed, his head tilted up, his ...   \n",
       "1.619713e+09  eyes were half open, head tilted up and down s...   \n",
       "1.619713e+09  eyes were looking concerned to the left, then ...   \n",
       "1.619713e+09  one arm moved about halfway up twice head tilt...   \n",
       "...                                                         ...   \n",
       "1.635204e+09                                 It waved its hand.   \n",
       "1.635204e+09                                 It waved its hand.   \n",
       "1.635205e+09  It slightly nodded its head and moved right hand.   \n",
       "1.635205e+09                                It nodded its head.   \n",
       "1.635205e+09             It slightly moved its right hand only.   \n",
       "\n",
       "              Interst/Alarm  Confusion/Understanding  Frusteration/Relief  \\\n",
       "1.617916e+09              3                        2                    4   \n",
       "1.619713e+09              2                        4                    3   \n",
       "1.619713e+09              3                        3                    2   \n",
       "1.619713e+09              3                        2                    3   \n",
       "1.619713e+09              3                        3                    2   \n",
       "...                     ...                      ...                  ...   \n",
       "1.635204e+09              3                        3                    3   \n",
       "1.635204e+09              3                        3                    3   \n",
       "1.635205e+09              1                        5                    3   \n",
       "1.635205e+09              3                        3                    3   \n",
       "1.635205e+09              3                        3                    3   \n",
       "\n",
       "              Sorrow/Joy  Anger/Gratitude  Fear/Hope  Boredom/Surprise  \\\n",
       "1.617916e+09           3                2          4                 1   \n",
       "1.619713e+09           3                4          4                 3   \n",
       "1.619713e+09           3                3          3                 1   \n",
       "1.619713e+09           3                3          3                 4   \n",
       "1.619713e+09           2                3          3                 2   \n",
       "...                  ...              ...        ...               ...   \n",
       "1.635204e+09           3                3          3                 3   \n",
       "1.635204e+09           3                3          3                 3   \n",
       "1.635205e+09           3                3          3                 3   \n",
       "1.635205e+09           3                3          3                 3   \n",
       "1.635205e+09           3                3          3                 3   \n",
       "\n",
       "              Disgust/Desire  \n",
       "1.617916e+09               1  \n",
       "1.619713e+09               5  \n",
       "1.619713e+09               3  \n",
       "1.619713e+09               3  \n",
       "1.619713e+09               3  \n",
       "...                      ...  \n",
       "1.635204e+09               3  \n",
       "1.635204e+09               3  \n",
       "1.635205e+09               3  \n",
       "1.635205e+09               3  \n",
       "1.635205e+09               3  \n",
       "\n",
       "[417 rows x 9 columns]"
      ]
     },
     "execution_count": 60,
     "metadata": {},
     "output_type": "execute_result"
    }
   ],
   "source": [
    "misty_data"
   ]
  },
  {
   "cell_type": "code",
   "execution_count": 42,
   "id": "802c3a62",
   "metadata": {},
   "outputs": [
    {
     "name": "stdout",
     "output_type": "stream",
     "text": [
      "1.617916e+09         confused and asking for clarification almost\n",
      "1.619713e+09    His eyes half closed, his head tilted up, his ...\n",
      "1.619713e+09    eyes were half open, head tilted up and down s...\n",
      "1.619713e+09    eyes were looking concerned to the left, then ...\n",
      "1.619713e+09    one arm moved about halfway up twice head tilt...\n",
      "                                      ...                        \n",
      "1.635204e+09                                   It waved its hand.\n",
      "1.635204e+09                                   It waved its hand.\n",
      "1.635205e+09    It slightly nodded its head and moved right hand.\n",
      "1.635205e+09                                  It nodded its head.\n",
      "1.635205e+09               It slightly moved its right hand only.\n",
      "Name: Timestamp, Description, Length: 417, dtype: object\n"
     ]
    }
   ],
   "source": [
    "print(misty_data['Timestamp, Description'])"
   ]
  },
  {
   "cell_type": "code",
   "execution_count": 37,
   "id": "350efc94",
   "metadata": {},
   "outputs": [
    {
     "data": {
      "text/plain": [
       "[]"
      ]
     },
     "execution_count": 37,
     "metadata": {},
     "output_type": "execute_result"
    }
   ],
   "source": [
    "test_rows = misty_data[misty_data['Timestamp, Description']=='test'].index.tolist()\n",
    "test_rows"
   ]
  },
  {
   "cell_type": "code",
   "execution_count": 34,
   "id": "7e0c1fed",
   "metadata": {},
   "outputs": [],
   "source": [
    "#misty_data=misty_data.drop(labels=test_rows, axis=0)"
   ]
  },
  {
   "cell_type": "code",
   "execution_count": null,
   "id": "a96c6c26",
   "metadata": {},
   "outputs": [],
   "source": [
    "#misty_data = misty_data.drop(misty_data.index[37])"
   ]
  },
  {
   "cell_type": "code",
   "execution_count": 59,
   "id": "05b0c01d",
   "metadata": {},
   "outputs": [
    {
     "data": {
      "text/plain": [
       "(array([], dtype=int64), array([], dtype=int64))"
      ]
     },
     "execution_count": 59,
     "metadata": {},
     "output_type": "execute_result"
    }
   ],
   "source": [
    "np.where(pd.isnull(misty_data))"
   ]
  },
  {
   "cell_type": "code",
   "execution_count": 60,
   "id": "30b9b4a7",
   "metadata": {},
   "outputs": [
    {
     "data": {
      "text/plain": [
       "(array([], dtype=int64), array([], dtype=int64))"
      ]
     },
     "execution_count": 60,
     "metadata": {},
     "output_type": "execute_result"
    }
   ],
   "source": [
    "np.where(pd.isnull(misty_data))"
   ]
  },
  {
   "cell_type": "code",
   "execution_count": null,
   "id": "fe45cc48",
   "metadata": {},
   "outputs": [],
   "source": []
  }
 ],
 "metadata": {
  "kernelspec": {
   "display_name": "python3.7",
   "language": "python",
   "name": "python3.7"
  },
  "language_info": {
   "codemirror_mode": {
    "name": "ipython",
    "version": 3
   },
   "file_extension": ".py",
   "mimetype": "text/x-python",
   "name": "python",
   "nbconvert_exporter": "python",
   "pygments_lexer": "ipython3",
   "version": "3.7.11"
  }
 },
 "nbformat": 4,
 "nbformat_minor": 5
}
