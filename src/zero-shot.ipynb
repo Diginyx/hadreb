{
 "cells": [
  {
   "cell_type": "code",
   "execution_count": 1,
   "id": "bcdbe024",
   "metadata": {},
   "outputs": [],
   "source": [
    "import os\n",
    "import re\n",
    "import numpy as np \n",
    "import shutil\n",
    "from sklearn.metrics import accuracy_score\n",
    "\n",
    "import transformers\n",
    "from transformers import BertTokenizer, BertModel\n",
    "\n",
    "import torch\n",
    "from torch import cuda\n",
    "from  tqdm.notebook import tqdm\n",
    "device = 'cuda' if cuda.is_available() else 'cpu'\n",
    "import pickle\n",
    "import re\n",
    "# from nltk.corpus import stopwords\n",
    "from nltk import word_tokenize\n",
    "import nltk"
   ]
  },
  {
   "cell_type": "code",
   "execution_count": 47,
   "id": "816afa96",
   "metadata": {},
   "outputs": [],
   "source": [
    "from transformers import pipeline\n",
    "classifier = pipeline(\"zero-shot-classification\",\n",
    "                      model=\"facebook/bart-large-mnli\")"
   ]
  },
  {
   "cell_type": "code",
   "execution_count": 38,
   "id": "00ff0c1d",
   "metadata": {},
   "outputs": [],
   "source": [
    "REPLACE_BY_SPACE_RE = re.compile('[/(){}\\[\\]\\|@,;]')\n",
    "BAD_SYMBOLS_RE = re.compile('[^0-9a-z #+_]')\n",
    "# STOPWORDS = set(stopwords.words('english'))\n",
    "\n",
    "def clean_text(text):\n",
    "    \"\"\"\n",
    "        text: a string\n",
    "        \n",
    "        return: modified initial string\n",
    "    \"\"\"\n",
    "    text = text.lower() # lowercase text\n",
    "    text = REPLACE_BY_SPACE_RE.sub(' ', text) # replace REPLACE_BY_SPACE_RE symbols by space in text. substitute the matched string in REPLACE_BY_SPACE_RE with space.\n",
    "    text = BAD_SYMBOLS_RE.sub('', text) # remove symbols which are in BAD_SYMBOLS_RE from text. substitute the matched string in BAD_SYMBOLS_RE with nothing. \n",
    "#     text = ' '.join(word for word in text.split() if word not in STOPWORDS) # remove stopwors from text\n",
    "    return text"
   ]
  },
  {
   "cell_type": "code",
   "execution_count": 39,
   "id": "8a772d99",
   "metadata": {},
   "outputs": [],
   "source": [
    "with open('cozmo_filtered_data.pkl', \"rb\") as fh:\n",
    "    cozmo_data = pickle.load(fh)\n",
    "    cozmo_data.rename(columns={'Interst/Alarm':'Interest/Alarm', 'Frusteration/Relief':'Frustration/Relief'}, inplace=True)\n",
    "with open('misty_filtered_data.pkl', \"rb\") as fh:\n",
    "    misty_data = pickle.load(fh)\n",
    "    misty_data.rename(columns={'Interst/Alarm':'Interest/Alarm', 'Frusteration/Relief':'Frustration/Relief'}, inplace=True)"
   ]
  },
  {
   "cell_type": "code",
   "execution_count": 40,
   "id": "e1ade657",
   "metadata": {},
   "outputs": [],
   "source": [
    "cozmo_data['Description'] = cozmo_data['Description'].apply(clean_text)"
   ]
  },
  {
   "cell_type": "code",
   "execution_count": 41,
   "id": "554abec1",
   "metadata": {},
   "outputs": [],
   "source": [
    "misty_data['Description'] = misty_data['Description'].apply(clean_text)"
   ]
  },
  {
   "cell_type": "code",
   "execution_count": 42,
   "id": "8291df89",
   "metadata": {},
   "outputs": [],
   "source": [
    "cols = ['Interest/Alarm','Confusion/Understanding','Frustration/Relief','Sorrow/Joy','Anger/Gratitude','Fear/Hope','Boredom/Surprise','Disgust/Desire']"
   ]
  },
  {
   "cell_type": "code",
   "execution_count": 43,
   "id": "3032f664",
   "metadata": {},
   "outputs": [
    {
     "data": {
      "text/plain": [
       "['interest',\n",
       " 'alarm',\n",
       " 'confusion',\n",
       " 'understanding',\n",
       " 'frustration',\n",
       " 'relief',\n",
       " 'sorrow',\n",
       " 'joy',\n",
       " 'anger',\n",
       " 'gratitude',\n",
       " 'fear',\n",
       " 'hope',\n",
       " 'boredom',\n",
       " 'surprise',\n",
       " 'disgust',\n",
       " 'desire']"
      ]
     },
     "execution_count": 43,
     "metadata": {},
     "output_type": "execute_result"
    }
   ],
   "source": [
    "targs = [col.split('/') for col in misty_data.columns if '/' in col]\n",
    "\n",
    "targs = [i for x in targs for i in x]\n",
    "targs = list(map(str.lower, targs))\n",
    "targs"
   ]
  },
  {
   "cell_type": "code",
   "execution_count": 67,
   "id": "dc5bde84",
   "metadata": {},
   "outputs": [],
   "source": [
    "targs = ['interest',\n",
    " 'alarm',\n",
    " 'confusion',\n",
    " 'understanding',\n",
    " 'frustration',\n",
    " 'relief',\n",
    " 'sorrow',\n",
    " 'joy',\n",
    " 'anger',\n",
    " 'gratitude',\n",
    " 'fear',\n",
    " 'hope',\n",
    " 'boredom',\n",
    " 'surprise',\n",
    " 'disgust',\n",
    " 'desire']"
   ]
  },
  {
   "cell_type": "code",
   "execution_count": 68,
   "id": "7f44b72a",
   "metadata": {},
   "outputs": [
    {
     "data": {
      "text/plain": [
       "1.0"
      ]
     },
     "execution_count": 68,
     "metadata": {},
     "output_type": "execute_result"
    }
   ],
   "source": [
    "def rate(row, guess):\n",
    "    points = 0.0\n",
    "    if row[0] == 1:\n",
    "        if guess == 'interest':\n",
    "            points += 1\n",
    "    if row[0] == 5:\n",
    "        if guess == 'alarm':\n",
    "            points += 1\n",
    "    if row[0] == 2:\n",
    "        if guess == 'interest':\n",
    "            points += 0.5\n",
    "    if row[0] == 4:\n",
    "        if guess == 'alarm':\n",
    "            points += 0.5    \n",
    "            \n",
    "    if row[1] == 1:\n",
    "        if guess == 'confusion':\n",
    "            points += 1\n",
    "    if row[1] == 5:\n",
    "        if guess == 'understanding':\n",
    "            points += 1\n",
    "    if row[1] == 2:\n",
    "        if guess == 'confusion':\n",
    "            points += 0.5\n",
    "    if row[1] == 4:\n",
    "        if guess == 'understanding':\n",
    "            points += 0.5   \n",
    "            \n",
    "    if row[2] == 1:\n",
    "        if guess == 'frustration':\n",
    "            points += 1\n",
    "    if row[2] == 5:\n",
    "        if guess == 'relief':\n",
    "            points += 1 \n",
    "    if row[2] == 2:\n",
    "        if guess == 'frustration':\n",
    "            points += 0.5\n",
    "    if row[2] == 4:\n",
    "        if guess == 'relief':\n",
    "            points += 0.5            \n",
    "            \n",
    "    if row[3] == 1:\n",
    "        if guess == 'sorrow':\n",
    "            points += 1\n",
    "    if row[3] == 5:\n",
    "        if guess == 'joy':\n",
    "            points += 1   \n",
    "    if row[3] == 2:\n",
    "        if guess == 'sorrow':\n",
    "            points += 0.5\n",
    "    if row[3] == 4:\n",
    "        if guess == 'joy':\n",
    "            points += 0.5            \n",
    "            \n",
    "    if row[4] == 1:\n",
    "        if guess == 'anger':\n",
    "            points += 1\n",
    "    if row[4] == 5:\n",
    "        if guess == 'gratitude':\n",
    "            points += 1   \n",
    "    if row[4] == 2:\n",
    "        if guess == 'anger':\n",
    "            points += 0.5\n",
    "    if row[4] == 4:\n",
    "        if guess == 'gratitude':\n",
    "            points += 0.5            \n",
    "            \n",
    "    if row[5] == 1:\n",
    "        if guess == 'fear':\n",
    "            points += 1\n",
    "    if row[5] == 5:\n",
    "        if guess == 'hope':\n",
    "            points += 1   \n",
    "    if row[5] == 2:\n",
    "        if guess == 'fear':\n",
    "            points += 0.5\n",
    "    if row[5] == 4:\n",
    "        if guess == 'hope':\n",
    "            points += 0.5           \n",
    "            \n",
    "    if row[6] == 1:\n",
    "        if guess == 'boredom':\n",
    "            points += 1\n",
    "    if row[6] == 5:\n",
    "        if guess == 'surprise':\n",
    "            points += 1 \n",
    "    if row[6] == 2:\n",
    "        if guess == 'boredom':\n",
    "            points += 0.5\n",
    "    if row[6] == 4:\n",
    "        if guess == 'surprise':\n",
    "            points += 0.5\n",
    "            \n",
    "    if row[7] == 1:\n",
    "        if guess == 'disgust':\n",
    "            points += 1\n",
    "    if row[7] == 5:\n",
    "        if guess == 'desire':\n",
    "            points += 1   \n",
    "    if row[7] == 2:\n",
    "        if guess == 'disgust':\n",
    "            points += 0.5\n",
    "    if row[7] == 4:\n",
    "        if guess == 'desire':\n",
    "            points += 0.5\n",
    "            \n",
    "    return points\n",
    "            \n",
    "rate([1, 1, 3, 3, 3, 4, 4, 5], 'interest')       "
   ]
  },
  {
   "cell_type": "code",
   "execution_count": 71,
   "id": "2852298a",
   "metadata": {},
   "outputs": [
    {
     "data": {
      "application/vnd.jupyter.widget-view+json": {
       "model_id": "412952225d5f46b7ad32c455a8a75ab5",
       "version_major": 2,
       "version_minor": 0
      },
      "text/plain": [
       "0it [00:00, ?it/s]"
      ]
     },
     "metadata": {},
     "output_type": "display_data"
    }
   ],
   "source": [
    "correct = 0.0\n",
    "total = 0.0\n",
    "\n",
    "for i,row in tqdm(misty_data.iterrows()):\n",
    "    sequence_to_classify = row.Description\n",
    "    guess = classifier(sequence_to_classify, targs)\n",
    "    guess = guess['labels'][0] \n",
    "    c = row[cols].values\n",
    "    points = rate(c, guess)\n",
    "    if points == 0.0: continue\n",
    "    correct += points\n",
    "    total += 1.0\n"
   ]
  },
  {
   "cell_type": "markdown",
   "id": "8451d6a3",
   "metadata": {},
   "source": [
    "cozmo (547)"
   ]
  },
  {
   "cell_type": "code",
   "execution_count": 70,
   "id": "cf9f9207",
   "metadata": {},
   "outputs": [
    {
     "data": {
      "text/plain": [
       "(0.6953781512605042, 165.5, 238.0)"
      ]
     },
     "execution_count": 70,
     "metadata": {},
     "output_type": "execute_result"
    }
   ],
   "source": [
    "correct/total, correct, total "
   ]
  },
  {
   "cell_type": "markdown",
   "id": "58287873",
   "metadata": {},
   "source": [
    "misty results (547)"
   ]
  },
  {
   "cell_type": "code",
   "execution_count": 73,
   "id": "f8b2640b",
   "metadata": {},
   "outputs": [
    {
     "data": {
      "text/plain": [
       "(0.7927927927927928, 264.0, 333.0)"
      ]
     },
     "execution_count": 73,
     "metadata": {},
     "output_type": "execute_result"
    }
   ],
   "source": [
    "correct/total, correct, total "
   ]
  },
  {
   "cell_type": "code",
   "execution_count": null,
   "id": "01298630",
   "metadata": {},
   "outputs": [],
   "source": []
  }
 ],
 "metadata": {
  "kernelspec": {
   "display_name": "Python 3",
   "language": "python",
   "name": "python3"
  },
  "language_info": {
   "codemirror_mode": {
    "name": "ipython",
    "version": 3
   },
   "file_extension": ".py",
   "mimetype": "text/x-python",
   "name": "python",
   "nbconvert_exporter": "python",
   "pygments_lexer": "ipython3",
   "version": "3.8.8"
  }
 },
 "nbformat": 4,
 "nbformat_minor": 5
}
