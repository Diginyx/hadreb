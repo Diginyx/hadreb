{
 "cells": [
  {
   "cell_type": "code",
   "execution_count": 16,
   "id": "e87035e0",
   "metadata": {},
   "outputs": [
    {
     "data": {
      "text/plain": [
       "'cpu'"
      ]
     },
     "execution_count": 16,
     "metadata": {},
     "output_type": "execute_result"
    }
   ],
   "source": [
    "import os\n",
    "import re\n",
    "import numpy as np \n",
    "import shutil\n",
    "from sklearn.metrics import accuracy_score\n",
    "\n",
    "import transformers\n",
    "from transformers import BertTokenizer, BertModel\n",
    "\n",
    "import torch\n",
    "from torch import cuda\n",
    "from tqdm import tqdm_notebook as tqdm\n",
    "# device = 'cuda' if cuda.is_available() else 'cpu'\n",
    "device = 'cpu'\n",
    "import pickle\n",
    "import re\n",
    "# from nltk.corpus import stopwords\n",
    "from nltk import word_tokenize\n",
    "import nltk\n",
    "# nltk.download('stopwords')\n",
    "\n",
    "device"
   ]
  },
  {
   "cell_type": "code",
   "execution_count": 17,
   "id": "5a1ae768",
   "metadata": {},
   "outputs": [],
   "source": [
    "with open('cozmo_filtered_data.pkl', \"rb\") as fh:\n",
    "    cozmo_data = pickle.load(fh)\n",
    "with open('misty_filtered_data.pkl', \"rb\") as fh:\n",
    "    misty_data = pickle.load(fh)"
   ]
  },
  {
   "cell_type": "code",
   "execution_count": 18,
   "id": "02e5ae5d",
   "metadata": {},
   "outputs": [],
   "source": [
    "REPLACE_BY_SPACE_RE = re.compile('[/(){}\\[\\]\\|@,;]')\n",
    "BAD_SYMBOLS_RE = re.compile('[^0-9a-z #+_]')\n",
    "# STOPWORDS = set(stopwords.words('english'))\n",
    "\n",
    "def clean_text(text):\n",
    "    \"\"\"\n",
    "        text: a string\n",
    "        \n",
    "        return: modified initial string\n",
    "    \"\"\"\n",
    "    text = text.lower() # lowercase text\n",
    "    text = REPLACE_BY_SPACE_RE.sub(' ', text) # replace REPLACE_BY_SPACE_RE symbols by space in text. substitute the matched string in REPLACE_BY_SPACE_RE with space.\n",
    "    text = BAD_SYMBOLS_RE.sub('', text) # remove symbols which are in BAD_SYMBOLS_RE from text. substitute the matched string in BAD_SYMBOLS_RE with nothing. \n",
    "#     text = ' '.join(word for word in text.split() if word not in STOPWORDS) # remove stopwors from text\n",
    "    return text"
   ]
  },
  {
   "cell_type": "code",
   "execution_count": 19,
   "id": "d3d3f614",
   "metadata": {},
   "outputs": [],
   "source": [
    "cozmo_data['Description'] = cozmo_data['Description'].apply(clean_text)"
   ]
  },
  {
   "cell_type": "code",
   "execution_count": 20,
   "id": "c2314e73",
   "metadata": {},
   "outputs": [],
   "source": [
    "misty_data['Description'] = misty_data['Description'].apply(clean_text)"
   ]
  },
  {
   "cell_type": "code",
   "execution_count": 21,
   "id": "1d9c7ded",
   "metadata": {},
   "outputs": [],
   "source": [
    "class MultiLabelDataset(torch.utils.data.Dataset):\n",
    "\n",
    "    def __init__(self, text, labels, tokenizer, max_len):\n",
    "        self.tokenizer = tokenizer\n",
    "        self.text = text\n",
    "        self.targets = labels\n",
    "        self.max_len = max_len\n",
    "\n",
    "    def __len__(self):\n",
    "        return len(self.text)\n",
    "\n",
    "    def __getitem__(self, index):\n",
    "        text = self.text[index]\n",
    "        inputs = self.tokenizer.encode_plus(\n",
    "            text,\n",
    "            None,\n",
    "            add_special_tokens=True,\n",
    "            max_length=self.max_len,\n",
    "            pad_to_max_length=True,\n",
    "            truncation=True,\n",
    "            return_token_type_ids=True\n",
    "        )\n",
    "        ids = inputs['input_ids']\n",
    "        mask = inputs['attention_mask']\n",
    "        token_type_ids = inputs[\"token_type_ids\"]\n",
    "\n",
    "\n",
    "        return {\n",
    "            'ids': torch.tensor(ids, dtype=torch.long),\n",
    "            'mask': torch.tensor(mask, dtype=torch.long),\n",
    "            'token_type_ids': torch.tensor(token_type_ids, dtype=torch.long),\n",
    "            'targets': torch.tensor(self.targets[index], dtype=torch.float)\n",
    "        }"
   ]
  },
  {
   "cell_type": "code",
   "execution_count": 260,
   "id": "5b0f1da2",
   "metadata": {},
   "outputs": [],
   "source": [
    "class BERTClass(torch.nn.Module):\n",
    "    def __init__(self, NUM_OUT):\n",
    "        super(BERTClass, self).__init__()\n",
    "                   \n",
    "        self.l1 = BertModel.from_pretrained(\"bert-base-uncased\")\n",
    "        self.pre_classifier = torch.nn.Linear(768, 256)\n",
    "        self.classifier = torch.nn.Linear(256, NUM_OUT)\n",
    "        self.dropout = torch.nn.Dropout(0.5)\n",
    "        self.softmax = torch.nn.Softmax(dim=1)\n",
    "\n",
    "    def forward(self, input_ids, attention_mask, token_type_ids):\n",
    "        output_1 = self.l1(input_ids=input_ids, attention_mask=attention_mask)\n",
    "        hidden_state = output_1[0]\n",
    "        pooler = hidden_state[:, 0]\n",
    "        pooler = self.pre_classifier(pooler)\n",
    "        pooler = torch.nn.Tanh()(pooler)\n",
    "        pooler = self.dropout(pooler)\n",
    "        output = self.classifier(pooler)\n",
    "        output = self.softmax(output)\n",
    "        return output"
   ]
  },
  {
   "cell_type": "code",
   "execution_count": 331,
   "id": "a539dcbb",
   "metadata": {},
   "outputs": [],
   "source": [
    "def loss_fn(outputs, targets):\n",
    "#     return torch.nn.CrossEntropyLoss()(outputs, targets)\n",
    "    return torch.nn.BCELoss()(outputs.float(), targets.float())\n",
    "#     return torch.nn.KLDivLoss()(outputs.float(), targets.float())\n",
    "\n",
    "def train(model, training_loader, optimizer):\n",
    "    model.train()\n",
    "    for data in tqdm(training_loader):\n",
    "        ids = data['ids'].to(device, dtype = torch.long)\n",
    "        mask = data['mask'].to(device, dtype = torch.long)\n",
    "        token_type_ids = data['token_type_ids'].to(device, dtype = torch.long)\n",
    "        targets = data['targets'].to(device, dtype = torch.long)\n",
    "#         _, targets = targets.max(dim=1)\n",
    "#         targets = torch.autograd.Variable(targets)\n",
    "\n",
    "        outputs = model(ids, mask, token_type_ids)\n",
    "\n",
    "        optimizer.zero_grad()\n",
    "        loss = loss_fn(outputs, targets)\n",
    "\n",
    "        loss.backward()\n",
    "        optimizer.step()\n",
    "    return loss\n",
    "    \n",
    "def validation(model, testing_loader):\n",
    "    model.eval()\n",
    "    fin_targets=[]\n",
    "    fin_outputs=[]\n",
    "    with torch.no_grad():\n",
    "        for data in tqdm(testing_loader):\n",
    "            targets = data['targets']\n",
    "            ids = data['ids'].to(device, dtype = torch.long)\n",
    "            mask = data['mask'].to(device, dtype = torch.long)\n",
    "            token_type_ids = data['token_type_ids'].to(device, dtype = torch.long)\n",
    "            outputs = model(ids, mask, token_type_ids)\n",
    "            outputs = torch.sigmoid(outputs).cpu().detach()\n",
    "            fin_outputs.extend(outputs)\n",
    "            fin_targets.extend(targets)\n",
    "    return torch.stack(fin_outputs), torch.stack(fin_targets)"
   ]
  },
  {
   "cell_type": "code",
   "execution_count": 332,
   "id": "c6400c54",
   "metadata": {},
   "outputs": [],
   "source": [
    "tokenizer = BertTokenizer.from_pretrained('bert-base-uncased')\n",
    "\n",
    "MAX_LEN = 16\n",
    "BATCH_SIZE = 32\n",
    "EPOCHS = 100\n",
    "NUM_OUT = 8\n",
    "LEARNING_RATE = 2e-05"
   ]
  },
  {
   "cell_type": "code",
   "execution_count": 333,
   "id": "fe07aee0",
   "metadata": {},
   "outputs": [],
   "source": [
    "cols = ['Interst/Alarm','Confusion/Understanding','Frusteration/Relief','Sorrow/Joy','Anger/Gratitude','Fear/Hope','Boredom/Surprise','Disgust/Desire']"
   ]
  },
  {
   "cell_type": "code",
   "execution_count": 334,
   "id": "d0f6aa20",
   "metadata": {},
   "outputs": [
    {
     "data": {
      "text/plain": [
       "array([ True, False, False,  True])"
      ]
     },
     "execution_count": 334,
     "metadata": {},
     "output_type": "execute_result"
    }
   ],
   "source": [
    "a = np.array([1,3,3,5]) < 2\n",
    "b = np.array([1,3,3,5]) > 4\n",
    "\n",
    "a | b"
   ]
  },
  {
   "cell_type": "code",
   "execution_count": 335,
   "id": "48fe3a74",
   "metadata": {},
   "outputs": [],
   "source": [
    "def to_binary(data):\n",
    "    x = []\n",
    "    y = []\n",
    "    for i in range(0,len(data)):\n",
    "        a = data[cols].values[i]\n",
    "        b = (a < 2)\n",
    "        a = (a > 4) \n",
    "        a = a | b\n",
    "        a = a * 1\n",
    "        for j in range(0,len(a)):\n",
    "            if a[j] == 1:\n",
    "                mx = np.zeros(8)\n",
    "                mx[j] = 1\n",
    "                y.append(mx)\n",
    "    #             print('mx', mx)\n",
    "                x.append(data.Description.values[i])\n",
    "#                 break\n",
    "    return x, np.array(y)\n",
    "\n",
    "# x, y =  to_binary(cozmo_data)"
   ]
  },
  {
   "cell_type": "code",
   "execution_count": 338,
   "id": "686d5bdc",
   "metadata": {},
   "outputs": [
    {
     "name": "stdout",
     "output_type": "stream",
     "text": [
      "742 742 528 528\n"
     ]
    }
   ],
   "source": [
    "# likert_threshold = 3\n",
    "\n",
    "# train_X = cozmo_data.Description.values\n",
    "# train_y = (cozmo_data[cols].values > likert_threshold) * 1\n",
    "# test_X = misty_data.Description.values\n",
    "# test_y = (misty_data[cols].values > likert_threshold) * 1\n",
    "\n",
    "\n",
    "train_x, train_y = to_binary(misty_data)\n",
    "test_x, test_y = to_binary(cozmo_data)\n",
    "# t = 642\n",
    "# train_x = x[:t]\n",
    "# train_y = y[:t]\n",
    "# test_x = x[t:]\n",
    "# test_y = y[t:]\n",
    "\n",
    "\n",
    "print(len(train_x), len(train_y), len(test_x), len(test_y))\n",
    "training_data = MultiLabelDataset(train_x, torch.from_numpy(train_y), tokenizer, MAX_LEN)\n",
    "test_data = MultiLabelDataset(test_x, torch.from_numpy(test_y), tokenizer, MAX_LEN)\n",
    "\n",
    "train_params = {'batch_size': BATCH_SIZE,\n",
    "                'shuffle': True,\n",
    "                'num_workers': 0\n",
    "                }\n",
    "\n",
    "test_params = {'batch_size': BATCH_SIZE,\n",
    "                'shuffle': True,\n",
    "                'num_workers': 0\n",
    "                }    \n",
    "\n",
    "training_loader = torch.utils.data.DataLoader(training_data, **train_params)\n",
    "testing_loader = torch.utils.data.DataLoader(test_data, **test_params)"
   ]
  },
  {
   "cell_type": "code",
   "execution_count": 339,
   "id": "db3ee11f",
   "metadata": {
    "scrolled": false
   },
   "outputs": [
    {
     "name": "stderr",
     "output_type": "stream",
     "text": [
      "Some weights of the model checkpoint at bert-base-uncased were not used when initializing BertModel: ['cls.seq_relationship.weight', 'cls.predictions.transform.dense.bias', 'cls.predictions.bias', 'cls.predictions.transform.dense.weight', 'cls.predictions.transform.LayerNorm.weight', 'cls.seq_relationship.bias', 'cls.predictions.transform.LayerNorm.bias', 'cls.predictions.decoder.weight']\n",
      "- This IS expected if you are initializing BertModel from the checkpoint of a model trained on another task or with another architecture (e.g. initializing a BertForSequenceClassification model from a BertForPreTraining model).\n",
      "- This IS NOT expected if you are initializing BertModel from the checkpoint of a model that you expect to be exactly identical (initializing a BertForSequenceClassification model from a BertForSequenceClassification model).\n",
      "<ipython-input-331-72ac498afc0f>:8: TqdmDeprecationWarning: This function will be removed in tqdm==5.0.0\n",
      "Please use `tqdm.notebook.tqdm` instead of `tqdm.tqdm_notebook`\n",
      "  for data in tqdm(training_loader):\n"
     ]
    },
    {
     "data": {
      "application/vnd.jupyter.widget-view+json": {
       "model_id": "701e3088f77d4adeb88d39125330080e",
       "version_major": 2,
       "version_minor": 0
      },
      "text/plain": [
       "HBox(children=(FloatProgress(value=0.0, max=24.0), HTML(value='')))"
      ]
     },
     "metadata": {},
     "output_type": "display_data"
    },
    {
     "name": "stderr",
     "output_type": "stream",
     "text": [
      "<ipython-input-21-2f21d2e4cfd2>:32: UserWarning: To copy construct from a tensor, it is recommended to use sourceTensor.clone().detach() or sourceTensor.clone().detach().requires_grad_(True), rather than torch.tensor(sourceTensor).\n",
      "  'targets': torch.tensor(self.targets[index], dtype=torch.float)\n"
     ]
    },
    {
     "name": "stdout",
     "output_type": "stream",
     "text": [
      "\n",
      "Epoch: 0, Loss:  0.3639977276325226\n"
     ]
    },
    {
     "name": "stderr",
     "output_type": "stream",
     "text": [
      "<ipython-input-331-72ac498afc0f>:30: TqdmDeprecationWarning: This function will be removed in tqdm==5.0.0\n",
      "Please use `tqdm.notebook.tqdm` instead of `tqdm.tqdm_notebook`\n",
      "  for data in tqdm(testing_loader):\n"
     ]
    },
    {
     "data": {
      "application/vnd.jupyter.widget-view+json": {
       "model_id": "609884564be7454b8b4ee53e2fe0aedd",
       "version_major": 2,
       "version_minor": 0
      },
      "text/plain": [
       "HBox(children=(FloatProgress(value=0.0, max=17.0), HTML(value='')))"
      ]
     },
     "metadata": {},
     "output_type": "display_data"
    },
    {
     "name": "stdout",
     "output_type": "stream",
     "text": [
      "\n",
      "guess [6 6 0 0 0 0 0 0 0 6 6 0 0 0 0 0 0 0 0 0 0 0 0 0 0 0 0 0 0 6 0 0 0 0 0 0 0\n",
      " 0 6 0 0 0 0 0 0 0 0 6 0 0 0 0 6 0 0 0 0 0 0 0 0 0 0 0 0 0 0 0 0 0 6 0 6 0\n",
      " 0 0 0 0 0 0 0 0 0 0 0 0 0 0 0 0 0 0 0 0 0 0 0 0 0 0 0 0 0 0 0 0 0 0 0 0 0\n",
      " 0 0 0 0 0 0 0 0 6 0 0 6 0 0 0 0 0 0 0 0 0 0 0 6 0 0 0 0 0 6 0 0 0 6 0 0 0\n",
      " 0 0 0 0 0 0 0 6 0 0 6 0 0 0 0 6 0 6 0 0 6 0 0 0 0 6 0 0 0 0 0 0 0 6 6 0 0\n",
      " 0 0 0 0 0 0 0 0 0 0 0 0 0 0 0 0 0 1 0 0 6 0 0 0 0 0 6 0 0 0 0 1 0 0 0 0 6\n",
      " 0 0 1 0 0 0 0 0 0 6 0 0 0 0 0 0 0 0 6 0 0 0 0 0 0 0 0 0 0 0 0 0 0 0 0 0 0\n",
      " 0 0 0 0 0 0 0 0 0 0 0 0 6 0 0 6 6 0 0 6 0 0 1 0 0 0 0 0 0 0 0 0 0 0 0 0 0\n",
      " 0 0 0 0 0 0 6 0 0 0 0 0 0 0 0 0 0 0 0 0 0 0 0 0 0 6 0 0 0 0 0 0 0 0 0 0 0\n",
      " 0 0 0 0 0 0 1 0 0 0 0 0 0 0 0 0 0 1 0 0 6 6 0 0 0 0 0 0 0 0 0 6 0 0 0 6 0\n",
      " 6 0 0 0 0 0 1 0 0 0 0 0 0 1 0 0 0 0 0 0 0 0 0 0 0 0 1 0 0 0 0 0 0 0 0 0 0\n",
      " 0 0 0 0 0 0 0 6 0 0 0 0 0 0 0 0 0 0 0 0 0 0 0 0 0 0 0 0 0 0 0 0 0 6 0 0 0\n",
      " 0 0 0 0 0 0 6 0 0 0 0 0 0 0 6 0 0 0 0 6 0 0 0 6 0 0 0 0 0 0 0 0 0 0 0 0 0\n",
      " 0 0 0 0 0 0 0 0 0 0 0 0 0 0 0 0 0 0 0 0 6 0 0 0 6 6 0 0 0 0 0 0 0 0 6 0 0\n",
      " 0 0 0 0 0 0 0 0 6 0]\n",
      "targs [1 0 5 7 3 3 3 2 7 4 7 0 4 6 4 0 3 0 7 0 0 1 6 5 0 7 1 0 7 2 3 2 3 0 7 6 4\n",
      " 0 4 2 1 4 3 7 3 3 3 0 4 1 0 0 1 0 0 1 0 5 0 0 1 0 4 1 0 0 7 0 1 0 0 7 1 7\n",
      " 0 1 5 0 6 0 6 7 7 7 0 7 0 2 1 5 5 7 2 2 0 2 3 4 5 7 0 2 0 7 2 0 3 0 5 6 1\n",
      " 1 3 2 0 3 1 7 0 6 0 7 2 7 1 4 4 0 1 7 0 0 1 0 0 0 0 0 0 0 3 7 0 5 0 6 0 7\n",
      " 7 7 2 2 5 6 3 3 7 0 0 3 3 3 4 6 3 0 6 3 0 1 7 2 7 7 7 3 2 5 2 0 0 5 6 6 0\n",
      " 6 5 1 0 6 0 0 2 2 3 0 1 3 3 2 7 0 5 1 2 2 3 7 1 7 3 1 1 4 0 0 0 3 1 3 4 0\n",
      " 6 7 6 5 0 0 4 2 3 0 3 6 3 0 4 6 0 1 3 6 4 6 1 0 3 7 4 1 2 7 0 7 2 7 0 1 3\n",
      " 0 7 0 1 0 1 3 0 4 3 5 7 0 7 7 1 0 0 3 1 5 2 3 3 0 3 3 0 3 3 0 5 1 6 3 0 1\n",
      " 6 7 3 5 0 6 7 0 3 4 4 7 0 0 4 5 7 4 0 6 1 7 6 1 4 3 4 2 0 3 7 2 0 2 0 0 6\n",
      " 0 1 1 4 0 0 0 7 0 3 1 7 1 4 1 6 4 3 3 0 0 0 1 4 4 0 3 1 5 4 0 0 7 0 4 1 2\n",
      " 6 2 0 0 5 0 6 4 1 1 5 1 0 0 3 3 7 2 0 5 1 0 6 6 1 0 6 2 7 0 0 2 1 6 2 1 4\n",
      " 0 0 7 0 1 1 7 7 5 1 6 0 2 4 6 1 1 7 7 3 5 0 3 4 4 6 1 4 5 1 3 6 2 1 1 6 0\n",
      " 1 6 6 2 1 7 3 2 6 0 1 2 3 0 1 0 2 0 1 0 2 4 4 2 7 0 1 2 6 3 7 7 0 1 3 4 2\n",
      " 6 0 6 0 0 5 0 0 0 5 2 0 1 0 1 1 5 3 0 5 0 0 7 0 2 7 4 6 2 7 1 0 6 1 0 6 0\n",
      " 5 0 0 5 3 1 3 5 6 1]\n",
      "arracy on test set 0.24621212121212122\n"
     ]
    },
    {
     "data": {
      "application/vnd.jupyter.widget-view+json": {
       "model_id": "fab4ad43af4e4b6581a62912807a5304",
       "version_major": 2,
       "version_minor": 0
      },
      "text/plain": [
       "HBox(children=(FloatProgress(value=0.0, max=24.0), HTML(value='')))"
      ]
     },
     "metadata": {},
     "output_type": "display_data"
    },
    {
     "name": "stdout",
     "output_type": "stream",
     "text": [
      "\n",
      "Epoch: 1, Loss:  0.35450997948646545\n"
     ]
    },
    {
     "data": {
      "application/vnd.jupyter.widget-view+json": {
       "model_id": "4f82d184f0ec4221aed614554bf39a16",
       "version_major": 2,
       "version_minor": 0
      },
      "text/plain": [
       "HBox(children=(FloatProgress(value=0.0, max=17.0), HTML(value='')))"
      ]
     },
     "metadata": {},
     "output_type": "display_data"
    },
    {
     "name": "stdout",
     "output_type": "stream",
     "text": [
      "\n",
      "guess [0 0 1 0 0 0 1 0 0 0 0 0 0 0 0 0 0 0 0 0 0 0 0 0 0 0 1 0 0 1 0 0 0 0 0 0 0\n",
      " 0 0 0 0 0 0 1 0 0 0 0 0 0 0 0 0 0 0 0 0 0 1 0 0 0 0 0 0 1 0 0 0 0 0 0 0 0\n",
      " 0 0 0 0 0 0 0 0 0 0 0 0 0 0 0 0 0 0 0 0 0 0 0 0 0 0 0 0 0 0 0 0 0 0 0 0 0\n",
      " 0 0 1 0 0 0 0 0 0 0 0 0 0 1 0 0 0 0 0 0 0 1 0 0 0 0 0 0 0 0 0 0 0 1 1 1 0\n",
      " 0 0 0 0 0 0 0 0 0 0 0 0 0 0 0 0 0 0 0 0 0 0 0 0 0 0 0 0 0 0 0 0 0 0 0 0 1\n",
      " 1 0 0 0 1 0 0 0 0 0 0 0 0 0 0 0 0 0 0 1 0 0 0 0 0 1 0 0 0 0 0 0 0 0 0 0 0\n",
      " 0 0 0 0 0 0 0 1 0 0 0 0 0 0 0 0 1 0 0 0 0 0 0 0 0 0 0 1 0 0 0 0 0 0 0 0 0\n",
      " 0 0 0 0 0 0 0 0 0 0 0 0 0 0 0 0 0 0 1 0 0 0 0 0 0 0 0 0 0 0 0 0 0 0 1 0 0\n",
      " 0 0 0 0 1 0 0 0 0 0 0 0 0 0 0 0 0 0 0 1 0 1 0 0 0 0 0 0 0 0 0 0 0 0 0 0 0\n",
      " 0 0 0 0 0 0 0 0 0 0 0 0 1 0 0 0 0 1 1 0 1 0 0 0 0 0 0 0 0 0 0 0 0 1 0 0 0\n",
      " 0 0 0 0 0 0 0 0 0 0 0 0 0 0 1 0 0 1 0 1 0 0 0 0 0 0 0 0 0 0 0 1 0 0 0 0 0\n",
      " 0 0 0 0 0 0 0 0 0 0 0 0 0 0 0 0 0 0 1 0 0 0 1 0 0 0 0 0 1 0 0 0 0 1 1 0 0\n",
      " 0 0 0 0 0 0 0 0 0 0 0 0 0 0 0 1 0 0 0 0 0 0 0 0 0 0 0 0 0 0 0 0 0 0 0 0 0\n",
      " 0 0 0 0 0 0 0 0 0 0 0 0 0 0 0 0 0 0 0 0 0 0 0 0 0 0 0 0 0 0 0 0 0 0 0 0 1\n",
      " 0 0 0 0 0 0 0 0 0 1]\n",
      "targs [3 3 7 1 5 1 0 0 3 7 6 3 4 0 0 7 0 0 1 0 2 5 4 3 7 0 2 6 4 3 1 1 7 1 0 6 6\n",
      " 7 5 1 0 0 1 1 4 5 3 0 5 5 4 0 1 7 2 0 0 5 1 5 4 2 6 7 0 6 4 0 5 7 2 3 0 0\n",
      " 1 7 1 0 6 0 1 2 0 1 0 1 0 7 0 1 7 0 1 3 1 4 0 1 1 5 0 4 1 0 3 1 6 0 4 0 6\n",
      " 5 1 3 4 0 4 3 1 0 7 0 7 3 4 7 1 0 0 0 1 7 0 7 7 3 7 1 3 1 6 0 1 3 6 2 0 6\n",
      " 6 7 1 4 7 7 0 0 3 3 1 4 7 1 1 7 5 1 4 0 7 1 7 2 0 4 2 7 4 0 0 4 0 4 7 0 7\n",
      " 2 3 4 6 0 3 0 1 2 1 0 7 4 0 1 1 0 5 7 0 6 2 3 6 1 5 3 1 0 7 7 0 5 2 2 2 0\n",
      " 1 3 2 7 6 7 5 3 3 0 2 0 1 0 4 0 0 4 6 0 0 7 0 0 4 0 6 3 6 1 0 0 0 0 3 0 5\n",
      " 3 6 3 0 0 2 7 1 0 0 6 7 3 0 0 1 0 3 2 2 3 0 3 0 6 6 6 5 0 1 2 0 0 2 5 2 2\n",
      " 7 0 0 1 1 2 1 2 1 0 7 4 3 5 0 0 1 7 6 0 2 6 4 1 0 3 2 4 2 5 0 5 7 7 5 0 7\n",
      " 5 6 5 7 2 0 5 2 4 7 3 2 0 1 4 0 0 2 6 2 1 3 0 0 6 3 0 3 6 3 3 6 7 6 2 5 4\n",
      " 0 6 4 4 5 1 7 6 0 2 0 3 5 2 6 0 1 6 6 7 2 0 0 0 0 3 6 5 3 1 2 3 0 3 2 2 0\n",
      " 1 7 6 0 4 4 1 3 0 0 3 1 0 3 0 0 4 2 1 0 4 0 0 6 6 0 3 5 7 0 1 1 3 3 0 3 7\n",
      " 3 0 2 1 7 7 7 1 7 3 1 7 7 0 0 0 2 6 3 6 0 1 1 3 0 6 0 0 2 7 1 0 4 0 0 7 7\n",
      " 1 5 7 1 6 3 5 3 3 1 4 1 0 7 2 4 0 0 6 0 6 0 2 0 4 3 3 0 0 3 1 2 3 0 0 0 3\n",
      " 7 0 3 5 7 0 6 4 1 7]\n",
      "arracy on test set 0.26515151515151514\n"
     ]
    },
    {
     "data": {
      "application/vnd.jupyter.widget-view+json": {
       "model_id": "7a2a5c329d764da0bf5c5a1e00d2b7b2",
       "version_major": 2,
       "version_minor": 0
      },
      "text/plain": [
       "HBox(children=(FloatProgress(value=0.0, max=24.0), HTML(value='')))"
      ]
     },
     "metadata": {},
     "output_type": "display_data"
    },
    {
     "name": "stdout",
     "output_type": "stream",
     "text": [
      "\n",
      "Epoch: 2, Loss:  0.362615704536438\n"
     ]
    },
    {
     "data": {
      "application/vnd.jupyter.widget-view+json": {
       "model_id": "9e01430420684cb3be831cac0542c3ce",
       "version_major": 2,
       "version_minor": 0
      },
      "text/plain": [
       "HBox(children=(FloatProgress(value=0.0, max=17.0), HTML(value='')))"
      ]
     },
     "metadata": {},
     "output_type": "display_data"
    },
    {
     "name": "stdout",
     "output_type": "stream",
     "text": [
      "\n",
      "guess [0 0 0 0 0 0 0 0 0 0 0 0 0 0 0 1 0 0 0 0 0 0 0 0 0 0 0 0 0 0 0 0 0 0 0 0 1\n",
      " 0 0 0 0 0 0 0 0 0 0 0 0 0 0 0 0 0 0 0 0 0 0 0 0 0 0 0 0 0 0 0 0 0 0 0 0 0\n",
      " 0 0 0 0 0 0 0 0 0 0 0 0 0 0 0 0 0 0 0 1 0 0 0 0 0 0 1 0 0 0 0 0 1 0 0 0 0\n",
      " 0 0 0 0 0 0 0 0 0 0 0 0 0 0 0 0 0 0 0 0 0 0 0 0 0 0 6 0 0 0 0 0 0 0 0 0 0\n",
      " 0 0 0 0 1 0 0 0 0 0 0 0 0 0 0 0 0 0 0 0 0 0 0 0 0 0 0 0 0 0 0 0 0 6 0 0 0\n",
      " 0 0 0 0 0 0 0 0 0 0 0 0 0 0 0 0 0 0 0 0 0 1 0 0 0 1 0 0 1 0 0 0 0 0 0 0 0\n",
      " 0 0 0 1 0 0 0 0 0 0 0 0 0 0 0 0 0 0 0 0 0 0 1 0 1 0 0 0 0 0 0 0 0 0 0 0 0\n",
      " 0 0 0 0 0 0 0 0 0 0 0 0 0 0 0 0 0 0 0 0 0 0 0 0 0 0 0 0 0 0 0 0 0 0 0 0 0\n",
      " 0 0 0 0 0 0 0 0 0 0 0 0 0 0 0 0 0 1 0 0 0 0 0 0 0 0 0 0 0 0 0 0 0 0 0 0 0\n",
      " 0 0 0 0 0 0 0 0 0 0 0 0 0 0 0 0 0 0 0 0 0 0 0 0 0 0 0 0 0 0 0 0 0 0 0 1 0\n",
      " 0 0 0 0 0 0 0 0 0 0 0 0 0 0 0 0 0 0 0 0 0 0 0 0 0 1 0 0 0 0 0 0 0 1 0 0 0\n",
      " 0 0 0 0 0 0 0 0 1 0 0 0 0 0 0 0 0 0 0 0 0 0 0 0 0 0 0 0 0 0 0 0 0 0 0 0 0\n",
      " 0 0 0 0 0 0 0 0 0 0 0 0 0 0 0 0 0 0 0 0 1 1 0 0 0 0 0 1 0 0 0 0 1 0 0 0 0\n",
      " 0 0 0 0 0 0 0 0 0 0 0 0 0 0 0 0 0 0 0 0 0 0 0 0 0 0 0 0 0 0 0 0 0 0 0 0 0\n",
      " 0 0 0 0 0 0 0 0 0 0]\n",
      "targs [3 0 4 0 3 2 7 6 6 0 5 0 1 0 1 0 2 5 0 6 2 1 0 0 0 3 6 0 6 6 7 4 7 2 2 7 2\n",
      " 7 5 3 0 0 0 0 7 1 4 4 4 7 1 4 3 0 5 3 2 3 7 0 0 7 0 1 2 0 2 0 0 1 7 1 2 0\n",
      " 3 1 0 7 4 4 0 4 0 0 0 0 2 0 4 3 0 3 0 3 0 4 2 0 2 0 5 4 5 0 6 1 0 1 3 3 1\n",
      " 6 6 1 1 3 4 2 2 2 3 7 0 0 6 6 1 6 3 2 3 4 1 5 1 0 7 0 1 3 3 4 0 4 6 0 3 0\n",
      " 0 5 2 7 6 1 7 3 0 3 4 7 7 5 3 0 0 0 7 4 5 0 5 3 4 0 7 0 6 3 0 6 0 0 0 1 1\n",
      " 2 7 3 0 2 7 7 0 0 0 1 1 1 1 2 0 3 4 0 7 5 1 7 6 0 7 5 4 1 2 1 5 0 0 0 0 1\n",
      " 3 0 1 3 0 0 1 0 1 0 3 3 0 3 0 1 0 7 7 0 7 0 2 0 1 0 1 2 3 0 1 0 3 6 2 7 7\n",
      " 2 0 7 5 2 0 4 4 3 0 6 1 1 2 5 1 4 7 0 7 1 3 0 0 7 3 0 4 2 1 1 0 0 3 2 4 0\n",
      " 3 3 1 7 0 0 0 2 5 2 1 0 1 7 6 0 7 5 6 5 1 4 3 7 0 7 4 7 1 2 0 6 2 1 5 2 5\n",
      " 0 6 1 4 6 7 0 6 1 1 0 7 3 0 3 5 2 5 3 0 4 6 3 6 4 2 0 1 1 6 4 1 0 5 3 0 7\n",
      " 0 1 0 0 1 7 6 7 7 3 2 7 1 7 2 3 0 7 6 3 0 0 7 4 6 6 0 1 3 6 6 5 5 2 6 0 1\n",
      " 5 3 2 7 5 4 5 1 6 7 0 6 6 4 6 7 5 6 7 5 5 0 0 0 1 0 6 6 3 1 1 0 4 0 6 1 3\n",
      " 1 1 7 3 1 6 4 0 0 0 6 3 3 0 2 0 7 7 0 7 1 4 0 2 1 0 0 3 7 3 3 0 3 4 7 0 2\n",
      " 1 0 5 0 2 4 6 4 6 0 1 3 1 6 3 2 0 7 0 2 0 1 7 6 0 7 3 3 0 0 0 7 0 0 1 7 0\n",
      " 7 2 4 3 1 1 3 0 1 5]\n",
      "arracy on test set 0.2746212121212121\n"
     ]
    },
    {
     "data": {
      "application/vnd.jupyter.widget-view+json": {
       "model_id": "da516a493a5f4450866cd94a44ae2d96",
       "version_major": 2,
       "version_minor": 0
      },
      "text/plain": [
       "HBox(children=(FloatProgress(value=0.0, max=24.0), HTML(value='')))"
      ]
     },
     "metadata": {},
     "output_type": "display_data"
    },
    {
     "name": "stdout",
     "output_type": "stream",
     "text": [
      "\n",
      "Epoch: 3, Loss:  0.3829822540283203\n"
     ]
    },
    {
     "data": {
      "application/vnd.jupyter.widget-view+json": {
       "model_id": "d092b277c9fe4891a3d835cbee6a6e4f",
       "version_major": 2,
       "version_minor": 0
      },
      "text/plain": [
       "HBox(children=(FloatProgress(value=0.0, max=17.0), HTML(value='')))"
      ]
     },
     "metadata": {},
     "output_type": "display_data"
    },
    {
     "name": "stdout",
     "output_type": "stream",
     "text": [
      "\n",
      "guess [0 0 0 0 0 0 0 0 6 0 0 0 1 0 0 0 0 0 0 0 1 0 0 0 0 0 0 0 0 0 0 0 0 0 0 0 0\n",
      " 0 6 0 1 0 0 0 0 0 0 0 0 0 0 1 0 1 6 0 0 0 0 0 0 6 0 0 0 0 0 0 0 0 0 0 0 1\n",
      " 0 0 0 0 0 1 0 0 0 0 0 0 0 0 6 0 0 0 0 0 0 0 0 1 0 0 1 0 0 0 0 0 6 1 0 0 0\n",
      " 0 0 0 0 6 0 0 0 0 0 0 0 0 0 0 0 0 0 0 0 0 0 0 0 0 0 0 0 0 0 0 0 0 0 0 0 0\n",
      " 0 0 0 0 0 1 0 0 0 0 0 0 0 0 6 0 1 0 0 0 0 0 0 0 6 0 0 0 1 0 0 6 0 0 0 0 0\n",
      " 0 1 0 1 0 0 0 0 0 1 0 0 0 0 0 0 0 0 0 0 0 0 0 0 0 0 0 0 0 0 0 0 0 0 0 1 0\n",
      " 0 0 0 0 1 0 0 0 1 0 0 0 0 0 0 0 0 0 6 0 0 0 0 0 0 0 0 0 0 0 0 0 0 0 0 0 1\n",
      " 0 0 0 0 0 0 0 0 0 1 1 0 6 1 0 0 0 0 0 0 0 0 0 1 6 0 0 0 0 0 0 0 6 0 0 0 0\n",
      " 0 0 0 0 0 0 0 0 0 0 0 0 0 0 0 0 0 0 1 0 0 0 0 0 0 0 0 0 0 0 1 0 0 0 0 6 0\n",
      " 0 0 0 0 0 1 0 0 0 0 0 1 0 0 0 0 0 0 0 0 0 6 0 1 0 0 1 0 0 0 6 0 0 0 0 0 0\n",
      " 6 0 6 0 1 0 1 0 0 0 0 0 0 0 0 0 0 0 0 6 0 0 0 0 0 1 0 0 6 0 0 0 0 0 0 0 0\n",
      " 0 0 0 0 1 0 0 0 0 0 0 0 0 0 0 0 6 0 0 0 0 1 0 0 0 1 0 0 0 0 0 0 0 1 0 1 0\n",
      " 0 0 0 0 0 1 0 1 0 0 0 0 6 0 0 0 0 1 0 0 0 1 0 0 0 0 6 0 0 0 0 0 0 0 6 1 0\n",
      " 0 0 0 0 0 0 0 0 0 0 1 0 0 0 0 0 0 0 1 0 1 0 0 0 0 0 0 0 0 0 0 0 0 0 0 1 0\n",
      " 0 1 1 6 0 0 0 0 0 0]\n",
      "targs [3 7 0 0 0 0 0 1 1 2 7 1 3 0 0 6 5 0 4 0 6 0 2 7 4 1 7 4 0 3 0 0 0 3 7 7 1\n",
      " 1 3 2 2 7 1 2 0 0 2 0 3 0 3 1 4 0 7 0 0 0 1 2 4 1 7 1 1 6 4 6 2 2 0 0 4 0\n",
      " 5 7 3 1 0 3 1 0 6 0 0 1 3 4 0 2 1 1 3 0 0 1 4 7 5 2 3 0 6 1 0 0 3 1 4 0 4\n",
      " 0 0 0 3 0 0 6 4 0 6 0 0 4 2 2 1 7 3 7 7 0 1 3 0 0 0 0 4 0 6 5 3 2 5 7 7 3\n",
      " 5 3 4 3 4 3 0 7 4 1 3 3 2 5 4 6 3 0 4 0 6 7 2 5 0 5 2 3 2 2 6 1 1 0 3 7 1\n",
      " 4 0 3 2 0 0 7 1 0 0 7 0 0 1 7 4 1 7 2 6 0 0 4 0 0 0 7 0 6 3 7 5 3 4 4 2 7\n",
      " 5 0 7 0 3 7 1 1 0 1 5 6 0 6 6 0 1 6 1 1 2 5 7 4 1 5 1 1 0 1 2 0 6 6 6 5 0\n",
      " 0 1 0 0 0 1 7 0 0 0 0 0 2 6 4 3 1 5 6 3 0 0 0 3 6 0 0 0 3 5 0 7 1 6 6 5 1\n",
      " 6 3 5 0 2 3 1 0 1 6 4 1 1 7 6 2 1 3 6 7 5 3 6 0 0 3 2 7 1 0 2 0 3 3 1 5 0\n",
      " 7 2 7 7 3 3 7 7 7 2 0 4 2 0 0 1 7 1 0 0 5 1 0 3 7 1 7 7 6 1 0 7 0 6 7 5 1\n",
      " 0 2 4 0 3 5 6 0 0 3 0 4 0 1 2 0 0 0 3 0 2 7 6 3 7 2 1 0 7 0 0 4 5 5 4 5 0\n",
      " 1 0 3 4 7 3 0 5 3 2 2 1 3 6 2 0 3 7 0 0 3 1 6 3 3 2 4 6 2 1 4 3 3 7 3 0 0\n",
      " 1 1 2 0 5 0 3 4 2 2 2 1 7 2 7 7 7 0 3 0 7 6 6 1 1 7 6 3 3 7 4 7 1 7 6 3 0\n",
      " 7 4 1 4 1 0 7 1 1 5 0 5 3 0 6 0 1 1 5 0 2 0 2 1 4 5 6 4 5 0 0 6 0 6 6 6 0\n",
      " 0 6 0 4 1 7 3 7 7 0]\n",
      "arracy on test set 0.2518939393939394\n"
     ]
    },
    {
     "data": {
      "application/vnd.jupyter.widget-view+json": {
       "model_id": "538f257565f14a4497cb2d6a2343307e",
       "version_major": 2,
       "version_minor": 0
      },
      "text/plain": [
       "HBox(children=(FloatProgress(value=0.0, max=24.0), HTML(value='')))"
      ]
     },
     "metadata": {},
     "output_type": "display_data"
    },
    {
     "name": "stdout",
     "output_type": "stream",
     "text": [
      "\n",
      "Epoch: 4, Loss:  0.37505772709846497\n"
     ]
    },
    {
     "data": {
      "application/vnd.jupyter.widget-view+json": {
       "model_id": "8874143c40fe41b1a9981764539bab6f",
       "version_major": 2,
       "version_minor": 0
      },
      "text/plain": [
       "HBox(children=(FloatProgress(value=0.0, max=17.0), HTML(value='')))"
      ]
     },
     "metadata": {},
     "output_type": "display_data"
    },
    {
     "name": "stdout",
     "output_type": "stream",
     "text": [
      "\n",
      "guess [0 0 6 6 0 0 0 0 1 0 0 0 0 0 1 0 0 0 0 0 0 0 3 6 0 0 6 0 1 0 1 0 0 6 6 1 6\n",
      " 0 0 6 0 6 0 0 0 0 6 0 1 3 0 6 0 0 0 0 0 1 1 6 0 6 6 0 0 0 1 6 0 0 0 0 0 0\n",
      " 1 0 0 1 0 0 6 1 0 1 0 0 0 0 0 1 0 0 6 1 6 0 0 0 6 6 0 1 0 6 0 0 6 0 0 0 1\n",
      " 6 0 6 3 0 0 0 0 0 0 1 6 0 0 6 0 0 0 1 0 0 0 1 1 0 6 6 0 6 1 6 0 1 0 0 0 6\n",
      " 0 0 0 0 1 0 0 0 0 0 6 0 0 6 1 0 0 0 0 0 0 0 0 0 6 0 0 0 0 0 1 1 0 6 0 0 1\n",
      " 6 0 0 1 1 0 0 0 0 0 0 0 0 1 0 1 0 0 6 0 0 0 0 0 0 0 0 6 0 0 0 1 0 0 0 0 0\n",
      " 0 0 0 1 0 0 0 0 1 0 0 0 6 0 1 0 0 0 0 1 0 3 1 0 0 1 1 0 0 1 1 1 1 0 0 0 0\n",
      " 1 6 1 1 0 0 1 1 1 0 0 0 0 0 1 0 0 6 0 0 0 0 0 0 0 0 0 0 0 0 1 0 1 0 6 6 6\n",
      " 1 3 1 0 0 1 0 6 0 0 0 0 6 0 0 0 3 0 0 0 6 0 6 0 0 0 0 0 0 0 0 0 0 1 0 6 1\n",
      " 1 6 0 1 0 0 0 0 0 0 0 0 0 0 0 1 0 0 1 0 0 0 0 0 0 0 0 1 6 0 0 0 0 0 0 1 0\n",
      " 0 6 6 0 0 0 0 0 0 0 0 0 0 0 0 0 0 6 0 0 0 6 0 0 0 0 0 0 0 0 6 0 0 0 0 0 1\n",
      " 1 1 0 1 1 0 1 1 0 0 0 6 0 6 0 0 0 0 0 0 0 0 6 0 0 0 0 1 0 0 0 0 0 6 0 0 0\n",
      " 1 0 1 1 0 0 0 0 0 0 0 0 6 0 6 0 0 0 0 1 0 0 0 1 0 1 0 1 6 0 0 0 0 6 0 0 0\n",
      " 0 1 0 0 1 6 0 0 1 0 0 0 0 0 0 0 0 0 6 0 1 1 0 0 0 6 0 0 0 1 0 0 0 1 0 0 0\n",
      " 0 0 6 0 0 1 0 1 0 0]\n",
      "targs [0 6 4 4 3 1 7 1 0 1 5 1 4 1 7 1 7 5 0 6 0 6 3 0 4 0 7 1 0 0 1 0 1 7 2 1 3\n",
      " 0 7 3 4 6 0 6 0 0 2 4 0 2 7 0 4 7 1 6 6 0 6 0 0 1 4 3 4 0 2 0 3 5 0 3 1 6\n",
      " 2 7 5 3 0 6 1 6 0 3 7 3 0 1 6 2 0 0 6 4 0 1 7 5 3 6 0 5 1 2 0 4 6 0 3 7 3\n",
      " 6 0 0 1 1 1 7 1 0 0 0 3 0 1 3 4 1 3 0 0 1 1 2 0 0 7 3 0 7 0 3 0 3 3 0 1 0\n",
      " 0 0 6 2 7 3 0 6 3 0 0 0 7 1 3 3 0 7 6 2 7 1 0 0 7 1 0 4 0 6 2 1 3 7 0 3 0\n",
      " 5 2 0 2 3 1 5 0 3 3 5 2 5 2 0 5 0 6 1 0 7 5 0 2 0 0 2 2 3 7 7 7 0 0 6 7 2\n",
      " 7 7 6 3 0 0 7 0 6 1 7 7 6 2 0 1 7 0 6 1 7 3 0 5 7 0 3 0 7 2 1 2 4 0 3 3 0\n",
      " 4 0 0 2 0 1 6 3 0 1 3 0 0 7 2 1 0 4 4 5 5 7 0 0 7 1 2 3 3 5 2 1 7 1 4 6 6\n",
      " 3 1 5 1 0 6 2 1 5 1 2 0 0 1 1 3 0 0 4 0 5 5 0 3 5 1 0 0 0 7 0 0 1 3 2 4 5\n",
      " 1 0 4 3 7 0 2 1 0 0 1 1 5 1 2 4 7 7 7 0 6 7 3 6 2 1 3 3 0 2 0 2 4 0 6 0 7\n",
      " 6 2 1 0 5 6 0 2 7 7 7 4 0 7 7 2 2 6 7 0 0 6 6 7 7 3 3 3 0 4 0 0 4 0 4 0 6\n",
      " 1 6 0 4 6 7 0 5 1 0 0 1 1 4 4 0 2 7 1 3 5 1 1 6 1 2 0 4 0 1 0 0 6 3 5 4 3\n",
      " 7 5 2 3 0 3 3 7 5 4 0 7 1 0 2 0 5 1 0 7 5 4 3 7 6 1 4 0 1 1 0 7 0 3 1 0 2\n",
      " 0 3 0 7 7 1 6 3 7 4 2 6 1 1 1 2 2 4 4 7 5 6 0 0 3 0 5 2 1 0 6 3 4 3 0 0 3\n",
      " 4 3 6 2 0 3 0 4 5 4]\n",
      "arracy on test set 0.2518939393939394\n"
     ]
    },
    {
     "data": {
      "application/vnd.jupyter.widget-view+json": {
       "model_id": "5af2eab896744b019fc91280423cb03e",
       "version_major": 2,
       "version_minor": 0
      },
      "text/plain": [
       "HBox(children=(FloatProgress(value=0.0, max=24.0), HTML(value='')))"
      ]
     },
     "metadata": {},
     "output_type": "display_data"
    },
    {
     "name": "stdout",
     "output_type": "stream",
     "text": [
      "\n",
      "Epoch: 5, Loss:  0.3152376115322113\n"
     ]
    },
    {
     "data": {
      "application/vnd.jupyter.widget-view+json": {
       "model_id": "7797303bc0954fa2b56fc8a7715dba90",
       "version_major": 2,
       "version_minor": 0
      },
      "text/plain": [
       "HBox(children=(FloatProgress(value=0.0, max=17.0), HTML(value='')))"
      ]
     },
     "metadata": {},
     "output_type": "display_data"
    },
    {
     "name": "stdout",
     "output_type": "stream",
     "text": [
      "\n",
      "guess [1 1 0 1 0 1 1 1 1 0 0 0 1 0 0 0 0 1 1 6 6 0 1 1 1 0 0 0 0 6 0 1 1 0 0 0 0\n",
      " 6 0 3 1 0 0 6 0 6 6 0 1 1 0 0 0 0 1 1 1 1 1 1 1 0 0 1 0 1 0 0 0 0 0 1 1 0\n",
      " 1 1 1 6 6 0 0 0 1 1 1 6 0 3 1 6 0 0 0 0 6 0 6 0 0 6 1 0 6 1 0 6 0 0 0 0 1\n",
      " 0 6 0 1 0 6 0 0 0 0 0 0 1 0 0 1 0 1 0 0 0 6 0 0 1 0 1 6 1 0 6 0 1 1 0 6 0\n",
      " 0 0 6 0 6 1 0 0 0 0 1 0 0 6 6 0 0 1 0 1 0 6 0 0 0 0 0 1 0 0 1 0 0 1 6 1 6\n",
      " 6 6 1 0 1 0 6 1 6 0 0 0 0 0 0 1 1 1 6 0 0 0 6 1 0 0 6 0 0 6 1 0 0 1 1 0 0\n",
      " 6 1 0 6 0 0 6 1 0 6 0 0 6 1 0 0 0 0 4 0 0 0 1 1 1 1 0 6 0 0 0 1 0 0 0 0 0\n",
      " 0 0 6 0 6 6 0 0 0 0 0 1 1 0 0 0 6 0 0 1 0 1 0 1 1 1 0 0 1 0 1 6 6 6 0 0 6\n",
      " 0 1 0 6 6 1 1 1 1 0 0 6 1 0 1 6 1 0 1 1 6 6 1 6 6 0 6 6 0 0 6 1 1 1 6 0 0\n",
      " 0 6 0 1 1 0 6 0 0 0 0 6 0 0 0 0 1 0 0 1 0 0 1 0 0 0 6 0 6 0 6 0 0 0 6 6 6\n",
      " 1 0 4 6 0 6 0 1 1 0 1 1 1 0 0 0 1 0 0 3 0 6 0 0 6 0 0 1 0 1 0 0 0 0 0 1 1\n",
      " 0 0 0 1 6 1 0 6 6 6 6 6 0 0 0 6 6 0 1 0 1 6 6 1 6 0 0 1 1 0 0 0 1 0 6 1 0\n",
      " 6 0 0 1 0 0 0 6 6 6 0 6 0 1 0 0 0 0 1 6 0 0 0 6 6 0 6 0 6 0 0 0 0 0 0 1 0\n",
      " 4 6 6 1 0 6 6 1 6 6 0 6 1 0 6 0 0 0 1 0 1 0 6 0 6 0 0 0 1 1 1 6 6 0 6 0 0\n",
      " 1 6 0 0 0 4 0 1 6 0]\n",
      "targs [1 0 1 0 0 0 0 2 2 1 2 7 3 1 0 3 0 7 4 7 3 1 5 3 0 7 5 3 3 3 0 7 1 3 0 4 0\n",
      " 6 0 3 0 7 5 3 0 1 2 0 6 5 7 0 0 1 6 7 7 5 1 7 1 3 1 7 0 5 7 0 5 5 7 3 1 5\n",
      " 4 5 6 3 3 1 6 0 1 3 6 4 2 1 0 0 2 1 0 4 1 6 0 7 4 7 2 4 0 3 0 4 0 6 0 1 2\n",
      " 3 3 2 3 5 6 1 0 1 6 2 1 6 0 4 0 3 6 0 2 3 1 0 7 7 4 7 0 0 0 6 1 4 0 7 2 3\n",
      " 0 6 1 0 1 0 3 7 0 0 3 0 7 0 5 1 3 3 4 6 2 0 1 2 7 7 1 3 0 3 3 5 0 2 2 4 5\n",
      " 0 2 3 1 0 2 6 7 6 1 1 0 1 0 1 1 0 3 7 0 5 7 4 3 5 0 6 1 3 2 5 0 0 1 2 2 1\n",
      " 2 0 0 6 0 7 4 5 0 4 0 2 3 1 3 0 4 0 4 2 2 7 4 1 0 5 7 0 4 6 1 6 0 0 6 6 0\n",
      " 3 0 5 5 6 6 0 6 5 5 7 7 3 5 0 0 0 1 0 0 1 2 0 1 6 0 0 1 2 0 0 7 0 3 0 3 2\n",
      " 6 4 1 0 0 3 3 0 0 7 0 0 3 2 0 7 0 1 1 7 4 4 3 5 1 2 2 7 6 7 6 2 0 3 0 0 4\n",
      " 0 6 2 2 5 5 0 7 3 0 0 6 4 0 7 7 6 7 1 6 0 7 0 0 0 7 0 3 6 3 4 4 6 5 0 0 3\n",
      " 0 0 0 0 4 3 1 7 0 0 2 2 3 0 2 0 6 2 0 2 1 1 3 6 5 4 6 0 1 0 4 0 7 6 0 1 0\n",
      " 0 1 3 4 0 0 3 1 1 4 2 4 3 4 1 0 4 1 2 5 6 3 7 1 7 2 4 2 0 3 2 1 0 7 2 3 1\n",
      " 1 6 0 3 1 1 7 6 7 6 1 4 7 0 1 3 1 0 7 6 0 0 0 0 7 1 3 7 4 5 5 1 0 0 0 0 7\n",
      " 7 1 7 7 0 7 6 1 3 4 0 1 7 2 7 0 5 4 6 1 5 6 1 7 3 7 0 2 1 0 1 3 0 7 6 0 0\n",
      " 7 4 7 3 0 4 3 2 0 3]\n",
      "arracy on test set 0.23484848484848486\n"
     ]
    },
    {
     "data": {
      "application/vnd.jupyter.widget-view+json": {
       "model_id": "3a23ef37e28340d9bb2a3c61be145e1c",
       "version_major": 2,
       "version_minor": 0
      },
      "text/plain": [
       "HBox(children=(FloatProgress(value=0.0, max=24.0), HTML(value='')))"
      ]
     },
     "metadata": {},
     "output_type": "display_data"
    },
    {
     "name": "stdout",
     "output_type": "stream",
     "text": [
      "\n",
      "Epoch: 6, Loss:  0.3339783251285553\n"
     ]
    },
    {
     "data": {
      "application/vnd.jupyter.widget-view+json": {
       "model_id": "d15cedbc3103463f9c549b65b5366797",
       "version_major": 2,
       "version_minor": 0
      },
      "text/plain": [
       "HBox(children=(FloatProgress(value=0.0, max=17.0), HTML(value='')))"
      ]
     },
     "metadata": {},
     "output_type": "display_data"
    },
    {
     "name": "stdout",
     "output_type": "stream",
     "text": [
      "\n",
      "guess [1 0 1 6 1 1 0 6 1 1 0 0 0 0 1 1 0 0 0 1 1 0 1 0 0 1 6 1 1 1 1 1 6 6 1 0 1\n",
      " 6 1 0 6 0 0 0 0 6 6 0 0 0 0 6 0 1 0 1 1 0 0 1 0 1 0 0 0 1 0 0 0 1 1 6 0 0\n",
      " 0 0 0 0 0 0 1 0 1 0 0 1 0 0 1 0 0 6 0 0 0 0 0 0 1 1 0 0 1 1 0 0 0 1 0 0 0\n",
      " 0 0 0 1 0 0 0 1 1 6 1 0 0 0 0 0 0 0 0 1 0 0 0 0 0 0 1 1 0 4 0 0 0 1 0 0 0\n",
      " 1 0 0 1 0 0 0 1 1 1 0 6 0 0 1 0 6 0 0 0 1 0 1 0 1 0 0 0 0 0 0 0 0 1 1 0 0\n",
      " 1 0 6 1 1 0 0 0 1 0 0 0 1 0 1 0 0 0 0 6 0 0 1 0 6 1 0 0 0 1 0 0 0 1 0 1 0\n",
      " 0 0 1 0 0 4 0 0 0 0 1 0 0 0 0 1 0 0 0 0 1 0 0 0 0 0 0 0 0 0 1 6 0 1 1 0 0\n",
      " 0 0 0 6 1 0 0 1 0 1 1 0 1 0 1 1 0 0 0 1 0 1 0 1 0 1 0 0 0 1 0 0 0 1 0 1 0\n",
      " 1 0 0 0 0 0 0 0 0 6 0 1 1 0 0 1 1 0 1 1 1 0 1 1 6 1 0 0 0 3 0 0 0 1 0 1 0\n",
      " 0 1 1 6 0 0 1 1 0 1 1 0 0 0 0 0 0 0 1 0 0 0 1 0 0 1 1 0 0 1 0 1 0 1 0 0 1\n",
      " 1 1 0 0 0 0 0 0 1 0 1 1 1 0 1 0 0 1 0 0 1 0 0 6 1 1 0 0 1 0 1 1 6 6 1 0 1\n",
      " 0 6 0 0 0 1 0 6 6 0 0 0 1 1 0 0 3 1 1 0 0 1 0 0 0 1 1 0 1 0 1 1 0 1 1 0 1\n",
      " 0 1 1 0 0 1 0 0 1 1 0 0 0 0 1 1 1 1 1 0 0 0 1 1 0 6 0 1 6 0 0 0 6 1 1 0 1\n",
      " 0 0 1 0 0 0 0 1 0 0 0 0 1 1 6 1 0 1 1 0 0 0 1 0 0 0 0 0 6 1 6 1 0 6 0 1 0\n",
      " 0 6 1 1 6 1 0 1 6 0]\n",
      "targs [1 4 0 1 5 3 0 2 3 3 0 7 5 4 5 0 1 6 0 4 2 0 6 0 2 7 4 1 0 0 3 1 6 3 2 7 3\n",
      " 1 0 4 2 0 7 0 2 0 4 1 1 7 6 5 0 0 4 4 1 2 4 6 1 2 3 6 1 7 0 5 1 6 2 1 3 0\n",
      " 3 7 0 3 3 2 0 1 4 7 7 1 5 7 3 0 0 0 1 2 4 2 2 4 0 0 0 0 3 6 0 7 6 0 6 3 0\n",
      " 2 0 4 1 1 1 4 0 3 7 7 0 5 7 0 1 0 2 0 3 4 5 1 1 5 4 0 6 2 4 6 6 0 2 0 2 4\n",
      " 0 2 1 3 0 1 1 2 0 1 0 3 2 0 3 6 4 1 3 3 1 3 1 0 0 0 1 0 0 0 7 0 0 4 4 1 0\n",
      " 6 5 6 6 0 1 7 0 3 6 4 1 4 7 1 1 6 0 3 4 0 3 6 7 3 1 6 5 0 0 7 3 6 0 3 0 0\n",
      " 1 7 5 7 7 7 0 4 1 7 0 0 3 7 1 6 3 0 0 1 6 2 0 1 0 0 7 1 7 4 0 6 0 1 5 4 7\n",
      " 1 0 1 4 2 1 3 6 0 7 2 0 5 4 0 6 1 0 1 3 0 2 3 2 0 4 1 7 0 0 4 5 6 3 2 3 0\n",
      " 5 7 7 0 3 7 0 0 3 6 7 7 3 1 5 4 1 7 0 2 1 7 1 5 5 7 5 2 0 1 6 0 3 1 0 6 0\n",
      " 5 1 0 6 3 2 2 0 7 7 6 7 0 4 2 1 0 5 0 5 1 7 0 0 0 0 3 3 0 5 0 0 3 3 6 0 4\n",
      " 3 6 3 0 1 0 4 2 7 5 5 7 4 6 0 6 1 0 3 2 2 3 7 1 5 6 7 0 6 0 1 3 0 0 7 0 3\n",
      " 0 3 0 0 0 0 0 3 7 1 7 0 7 3 0 5 2 6 1 6 3 2 2 1 7 4 1 7 0 6 4 0 2 6 7 6 2\n",
      " 7 2 0 3 1 1 3 0 3 0 7 1 1 0 0 5 0 3 1 4 3 0 0 7 3 7 1 3 3 5 0 3 6 1 0 7 3\n",
      " 5 2 7 2 0 2 0 5 4 3 0 0 5 0 6 7 0 4 6 0 1 1 7 7 0 0 2 2 0 7 1 7 0 4 0 3 5\n",
      " 1 6 0 7 7 2 0 6 2 0]\n",
      "arracy on test set 0.24621212121212122\n"
     ]
    },
    {
     "data": {
      "application/vnd.jupyter.widget-view+json": {
       "model_id": "b76cea2cf6be4f0c9bc02238e7e16ddc",
       "version_major": 2,
       "version_minor": 0
      },
      "text/plain": [
       "HBox(children=(FloatProgress(value=0.0, max=24.0), HTML(value='')))"
      ]
     },
     "metadata": {},
     "output_type": "display_data"
    },
    {
     "name": "stdout",
     "output_type": "stream",
     "text": [
      "\n",
      "Epoch: 7, Loss:  0.32566654682159424\n"
     ]
    },
    {
     "data": {
      "application/vnd.jupyter.widget-view+json": {
       "model_id": "6d01ba0bdca74ca08dbf60da9b0c8d6b",
       "version_major": 2,
       "version_minor": 0
      },
      "text/plain": [
       "HBox(children=(FloatProgress(value=0.0, max=17.0), HTML(value='')))"
      ]
     },
     "metadata": {},
     "output_type": "display_data"
    },
    {
     "name": "stdout",
     "output_type": "stream",
     "text": [
      "\n",
      "guess [0 0 3 1 0 0 6 0 3 0 0 0 0 6 0 3 1 3 0 0 6 0 6 0 0 0 0 0 0 0 0 0 0 0 1 0 1\n",
      " 0 0 0 0 1 0 0 0 0 3 0 0 0 0 0 1 0 1 0 1 0 3 0 3 3 0 6 0 0 0 6 0 0 1 0 0 6\n",
      " 0 0 0 0 1 3 0 6 0 1 0 0 0 0 6 6 3 1 3 3 0 0 0 6 0 0 0 0 0 3 0 3 0 0 0 0 0\n",
      " 0 0 6 0 0 0 0 0 0 0 1 1 0 4 0 3 0 0 0 1 1 0 0 0 1 0 1 6 1 0 0 1 1 0 0 1 0\n",
      " 0 0 0 0 1 1 1 0 0 3 0 0 0 0 0 6 0 0 0 1 0 0 0 3 0 0 0 0 7 0 0 0 0 1 0 0 1\n",
      " 0 0 6 1 3 0 0 6 0 1 0 0 3 3 0 0 0 1 0 0 0 1 6 0 0 4 0 0 0 0 0 3 0 0 1 6 1\n",
      " 0 0 6 3 0 0 1 6 3 0 6 0 0 1 0 6 1 0 0 0 0 0 0 1 1 6 0 0 6 1 1 3 0 0 1 0 1\n",
      " 0 0 6 0 0 0 0 3 6 1 0 0 0 0 0 6 0 3 6 1 0 3 6 0 0 6 1 1 0 1 0 1 0 0 0 1 0\n",
      " 1 1 3 0 0 0 0 0 0 7 1 0 0 0 0 6 1 0 6 1 1 0 0 6 6 0 1 3 0 3 0 0 6 6 6 0 3\n",
      " 1 3 3 0 6 3 1 0 0 3 0 0 0 3 0 0 6 0 3 1 0 3 0 1 0 3 3 0 6 0 0 6 6 0 0 3 0\n",
      " 0 0 1 0 0 0 3 0 0 0 0 0 6 0 1 1 1 0 0 0 6 0 3 0 4 3 0 3 0 0 0 1 0 0 4 4 1\n",
      " 0 0 0 0 0 6 3 1 0 0 0 0 6 0 0 0 1 0 0 1 1 0 6 0 0 3 0 0 3 1 1 3 0 1 3 0 0\n",
      " 0 1 1 0 0 0 0 0 0 0 1 0 0 1 0 0 6 1 1 0 0 1 0 0 0 6 0 6 0 6 0 3 1 1 0 0 0\n",
      " 0 1 1 0 0 3 0 0 1 0 6 0 0 1 0 0 0 0 0 0 0 3 1 3 6 0 3 1 0 4 1 3 0 0 0 6 0\n",
      " 0 0 6 1 0 0 3 0 0 0]\n",
      "targs [5 0 0 4 0 0 4 2 4 0 3 5 0 0 0 2 2 7 1 4 1 0 7 6 1 7 3 0 2 0 5 1 1 7 3 5 0\n",
      " 2 5 4 0 2 7 0 1 1 7 0 7 6 0 0 6 0 7 1 1 0 3 3 4 0 6 6 0 1 1 7 0 3 1 0 0 0\n",
      " 1 1 5 1 2 3 4 7 3 0 4 0 7 0 4 5 3 2 3 2 3 0 3 1 0 2 6 0 5 4 2 6 0 1 7 6 6\n",
      " 0 0 6 6 0 6 0 0 5 7 0 5 2 4 6 0 5 0 0 2 6 0 3 6 7 1 2 1 0 0 0 4 7 2 5 1 7\n",
      " 2 1 0 4 6 2 1 7 4 5 1 4 0 0 0 5 0 0 0 1 3 7 0 1 3 7 1 0 4 1 0 5 0 7 6 0 4\n",
      " 0 1 0 0 2 4 0 2 7 0 7 1 2 0 7 0 3 6 1 1 4 4 1 0 4 6 7 0 0 0 0 1 4 6 2 1 4\n",
      " 1 7 2 6 2 7 5 4 5 2 3 0 0 4 0 6 3 0 7 6 0 6 7 1 6 3 0 3 0 3 2 1 0 1 3 5 0\n",
      " 0 0 5 3 5 3 1 1 0 5 1 1 3 4 5 7 3 3 6 2 7 0 1 7 0 7 6 3 7 3 0 3 3 0 7 6 2\n",
      " 3 0 0 0 0 1 2 1 0 0 4 2 0 0 7 6 6 5 3 3 3 4 6 6 7 6 7 1 1 4 7 0 6 0 3 3 1\n",
      " 7 6 3 5 1 5 3 1 7 7 1 0 3 0 0 0 2 3 3 4 5 3 0 0 0 0 7 5 6 3 6 7 3 3 7 2 0\n",
      " 1 0 2 2 2 5 0 1 1 6 0 3 5 0 2 0 1 4 0 0 2 7 2 4 7 7 2 3 1 0 3 7 1 6 4 0 3\n",
      " 2 0 0 6 1 6 2 1 0 3 1 4 0 1 4 0 3 4 0 0 3 0 6 4 7 3 0 1 6 6 2 2 0 1 0 0 0\n",
      " 7 5 4 7 1 3 3 4 0 1 0 3 0 2 7 0 3 0 6 2 1 0 2 0 1 3 0 0 0 0 2 3 0 2 7 1 5\n",
      " 0 7 1 2 7 0 0 4 6 7 4 1 3 3 7 1 7 7 0 0 7 1 7 1 6 5 7 3 7 4 0 7 0 7 1 1 1\n",
      " 5 3 6 7 3 1 5 3 0 6]\n",
      "arracy on test set 0.2727272727272727\n"
     ]
    },
    {
     "data": {
      "application/vnd.jupyter.widget-view+json": {
       "model_id": "318419f89c1f424abfa27861d5acfb1f",
       "version_major": 2,
       "version_minor": 0
      },
      "text/plain": [
       "HBox(children=(FloatProgress(value=0.0, max=24.0), HTML(value='')))"
      ]
     },
     "metadata": {},
     "output_type": "display_data"
    },
    {
     "name": "stdout",
     "output_type": "stream",
     "text": [
      "\n",
      "Epoch: 8, Loss:  0.36989298462867737\n"
     ]
    },
    {
     "data": {
      "application/vnd.jupyter.widget-view+json": {
       "model_id": "259d90dd9bd34ee385bef44c90b5b33e",
       "version_major": 2,
       "version_minor": 0
      },
      "text/plain": [
       "HBox(children=(FloatProgress(value=0.0, max=17.0), HTML(value='')))"
      ]
     },
     "metadata": {},
     "output_type": "display_data"
    },
    {
     "name": "stdout",
     "output_type": "stream",
     "text": [
      "\n",
      "guess [1 0 1 1 0 1 3 1 0 0 0 0 6 0 6 0 0 1 6 1 6 6 3 0 1 6 0 1 6 6 1 6 0 0 0 6 6\n",
      " 6 0 0 1 0 1 6 3 3 0 6 6 1 1 6 6 0 0 1 1 6 0 1 0 0 6 4 0 1 1 6 6 6 0 0 0 4\n",
      " 0 3 1 0 0 3 6 3 0 0 6 1 0 1 1 0 0 6 0 0 6 0 0 6 0 0 0 0 6 3 0 6 1 1 3 1 0\n",
      " 0 6 6 1 1 1 1 7 0 6 1 0 6 1 6 0 0 1 1 6 0 6 3 0 6 1 6 6 0 3 0 1 6 0 0 6 3\n",
      " 0 0 1 6 0 6 6 0 1 0 0 6 1 6 7 0 3 0 6 1 0 3 0 1 6 0 0 1 0 0 1 0 0 6 7 6 2\n",
      " 3 6 3 1 3 1 0 3 0 7 0 0 3 0 6 0 1 1 0 1 0 6 0 6 1 1 6 0 6 0 0 0 1 1 6 6 0\n",
      " 6 1 1 0 6 3 0 0 6 6 3 0 6 1 0 0 0 6 1 6 1 6 6 0 1 0 6 6 0 0 6 1 3 6 1 0 0\n",
      " 0 0 0 0 6 3 0 6 6 0 1 3 7 3 4 0 1 1 1 3 6 1 6 0 0 1 1 0 0 6 0 6 0 0 1 3 0\n",
      " 1 0 0 6 1 0 7 6 6 0 6 6 1 0 6 0 1 1 0 0 0 1 0 0 1 0 1 0 6 6 6 1 1 1 0 0 0\n",
      " 0 1 0 6 4 0 6 1 0 0 0 3 1 0 6 3 3 0 0 1 3 6 3 1 0 1 1 3 7 6 1 1 0 6 0 0 3\n",
      " 0 0 0 0 6 1 1 0 1 1 0 0 0 4 0 1 6 6 6 0 6 0 0 6 0 6 0 0 3 1 3 3 0 6 0 0 1\n",
      " 0 1 0 6 0 3 3 3 0 7 6 1 0 0 3 1 0 6 6 6 0 0 0 0 0 3 0 6 6 1 1 1 3 1 6 0 6\n",
      " 1 0 3 4 3 1 0 0 1 3 6 1 3 3 6 0 0 0 1 6 0 0 1 0 0 0 0 0 1 1 6 0 0 6 6 6 0\n",
      " 0 6 1 0 6 0 0 1 1 0 1 6 3 1 1 0 0 3 1 1 1 3 1 0 0 6 0 0 1 6 0 3 0 1 0 0 1\n",
      " 0 0 1 1 0 1 1 0 0 6]\n",
      "targs [0 6 5 0 0 3 1 0 3 0 0 4 0 0 0 1 2 2 7 1 5 1 0 1 6 0 2 2 3 7 7 0 3 1 1 5 4\n",
      " 4 1 0 1 0 1 0 0 2 1 2 7 5 7 3 6 1 0 0 0 2 0 0 7 0 6 7 1 7 3 4 2 7 1 5 0 4\n",
      " 3 0 5 6 5 4 0 1 1 5 1 3 5 0 3 0 0 3 3 1 6 5 1 7 1 1 2 2 2 3 7 1 3 3 7 0 0\n",
      " 0 6 2 4 6 1 3 4 2 0 7 0 3 4 4 0 0 5 6 3 0 6 0 7 1 6 5 4 0 5 3 2 4 0 3 6 0\n",
      " 0 0 1 6 0 6 3 6 1 7 3 3 1 1 0 0 5 4 0 6 3 3 7 6 6 0 0 3 0 7 7 0 0 2 0 1 3\n",
      " 7 7 0 3 0 0 5 0 1 0 1 0 6 0 3 0 2 3 2 1 1 2 0 0 4 2 0 3 7 0 6 6 4 0 7 2 7\n",
      " 0 5 7 0 4 3 0 1 0 0 1 3 2 3 4 0 1 7 1 1 4 0 0 5 2 1 3 7 0 0 3 6 2 0 2 1 0\n",
      " 7 6 0 5 5 2 1 5 6 0 0 1 2 7 4 0 5 0 5 2 5 1 6 0 5 3 5 5 0 3 7 4 2 5 5 3 1\n",
      " 6 1 0 5 2 7 2 1 0 0 3 7 0 4 1 7 4 1 0 1 1 1 7 0 4 4 0 6 0 0 4 3 7 7 2 0 4\n",
      " 5 2 2 1 4 0 0 0 1 0 1 1 3 7 1 3 3 0 0 7 0 6 2 7 0 0 3 3 7 7 2 2 1 7 0 7 3\n",
      " 0 1 6 3 0 4 0 3 2 3 0 2 1 6 7 1 0 2 6 4 0 1 0 7 0 0 3 4 6 5 3 1 4 3 7 1 0\n",
      " 0 6 0 7 0 6 7 2 0 4 4 0 1 1 0 3 6 6 3 1 7 6 2 7 0 1 6 6 0 6 7 1 2 0 4 3 7\n",
      " 6 0 4 0 3 0 7 7 0 7 3 6 0 0 2 0 7 0 0 1 2 0 0 7 4 0 5 0 0 7 1 4 0 1 6 7 6\n",
      " 2 6 0 0 4 7 5 6 7 7 4 6 3 3 3 3 3 6 3 0 5 7 2 1 0 4 0 7 4 0 0 1 7 3 4 1 2\n",
      " 1 7 2 3 1 1 7 0 3 6]\n",
      "arracy on test set 0.23863636363636365\n"
     ]
    },
    {
     "data": {
      "application/vnd.jupyter.widget-view+json": {
       "model_id": "fc7507e9835445caba6434e94dbd13d8",
       "version_major": 2,
       "version_minor": 0
      },
      "text/plain": [
       "HBox(children=(FloatProgress(value=0.0, max=24.0), HTML(value='')))"
      ]
     },
     "metadata": {},
     "output_type": "display_data"
    },
    {
     "name": "stdout",
     "output_type": "stream",
     "text": [
      "\n",
      "Epoch: 9, Loss:  0.25759896636009216\n"
     ]
    },
    {
     "data": {
      "application/vnd.jupyter.widget-view+json": {
       "model_id": "b9b4200ed74d420d9b09d55141f3d357",
       "version_major": 2,
       "version_minor": 0
      },
      "text/plain": [
       "HBox(children=(FloatProgress(value=0.0, max=17.0), HTML(value='')))"
      ]
     },
     "metadata": {},
     "output_type": "display_data"
    },
    {
     "name": "stdout",
     "output_type": "stream",
     "text": [
      "\n",
      "guess [0 0 0 0 0 0 0 0 0 3 1 1 0 6 0 4 1 0 1 1 0 0 0 0 0 1 0 0 0 1 1 1 6 1 0 4 0\n",
      " 1 0 0 1 1 0 0 1 0 0 0 1 2 1 1 1 0 1 1 0 1 0 0 1 1 6 0 6 0 0 6 0 6 0 0 1 0\n",
      " 4 0 1 1 1 0 0 0 1 1 0 1 3 0 0 6 0 1 1 1 6 6 1 1 0 1 1 6 0 0 1 6 0 0 0 0 6\n",
      " 0 1 0 6 1 1 0 0 6 1 0 0 0 1 1 0 0 6 1 6 6 0 0 6 6 6 1 6 1 6 1 0 1 0 0 0 1\n",
      " 6 0 6 6 1 0 0 0 6 0 1 0 1 6 6 0 1 1 0 0 0 0 0 0 0 6 0 1 0 4 0 0 6 0 0 0 0\n",
      " 1 0 1 0 1 4 0 0 0 6 1 0 0 4 0 6 6 0 0 0 1 0 0 6 6 1 0 1 0 0 1 4 3 1 0 6 6\n",
      " 7 0 6 0 1 1 1 1 1 1 0 6 1 7 0 1 0 1 6 0 0 1 6 6 0 0 0 6 0 0 1 4 0 0 0 1 1\n",
      " 6 0 0 6 1 0 6 1 0 0 6 0 0 1 0 0 0 1 1 0 6 1 0 3 1 6 1 6 0 0 3 0 0 0 6 1 0\n",
      " 0 0 0 0 0 0 1 0 1 1 0 1 6 0 1 6 0 0 0 0 0 0 0 0 6 1 3 6 1 6 0 1 1 0 0 1 1\n",
      " 0 0 0 0 1 1 0 0 0 0 0 1 0 6 1 7 1 0 0 6 0 0 0 0 0 0 0 1 0 1 0 0 0 0 1 0 1\n",
      " 0 3 0 0 0 3 1 3 4 1 0 0 0 0 6 0 0 1 0 0 0 0 1 0 1 0 6 0 0 6 0 0 1 0 0 0 1\n",
      " 0 0 6 0 0 1 1 6 0 1 1 0 6 1 0 0 4 6 0 0 0 0 3 0 1 1 0 3 1 6 4 1 1 0 1 1 0\n",
      " 0 0 0 1 6 0 0 7 1 0 3 0 0 3 0 0 6 0 0 0 6 4 1 1 0 6 0 0 6 0 0 0 1 0 6 1 6\n",
      " 0 0 0 6 0 1 0 0 1 6 0 0 0 1 0 6 0 1 0 1 0 1 1 0 0 0 1 1 0 4 1 6 1 0 1 6 1\n",
      " 1 0 0 0 1 0 6 6 0 0]\n",
      "targs [0 2 0 3 2 0 7 0 5 6 2 0 0 1 7 4 5 7 7 0 4 0 0 2 0 0 1 1 7 4 6 2 0 4 0 0 3\n",
      " 0 5 2 7 5 3 3 3 7 3 0 5 3 6 7 3 0 2 0 0 0 7 2 0 1 6 2 1 3 7 0 3 3 7 1 4 1\n",
      " 4 0 0 6 3 3 0 0 1 6 1 4 2 0 0 7 7 2 0 3 0 5 0 3 5 3 3 4 2 1 0 2 3 6 5 7 0\n",
      " 2 5 3 2 5 2 0 4 3 0 1 6 1 1 2 6 1 2 7 4 6 1 4 1 3 6 2 1 6 2 0 0 2 1 3 0 0\n",
      " 3 0 0 4 6 0 1 1 3 2 4 0 5 3 3 1 6 3 0 0 2 2 0 0 4 1 6 7 7 7 5 7 6 3 0 1 4\n",
      " 0 3 1 3 1 1 0 7 0 4 1 3 3 2 1 6 5 0 2 2 0 0 0 2 1 0 0 1 0 0 6 7 0 6 1 7 2\n",
      " 4 3 3 6 7 2 0 3 1 3 1 7 0 4 0 5 0 5 0 0 1 0 7 3 5 3 0 2 3 2 0 6 0 4 7 2 0\n",
      " 1 6 5 6 7 7 1 7 6 1 1 1 3 3 1 4 7 6 7 6 4 3 4 7 3 3 0 0 0 0 4 1 4 1 0 5 3\n",
      " 7 7 6 0 1 5 7 7 6 0 4 4 0 4 0 6 0 5 3 6 5 7 1 0 7 5 0 6 4 4 0 2 1 4 1 0 1\n",
      " 7 0 7 2 0 3 0 3 5 1 6 2 3 7 1 2 2 0 0 7 0 5 1 3 0 1 4 6 1 0 5 0 0 0 7 1 6\n",
      " 0 3 4 4 1 1 7 3 6 3 1 0 0 7 4 0 3 2 4 7 2 5 7 7 5 6 7 1 0 0 7 7 4 7 7 0 3\n",
      " 0 0 2 5 0 1 2 6 1 7 6 0 7 3 0 0 3 0 3 5 1 7 1 7 1 1 1 6 6 6 4 0 2 5 0 1 1\n",
      " 0 0 2 4 0 0 7 0 3 7 3 1 0 2 0 0 5 1 6 1 2 4 6 3 0 7 2 0 1 0 0 3 0 0 3 3 5\n",
      " 1 4 7 1 0 1 0 6 7 7 6 2 7 6 1 0 4 0 1 0 0 4 0 0 0 3 0 0 7 0 0 0 0 3 7 0 1\n",
      " 1 5 0 5 6 0 6 6 0 0]\n",
      "arracy on test set 0.23674242424242425\n"
     ]
    },
    {
     "data": {
      "application/vnd.jupyter.widget-view+json": {
       "model_id": "6d0ac76048524535a0360216747af127",
       "version_major": 2,
       "version_minor": 0
      },
      "text/plain": [
       "HBox(children=(FloatProgress(value=0.0, max=24.0), HTML(value='')))"
      ]
     },
     "metadata": {},
     "output_type": "display_data"
    },
    {
     "name": "stdout",
     "output_type": "stream",
     "text": [
      "\n",
      "Epoch: 10, Loss:  0.2935204803943634\n"
     ]
    },
    {
     "data": {
      "application/vnd.jupyter.widget-view+json": {
       "model_id": "f342793e4f594e24a2ec9ac2db6a5f2d",
       "version_major": 2,
       "version_minor": 0
      },
      "text/plain": [
       "HBox(children=(FloatProgress(value=0.0, max=17.0), HTML(value='')))"
      ]
     },
     "metadata": {},
     "output_type": "display_data"
    },
    {
     "name": "stdout",
     "output_type": "stream",
     "text": [
      "\n",
      "guess [0 0 6 0 7 0 7 1 0 1 6 0 0 0 0 1 3 0 1 1 1 1 0 0 0 1 0 1 0 1 0 0 7 1 1 6 0\n",
      " 0 0 0 1 3 6 3 0 0 0 0 0 6 0 0 3 0 6 0 1 7 1 1 0 0 1 1 0 6 0 1 6 0 3 0 6 6\n",
      " 0 1 0 3 3 6 1 0 0 0 3 0 1 0 1 0 3 1 1 0 0 1 1 6 6 0 0 0 1 0 1 0 3 0 6 1 0\n",
      " 4 6 1 6 0 7 0 0 6 0 1 6 0 1 1 0 0 0 0 1 0 6 1 6 1 3 0 0 1 0 1 6 1 3 4 3 1\n",
      " 0 1 1 0 0 1 0 1 0 0 0 6 0 6 7 3 1 1 6 0 0 3 0 0 1 1 6 6 1 0 1 0 3 0 0 0 6\n",
      " 3 0 0 0 3 6 6 0 0 3 1 0 0 0 1 0 6 1 6 3 0 0 1 0 0 1 0 0 0 0 0 1 6 3 0 6 1\n",
      " 1 0 0 3 4 0 0 0 0 0 3 3 6 1 3 0 0 3 0 0 0 0 0 0 3 6 0 1 1 0 0 0 1 6 0 1 3\n",
      " 6 0 6 0 1 0 0 1 0 1 0 1 0 0 0 0 6 6 0 1 6 6 0 6 0 0 0 1 0 1 0 1 1 3 1 0 0\n",
      " 0 7 0 0 3 0 1 1 6 6 3 0 0 1 6 0 7 0 6 0 0 0 0 0 0 0 0 3 0 4 0 1 1 3 3 0 3\n",
      " 3 0 1 3 6 1 0 6 3 0 3 1 0 1 0 1 0 3 0 4 1 0 0 0 3 0 0 0 3 0 1 0 0 0 0 6 0\n",
      " 1 0 6 0 0 0 1 1 3 6 0 0 6 1 0 0 7 0 0 0 7 0 3 1 0 0 1 3 0 1 0 1 1 0 0 0 0\n",
      " 0 0 0 6 1 0 0 1 1 1 1 0 0 0 6 0 4 0 0 2 0 1 1 4 1 3 0 0 0 3 0 0 1 0 3 1 1\n",
      " 1 3 1 0 0 6 0 1 4 1 3 6 0 0 6 0 6 0 0 6 0 6 4 0 0 1 6 3 0 1 1 3 0 0 0 1 1\n",
      " 0 0 1 6 0 6 4 0 0 1 3 0 0 0 1 1 3 0 6 0 0 1 0 1 6 0 4 1 6 0 6 0 3 1 1 1 0\n",
      " 0 1 6 0 0 1 3 0 6 1]\n",
      "targs [6 1 3 5 1 7 7 7 5 6 0 0 0 0 4 5 6 1 6 5 3 5 1 4 1 7 6 0 0 0 1 2 0 2 3 0 6\n",
      " 2 0 7 0 0 4 7 1 1 0 7 6 6 0 0 7 7 0 0 1 4 1 2 7 1 1 3 0 3 1 2 0 0 3 7 6 7\n",
      " 1 2 4 3 5 1 3 0 3 1 3 4 3 4 6 1 0 0 0 1 7 7 0 1 3 1 0 0 4 7 7 0 0 4 3 0 0\n",
      " 4 0 2 0 0 0 2 7 2 7 4 1 6 7 0 0 6 7 7 5 0 7 3 6 7 0 3 1 3 5 2 5 2 2 3 2 3\n",
      " 3 0 3 0 0 4 0 1 0 5 5 3 3 2 2 2 6 4 7 1 7 4 0 5 1 0 5 3 4 6 6 1 6 5 5 3 1\n",
      " 1 1 2 3 1 2 7 0 2 7 2 1 0 2 7 1 1 1 7 2 0 2 7 0 3 0 0 0 0 0 0 3 0 6 0 3 6\n",
      " 5 4 0 3 3 0 0 6 5 7 3 0 6 7 1 3 0 5 7 1 7 0 0 2 3 2 0 0 6 7 1 0 3 4 1 4 3\n",
      " 0 0 4 1 7 0 0 0 4 3 0 5 3 1 0 0 3 6 0 3 2 6 6 6 1 3 1 6 0 0 5 3 5 4 1 5 5\n",
      " 0 4 1 2 1 3 6 0 7 6 1 0 7 2 6 3 2 0 2 1 0 6 1 5 2 3 1 3 7 6 3 0 1 7 0 5 0\n",
      " 0 7 1 7 5 1 4 0 6 1 0 4 1 1 0 1 6 0 1 0 0 0 5 3 3 2 4 7 4 5 2 7 0 0 3 7 0\n",
      " 0 2 7 7 1 0 6 6 1 5 0 6 4 1 0 7 0 0 2 0 1 7 7 1 0 4 3 4 4 6 0 4 2 1 3 0 0\n",
      " 7 1 0 0 2 3 0 1 0 7 2 1 0 6 1 1 7 0 4 3 2 6 6 6 3 1 7 3 0 2 7 0 3 0 1 0 2\n",
      " 0 0 2 0 1 2 1 0 4 5 2 0 3 7 6 0 0 7 0 6 5 4 4 0 0 7 6 2 5 2 0 3 0 0 0 0 3\n",
      " 3 0 6 7 0 1 0 0 0 5 3 7 0 0 7 4 7 1 1 4 6 5 0 4 7 3 4 6 0 0 4 7 3 1 7 0 3\n",
      " 1 0 7 3 6 3 2 4 2 4]\n",
      "arracy on test set 0.25757575757575757\n"
     ]
    },
    {
     "data": {
      "application/vnd.jupyter.widget-view+json": {
       "model_id": "9430ad6dc434415dbd10228570d12003",
       "version_major": 2,
       "version_minor": 0
      },
      "text/plain": [
       "HBox(children=(FloatProgress(value=0.0, max=24.0), HTML(value='')))"
      ]
     },
     "metadata": {},
     "output_type": "display_data"
    },
    {
     "name": "stdout",
     "output_type": "stream",
     "text": [
      "\n",
      "Epoch: 11, Loss:  0.332289457321167\n"
     ]
    },
    {
     "data": {
      "application/vnd.jupyter.widget-view+json": {
       "model_id": "63cc754b410c47ec9fe1388a7bff9c7e",
       "version_major": 2,
       "version_minor": 0
      },
      "text/plain": [
       "HBox(children=(FloatProgress(value=0.0, max=17.0), HTML(value='')))"
      ]
     },
     "metadata": {},
     "output_type": "display_data"
    },
    {
     "name": "stdout",
     "output_type": "stream",
     "text": [
      "\n",
      "guess [0 0 1 0 0 0 0 0 6 1 0 4 0 7 0 1 3 0 0 6 0 0 0 0 0 0 0 7 0 1 1 0 0 7 0 0 4\n",
      " 0 0 0 0 0 6 0 0 1 0 0 0 0 1 0 0 0 6 0 0 0 0 0 0 3 6 0 0 0 0 1 0 4 1 4 0 0\n",
      " 0 1 3 0 0 4 1 0 3 0 0 4 0 0 1 0 1 0 0 0 1 0 1 0 3 3 1 0 0 0 0 0 0 3 0 0 0\n",
      " 6 1 0 0 0 0 2 6 0 4 6 0 0 0 0 0 1 4 4 0 0 0 6 0 0 0 0 0 1 0 4 0 0 1 0 1 0\n",
      " 1 0 0 1 0 0 3 0 0 0 7 3 4 4 0 6 0 4 0 6 0 0 4 1 0 6 0 0 6 0 0 4 3 0 0 1 0\n",
      " 3 0 3 0 6 1 6 0 3 4 0 0 0 0 3 3 1 0 1 1 0 0 0 0 0 0 0 0 0 1 0 0 1 0 0 0 3\n",
      " 0 0 1 0 0 1 0 0 0 4 0 1 0 3 0 0 1 1 6 1 1 0 0 0 0 0 0 0 0 1 0 0 0 6 4 0 0\n",
      " 0 0 0 1 0 0 0 1 1 0 0 0 1 0 0 3 6 0 1 4 0 0 1 0 0 4 0 0 0 6 0 0 1 0 0 0 1\n",
      " 0 0 0 1 1 6 1 0 0 7 0 0 1 0 0 0 0 4 0 1 1 0 3 1 0 3 0 0 1 0 0 1 0 0 0 0 0\n",
      " 0 0 4 0 3 0 0 7 0 6 1 0 0 0 0 0 0 0 0 0 1 0 0 3 0 6 1 0 0 4 0 6 1 0 0 0 0\n",
      " 1 0 0 0 0 0 7 4 1 0 0 3 1 0 1 0 3 0 0 0 0 0 4 1 3 0 0 0 1 0 0 0 0 0 6 1 0\n",
      " 0 0 1 0 0 0 0 1 6 0 0 0 0 0 4 0 1 1 0 1 6 1 0 3 0 1 0 0 0 0 0 0 3 0 6 0 6\n",
      " 0 3 0 0 0 0 3 4 0 0 0 0 0 1 0 0 0 3 0 0 1 6 1 1 0 0 0 1 4 0 0 0 0 0 1 6 0\n",
      " 0 0 0 0 0 0 1 0 0 6 0 0 0 6 0 3 3 7 0 1 0 0 0 0 0 3 4 0 0 6 6 0 0 1 0 0 0\n",
      " 7 6 6 0 0 3 0 0 1 0]\n",
      "targs [1 0 5 1 0 0 7 1 6 3 5 3 0 1 3 3 6 6 0 7 0 0 4 0 7 0 7 0 0 0 2 3 0 4 0 1 0\n",
      " 0 1 4 0 4 5 0 7 7 4 7 2 6 0 0 5 7 0 0 7 3 7 1 7 1 4 1 2 7 4 6 7 1 5 4 0 7\n",
      " 0 2 2 0 1 2 2 0 4 6 0 4 5 0 2 7 5 5 0 0 3 1 7 5 0 3 7 1 7 0 0 1 0 2 3 1 4\n",
      " 1 0 0 0 0 3 3 0 7 7 7 0 0 0 1 1 0 3 3 0 7 1 3 5 0 6 5 7 1 3 4 0 0 4 5 3 1\n",
      " 3 6 1 2 1 6 2 3 4 7 2 5 4 6 0 5 1 5 0 3 1 3 0 6 5 1 0 7 6 1 1 1 6 0 6 4 0\n",
      " 0 1 5 2 3 1 1 4 3 1 0 0 1 1 2 7 0 0 4 0 7 1 0 0 3 3 4 7 0 4 1 1 7 0 7 7 0\n",
      " 0 3 3 3 1 7 3 0 0 1 7 0 5 4 5 7 2 3 0 3 2 0 2 0 4 1 6 0 0 3 3 6 2 6 1 7 6\n",
      " 7 5 4 1 0 0 3 2 3 4 2 0 5 1 0 7 7 0 2 6 4 7 2 0 2 6 0 5 3 7 3 2 7 0 6 0 4\n",
      " 6 0 1 3 2 3 0 6 5 0 0 5 2 7 1 0 7 7 3 3 6 4 4 1 1 2 7 6 2 7 3 4 0 2 1 3 6\n",
      " 2 6 3 4 2 0 4 2 0 0 2 0 7 2 3 4 3 6 4 0 0 0 6 1 1 4 1 1 0 4 0 6 3 6 0 0 0\n",
      " 6 1 7 0 0 3 4 4 0 3 2 3 4 0 0 7 3 7 0 0 2 2 2 0 3 1 7 3 4 1 3 3 7 1 1 6 0\n",
      " 0 0 1 6 6 7 0 0 0 6 0 1 0 7 3 7 1 2 0 3 6 0 0 0 6 1 0 6 6 7 2 6 0 0 6 0 1\n",
      " 3 3 0 7 2 7 3 0 7 3 7 5 5 7 1 0 7 2 1 0 6 1 0 5 0 1 1 0 5 1 3 0 0 2 3 5 1\n",
      " 0 1 0 5 0 5 7 4 0 2 5 0 1 6 2 1 3 7 0 6 0 7 1 6 3 0 2 0 3 2 4 1 1 4 0 0 0\n",
      " 3 2 6 5 0 7 5 1 6 6]\n",
      "arracy on test set 0.2746212121212121\n"
     ]
    },
    {
     "data": {
      "application/vnd.jupyter.widget-view+json": {
       "model_id": "59c4216ed40d4b7f95ea5bb9c0240753",
       "version_major": 2,
       "version_minor": 0
      },
      "text/plain": [
       "HBox(children=(FloatProgress(value=0.0, max=24.0), HTML(value='')))"
      ]
     },
     "metadata": {},
     "output_type": "display_data"
    },
    {
     "name": "stdout",
     "output_type": "stream",
     "text": [
      "\n",
      "Epoch: 12, Loss:  0.3132331371307373\n"
     ]
    },
    {
     "data": {
      "application/vnd.jupyter.widget-view+json": {
       "model_id": "b9e89331a77f4de9ae0c734593eab31a",
       "version_major": 2,
       "version_minor": 0
      },
      "text/plain": [
       "HBox(children=(FloatProgress(value=0.0, max=17.0), HTML(value='')))"
      ]
     },
     "metadata": {},
     "output_type": "display_data"
    },
    {
     "name": "stdout",
     "output_type": "stream",
     "text": [
      "\n",
      "guess [0 0 1 0 3 0 0 0 0 0 0 0 0 0 0 0 0 3 0 0 1 0 0 6 0 0 0 1 1 0 0 0 1 0 0 0 0\n",
      " 3 0 0 0 0 0 1 0 0 0 1 0 0 0 0 0 0 1 0 3 1 6 0 3 1 0 0 6 0 0 3 4 0 0 0 0 0\n",
      " 3 0 0 0 0 0 0 0 3 0 0 0 1 0 0 0 1 0 0 1 0 0 0 0 3 0 1 3 0 0 0 1 0 0 3 1 3\n",
      " 3 0 0 1 0 0 0 4 0 0 0 1 0 0 0 1 0 0 1 3 0 1 3 0 0 0 0 0 3 0 0 3 1 6 3 0 0\n",
      " 0 0 6 0 1 6 1 0 0 0 0 0 0 0 0 3 3 0 0 0 0 0 0 1 0 1 3 3 0 0 0 3 0 0 0 0 0\n",
      " 0 0 0 0 0 1 1 1 0 0 0 0 0 3 0 0 6 1 0 4 3 0 0 0 0 1 7 3 0 0 3 0 0 4 0 0 0\n",
      " 0 1 0 0 0 0 6 0 1 0 0 0 0 0 0 3 1 0 0 3 3 3 0 0 0 0 0 0 0 4 1 0 0 0 0 0 0\n",
      " 3 3 1 3 0 0 0 0 0 0 0 3 3 3 3 0 0 1 0 0 1 0 3 0 0 1 0 0 1 0 0 6 0 0 1 0 0\n",
      " 0 0 1 0 0 0 3 1 0 0 0 0 0 0 0 3 0 1 3 0 1 0 0 1 1 0 0 0 1 0 0 0 0 0 0 0 0\n",
      " 0 0 0 0 0 0 0 0 0 0 0 0 0 0 2 0 0 0 3 1 0 0 0 0 0 3 0 1 0 0 0 1 4 0 0 0 0\n",
      " 0 0 0 0 1 0 0 0 0 0 3 0 0 0 0 3 0 0 0 1 0 0 0 0 0 0 0 1 0 0 3 0 1 0 0 0 3\n",
      " 1 0 1 0 1 0 0 1 0 0 0 0 0 0 0 3 0 0 0 0 3 0 3 0 0 3 0 0 0 0 0 0 0 0 0 1 6\n",
      " 0 0 0 0 0 0 0 0 0 0 0 3 0 0 3 0 0 1 0 1 0 0 0 0 3 3 0 0 0 0 0 0 0 0 0 0 6\n",
      " 3 0 0 0 0 0 0 0 0 0 0 0 0 0 0 0 1 0 0 1 0 1 3 0 1 4 1 0 0 0 1 3 3 1 0 0 0\n",
      " 0 0 0 0 0 0 0 0 0 0]\n",
      "targs [6 3 3 1 2 0 4 3 1 3 1 1 0 0 0 0 2 0 0 0 7 1 5 0 4 6 0 5 6 0 7 0 6 0 5 0 2\n",
      " 4 7 0 1 3 6 2 4 3 5 2 1 6 7 0 1 3 4 3 3 2 1 7 7 0 7 6 2 1 1 1 4 0 1 1 0 1\n",
      " 4 3 3 0 0 1 7 0 1 1 0 1 3 7 0 5 5 1 7 2 1 2 0 1 3 7 1 7 0 0 0 3 6 7 5 2 7\n",
      " 0 3 0 0 5 4 6 7 5 1 0 5 0 6 3 3 0 7 7 3 7 6 4 7 0 2 6 0 6 4 4 3 0 6 0 7 1\n",
      " 7 0 4 5 0 3 5 6 6 0 0 4 6 6 3 0 0 0 0 5 6 0 7 3 7 7 3 1 7 0 0 4 4 0 0 0 0\n",
      " 6 0 0 4 7 3 2 4 7 2 1 2 1 0 7 2 4 3 5 0 7 1 2 0 0 0 4 3 0 7 1 7 6 4 3 0 7\n",
      " 0 3 0 1 2 1 7 2 4 0 6 0 7 6 0 0 4 1 0 2 5 3 4 4 3 3 6 0 0 4 5 7 7 0 7 2 2\n",
      " 6 3 1 6 1 0 0 0 7 6 0 3 3 2 6 0 1 2 7 0 2 3 7 6 3 3 2 0 6 4 1 1 7 0 4 1 2\n",
      " 1 7 0 5 4 0 5 2 6 0 1 6 4 0 6 5 2 2 0 0 3 1 0 1 6 0 3 5 3 5 3 7 0 2 1 1 2\n",
      " 1 5 4 2 1 1 0 1 6 0 0 7 6 4 3 6 1 0 2 2 0 2 1 0 0 2 1 7 7 6 0 7 6 7 0 0 1\n",
      " 1 1 7 4 2 3 2 3 3 7 3 7 2 1 0 2 1 0 1 7 0 0 0 4 0 0 0 6 2 1 7 1 6 5 0 1 0\n",
      " 3 1 1 7 4 0 7 1 0 3 0 0 5 1 7 3 0 5 0 2 2 0 2 0 1 3 3 7 0 4 3 7 4 3 0 1 5\n",
      " 0 4 7 0 5 5 3 6 0 4 6 1 0 3 6 1 6 6 2 3 1 0 5 0 3 7 0 3 0 5 4 0 0 0 0 4 6\n",
      " 4 0 1 7 5 5 3 0 0 5 6 1 0 0 2 1 4 3 0 0 1 0 1 7 6 3 2 3 3 0 3 3 2 0 7 5 7\n",
      " 0 0 0 3 1 1 0 0 7 7]\n",
      "arracy on test set 0.2878787878787879\n"
     ]
    },
    {
     "data": {
      "application/vnd.jupyter.widget-view+json": {
       "model_id": "25d82ee563ea4a1dbcca466001087a31",
       "version_major": 2,
       "version_minor": 0
      },
      "text/plain": [
       "HBox(children=(FloatProgress(value=0.0, max=24.0), HTML(value='')))"
      ]
     },
     "metadata": {},
     "output_type": "display_data"
    },
    {
     "name": "stdout",
     "output_type": "stream",
     "text": [
      "\n",
      "Epoch: 13, Loss:  0.33492496609687805\n"
     ]
    },
    {
     "data": {
      "application/vnd.jupyter.widget-view+json": {
       "model_id": "57701b2708564f6e858da988c0a5e503",
       "version_major": 2,
       "version_minor": 0
      },
      "text/plain": [
       "HBox(children=(FloatProgress(value=0.0, max=17.0), HTML(value='')))"
      ]
     },
     "metadata": {},
     "output_type": "display_data"
    },
    {
     "name": "stdout",
     "output_type": "stream",
     "text": [
      "\n",
      "guess [0 0 0 6 1 0 1 3 6 0 0 6 0 0 1 1 6 6 0 1 0 1 0 0 1 1 0 6 6 0 0 1 4 0 7 0 1\n",
      " 0 6 0 3 0 6 0 3 6 1 0 1 0 0 1 6 0 6 0 0 6 0 0 0 6 0 0 6 1 0 6 0 0 6 0 1 0\n",
      " 0 0 0 6 0 6 4 0 0 0 0 6 6 0 1 1 1 0 6 1 6 0 0 6 0 0 0 0 7 1 0 0 6 6 6 0 0\n",
      " 6 6 0 3 0 6 7 0 1 1 6 1 6 0 0 0 0 0 6 0 0 6 1 3 0 0 4 6 0 0 0 0 6 6 6 0 0\n",
      " 0 6 6 1 6 3 0 6 3 0 1 3 6 6 0 0 0 1 6 0 0 6 0 0 0 0 6 7 1 0 0 6 0 0 0 6 6\n",
      " 0 0 0 0 0 6 4 0 0 6 0 6 0 6 0 0 1 1 0 0 0 0 6 6 0 1 0 1 0 1 0 0 0 1 6 7 0\n",
      " 6 6 0 0 0 6 0 0 6 1 0 0 6 7 4 6 3 0 6 0 1 0 0 0 0 6 6 3 0 0 6 6 1 1 6 0 0\n",
      " 6 6 6 6 0 0 6 1 6 0 1 0 6 0 7 1 0 0 0 1 6 6 0 0 3 0 6 6 0 0 6 0 6 0 0 0 0\n",
      " 0 1 1 0 6 3 0 0 6 0 6 3 0 0 1 0 6 0 0 6 0 0 0 6 0 6 1 0 6 1 6 3 0 6 1 0 6\n",
      " 0 0 0 0 1 0 0 6 6 0 1 0 7 0 1 6 6 0 6 1 0 1 0 0 1 0 6 4 0 0 6 1 6 0 0 0 0\n",
      " 0 1 0 1 1 2 0 0 0 3 1 1 0 0 3 0 0 0 0 0 6 0 0 1 3 0 0 7 7 0 6 0 6 0 0 6 1\n",
      " 0 3 6 6 6 0 6 3 6 0 6 0 1 3 6 6 0 0 0 0 0 1 0 6 1 0 1 4 0 0 0 0 0 6 6 0 0\n",
      " 6 0 6 0 6 6 1 0 0 0 0 6 0 0 6 0 6 0 0 6 6 6 0 1 0 0 0 0 6 0 0 0 6 0 0 0 0\n",
      " 0 0 0 0 6 6 1 6 0 6 0 0 0 0 0 6 6 0 1 6 0 1 0 3 0 0 0 0 1 0 1 6 6 6 0 6 1\n",
      " 1 0 0 6 0 0 6 1 0 1]\n",
      "targs [7 4 5 0 0 1 2 2 7 1 1 2 7 0 3 3 6 1 0 0 2 3 7 1 6 0 3 3 0 0 3 7 7 6 7 2 3\n",
      " 6 3 0 2 4 6 5 6 2 4 1 1 1 3 0 1 1 7 1 7 7 0 3 0 6 1 0 3 3 3 4 3 7 7 0 1 7\n",
      " 0 0 7 0 0 0 4 5 0 2 7 1 4 6 0 2 6 2 2 6 2 0 7 0 1 7 7 0 0 4 1 0 3 7 3 3 5\n",
      " 0 7 0 1 3 4 4 7 4 2 5 7 5 0 5 7 2 7 3 0 7 5 3 3 0 4 0 6 0 5 4 0 1 1 6 6 0\n",
      " 0 6 2 5 5 5 1 0 1 3 7 5 7 7 2 6 0 2 0 1 5 0 1 2 0 0 7 2 5 6 6 2 1 4 5 6 0\n",
      " 0 0 5 4 0 5 6 3 5 4 0 6 1 6 0 7 2 4 1 1 2 1 4 6 0 0 5 0 0 2 0 3 0 0 0 4 1\n",
      " 0 2 1 0 7 6 3 0 2 7 0 1 2 0 4 5 7 7 3 2 5 0 4 6 1 6 0 2 3 0 3 7 0 6 1 7 3\n",
      " 1 7 2 3 2 7 3 7 1 1 7 0 7 1 1 1 2 1 0 1 6 7 5 0 0 7 4 4 0 1 0 0 1 0 3 6 0\n",
      " 0 3 5 1 6 0 0 5 0 3 3 3 0 7 2 0 0 6 3 4 1 1 3 0 0 1 5 0 4 6 6 3 0 1 5 0 6\n",
      " 4 0 1 0 0 0 4 6 0 0 3 6 0 6 2 1 4 1 7 5 7 0 0 0 2 5 6 4 6 7 1 0 7 6 1 4 1\n",
      " 0 2 1 3 3 3 2 0 7 3 1 4 1 0 1 6 3 7 1 0 7 0 7 0 4 5 0 7 2 4 6 3 0 3 0 3 1\n",
      " 3 2 4 1 7 7 4 3 7 0 7 7 1 3 2 2 2 0 5 7 5 2 2 0 3 1 0 3 3 3 5 0 0 4 0 7 0\n",
      " 3 0 4 4 0 3 0 1 2 0 4 3 3 0 4 4 6 0 3 1 6 0 0 3 0 0 5 0 1 0 6 1 0 0 1 7 1\n",
      " 0 0 7 0 0 0 4 1 0 0 1 4 0 1 1 0 2 0 7 3 3 3 0 0 0 2 0 1 6 6 7 3 0 0 0 0 1\n",
      " 6 7 2 2 1 1 3 6 6 7]\n",
      "arracy on test set 0.2518939393939394\n"
     ]
    },
    {
     "data": {
      "application/vnd.jupyter.widget-view+json": {
       "model_id": "fdd4dadc40ea46b785c16d07449734ca",
       "version_major": 2,
       "version_minor": 0
      },
      "text/plain": [
       "HBox(children=(FloatProgress(value=0.0, max=24.0), HTML(value='')))"
      ]
     },
     "metadata": {},
     "output_type": "display_data"
    },
    {
     "name": "stdout",
     "output_type": "stream",
     "text": [
      "\n",
      "Epoch: 14, Loss:  0.3605003356933594\n"
     ]
    },
    {
     "data": {
      "application/vnd.jupyter.widget-view+json": {
       "model_id": "15eeaba435df4744846c62770a2be656",
       "version_major": 2,
       "version_minor": 0
      },
      "text/plain": [
       "HBox(children=(FloatProgress(value=0.0, max=17.0), HTML(value='')))"
      ]
     },
     "metadata": {},
     "output_type": "display_data"
    },
    {
     "name": "stdout",
     "output_type": "stream",
     "text": [
      "\n",
      "guess [0 0 3 6 0 1 1 0 0 6 0 1 3 1 6 0 4 0 3 2 0 3 0 3 0 6 6 0 1 4 0 0 3 6 0 3 0\n",
      " 3 0 0 6 1 1 0 4 3 1 6 0 1 0 1 1 4 0 0 0 6 0 0 3 0 0 0 6 6 3 0 1 0 4 3 4 0\n",
      " 3 1 7 0 0 3 0 1 0 0 7 6 6 0 0 6 3 3 1 3 7 0 6 0 3 4 0 6 1 0 0 6 3 1 0 0 0\n",
      " 4 6 0 6 3 6 0 1 0 1 1 0 1 0 6 4 0 1 0 0 4 3 0 3 6 1 0 0 3 6 3 0 0 6 1 3 0\n",
      " 0 0 0 0 1 0 3 0 0 2 0 0 1 0 6 4 4 0 3 6 0 4 0 3 0 0 0 0 3 6 1 0 0 0 0 6 0\n",
      " 0 0 6 0 1 1 6 1 0 0 4 3 0 1 0 6 1 6 0 1 0 0 1 0 1 6 6 6 0 6 0 3 3 3 3 0 0\n",
      " 0 1 1 0 1 0 1 1 0 3 6 6 6 0 3 3 0 0 0 4 0 0 6 0 6 0 0 3 1 6 0 0 6 0 6 1 3\n",
      " 1 4 1 0 0 0 0 6 3 6 3 6 0 3 3 1 0 4 3 3 6 3 0 3 1 1 0 0 4 1 0 6 3 2 1 0 0\n",
      " 0 6 0 0 3 3 4 6 6 6 3 0 0 0 0 3 0 0 2 3 7 1 0 0 6 6 3 0 0 0 0 0 0 0 6 0 0\n",
      " 0 0 3 0 3 1 0 1 0 6 3 6 0 3 6 1 3 0 1 0 0 0 1 1 3 0 0 1 1 0 1 0 0 7 1 5 0\n",
      " 6 0 6 0 1 0 6 4 0 1 2 3 0 3 0 3 3 0 1 1 0 6 1 6 0 0 6 0 3 6 3 4 0 3 1 6 0\n",
      " 6 1 0 4 0 6 0 6 6 0 4 1 0 3 0 0 1 7 1 3 0 0 3 0 0 7 2 3 1 0 0 0 1 6 1 1 1\n",
      " 0 6 6 0 6 1 6 0 6 6 1 1 6 0 1 0 1 3 2 1 1 3 1 0 3 1 0 1 1 6 0 6 3 1 0 0 0\n",
      " 6 1 6 0 3 0 0 0 1 0 4 3 6 0 6 4 0 6 1 0 0 0 0 0 3 3 0 0 1 0 0 6 0 3 4 6 4\n",
      " 0 0 0 0 1 6 0 6 6 0]\n",
      "targs [5 0 1 0 5 6 0 2 4 5 0 4 0 0 0 3 4 3 2 3 1 3 3 0 4 6 1 3 6 4 1 4 6 7 3 3 0\n",
      " 0 0 0 2 2 5 0 7 3 3 0 1 0 1 7 0 6 3 5 0 4 0 0 1 4 3 4 6 3 6 7 0 6 0 0 7 4\n",
      " 7 1 4 0 0 5 0 0 3 1 0 1 1 0 1 7 6 2 7 2 0 0 0 0 3 3 7 3 7 0 0 0 3 4 5 3 0\n",
      " 0 6 0 7 2 5 1 3 6 2 1 0 0 1 2 3 0 0 0 1 1 0 3 0 0 4 0 5 7 7 7 6 5 1 0 3 7\n",
      " 0 1 1 0 0 0 0 0 0 6 3 0 0 7 0 6 1 0 0 0 7 1 0 0 0 3 4 0 7 7 6 1 0 7 0 1 4\n",
      " 3 0 4 0 1 3 0 6 1 3 6 1 0 1 5 3 2 7 1 7 2 6 6 6 4 3 3 3 4 2 2 6 3 7 3 0 7\n",
      " 7 1 6 0 2 6 2 7 7 1 6 2 4 0 3 1 0 4 0 0 4 0 0 7 4 7 1 2 5 2 0 1 7 3 5 2 3\n",
      " 4 0 2 0 6 2 3 7 7 2 2 6 0 7 0 6 0 4 4 3 3 6 0 7 4 3 0 7 6 0 0 4 4 5 2 1 6\n",
      " 7 4 0 3 0 1 1 7 0 0 5 0 6 6 0 5 0 0 1 0 0 6 2 5 1 1 7 0 7 0 1 7 0 0 3 3 3\n",
      " 1 1 0 0 2 3 1 0 0 0 1 1 1 0 7 7 7 7 7 5 1 6 6 0 4 1 1 2 1 0 6 0 5 4 2 0 0\n",
      " 1 0 0 2 2 0 4 2 1 4 5 2 2 3 0 0 5 1 5 2 1 6 7 6 7 7 6 0 0 1 4 4 5 7 3 1 1\n",
      " 7 6 0 5 1 0 0 5 0 4 3 3 0 6 2 1 3 7 0 7 1 1 0 1 5 2 5 0 3 3 7 7 5 4 4 1 5\n",
      " 2 6 3 1 5 1 6 4 1 4 2 3 1 3 0 7 3 1 3 7 3 7 2 2 1 6 1 3 2 7 7 6 4 1 7 5 0\n",
      " 0 6 2 0 1 2 0 7 3 2 0 7 1 6 3 6 0 5 0 0 0 3 0 0 0 0 7 2 5 1 1 7 7 3 4 6 2\n",
      " 2 3 0 0 3 7 2 0 1 5]\n",
      "arracy on test set 0.23106060606060605\n"
     ]
    },
    {
     "data": {
      "application/vnd.jupyter.widget-view+json": {
       "model_id": "eed8142954a34f24b83c8bb0be4b6c99",
       "version_major": 2,
       "version_minor": 0
      },
      "text/plain": [
       "HBox(children=(FloatProgress(value=0.0, max=24.0), HTML(value='')))"
      ]
     },
     "metadata": {},
     "output_type": "display_data"
    },
    {
     "name": "stdout",
     "output_type": "stream",
     "text": [
      "\n",
      "Epoch: 15, Loss:  0.4002234637737274\n"
     ]
    },
    {
     "data": {
      "application/vnd.jupyter.widget-view+json": {
       "model_id": "a8e18e4379ca4abfa7c1de5bb6eb7df9",
       "version_major": 2,
       "version_minor": 0
      },
      "text/plain": [
       "HBox(children=(FloatProgress(value=0.0, max=17.0), HTML(value='')))"
      ]
     },
     "metadata": {},
     "output_type": "display_data"
    },
    {
     "name": "stdout",
     "output_type": "stream",
     "text": [
      "\n",
      "guess [1 3 0 0 0 0 0 0 0 0 0 0 1 3 1 6 3 1 0 0 6 3 0 0 1 1 3 0 0 0 0 3 6 6 0 6 0\n",
      " 3 0 6 0 0 6 0 7 1 3 3 3 0 0 1 0 0 0 0 3 0 0 0 0 1 0 0 6 3 3 6 1 1 6 7 6 6\n",
      " 3 1 6 1 3 1 0 3 0 6 3 0 0 1 0 0 0 0 0 1 3 6 0 0 6 0 2 3 0 3 0 0 4 0 1 0 0\n",
      " 3 3 1 0 0 7 3 1 0 3 6 0 6 0 0 6 3 6 0 1 1 0 0 0 0 0 0 0 0 0 3 3 0 0 3 0 1\n",
      " 0 0 0 3 6 0 1 1 1 6 1 0 0 0 0 0 0 0 6 1 0 0 0 0 0 6 0 0 0 3 6 2 0 0 0 0 1\n",
      " 0 1 7 0 0 0 0 0 6 0 6 6 0 1 0 1 3 0 0 4 0 6 0 0 0 0 6 6 0 3 0 6 0 1 1 3 6\n",
      " 0 0 0 1 0 0 6 0 1 0 0 0 0 6 3 0 0 0 6 0 7 7 1 6 3 1 0 0 0 0 1 0 0 0 0 6 0\n",
      " 3 0 1 0 6 1 4 0 0 0 0 0 1 0 1 0 1 6 6 6 0 0 3 0 0 0 3 0 0 0 2 0 6 3 0 0 6\n",
      " 3 3 1 1 3 0 3 0 3 4 6 3 0 0 0 7 0 3 0 1 0 6 1 0 0 0 0 0 3 0 6 3 0 3 6 7 0\n",
      " 6 0 3 6 1 3 6 0 3 1 4 0 0 0 0 6 0 3 0 3 7 3 3 0 6 6 0 0 6 7 0 0 6 6 6 6 3\n",
      " 0 1 0 0 0 6 0 0 1 0 1 6 1 0 3 6 6 0 0 6 0 6 6 6 0 0 0 1 0 1 0 0 0 0 0 0 6\n",
      " 6 0 1 0 6 0 0 0 6 3 0 0 0 0 3 3 1 1 0 6 3 0 0 0 3 0 3 0 3 6 1 0 6 0 0 0 0\n",
      " 0 0 1 0 0 1 3 6 0 0 1 6 1 0 0 0 0 6 0 0 0 0 1 0 0 0 0 0 0 0 0 0 6 0 1 0 1\n",
      " 3 0 0 1 0 0 6 0 3 0 6 0 7 1 6 3 0 0 0 3 0 0 0 1 0 0 3 1 3 6 0 0 0 1 0 0 0\n",
      " 0 4 0 6 0 0 0 0 7 6]\n",
      "targs [1 6 2 3 7 4 0 1 7 0 6 0 5 7 4 0 1 6 0 7 0 3 0 7 2 4 4 0 0 2 0 6 2 4 0 6 6\n",
      " 3 3 7 0 3 6 0 1 7 5 4 7 1 5 1 2 0 0 4 6 0 7 0 0 0 3 0 3 0 0 1 0 6 0 3 1 7\n",
      " 3 3 7 7 3 5 3 3 5 5 3 4 6 1 0 3 6 7 4 4 0 7 3 0 6 6 3 3 1 0 0 0 4 0 7 0 0\n",
      " 2 3 3 7 5 0 0 6 2 3 2 0 4 0 1 0 0 2 0 0 3 2 6 3 0 4 7 1 0 0 0 3 0 7 1 3 2\n",
      " 3 4 3 7 3 2 5 3 4 7 0 0 0 3 1 0 0 7 6 3 7 2 1 0 0 7 1 5 0 7 4 5 0 1 1 0 1\n",
      " 0 3 4 2 0 7 1 3 1 1 6 1 0 7 0 7 2 3 4 7 0 1 7 6 0 0 1 2 3 0 0 1 5 3 7 3 4\n",
      " 1 0 0 0 0 0 6 1 2 2 2 4 0 1 1 1 1 3 5 7 0 4 3 3 7 2 5 1 1 0 1 6 6 2 0 6 0\n",
      " 6 4 5 6 4 3 4 6 7 3 3 7 6 6 0 1 2 5 0 0 5 7 3 5 1 1 1 0 5 0 3 2 3 7 0 0 6\n",
      " 3 4 5 2 3 0 0 1 0 6 5 4 1 7 0 2 0 2 0 3 1 2 3 5 0 1 6 0 5 5 0 6 1 0 1 7 6\n",
      " 4 6 2 2 2 5 4 7 5 0 4 0 7 1 5 6 0 4 4 0 7 0 7 3 7 6 6 0 6 2 0 7 2 4 0 0 0\n",
      " 0 7 4 6 1 0 2 7 3 3 2 2 6 6 1 6 6 3 7 0 0 7 7 0 5 0 0 1 7 2 5 0 1 3 0 0 4\n",
      " 4 1 0 1 7 7 1 1 3 2 1 0 0 1 0 3 0 0 4 7 0 0 1 1 7 3 2 1 1 7 6 1 1 1 0 0 4\n",
      " 0 7 5 0 0 3 6 0 5 0 4 3 0 2 0 1 5 3 7 1 7 7 2 1 0 7 0 5 3 7 0 3 6 2 6 2 0\n",
      " 2 5 1 2 1 1 0 0 3 7 3 7 2 4 1 2 0 6 7 1 7 0 0 1 0 1 6 6 0 5 1 2 3 2 0 1 4\n",
      " 0 0 0 0 7 4 1 4 0 1]\n",
      "arracy on test set 0.26515151515151514\n"
     ]
    },
    {
     "data": {
      "application/vnd.jupyter.widget-view+json": {
       "model_id": "fcb922b4a1404d849306a43ac35a2363",
       "version_major": 2,
       "version_minor": 0
      },
      "text/plain": [
       "HBox(children=(FloatProgress(value=0.0, max=24.0), HTML(value='')))"
      ]
     },
     "metadata": {},
     "output_type": "display_data"
    },
    {
     "name": "stdout",
     "output_type": "stream",
     "text": [
      "\n",
      "Epoch: 16, Loss:  0.2252221703529358\n"
     ]
    },
    {
     "data": {
      "application/vnd.jupyter.widget-view+json": {
       "model_id": "2838e6257c1747a7890d2e2968333b27",
       "version_major": 2,
       "version_minor": 0
      },
      "text/plain": [
       "HBox(children=(FloatProgress(value=0.0, max=17.0), HTML(value='')))"
      ]
     },
     "metadata": {},
     "output_type": "display_data"
    },
    {
     "name": "stdout",
     "output_type": "stream",
     "text": [
      "\n",
      "guess [0 0 6 0 3 0 0 0 1 3 6 3 6 0 0 6 6 0 3 0 0 6 0 0 0 3 0 6 2 0 3 6 4 6 0 6 0\n",
      " 0 1 0 3 1 3 0 3 3 0 3 1 0 6 0 0 6 0 0 6 0 0 0 6 3 0 0 6 0 0 3 6 3 0 0 0 0\n",
      " 6 0 0 0 0 0 0 6 0 0 0 6 6 0 0 0 6 0 6 0 3 0 0 1 6 0 1 3 0 0 6 0 6 0 0 0 6\n",
      " 0 0 0 0 0 6 0 0 6 0 4 0 6 6 3 6 0 0 0 0 3 6 3 0 0 6 0 0 0 6 0 4 0 0 0 6 3\n",
      " 6 3 0 2 0 0 6 3 0 0 3 0 6 3 0 1 0 0 0 0 3 0 0 0 1 0 6 0 1 6 0 6 1 3 1 0 0\n",
      " 0 6 0 6 0 0 6 3 0 0 0 3 6 0 1 6 3 0 6 0 0 0 0 0 0 0 3 6 6 7 0 0 0 0 0 6 0\n",
      " 0 3 1 6 0 0 1 0 3 1 0 4 0 0 7 1 0 1 1 0 0 0 0 0 0 6 3 6 6 0 1 0 0 3 0 0 0\n",
      " 3 6 0 0 6 2 3 6 6 6 6 0 0 6 0 4 6 1 0 0 0 0 0 1 0 1 6 0 6 6 6 0 0 0 6 0 6\n",
      " 0 6 0 0 4 6 0 1 6 0 6 0 1 0 0 3 7 0 0 0 0 1 0 6 6 6 0 6 6 0 6 0 6 1 0 0 6\n",
      " 1 0 3 0 0 1 0 0 3 0 6 6 0 6 0 6 6 6 6 3 6 6 0 3 0 6 0 0 0 1 0 6 4 0 0 1 6\n",
      " 0 0 6 0 6 0 1 0 0 0 6 6 1 7 3 0 6 6 0 6 6 1 3 6 0 0 6 0 0 3 6 0 0 6 6 6 0\n",
      " 1 3 0 0 0 1 1 0 4 0 3 0 3 6 4 3 0 6 4 6 6 0 0 3 0 6 6 0 3 0 1 1 6 3 6 6 0\n",
      " 0 3 3 0 3 6 3 6 1 4 0 0 0 0 0 0 6 1 3 6 3 1 6 6 0 6 6 0 0 0 3 0 0 6 6 0 6\n",
      " 0 3 0 1 0 3 0 1 0 0 0 6 0 1 6 6 0 0 6 0 0 3 6 0 0 0 6 0 7 1 6 0 0 3 4 0 6\n",
      " 0 0 0 6 0 6 1 0 0 1]\n",
      "targs [0 6 3 1 7 7 0 0 2 5 0 7 3 5 0 2 3 1 6 0 3 2 0 1 6 1 1 3 3 5 2 6 4 3 6 2 0\n",
      " 0 1 0 0 3 0 2 1 2 5 4 7 3 4 2 0 7 4 0 0 1 4 1 6 4 0 1 5 5 0 3 2 0 7 0 0 2\n",
      " 0 0 0 2 0 6 0 4 0 6 3 3 6 0 4 3 6 0 1 6 0 0 0 6 6 4 2 2 3 7 3 6 0 1 1 3 0\n",
      " 1 2 0 3 0 6 2 5 1 7 7 7 5 4 7 2 5 4 0 6 0 6 0 4 0 0 3 3 4 7 0 0 1 7 1 0 3\n",
      " 7 2 5 3 0 4 0 0 7 3 1 0 4 6 7 3 0 0 1 0 7 6 0 0 0 1 1 3 7 6 4 1 5 7 3 0 3\n",
      " 6 0 7 7 3 1 4 0 0 7 0 1 0 3 1 3 3 0 4 7 1 5 4 7 3 3 2 6 5 2 4 1 2 7 7 4 7\n",
      " 0 1 3 7 0 2 4 1 3 7 1 3 5 7 4 5 1 0 6 1 0 3 0 0 1 6 6 6 5 1 3 1 7 3 6 3 0\n",
      " 3 1 1 0 6 5 6 1 3 1 7 7 1 5 6 0 4 0 0 0 7 2 0 7 0 3 4 7 1 3 1 7 2 0 0 0 1\n",
      " 0 2 6 0 4 0 4 5 0 3 0 0 4 5 0 3 4 1 3 1 2 4 3 0 1 7 5 7 6 0 7 0 0 0 0 1 0\n",
      " 0 0 6 0 0 2 0 0 4 4 2 3 0 1 5 5 6 3 7 2 0 6 5 1 0 2 1 7 1 2 1 4 7 1 0 0 7\n",
      " 5 0 2 0 6 5 3 7 0 7 3 7 6 0 0 2 0 3 1 7 2 0 6 0 5 2 2 1 1 7 1 1 1 1 1 6 3\n",
      " 1 5 0 0 0 0 2 0 4 0 0 0 4 6 1 7 6 2 6 1 0 5 0 3 2 7 7 0 0 1 3 0 4 3 0 0 0\n",
      " 1 5 2 7 7 0 0 7 2 4 1 7 5 0 0 1 7 2 2 1 6 4 1 2 0 1 4 1 0 0 3 5 1 2 3 0 0\n",
      " 1 5 3 7 7 3 1 2 0 7 7 0 0 2 7 6 1 3 0 0 7 0 4 2 4 0 0 7 0 6 5 7 0 3 2 6 3\n",
      " 3 3 7 6 0 4 1 6 6 3]\n",
      "arracy on test set 0.25\n"
     ]
    },
    {
     "data": {
      "application/vnd.jupyter.widget-view+json": {
       "model_id": "36138f514d094705bce16471b852531a",
       "version_major": 2,
       "version_minor": 0
      },
      "text/plain": [
       "HBox(children=(FloatProgress(value=0.0, max=24.0), HTML(value='')))"
      ]
     },
     "metadata": {},
     "output_type": "display_data"
    },
    {
     "name": "stdout",
     "output_type": "stream",
     "text": [
      "\n",
      "Epoch: 17, Loss:  0.17827953398227692\n"
     ]
    },
    {
     "data": {
      "application/vnd.jupyter.widget-view+json": {
       "model_id": "20438f219b524710af630a4d1bec0aaa",
       "version_major": 2,
       "version_minor": 0
      },
      "text/plain": [
       "HBox(children=(FloatProgress(value=0.0, max=17.0), HTML(value='')))"
      ]
     },
     "metadata": {},
     "output_type": "display_data"
    },
    {
     "name": "stdout",
     "output_type": "stream",
     "text": [
      "\n",
      "guess [1 0 6 6 0 0 7 0 0 1 0 7 3 1 1 0 1 1 0 0 1 7 0 0 0 3 1 1 1 0 0 1 0 6 0 0 0\n",
      " 0 0 1 6 0 0 1 3 1 0 3 0 0 0 1 0 0 0 6 1 0 0 0 0 0 0 1 1 1 0 1 7 0 1 0 0 3\n",
      " 0 0 1 0 0 7 6 0 3 0 1 0 1 3 0 0 0 1 1 1 1 1 1 0 1 0 0 0 0 1 0 1 0 0 0 1 1\n",
      " 1 1 0 0 0 0 0 0 0 0 0 0 3 0 0 0 6 1 1 1 0 1 3 0 0 6 3 4 0 0 1 0 0 3 0 1 1\n",
      " 1 0 0 6 0 0 7 1 0 1 0 0 2 0 6 4 1 1 0 0 1 0 0 0 0 0 0 0 1 1 1 1 0 0 0 0 0\n",
      " 6 7 0 1 0 0 1 0 0 0 0 0 0 6 6 1 7 0 0 0 1 1 0 0 0 1 0 6 0 0 0 3 0 1 0 0 0\n",
      " 0 1 0 1 0 0 1 1 0 0 3 4 0 7 0 6 0 1 0 0 0 0 0 0 1 0 0 0 1 0 0 0 0 0 0 6 0\n",
      " 0 4 0 0 0 0 6 6 1 0 6 6 0 3 0 1 6 0 0 0 0 6 0 0 0 0 0 1 0 0 0 0 1 6 1 6 1\n",
      " 0 6 0 0 0 0 0 0 3 3 0 6 0 0 1 3 0 0 0 0 0 1 0 1 0 1 0 0 0 1 0 1 6 0 0 0 0\n",
      " 0 4 1 1 1 0 0 0 1 3 0 0 6 6 1 0 1 1 0 0 0 1 6 0 0 0 6 1 1 0 1 7 0 1 0 0 0\n",
      " 0 0 0 0 6 0 0 0 1 7 0 6 0 1 1 0 0 0 0 6 0 0 1 0 1 0 1 1 1 1 0 0 1 0 6 0 1\n",
      " 1 0 4 0 1 0 0 3 0 1 0 1 1 6 6 0 0 0 0 0 1 0 0 0 6 1 0 1 1 0 1 4 0 1 1 0 0\n",
      " 0 0 0 0 1 7 0 0 0 6 1 7 0 0 0 0 6 0 0 1 1 0 0 0 1 0 0 1 1 0 1 0 0 0 1 0 0\n",
      " 0 0 6 1 4 1 0 0 0 3 0 7 0 1 0 0 0 0 0 0 6 0 1 1 0 1 0 1 6 0 1 0 0 0 1 0 3\n",
      " 3 1 0 0 6 1 0 3 0 6]\n",
      "targs [1 2 0 7 0 6 0 5 0 3 4 0 6 1 4 5 3 0 2 7 5 2 1 2 1 5 7 1 2 0 4 2 0 2 0 2 6\n",
      " 6 5 5 7 0 7 6 0 6 3 3 5 1 7 7 7 5 0 6 3 1 0 3 6 6 0 5 3 4 0 7 0 2 3 1 0 3\n",
      " 7 4 5 4 3 2 7 0 1 7 7 0 0 5 0 3 7 4 6 1 3 0 1 0 3 0 1 3 2 1 1 3 7 1 5 5 6\n",
      " 3 1 7 3 0 3 1 2 0 5 0 5 3 1 0 4 6 5 0 6 6 5 3 3 5 2 4 4 0 3 0 2 1 5 0 1 0\n",
      " 2 6 0 6 5 0 3 4 0 0 2 1 3 0 2 4 3 0 5 5 3 0 0 1 7 6 0 0 2 5 4 4 2 7 1 2 4\n",
      " 4 2 0 4 0 0 7 5 0 0 0 0 0 3 1 1 3 3 0 7 1 3 1 0 6 6 4 5 7 1 7 7 1 3 0 0 0\n",
      " 1 1 1 6 0 1 5 3 0 0 3 2 0 7 3 3 0 7 1 0 7 0 1 1 6 0 1 4 3 0 1 7 1 7 1 0 3\n",
      " 7 4 1 0 1 3 1 0 0 0 3 3 0 0 0 1 7 6 5 3 5 0 1 0 2 4 7 3 6 6 4 0 0 6 3 0 0\n",
      " 0 7 0 0 0 0 3 0 2 2 0 5 1 7 1 3 1 7 0 7 3 0 7 1 1 2 0 2 4 2 2 4 4 4 4 3 4\n",
      " 0 7 7 4 1 6 7 2 3 0 7 0 1 3 6 1 0 2 7 0 0 0 1 0 0 1 6 6 0 0 2 4 0 7 0 0 0\n",
      " 3 0 0 7 0 0 6 7 2 4 0 6 0 0 6 1 3 6 3 1 7 3 6 7 6 0 6 7 2 3 1 6 0 7 1 5 6\n",
      " 2 1 6 4 3 7 0 2 4 3 0 5 0 2 1 0 3 7 4 0 3 7 6 2 1 2 7 6 6 5 2 0 0 2 0 7 1\n",
      " 0 3 0 0 7 1 4 0 1 4 7 1 0 1 0 3 6 0 7 2 1 3 0 1 1 0 2 3 4 2 0 4 0 0 0 0 1\n",
      " 0 0 4 6 7 4 1 0 1 3 7 7 0 2 7 0 0 0 7 1 7 7 2 0 6 4 1 6 5 3 3 6 1 0 0 5 4\n",
      " 2 7 3 2 6 0 6 1 7 7]\n",
      "arracy on test set 0.2765151515151515\n"
     ]
    },
    {
     "data": {
      "application/vnd.jupyter.widget-view+json": {
       "model_id": "e63de40dee404ee491660548f842795f",
       "version_major": 2,
       "version_minor": 0
      },
      "text/plain": [
       "HBox(children=(FloatProgress(value=0.0, max=24.0), HTML(value='')))"
      ]
     },
     "metadata": {},
     "output_type": "display_data"
    },
    {
     "name": "stdout",
     "output_type": "stream",
     "text": [
      "\n",
      "Epoch: 18, Loss:  0.270237535238266\n"
     ]
    },
    {
     "data": {
      "application/vnd.jupyter.widget-view+json": {
       "model_id": "f4424bde7dc049a8a30c2d8a3c86ed11",
       "version_major": 2,
       "version_minor": 0
      },
      "text/plain": [
       "HBox(children=(FloatProgress(value=0.0, max=17.0), HTML(value='')))"
      ]
     },
     "metadata": {},
     "output_type": "display_data"
    },
    {
     "name": "stdout",
     "output_type": "stream",
     "text": [
      "\n",
      "guess [7 0 6 3 3 6 3 1 0 7 0 3 0 3 0 6 0 3 3 0 0 6 4 0 0 1 0 0 6 3 1 0 2 0 1 1 0\n",
      " 0 0 0 1 3 0 6 0 0 1 0 0 3 1 6 3 3 0 1 1 3 1 0 0 0 0 0 7 7 0 4 6 3 4 6 0 0\n",
      " 0 3 6 1 0 4 0 0 0 6 6 0 3 7 0 1 1 6 3 4 6 0 0 0 0 3 2 6 3 0 0 0 7 0 0 7 0\n",
      " 0 1 0 6 3 3 4 0 0 0 0 3 3 1 6 3 6 0 6 1 4 0 4 4 3 3 0 3 0 6 3 0 3 6 1 0 1\n",
      " 0 3 0 1 1 6 1 0 6 0 0 0 1 0 0 7 6 0 3 0 1 3 6 3 1 0 1 0 3 0 0 1 0 3 3 0 1\n",
      " 6 0 0 1 6 2 0 0 0 0 0 0 0 3 3 1 3 6 0 3 4 3 6 0 3 0 0 0 1 3 6 6 3 6 1 1 7\n",
      " 6 1 3 1 6 0 3 0 6 0 0 3 0 0 3 3 3 4 1 0 6 0 4 0 0 3 6 0 0 0 6 6 6 0 0 0 3\n",
      " 0 3 0 6 3 0 3 0 6 0 6 0 3 4 0 6 0 1 3 6 3 6 1 0 0 3 1 3 0 3 4 0 0 6 0 3 0\n",
      " 1 3 6 0 1 3 7 7 3 0 6 0 0 1 3 0 0 3 0 1 0 1 0 2 3 0 0 1 3 0 4 6 3 1 0 0 0\n",
      " 0 2 0 6 3 2 3 0 4 3 0 0 0 6 3 3 1 6 0 6 3 6 6 0 3 0 0 4 3 0 0 6 1 0 1 3 2\n",
      " 0 0 3 7 7 6 6 3 3 7 0 0 0 0 3 0 7 0 0 0 0 3 3 3 0 1 4 0 4 3 0 0 3 7 4 0 2\n",
      " 4 4 0 0 3 0 3 0 0 0 1 0 0 0 0 1 3 3 0 6 6 3 1 4 0 6 6 6 4 6 0 1 0 1 0 0 0\n",
      " 6 1 0 0 0 0 1 3 0 0 6 0 0 0 0 0 0 0 6 3 6 6 0 0 0 3 3 0 0 6 3 6 6 0 0 0 0\n",
      " 0 7 6 6 0 0 0 6 7 0 0 2 0 6 3 3 0 0 0 3 0 3 0 0 3 6 0 6 6 0 6 0 0 1 3 3 0\n",
      " 0 6 0 0 1 0 1 4 6 0]\n",
      "targs [7 4 3 3 0 0 0 1 7 5 0 2 2 0 0 6 0 1 5 0 0 0 7 3 0 3 0 4 6 2 1 0 1 0 0 2 5\n",
      " 3 0 1 5 3 0 4 1 7 0 3 0 1 6 6 7 1 0 3 1 7 4 0 0 7 7 7 3 4 6 1 0 4 0 4 0 0\n",
      " 5 0 0 0 3 4 1 1 6 5 1 3 2 0 0 6 6 7 1 2 1 2 0 0 6 6 1 2 3 3 0 0 0 0 0 7 0\n",
      " 5 3 0 1 3 7 1 0 1 1 0 1 7 7 7 0 4 0 0 0 7 4 4 4 7 4 7 2 1 3 0 1 0 6 7 7 2\n",
      " 0 2 1 3 4 6 2 1 0 6 5 0 2 4 3 4 5 0 2 1 3 5 1 7 4 0 2 0 6 7 3 7 0 0 0 5 3\n",
      " 6 1 1 6 5 3 0 3 7 0 0 1 6 7 7 1 1 0 6 3 0 6 6 5 0 1 5 3 7 1 3 4 3 5 3 2 2\n",
      " 2 7 6 5 0 4 6 0 4 6 7 6 0 0 3 4 6 2 2 1 6 1 4 1 3 3 3 3 2 7 6 0 1 0 3 0 7\n",
      " 0 0 3 4 4 3 3 1 1 2 6 4 3 6 7 7 0 1 3 3 0 6 2 2 7 0 4 3 0 3 2 3 0 3 0 0 5\n",
      " 0 2 5 2 0 0 0 0 1 7 7 5 1 0 1 0 7 0 0 2 0 5 5 5 1 7 0 2 5 0 0 1 4 3 1 0 4\n",
      " 1 5 1 1 2 3 3 6 4 1 3 5 6 7 0 0 1 0 4 1 0 0 6 2 1 7 3 1 7 2 3 6 4 1 3 5 3\n",
      " 1 1 4 1 2 7 2 4 2 0 7 0 7 0 1 1 1 0 1 5 0 0 0 7 1 2 5 1 6 0 1 0 0 1 4 0 6\n",
      " 4 3 0 0 0 0 4 4 3 0 6 6 2 4 4 0 1 6 0 0 7 3 5 6 0 2 2 0 2 3 7 7 5 1 0 0 1\n",
      " 3 0 1 2 0 7 6 0 0 1 7 2 0 3 2 0 0 1 3 2 3 7 0 0 2 0 7 5 7 2 3 7 6 7 0 7 0\n",
      " 7 0 0 7 3 6 5 6 4 1 7 5 2 4 6 7 0 0 7 0 0 3 1 4 5 0 6 6 1 1 0 7 6 0 3 7 7\n",
      " 0 7 6 0 7 0 3 2 3 0]\n",
      "arracy on test set 0.2537878787878788\n"
     ]
    },
    {
     "data": {
      "application/vnd.jupyter.widget-view+json": {
       "model_id": "516347216f95403bb4b31ffce8d47cc3",
       "version_major": 2,
       "version_minor": 0
      },
      "text/plain": [
       "HBox(children=(FloatProgress(value=0.0, max=24.0), HTML(value='')))"
      ]
     },
     "metadata": {},
     "output_type": "display_data"
    },
    {
     "name": "stdout",
     "output_type": "stream",
     "text": [
      "\n",
      "Epoch: 19, Loss:  0.2544935941696167\n"
     ]
    },
    {
     "data": {
      "application/vnd.jupyter.widget-view+json": {
       "model_id": "180f30ecb00c40d3939e23c3c9a575f7",
       "version_major": 2,
       "version_minor": 0
      },
      "text/plain": [
       "HBox(children=(FloatProgress(value=0.0, max=17.0), HTML(value='')))"
      ]
     },
     "metadata": {},
     "output_type": "display_data"
    },
    {
     "name": "stdout",
     "output_type": "stream",
     "text": [
      "\n",
      "guess [0 0 1 0 6 3 0 3 1 6 7 0 3 4 0 7 1 0 0 0 0 2 0 3 0 1 1 1 6 0 0 7 0 1 1 0 3\n",
      " 7 0 1 0 6 1 3 0 0 1 5 0 0 1 0 6 1 6 0 0 0 1 3 4 0 1 7 3 0 3 0 4 1 1 0 6 6\n",
      " 6 0 4 1 6 0 1 0 0 6 6 1 4 6 1 6 4 0 0 0 0 0 0 0 0 3 0 6 6 0 1 1 0 0 1 6 1\n",
      " 1 6 3 0 0 3 6 6 0 6 0 1 6 7 0 0 6 0 3 1 4 6 4 0 0 0 0 0 0 1 1 0 4 0 0 1 1\n",
      " 1 6 0 0 1 0 4 0 0 1 0 0 0 0 3 0 1 3 0 0 6 6 1 1 0 0 7 0 0 0 6 1 0 0 6 1 3\n",
      " 1 1 1 0 6 4 0 0 0 0 0 0 0 0 0 0 0 1 0 1 3 0 1 0 2 3 0 6 0 0 1 0 0 1 6 1 0\n",
      " 0 0 1 0 1 1 2 0 7 1 0 0 7 0 1 1 0 6 3 2 3 6 6 0 7 0 0 0 3 0 1 0 0 6 0 7 1\n",
      " 7 7 1 4 7 0 0 3 0 0 6 1 0 1 1 6 0 6 0 0 0 4 3 1 0 6 3 0 1 0 0 1 0 6 3 0 0\n",
      " 7 0 0 6 3 2 0 0 1 0 6 6 0 0 4 0 1 0 6 1 2 0 2 3 1 0 0 3 0 0 1 1 0 1 3 0 6\n",
      " 0 1 1 0 1 6 7 1 7 1 1 0 0 0 1 0 0 0 3 6 0 0 3 1 0 1 4 1 0 0 6 3 0 0 6 0 7\n",
      " 3 6 6 3 0 3 1 0 0 1 6 1 1 0 1 0 1 3 0 0 0 1 6 3 0 2 1 4 7 4 0 3 0 1 2 3 6\n",
      " 0 3 6 0 6 0 0 0 6 0 0 6 1 3 6 4 1 7 0 3 0 0 1 0 0 6 1 0 7 3 0 0 0 1 1 0 2\n",
      " 0 0 1 1 0 0 0 0 4 0 4 0 0 6 0 0 3 0 1 2 0 0 1 1 1 6 6 3 6 0 1 1 5 0 3 6 0\n",
      " 6 1 1 2 0 0 0 2 3 0 1 1 0 6 1 0 1 0 0 0 0 1 1 1 6 1 0 0 0 1 0 3 0 1 1 0 1\n",
      " 0 0 6 7 1 0 3 3 1 0]\n",
      "targs [3 7 3 4 0 6 4 5 6 3 4 1 1 4 2 1 1 0 7 2 3 1 1 3 1 2 2 3 0 0 0 4 0 1 7 1 0\n",
      " 0 0 0 3 0 3 0 1 0 1 0 1 4 7 0 6 5 5 3 6 6 7 0 6 0 0 1 1 5 2 1 1 1 0 7 0 1\n",
      " 7 0 0 0 3 0 5 5 3 6 3 1 6 1 2 5 0 7 1 1 7 0 0 0 6 3 0 7 0 0 4 6 4 0 5 7 4\n",
      " 7 6 6 7 7 4 7 0 2 2 0 6 2 4 2 0 0 3 0 4 4 4 4 6 1 0 7 1 0 6 4 7 7 3 0 3 0\n",
      " 7 7 0 7 0 2 0 5 7 3 1 3 2 0 3 0 4 2 6 0 6 0 6 2 7 0 4 1 3 1 0 1 0 1 1 6 7\n",
      " 2 6 2 0 6 6 0 0 0 0 6 0 5 4 5 2 1 2 0 0 3 7 7 4 3 6 1 0 7 7 3 1 4 3 3 0 7\n",
      " 0 0 4 3 3 2 7 0 7 4 0 2 0 5 0 1 1 1 4 4 2 6 7 0 2 1 0 1 3 0 0 1 6 7 5 0 0\n",
      " 0 0 3 5 7 0 0 6 5 7 2 6 2 4 3 5 3 3 1 0 1 2 7 6 3 1 5 1 2 0 1 6 1 1 1 4 3\n",
      " 5 3 5 7 3 3 7 1 3 1 7 5 0 0 2 0 5 6 4 3 0 0 5 2 7 1 0 0 0 0 6 2 6 6 6 0 1\n",
      " 5 2 4 0 7 2 0 1 2 3 7 0 0 3 3 1 3 0 3 1 7 0 1 2 0 0 1 5 1 0 3 0 7 5 4 1 0\n",
      " 1 1 7 2 0 2 0 6 6 1 0 0 2 4 5 1 7 0 0 2 0 0 6 1 0 5 4 4 7 2 7 3 4 6 1 4 0\n",
      " 7 2 6 2 4 7 1 0 4 0 0 6 5 0 7 4 3 3 7 0 0 1 3 3 6 1 1 7 0 3 0 7 0 2 6 0 3\n",
      " 0 7 5 0 0 5 7 0 1 7 3 0 7 0 0 0 1 0 0 5 7 0 3 3 3 6 1 3 6 0 2 0 0 7 7 6 2\n",
      " 0 2 1 7 0 0 0 6 7 0 6 7 3 6 3 1 4 3 0 5 0 0 3 3 3 1 7 3 2 0 4 7 1 0 2 5 3\n",
      " 1 2 1 2 0 4 4 5 0 3]\n",
      "arracy on test set 0.24431818181818182\n"
     ]
    },
    {
     "data": {
      "application/vnd.jupyter.widget-view+json": {
       "model_id": "a94dbce43da142aca294fb500ebace52",
       "version_major": 2,
       "version_minor": 0
      },
      "text/plain": [
       "HBox(children=(FloatProgress(value=0.0, max=24.0), HTML(value='')))"
      ]
     },
     "metadata": {},
     "output_type": "display_data"
    },
    {
     "name": "stdout",
     "output_type": "stream",
     "text": [
      "\n",
      "Epoch: 20, Loss:  0.21434104442596436\n"
     ]
    },
    {
     "data": {
      "application/vnd.jupyter.widget-view+json": {
       "model_id": "0cb556d41ef14fe5a0a1ca2841ce8f2b",
       "version_major": 2,
       "version_minor": 0
      },
      "text/plain": [
       "HBox(children=(FloatProgress(value=0.0, max=17.0), HTML(value='')))"
      ]
     },
     "metadata": {},
     "output_type": "display_data"
    },
    {
     "name": "stdout",
     "output_type": "stream",
     "text": [
      "\n",
      "guess [3 0 0 1 1 0 0 0 0 0 0 1 0 0 6 0 0 0 0 0 3 0 0 0 1 0 6 1 0 1 0 1 0 0 0 1 6\n",
      " 0 3 0 0 0 0 0 0 0 0 0 0 0 0 0 0 6 0 0 0 0 0 0 0 3 0 1 1 0 0 0 1 0 0 0 1 0\n",
      " 0 0 0 1 3 3 0 0 0 1 0 0 0 0 0 0 0 1 0 0 0 0 1 0 0 0 1 0 0 3 0 1 6 1 0 0 0\n",
      " 0 1 0 0 1 0 0 0 0 1 0 0 1 1 0 0 6 0 6 0 0 3 0 6 0 0 0 0 0 0 0 0 0 0 0 0 0\n",
      " 0 6 0 0 6 0 0 0 0 0 0 0 0 0 0 0 0 0 3 0 0 3 6 0 0 0 6 1 1 6 0 0 1 6 0 7 3\n",
      " 0 0 0 0 3 3 0 0 1 0 0 3 0 0 1 0 7 0 1 6 0 0 0 0 0 1 1 1 0 0 0 1 3 0 1 0 0\n",
      " 1 4 1 0 0 0 1 2 0 0 0 1 0 0 0 0 0 1 0 6 0 1 6 1 0 0 0 0 0 3 0 0 0 6 0 0 0\n",
      " 6 0 1 0 0 1 0 0 7 0 1 1 0 1 0 6 1 6 6 0 1 0 0 1 1 1 0 0 0 0 1 1 0 1 0 1 7\n",
      " 0 0 3 0 1 0 0 1 0 0 6 0 0 0 6 0 0 3 0 0 0 0 6 3 0 0 0 1 0 0 0 3 6 0 6 0 6\n",
      " 1 0 1 0 0 0 4 0 0 1 1 0 0 0 1 1 0 0 0 0 1 3 0 0 0 0 0 3 1 0 0 1 0 0 6 0 0\n",
      " 0 1 0 0 7 3 1 0 0 0 0 0 0 1 1 7 0 0 0 6 0 1 0 0 0 7 0 0 0 6 0 0 0 1 0 1 6\n",
      " 0 0 0 0 0 0 0 7 0 0 0 4 0 6 0 0 6 3 0 0 0 1 1 0 1 0 0 1 0 0 0 0 0 0 0 0 1\n",
      " 6 0 0 0 0 0 1 0 6 1 6 0 1 1 0 6 0 0 0 0 3 0 0 1 0 0 0 0 0 0 0 0 1 1 0 1 0\n",
      " 3 0 0 0 0 0 0 1 0 1 0 1 0 0 6 0 0 0 0 1 0 0 6 1 0 0 1 0 0 0 0 0 1 1 0 0 0\n",
      " 0 0 1 0 0 0 3 0 0 0]\n",
      "targs [0 4 6 7 1 2 0 7 0 7 0 5 1 0 4 0 7 0 0 1 5 5 0 0 4 3 3 3 3 6 2 3 7 0 1 4 1\n",
      " 0 0 3 2 7 1 0 7 0 0 2 1 0 0 1 7 1 7 2 7 6 0 0 7 2 3 7 3 5 0 0 2 3 0 0 4 5\n",
      " 0 2 7 5 0 2 4 1 4 6 7 3 5 0 7 1 1 3 0 7 5 1 4 0 0 6 2 2 2 4 1 0 4 2 7 0 0\n",
      " 0 0 7 7 1 6 2 0 0 3 3 7 6 7 4 5 0 1 1 0 1 2 2 5 0 0 2 7 1 4 3 1 6 1 5 3 3\n",
      " 1 3 3 0 2 0 7 7 4 6 5 0 4 0 0 7 0 6 3 1 1 2 1 6 3 4 6 4 7 4 0 3 2 6 3 2 3\n",
      " 4 0 6 0 3 6 6 1 4 4 3 1 7 5 7 0 1 3 6 4 6 0 0 0 5 4 2 7 0 5 5 2 6 0 0 0 2\n",
      " 3 7 5 4 7 6 7 3 2 0 3 4 6 7 4 0 4 1 6 0 7 0 7 6 0 6 0 3 1 3 4 1 5 1 0 0 0\n",
      " 3 0 7 0 0 3 0 0 4 6 2 6 0 3 1 6 0 5 0 6 2 6 1 5 3 3 0 3 1 7 4 6 1 2 1 0 7\n",
      " 7 0 6 0 0 1 0 1 1 5 2 2 5 0 7 0 7 3 0 7 4 4 6 3 0 3 3 0 3 0 5 7 7 7 2 5 1\n",
      " 6 0 0 0 0 4 4 2 5 0 6 0 0 7 2 2 7 1 4 0 2 3 4 1 5 0 3 4 3 1 0 7 1 3 7 0 0\n",
      " 1 0 7 4 0 1 3 1 2 0 7 0 6 7 1 3 0 3 4 1 3 2 3 2 0 2 7 6 1 0 0 6 0 6 0 5 6\n",
      " 6 0 0 1 1 0 3 4 0 3 1 4 1 0 0 1 5 3 1 0 5 2 0 3 5 1 5 3 0 0 7 2 0 0 1 6 0\n",
      " 3 1 7 3 7 1 0 1 7 6 2 6 1 1 0 0 6 1 0 0 5 2 6 0 0 1 0 1 7 7 7 0 3 4 1 2 0\n",
      " 2 7 1 2 1 1 0 3 3 6 3 1 0 0 1 2 0 3 1 2 7 0 6 1 0 7 0 1 7 0 0 0 3 3 4 6 5\n",
      " 7 0 5 0 1 7 3 6 0 0]\n",
      "arracy on test set 0.2784090909090909\n"
     ]
    },
    {
     "data": {
      "application/vnd.jupyter.widget-view+json": {
       "model_id": "88dab9f32c2144358a419a413046d2f0",
       "version_major": 2,
       "version_minor": 0
      },
      "text/plain": [
       "HBox(children=(FloatProgress(value=0.0, max=24.0), HTML(value='')))"
      ]
     },
     "metadata": {},
     "output_type": "display_data"
    },
    {
     "name": "stdout",
     "output_type": "stream",
     "text": [
      "\n",
      "Epoch: 21, Loss:  0.22534501552581787\n"
     ]
    },
    {
     "data": {
      "application/vnd.jupyter.widget-view+json": {
       "model_id": "1d6917e889544d5c98cafcc7bd49940a",
       "version_major": 2,
       "version_minor": 0
      },
      "text/plain": [
       "HBox(children=(FloatProgress(value=0.0, max=17.0), HTML(value='')))"
      ]
     },
     "metadata": {},
     "output_type": "display_data"
    },
    {
     "name": "stdout",
     "output_type": "stream",
     "text": [
      "\n",
      "guess [0 0 0 6 1 0 0 6 6 0 6 0 3 2 0 0 6 6 1 0 1 0 0 0 0 3 0 3 2 3 7 1 0 0 6 0 0\n",
      " 3 0 0 3 0 1 0 0 3 0 6 2 0 0 0 6 0 1 0 0 0 1 4 0 6 0 1 1 3 6 1 0 0 7 0 0 3\n",
      " 0 0 7 0 1 0 4 0 1 0 0 6 0 0 0 1 1 0 6 0 1 3 7 2 3 0 0 6 0 0 0 0 7 6 3 0 6\n",
      " 0 1 0 3 1 0 0 0 1 1 1 3 0 0 3 7 1 6 4 6 1 7 1 0 0 1 0 0 0 6 0 4 0 0 1 6 3\n",
      " 0 0 6 1 0 0 0 0 0 6 3 6 0 1 0 6 0 6 6 0 0 0 0 0 0 0 3 6 6 7 0 0 3 0 0 4 0\n",
      " 0 6 3 0 3 6 3 1 6 0 6 0 0 6 1 1 1 0 0 0 0 1 0 7 0 3 0 6 1 3 6 4 6 0 1 2 6\n",
      " 6 1 0 1 0 1 0 6 7 3 6 6 7 6 2 0 0 0 0 0 0 0 0 0 0 0 0 6 0 0 3 4 6 6 0 6 6\n",
      " 0 0 3 0 0 7 6 0 7 0 0 3 6 0 0 6 0 3 0 0 0 0 0 0 6 7 0 7 0 3 0 0 0 6 0 2 0\n",
      " 1 0 6 1 0 0 0 0 0 1 0 6 0 0 0 6 2 3 6 3 0 0 0 6 0 6 0 0 3 3 7 0 1 1 1 3 3\n",
      " 1 0 0 0 1 6 7 0 0 0 0 6 0 6 0 0 0 0 6 0 1 0 3 0 0 1 6 3 6 0 0 0 0 3 0 6 0\n",
      " 7 0 1 6 0 0 1 3 7 1 2 0 1 0 0 0 6 0 0 6 0 6 0 6 0 7 6 0 0 6 0 6 0 0 0 0 0\n",
      " 1 6 0 0 0 6 0 1 1 1 7 0 1 0 1 1 1 3 0 0 1 0 1 6 6 3 0 1 0 0 0 0 7 0 0 0 0\n",
      " 0 6 7 1 0 7 0 6 0 0 0 6 1 0 6 1 0 1 6 0 3 0 3 0 6 0 7 0 4 0 5 0 1 1 6 1 7\n",
      " 1 7 1 0 0 6 0 0 0 0 3 3 0 0 4 0 6 0 0 0 0 0 3 1 3 7 0 3 0 0 0 1 0 0 3 0 0\n",
      " 1 0 6 1 3 0 0 0 0 6]\n",
      "targs [0 7 3 4 3 6 0 3 6 0 7 0 3 5 3 3 0 6 5 0 4 0 3 0 1 7 0 0 1 2 0 1 0 1 0 1 7\n",
      " 0 1 1 2 5 1 0 1 4 0 0 3 7 0 0 5 1 3 1 4 1 6 7 7 2 3 6 4 5 7 3 6 0 1 0 1 2\n",
      " 0 1 7 0 1 0 2 0 3 1 0 5 1 0 0 6 4 7 1 7 2 3 0 5 3 1 3 4 0 1 4 5 4 7 2 0 4\n",
      " 2 0 4 2 1 0 0 3 5 1 7 2 6 0 4 4 7 0 4 0 3 5 3 3 1 0 0 0 4 6 0 1 1 0 2 2 3\n",
      " 0 4 0 0 2 0 0 7 1 3 6 3 0 0 6 6 0 4 7 3 0 1 0 1 1 5 3 4 3 3 0 2 5 7 0 4 0\n",
      " 7 7 0 0 2 6 7 0 6 3 6 4 0 1 4 2 0 5 0 0 7 6 0 0 5 6 2 5 5 0 4 7 0 1 2 3 1\n",
      " 3 3 3 6 6 1 6 1 2 0 7 1 0 4 1 6 0 5 3 0 6 0 4 2 0 4 3 0 4 0 4 6 0 6 1 0 2\n",
      " 7 7 3 2 0 0 3 1 0 3 1 3 7 7 7 1 1 1 0 6 0 3 0 2 2 1 3 7 7 1 6 0 4 7 4 3 7\n",
      " 3 1 1 6 0 6 0 4 2 0 0 0 1 7 7 3 5 2 5 6 5 7 0 3 7 6 5 1 0 6 1 0 5 7 7 2 1\n",
      " 1 6 1 0 3 2 7 0 7 3 3 7 2 1 3 4 7 1 0 1 4 7 4 2 6 3 7 3 6 0 3 7 0 0 0 3 3\n",
      " 2 5 4 6 1 2 6 4 1 7 6 7 7 5 6 0 6 0 0 4 7 1 0 4 0 4 4 7 3 0 1 0 2 0 2 0 0\n",
      " 2 7 1 3 0 1 0 0 3 2 1 3 2 1 2 3 6 0 0 0 2 3 0 7 0 6 5 6 7 1 7 7 7 5 5 0 5\n",
      " 1 6 0 2 6 7 7 0 6 7 0 7 0 0 7 1 7 5 1 0 3 2 3 0 2 3 4 0 4 0 0 0 0 2 6 3 0\n",
      " 2 0 0 1 6 3 5 1 5 1 5 0 1 0 0 2 6 7 6 4 1 0 7 2 7 3 0 3 0 0 7 0 1 5 5 0 1\n",
      " 3 0 2 0 1 0 0 1 0 2]\n",
      "arracy on test set 0.26136363636363635\n"
     ]
    },
    {
     "data": {
      "application/vnd.jupyter.widget-view+json": {
       "model_id": "b3ebbdf1c07d40d7833a164e598160a8",
       "version_major": 2,
       "version_minor": 0
      },
      "text/plain": [
       "HBox(children=(FloatProgress(value=0.0, max=24.0), HTML(value='')))"
      ]
     },
     "metadata": {},
     "output_type": "display_data"
    },
    {
     "name": "stdout",
     "output_type": "stream",
     "text": [
      "\n",
      "Epoch: 22, Loss:  0.2779194414615631\n"
     ]
    },
    {
     "data": {
      "application/vnd.jupyter.widget-view+json": {
       "model_id": "92e2d549d5484b279aa6e8e066b7c08e",
       "version_major": 2,
       "version_minor": 0
      },
      "text/plain": [
       "HBox(children=(FloatProgress(value=0.0, max=17.0), HTML(value='')))"
      ]
     },
     "metadata": {},
     "output_type": "display_data"
    },
    {
     "name": "stdout",
     "output_type": "stream",
     "text": [
      "\n",
      "guess [0 3 1 0 3 0 1 0 6 0 0 0 1 0 0 0 3 0 3 3 0 7 0 6 6 7 6 1 6 2 6 0 0 7 0 2 6\n",
      " 6 0 0 3 0 1 1 0 0 6 1 7 5 6 0 0 0 6 1 6 0 0 0 3 1 6 0 0 4 0 1 0 4 3 0 3 0\n",
      " 0 4 0 0 1 1 0 0 6 6 1 6 0 6 0 0 3 1 1 7 0 0 6 0 3 0 6 1 0 3 7 6 6 7 3 0 0\n",
      " 0 0 0 0 1 6 6 0 0 3 0 0 6 1 1 0 3 6 1 0 6 0 0 0 0 6 0 0 0 0 1 6 0 3 0 0 0\n",
      " 6 6 7 0 6 0 0 0 3 0 0 7 1 0 6 0 6 0 0 3 3 6 2 3 0 0 0 0 0 6 3 6 7 0 3 0 2\n",
      " 3 0 0 0 0 0 4 1 3 0 1 6 6 0 7 3 6 0 0 7 0 0 0 3 0 0 3 0 0 0 7 6 0 3 0 0 6\n",
      " 7 7 0 0 0 3 1 3 1 0 6 1 1 0 0 0 0 3 0 0 6 6 0 0 0 0 3 0 3 6 0 3 1 3 0 0 0\n",
      " 0 0 1 0 0 3 0 3 0 0 0 6 0 0 6 0 0 1 0 6 0 0 0 0 7 7 1 0 7 0 0 1 0 4 1 7 3\n",
      " 0 7 6 1 0 3 0 0 6 0 6 0 0 0 0 6 0 3 6 6 0 0 1 0 7 6 0 0 0 3 0 0 0 0 0 0 0\n",
      " 0 6 0 0 0 1 6 0 0 1 7 0 0 1 1 0 0 0 0 0 0 0 7 6 0 0 0 6 0 4 0 0 1 4 6 1 1\n",
      " 0 0 6 4 6 6 0 6 4 0 0 0 0 6 0 0 6 7 7 6 1 0 0 0 0 3 6 4 6 0 7 6 2 0 1 1 0\n",
      " 6 3 3 6 6 0 6 0 6 3 0 0 0 0 6 0 0 6 0 0 0 7 0 0 0 0 0 0 0 6 7 6 6 0 0 0 1\n",
      " 6 0 0 1 0 6 6 0 7 6 0 6 0 0 0 0 0 0 2 0 0 0 6 0 0 7 1 0 3 0 0 2 0 6 0 0 3\n",
      " 2 1 0 6 1 0 0 0 6 0 6 0 6 0 1 3 0 0 3 6 0 3 0 1 6 0 3 3 0 0 6 0 3 0 0 6 0\n",
      " 0 0 0 6 0 0 0 7 6 6]\n",
      "targs [0 2 3 7 3 2 0 6 1 0 1 4 6 4 6 2 3 0 3 4 1 4 2 0 3 0 6 4 0 3 6 7 0 0 1 5 1\n",
      " 3 3 6 0 7 0 3 4 4 7 3 0 0 0 7 0 7 0 1 6 0 0 5 1 5 1 7 6 0 4 5 3 6 1 2 5 4\n",
      " 0 7 7 2 1 3 4 0 7 7 0 2 7 1 5 1 1 6 2 7 7 0 7 0 6 0 0 4 7 2 3 5 0 1 7 0 0\n",
      " 7 0 0 5 2 2 3 7 7 3 2 0 2 1 5 0 2 1 2 0 4 4 0 7 1 1 0 4 0 0 5 5 1 0 0 0 3\n",
      " 3 6 4 0 3 1 7 0 5 0 7 0 2 3 6 0 3 0 0 1 1 6 3 2 0 6 1 6 5 6 3 4 1 5 2 1 1\n",
      " 4 2 6 3 5 0 1 2 6 7 7 3 0 0 4 5 6 0 0 7 0 1 0 6 0 0 2 3 2 3 0 4 2 6 3 4 6\n",
      " 4 3 7 0 1 7 0 5 3 0 1 4 0 7 3 1 6 3 3 1 0 4 2 0 0 1 0 1 0 2 0 3 0 3 0 0 7\n",
      " 1 6 1 6 6 2 6 4 4 2 0 1 0 0 1 7 3 0 0 7 1 0 0 5 6 3 2 2 5 0 0 7 7 2 3 7 3\n",
      " 5 0 0 4 1 0 1 1 6 5 3 6 0 0 3 6 3 1 7 3 0 0 0 5 2 2 6 0 0 0 1 0 0 3 0 1 1\n",
      " 0 1 7 0 5 3 6 0 3 3 1 0 0 6 3 3 0 0 0 3 0 3 0 0 7 1 3 0 2 7 7 1 0 4 1 6 3\n",
      " 0 0 4 2 4 3 5 4 4 1 4 3 0 1 1 7 4 2 2 3 7 1 1 1 2 3 3 4 1 0 0 6 6 1 7 1 7\n",
      " 2 0 7 0 0 6 4 0 2 0 5 7 0 2 7 3 1 4 1 0 7 0 1 7 6 3 0 1 5 5 1 0 7 6 4 2 7\n",
      " 7 3 0 2 7 0 2 0 0 5 1 1 7 5 7 0 7 0 5 6 7 7 0 7 0 7 6 1 2 0 1 5 3 0 0 0 4\n",
      " 3 0 0 4 2 2 1 0 6 0 7 6 0 5 0 4 0 1 3 7 0 6 4 3 7 6 2 5 1 5 1 0 3 7 1 6 0\n",
      " 4 1 1 2 1 0 3 7 7 6]\n",
      "arracy on test set 0.26136363636363635\n"
     ]
    },
    {
     "data": {
      "application/vnd.jupyter.widget-view+json": {
       "model_id": "0c35231e1b1c42f28433a16110c67dc0",
       "version_major": 2,
       "version_minor": 0
      },
      "text/plain": [
       "HBox(children=(FloatProgress(value=0.0, max=24.0), HTML(value='')))"
      ]
     },
     "metadata": {},
     "output_type": "display_data"
    },
    {
     "name": "stdout",
     "output_type": "stream",
     "text": [
      "\n",
      "Epoch: 23, Loss:  0.2938232123851776\n"
     ]
    },
    {
     "data": {
      "application/vnd.jupyter.widget-view+json": {
       "model_id": "77f724bb910a46e19314d9bdf58bf2ed",
       "version_major": 2,
       "version_minor": 0
      },
      "text/plain": [
       "HBox(children=(FloatProgress(value=0.0, max=17.0), HTML(value='')))"
      ]
     },
     "metadata": {},
     "output_type": "display_data"
    },
    {
     "name": "stdout",
     "output_type": "stream",
     "text": [
      "\n",
      "guess [0 1 0 1 0 6 0 0 0 0 0 0 6 0 0 0 0 0 0 0 1 0 0 0 0 3 6 0 0 0 1 0 0 1 0 1 0\n",
      " 7 0 0 3 0 0 0 0 1 6 1 3 3 1 1 7 1 0 7 6 0 0 7 1 0 0 0 1 0 3 0 0 3 0 6 1 0\n",
      " 0 3 6 0 0 0 0 1 7 4 7 4 1 0 0 0 0 3 7 0 1 1 0 0 0 0 6 6 1 1 0 1 0 1 6 0 7\n",
      " 0 0 0 0 0 6 0 0 0 0 1 0 0 0 1 6 0 0 1 0 0 0 6 0 6 6 0 0 0 1 0 0 3 1 0 7 3\n",
      " 0 0 0 0 0 0 0 3 0 0 0 6 0 0 0 0 0 0 0 1 0 0 0 0 6 0 0 6 0 7 0 0 7 6 0 0 0\n",
      " 0 3 6 0 0 0 0 0 0 0 0 0 0 0 0 0 0 4 0 1 0 0 0 0 7 0 0 6 0 0 0 0 0 6 3 0 0\n",
      " 0 0 1 0 0 0 0 0 0 0 0 0 1 0 0 0 1 0 0 0 6 1 0 0 0 0 1 0 0 1 0 0 0 1 6 1 0\n",
      " 0 0 6 6 6 0 7 0 0 1 1 0 6 0 0 0 2 1 1 1 0 3 1 1 1 3 0 0 0 0 3 0 0 6 1 6 1\n",
      " 1 0 0 0 0 0 0 0 0 1 0 1 1 0 1 0 0 0 1 0 0 0 0 0 0 2 0 6 0 0 0 1 0 0 0 0 0\n",
      " 0 0 0 0 6 0 0 0 0 1 0 0 0 7 0 0 1 6 3 7 0 0 6 0 0 1 3 0 0 1 0 6 0 0 0 0 1\n",
      " 6 0 6 0 3 0 0 0 6 0 0 0 0 0 0 0 1 3 6 7 3 0 0 1 0 1 0 0 6 0 3 1 0 0 1 1 6\n",
      " 6 3 6 1 0 0 0 0 0 1 1 0 0 0 1 0 6 0 0 1 6 0 0 0 6 0 0 1 1 0 0 0 0 0 3 0 0\n",
      " 1 6 0 1 0 0 6 4 0 1 0 0 0 1 0 0 0 1 0 3 7 1 1 0 1 0 0 0 0 0 4 0 6 6 1 0 6\n",
      " 0 0 0 6 0 0 0 0 7 1 6 0 0 0 1 0 0 0 4 6 0 0 6 0 0 1 7 0 0 0 6 0 1 0 0 0 3\n",
      " 0 1 0 6 0 0 1 7 0 6]\n",
      "targs [1 3 3 3 0 6 0 0 0 5 5 0 1 4 5 6 0 2 1 0 3 5 7 2 7 2 0 0 7 0 5 1 1 0 0 6 1\n",
      " 2 7 6 3 0 0 3 3 1 0 0 5 2 0 3 7 3 6 4 6 0 6 7 5 4 3 0 2 6 7 0 4 0 0 0 2 1\n",
      " 7 3 1 5 5 1 7 5 1 7 0 4 2 2 0 0 0 4 3 3 3 2 7 3 0 3 6 4 6 1 6 2 0 2 1 0 0\n",
      " 1 0 7 1 1 4 0 3 7 6 6 0 4 3 2 7 1 3 3 7 0 6 7 0 4 1 5 0 0 0 0 3 5 2 2 3 3\n",
      " 0 3 7 0 1 0 4 3 0 5 0 0 0 7 0 0 0 3 4 0 7 1 7 6 2 0 3 0 5 2 1 1 5 3 1 5 0\n",
      " 0 3 2 0 1 0 0 7 1 7 6 1 0 7 2 0 0 0 2 7 1 7 0 1 7 7 0 0 0 0 1 5 1 3 1 0 1\n",
      " 3 5 4 7 7 4 6 0 7 4 0 0 1 6 3 2 2 7 1 5 1 5 4 6 1 3 1 7 6 2 0 0 1 4 6 4 0\n",
      " 3 3 7 7 1 6 2 7 0 0 4 6 3 1 1 3 3 5 7 7 6 0 3 4 2 3 5 1 6 0 1 7 5 1 2 6 4\n",
      " 4 1 6 7 0 6 0 0 4 0 1 0 2 0 0 2 0 3 6 4 0 1 7 0 0 3 3 1 2 1 0 0 7 2 1 7 0\n",
      " 1 0 0 6 6 0 0 0 3 7 4 0 3 1 4 2 4 1 3 4 6 3 3 1 7 5 0 0 0 7 0 3 0 2 0 1 2\n",
      " 7 0 2 0 2 0 0 0 7 1 2 5 3 1 0 1 7 2 5 0 5 4 6 0 1 3 0 0 6 6 1 3 4 1 4 7 3\n",
      " 6 6 4 6 1 0 0 0 2 0 0 1 0 7 7 2 5 4 3 6 2 7 3 0 0 6 1 1 0 7 0 0 7 7 4 0 7\n",
      " 3 7 7 7 0 0 1 4 0 3 2 4 0 1 3 5 6 0 0 3 0 4 2 4 3 2 7 7 1 0 6 0 3 6 2 2 5\n",
      " 5 7 5 5 0 4 0 0 3 1 6 1 1 1 6 0 0 0 4 6 0 7 7 3 2 7 4 0 1 6 7 2 5 6 0 1 6\n",
      " 2 1 0 0 1 1 3 3 4 3]\n",
      "arracy on test set 0.2803030303030303\n"
     ]
    },
    {
     "data": {
      "application/vnd.jupyter.widget-view+json": {
       "model_id": "23c68d44135d40448b0a4b55575d294c",
       "version_major": 2,
       "version_minor": 0
      },
      "text/plain": [
       "HBox(children=(FloatProgress(value=0.0, max=24.0), HTML(value='')))"
      ]
     },
     "metadata": {},
     "output_type": "display_data"
    },
    {
     "name": "stdout",
     "output_type": "stream",
     "text": [
      "\n",
      "Epoch: 24, Loss:  0.34387001395225525\n"
     ]
    },
    {
     "data": {
      "application/vnd.jupyter.widget-view+json": {
       "model_id": "d6bd2704915948c2984490f1b33e8a43",
       "version_major": 2,
       "version_minor": 0
      },
      "text/plain": [
       "HBox(children=(FloatProgress(value=0.0, max=17.0), HTML(value='')))"
      ]
     },
     "metadata": {},
     "output_type": "display_data"
    },
    {
     "name": "stdout",
     "output_type": "stream",
     "text": [
      "\n",
      "guess [0 0 0 0 0 0 1 0 3 0 0 0 1 0 6 0 6 0 0 1 0 0 0 0 1 0 0 6 1 6 0 0 6 0 1 7 7\n",
      " 0 6 4 1 0 3 0 0 6 0 0 0 6 0 0 0 0 1 0 6 1 1 1 1 1 0 0 0 1 6 0 0 0 1 1 0 0\n",
      " 0 1 1 1 0 6 0 0 4 1 6 6 0 3 1 7 7 1 3 1 0 1 0 3 0 3 0 0 0 0 0 1 1 1 0 0 0\n",
      " 0 1 6 0 3 1 1 1 1 1 0 0 0 0 0 0 1 1 6 6 0 0 0 3 0 1 0 0 6 0 0 0 0 0 0 0 1\n",
      " 0 0 0 3 0 6 0 7 0 1 0 0 0 0 0 6 0 1 0 1 0 7 0 0 4 0 0 6 0 1 1 0 0 6 1 0 0\n",
      " 0 0 6 1 6 0 0 6 3 6 6 0 0 6 0 7 0 1 0 3 0 1 0 0 0 0 1 0 3 0 1 0 1 0 0 0 0\n",
      " 0 0 6 1 0 0 4 0 1 0 1 0 0 0 6 1 0 0 6 1 3 1 0 1 0 3 0 0 3 0 1 0 0 1 0 1 1\n",
      " 0 1 0 0 0 7 0 0 0 3 0 1 0 0 0 1 0 0 0 0 0 0 1 0 1 6 1 1 1 3 0 0 0 0 1 1 0\n",
      " 1 1 0 0 0 0 0 0 1 0 6 1 3 1 0 0 6 0 0 3 0 0 0 1 6 0 0 4 0 3 0 0 3 0 0 0 1\n",
      " 0 1 3 0 1 3 6 0 0 0 0 0 0 1 1 6 0 0 1 0 4 3 0 1 0 6 1 0 6 1 0 1 1 3 3 0 1\n",
      " 1 0 0 0 1 0 3 0 0 1 0 1 1 0 0 6 0 0 0 1 0 0 0 1 1 0 1 2 6 1 0 1 1 6 0 0 6\n",
      " 0 0 0 0 0 6 3 0 0 3 0 1 0 0 0 0 3 3 1 0 0 1 0 1 0 0 6 1 0 0 3 6 1 0 0 0 0\n",
      " 3 0 0 0 0 6 0 0 0 1 1 6 6 0 0 0 0 0 2 3 0 1 1 6 0 0 0 0 0 1 0 0 1 0 0 0 0\n",
      " 0 7 6 1 0 0 0 1 0 0 0 0 6 6 0 1 3 1 0 6 3 1 1 0 1 0 0 0 0 1 0 0 0 0 1 7 7\n",
      " 1 6 3 1 0 0 0 1 0 0]\n",
      "targs [3 3 3 2 3 7 3 7 0 5 7 0 4 1 6 1 7 4 5 0 0 7 0 0 0 2 0 2 3 2 7 0 0 4 3 2 2\n",
      " 5 1 4 1 7 3 1 7 2 1 0 3 6 1 0 0 1 7 7 6 0 4 4 1 3 1 0 0 4 7 7 2 2 5 5 4 7\n",
      " 1 3 6 0 2 4 2 7 4 6 3 7 2 6 3 0 2 4 3 3 6 0 7 3 1 0 5 1 0 7 0 3 0 3 1 0 0\n",
      " 0 2 0 7 4 2 3 1 0 2 0 6 7 1 4 4 1 2 0 6 1 7 1 3 0 6 1 0 3 6 6 5 6 0 7 7 1\n",
      " 0 1 0 4 2 1 4 0 4 7 0 0 1 6 0 0 4 0 0 1 0 4 6 0 6 1 4 3 0 2 5 3 1 0 5 0 0\n",
      " 2 0 0 6 6 7 0 7 0 7 4 0 1 1 5 7 0 3 2 7 7 7 0 1 0 4 4 1 3 7 6 3 1 3 0 0 0\n",
      " 1 1 3 4 4 0 0 5 7 3 5 0 1 0 5 1 1 6 4 2 6 7 3 0 6 2 0 5 4 3 3 7 7 3 0 1 1\n",
      " 7 2 7 7 2 4 7 4 0 2 1 0 7 3 1 6 3 3 0 0 1 0 0 7 2 6 7 0 2 6 0 1 0 2 7 7 7\n",
      " 2 6 0 6 4 3 7 0 2 0 0 2 0 1 0 5 1 0 4 3 3 0 0 6 5 0 7 7 2 3 3 6 7 0 2 3 4\n",
      " 0 0 5 1 7 0 7 4 4 6 0 1 5 3 3 2 7 7 0 0 4 2 1 1 6 5 6 6 7 3 0 0 1 3 5 1 5\n",
      " 4 5 3 0 7 0 1 1 4 6 7 3 0 0 0 6 1 5 1 7 0 5 7 3 3 7 7 3 0 3 6 0 1 1 0 0 5\n",
      " 0 1 0 4 0 6 6 0 0 2 3 0 0 3 0 0 3 2 1 1 1 3 0 2 1 0 6 1 0 1 5 3 6 5 0 3 0\n",
      " 1 2 7 3 2 1 0 1 0 5 2 6 4 5 0 0 4 0 3 1 0 7 2 1 0 6 6 0 0 0 0 0 0 2 3 0 0\n",
      " 1 7 3 6 6 1 3 4 0 5 5 0 7 1 1 0 0 2 4 0 0 6 2 2 6 7 1 0 0 5 1 2 0 0 5 3 1\n",
      " 6 6 3 3 7 1 5 0 0 0]\n",
      "arracy on test set 0.2784090909090909\n"
     ]
    },
    {
     "data": {
      "application/vnd.jupyter.widget-view+json": {
       "model_id": "aa8f7f7e4cec4f8d968b343a6d91fb5d",
       "version_major": 2,
       "version_minor": 0
      },
      "text/plain": [
       "HBox(children=(FloatProgress(value=0.0, max=24.0), HTML(value='')))"
      ]
     },
     "metadata": {},
     "output_type": "display_data"
    },
    {
     "name": "stdout",
     "output_type": "stream",
     "text": [
      "\n",
      "Epoch: 25, Loss:  0.2755570709705353\n"
     ]
    },
    {
     "data": {
      "application/vnd.jupyter.widget-view+json": {
       "model_id": "06636d9b32c342e5ae66018bccefdfa7",
       "version_major": 2,
       "version_minor": 0
      },
      "text/plain": [
       "HBox(children=(FloatProgress(value=0.0, max=17.0), HTML(value='')))"
      ]
     },
     "metadata": {},
     "output_type": "display_data"
    },
    {
     "name": "stdout",
     "output_type": "stream",
     "text": [
      "\n",
      "guess [1 0 0 0 0 0 0 0 0 0 6 1 0 1 0 3 0 0 1 0 6 7 0 0 6 0 0 1 0 0 0 0 0 6 0 0 0\n",
      " 1 0 0 0 0 0 0 0 6 0 1 6 0 1 1 0 0 4 0 0 4 1 0 0 0 6 1 1 7 0 0 0 0 0 0 1 1\n",
      " 0 4 1 0 6 0 6 0 0 6 4 0 4 0 3 0 0 0 0 0 1 7 1 0 1 0 0 1 6 0 0 1 0 6 1 0 0\n",
      " 0 0 0 1 1 0 1 3 0 1 0 1 1 0 0 0 6 0 6 0 0 0 1 0 0 0 0 4 1 0 2 1 1 0 0 0 6\n",
      " 6 1 1 0 1 0 0 6 7 0 0 6 0 0 0 0 0 0 0 0 1 0 6 0 6 3 0 1 0 0 0 0 0 0 7 0 0\n",
      " 0 1 0 1 5 0 1 0 0 6 0 0 0 0 6 6 1 0 0 1 1 0 6 7 1 0 1 0 0 0 1 4 0 3 0 0 0\n",
      " 0 2 1 0 0 0 0 0 6 0 4 1 0 0 0 0 1 0 0 0 0 0 1 0 0 0 1 3 0 3 1 0 1 1 6 0 1\n",
      " 0 0 6 0 1 0 0 0 0 1 0 6 0 0 1 0 0 1 1 0 1 0 3 0 1 1 0 0 6 0 0 7 0 0 0 0 6\n",
      " 6 0 0 0 6 0 0 0 0 1 0 6 0 0 6 0 0 0 0 0 0 1 0 0 0 0 7 1 0 1 0 0 6 1 6 0 0\n",
      " 0 0 0 1 1 0 0 1 0 0 0 0 0 0 0 0 6 6 0 4 0 0 0 0 0 0 1 1 1 0 0 0 1 7 0 0 0\n",
      " 7 6 0 0 0 0 6 0 6 7 0 3 7 0 6 0 1 3 0 0 0 0 1 6 6 1 7 0 4 6 1 0 3 0 0 0 0\n",
      " 6 0 6 0 1 6 0 0 6 0 6 0 0 0 0 1 0 0 0 0 0 0 1 0 7 0 1 6 0 0 0 6 6 0 0 6 0\n",
      " 3 7 0 0 0 0 1 0 0 7 3 0 0 6 0 7 0 0 1 0 0 1 1 0 1 0 1 0 1 0 0 0 0 0 1 1 0\n",
      " 0 0 3 0 0 0 0 4 0 1 0 6 3 0 0 1 4 6 0 0 0 7 1 0 1 0 1 0 0 0 0 0 1 0 0 3 7\n",
      " 1 0 1 1 0 0 1 1 3 6]\n",
      "targs [4 1 1 0 7 2 7 2 3 5 2 3 0 6 4 7 3 2 3 0 4 6 4 4 0 7 0 1 5 7 7 3 4 2 0 5 1\n",
      " 7 1 1 0 7 0 1 0 7 0 2 6 6 7 1 5 3 4 3 7 4 0 0 0 7 4 6 3 0 4 4 0 3 2 7 7 1\n",
      " 2 2 0 5 6 0 0 0 0 2 6 1 2 0 5 1 0 6 4 0 4 2 2 2 7 0 0 0 5 7 2 6 0 6 7 0 0\n",
      " 1 2 6 2 4 1 2 0 0 5 0 2 0 4 5 1 4 0 4 6 0 1 4 1 6 7 7 1 6 0 3 3 6 6 0 7 7\n",
      " 3 3 2 7 3 0 5 1 4 1 0 3 4 7 0 0 7 6 3 0 3 3 1 3 0 2 1 2 0 2 0 0 7 1 3 0 1\n",
      " 1 3 7 0 0 3 2 1 1 0 1 7 7 5 4 0 1 1 4 1 1 1 1 0 7 2 1 0 3 6 2 0 0 3 0 3 3\n",
      " 3 3 3 1 7 0 2 0 6 7 4 5 0 0 1 0 4 5 7 7 0 0 3 3 7 1 0 4 6 3 5 1 5 0 6 0 3\n",
      " 4 1 0 0 5 4 0 2 0 0 0 3 0 3 4 1 1 4 7 0 7 3 3 6 7 0 5 6 7 0 0 3 5 3 6 0 2\n",
      " 6 2 1 0 6 0 1 2 0 3 5 1 2 3 1 1 1 7 0 7 0 1 0 0 4 5 4 0 0 0 7 0 2 6 0 1 0\n",
      " 0 1 1 2 6 1 1 7 0 4 4 7 3 1 3 6 7 1 6 7 0 6 0 0 0 6 2 1 1 0 1 7 7 2 6 0 0\n",
      " 5 6 0 5 0 0 2 0 3 7 1 0 7 6 7 3 0 6 3 4 7 0 4 6 1 3 3 3 1 5 6 7 2 5 0 0 7\n",
      " 0 1 3 0 2 6 3 0 7 6 3 2 2 4 6 5 1 3 3 0 1 2 2 1 7 0 0 0 7 0 7 0 3 0 0 4 1\n",
      " 2 1 5 2 1 3 5 6 4 4 4 4 0 5 3 0 1 3 3 0 0 0 6 5 1 0 0 0 6 0 1 6 5 5 0 6 0\n",
      " 7 6 3 7 3 0 0 4 0 7 0 6 1 0 2 2 7 7 7 6 0 0 1 0 2 7 3 7 0 0 1 0 0 7 3 3 1\n",
      " 3 5 0 3 0 0 1 5 1 5]\n",
      "arracy on test set 0.2765151515151515\n"
     ]
    },
    {
     "data": {
      "application/vnd.jupyter.widget-view+json": {
       "model_id": "c6a7adccfb464f279b411a5de141962f",
       "version_major": 2,
       "version_minor": 0
      },
      "text/plain": [
       "HBox(children=(FloatProgress(value=0.0, max=24.0), HTML(value='')))"
      ]
     },
     "metadata": {},
     "output_type": "display_data"
    },
    {
     "name": "stdout",
     "output_type": "stream",
     "text": [
      "\n",
      "Epoch: 26, Loss:  0.1412026733160019\n"
     ]
    },
    {
     "data": {
      "application/vnd.jupyter.widget-view+json": {
       "model_id": "3dee174d0f954170aabb70f815bb3dce",
       "version_major": 2,
       "version_minor": 0
      },
      "text/plain": [
       "HBox(children=(FloatProgress(value=0.0, max=17.0), HTML(value='')))"
      ]
     },
     "metadata": {},
     "output_type": "display_data"
    },
    {
     "name": "stdout",
     "output_type": "stream",
     "text": [
      "\n",
      "guess [0 1 0 6 0 0 0 7 0 1 6 0 6 2 0 0 1 0 0 1 0 0 0 6 1 0 0 0 0 6 0 6 0 1 0 1 1\n",
      " 1 0 6 6 0 0 0 6 0 0 0 6 1 0 3 1 6 1 1 1 3 0 4 3 1 1 0 0 1 0 0 1 0 0 0 1 1\n",
      " 1 1 3 1 0 0 1 3 1 3 3 0 1 1 0 0 0 1 0 7 0 0 0 0 1 6 7 3 3 1 0 0 6 6 1 1 6\n",
      " 0 1 0 0 0 0 0 0 0 0 1 0 7 1 5 6 1 1 1 1 0 7 6 0 3 0 1 6 6 0 4 0 0 0 1 3 0\n",
      " 1 0 0 1 0 1 0 7 6 3 1 1 1 6 6 1 0 0 1 0 1 1 1 1 1 0 0 1 0 1 1 0 1 1 6 0 0\n",
      " 6 0 0 1 0 1 0 1 0 1 0 6 0 0 0 1 0 7 0 0 0 1 0 0 7 0 0 1 1 0 1 0 1 1 7 1 1\n",
      " 6 1 3 6 1 6 1 3 3 1 0 1 1 4 1 0 1 1 1 0 6 0 1 3 4 3 0 0 0 1 1 3 1 1 0 1 6\n",
      " 3 7 0 1 3 0 1 1 1 0 7 1 6 1 0 2 3 0 0 6 3 1 0 1 6 1 0 0 0 0 1 0 4 1 1 6 7\n",
      " 1 1 0 0 6 0 0 1 1 3 0 6 0 1 6 0 0 6 0 0 7 0 0 1 0 1 0 0 0 1 1 5 0 0 1 0 6\n",
      " 0 6 1 7 0 6 0 1 0 0 1 7 3 0 1 6 0 1 0 1 7 3 1 6 0 0 7 0 6 0 0 1 1 6 6 0 0\n",
      " 0 1 3 0 0 0 0 0 6 0 1 4 1 3 0 6 6 0 6 0 0 0 1 1 1 3 0 1 0 0 1 1 1 1 1 0 1\n",
      " 3 0 6 7 1 0 1 6 1 3 0 0 1 0 6 3 0 0 0 3 6 6 1 0 3 0 1 6 1 0 0 6 6 1 0 0 0\n",
      " 1 0 1 6 3 0 0 1 1 1 0 1 0 1 6 0 1 0 0 1 1 0 0 0 0 7 0 0 3 1 0 6 0 0 0 1 6\n",
      " 0 1 1 1 7 1 3 4 3 0 6 1 7 0 0 1 1 1 3 0 6 0 0 1 0 1 3 0 1 0 0 6 0 1 7 0 1\n",
      " 0 0 1 0 0 1 3 0 1 3]\n",
      "targs [1 6 4 7 7 7 0 1 0 2 0 0 7 3 2 0 0 0 0 6 7 1 0 2 6 7 1 3 0 0 5 0 0 6 1 7 0\n",
      " 5 0 6 0 7 5 4 0 0 6 2 4 6 1 0 2 6 0 2 3 1 5 4 4 0 0 5 1 5 2 1 2 7 6 7 3 1\n",
      " 7 2 4 3 3 3 5 2 2 6 1 1 1 0 3 4 3 0 0 7 0 0 0 7 0 1 0 1 6 0 0 0 1 1 0 4 7\n",
      " 0 7 7 0 4 7 4 5 4 4 1 1 2 3 2 6 1 0 4 0 0 0 5 0 0 7 6 0 6 0 7 7 7 1 1 1 0\n",
      " 5 0 0 3 3 5 0 3 6 3 1 4 2 1 3 6 0 1 1 0 6 5 1 3 6 0 0 2 7 7 2 2 5 0 0 1 0\n",
      " 7 5 5 7 1 0 7 3 5 3 0 7 1 0 3 1 7 0 2 7 0 7 0 6 4 6 6 7 1 3 4 0 3 6 0 3 0\n",
      " 2 6 3 0 1 7 3 0 7 6 5 0 2 4 7 0 6 1 0 0 0 0 5 5 6 4 2 1 7 6 7 0 4 2 4 1 7\n",
      " 6 0 0 6 4 5 0 4 3 2 4 3 6 2 7 3 6 7 7 1 0 7 0 7 2 0 0 0 1 1 3 0 0 3 1 3 2\n",
      " 6 2 3 2 1 1 1 3 0 3 0 3 0 0 7 2 0 4 1 5 3 1 0 7 1 7 0 3 2 3 3 0 4 0 4 3 3\n",
      " 1 2 0 1 1 5 0 6 4 3 3 7 3 0 7 0 0 6 4 3 4 2 7 6 7 0 1 0 3 0 7 1 0 6 0 1 0\n",
      " 6 5 3 7 3 7 3 1 2 0 0 4 0 1 0 4 1 0 1 4 0 0 4 0 1 0 1 0 1 6 0 1 7 0 0 3 1\n",
      " 1 2 1 3 4 1 0 6 2 3 1 5 0 6 0 2 0 3 0 0 2 0 1 0 2 1 3 5 1 0 4 3 6 2 1 3 0\n",
      " 2 1 4 4 3 3 2 2 6 1 5 6 6 3 0 6 4 7 0 5 6 1 0 7 6 5 0 1 5 5 7 5 0 1 7 0 4\n",
      " 0 3 3 0 2 4 3 1 2 0 3 0 7 0 7 6 2 0 7 7 3 7 0 7 0 4 3 3 5 0 0 6 7 0 7 0 0\n",
      " 2 4 2 0 7 5 5 1 3 2]\n",
      "arracy on test set 0.24242424242424243\n"
     ]
    },
    {
     "data": {
      "application/vnd.jupyter.widget-view+json": {
       "model_id": "cac51af9b3c84302b08e15add932fca7",
       "version_major": 2,
       "version_minor": 0
      },
      "text/plain": [
       "HBox(children=(FloatProgress(value=0.0, max=24.0), HTML(value='')))"
      ]
     },
     "metadata": {},
     "output_type": "display_data"
    },
    {
     "name": "stdout",
     "output_type": "stream",
     "text": [
      "\n",
      "Epoch: 27, Loss:  0.2876720428466797\n"
     ]
    },
    {
     "data": {
      "application/vnd.jupyter.widget-view+json": {
       "model_id": "6040c4e6b7c047cc8c8f3f3132a3c3b9",
       "version_major": 2,
       "version_minor": 0
      },
      "text/plain": [
       "HBox(children=(FloatProgress(value=0.0, max=17.0), HTML(value='')))"
      ]
     },
     "metadata": {},
     "output_type": "display_data"
    },
    {
     "name": "stdout",
     "output_type": "stream",
     "text": [
      "\n",
      "guess [0 0 6 0 0 6 0 0 0 4 1 2 1 7 1 0 6 0 3 6 6 0 3 6 6 6 6 1 3 1 6 0 6 0 6 0 3\n",
      " 0 0 1 0 0 2 0 0 1 0 1 0 1 1 1 0 0 0 0 0 3 1 1 7 6 1 0 1 0 7 6 0 0 3 7 0 3\n",
      " 6 6 1 0 6 0 6 0 7 4 6 1 3 6 1 0 5 1 0 6 1 6 6 6 3 1 0 0 3 6 3 1 0 1 0 1 6\n",
      " 1 0 2 2 0 3 1 0 1 3 0 1 6 6 0 6 0 3 1 0 7 0 0 0 0 6 0 1 0 0 0 6 1 0 1 6 1\n",
      " 0 0 6 6 3 6 6 6 7 2 6 0 0 1 6 0 1 0 0 0 0 1 0 1 1 0 6 0 1 0 0 3 3 0 0 3 0\n",
      " 0 1 1 6 0 1 4 0 0 3 0 0 3 0 6 0 1 6 4 0 1 0 3 0 6 0 6 0 6 6 1 0 0 0 3 0 1\n",
      " 0 7 6 6 0 6 0 1 0 6 3 0 0 0 0 0 1 0 0 6 0 6 1 0 6 0 0 6 0 3 0 0 0 0 0 6 1\n",
      " 6 1 6 1 4 1 0 0 1 0 1 0 0 0 0 1 0 0 0 1 0 0 0 0 6 4 1 6 0 1 3 0 6 0 0 0 0\n",
      " 7 0 0 0 0 6 0 1 1 3 0 2 0 0 1 3 0 7 1 0 6 1 1 0 0 0 0 0 1 0 1 0 1 0 3 0 0\n",
      " 0 6 0 0 1 3 1 3 4 0 0 0 0 0 6 0 7 0 1 0 3 0 3 4 0 7 1 1 6 0 0 3 6 2 0 0 0\n",
      " 6 1 1 0 7 6 6 3 0 1 5 0 0 6 0 0 0 1 0 0 0 0 5 0 0 6 5 0 0 1 0 1 6 1 6 6 5\n",
      " 0 0 5 4 0 6 6 6 3 6 1 0 6 0 0 6 1 1 0 6 0 0 1 6 1 0 0 1 0 1 0 0 1 3 6 0 6\n",
      " 0 0 2 0 6 6 6 1 0 7 3 1 0 7 7 0 6 1 4 6 0 3 1 6 6 1 6 0 0 4 0 6 0 0 0 6 1\n",
      " 3 1 6 0 1 0 0 0 0 6 1 0 3 1 4 6 0 6 7 3 1 3 0 0 0 1 0 0 0 1 1 5 0 0 0 0 4\n",
      " 0 0 1 0 1 1 0 0 3 3]\n",
      "targs [2 1 1 4 7 3 4 0 7 4 2 5 3 1 4 0 5 1 4 7 3 0 6 2 0 3 5 2 3 5 0 1 6 7 5 1 2\n",
      " 7 7 3 1 0 5 0 6 3 0 2 1 1 5 5 0 1 7 1 6 3 0 4 0 0 7 7 0 3 4 0 0 2 0 2 0 7\n",
      " 1 6 6 0 0 1 6 0 4 4 1 7 3 6 2 3 0 0 0 3 4 0 4 2 2 3 0 5 3 6 0 4 0 3 0 5 0\n",
      " 3 0 3 3 0 7 1 6 1 2 5 6 4 3 5 4 0 3 6 0 7 0 0 0 1 5 1 6 3 0 4 2 0 7 0 0 7\n",
      " 1 0 6 6 3 7 0 2 2 2 4 3 7 4 6 0 7 4 1 1 0 7 0 1 2 3 7 2 1 0 7 1 7 7 1 5 2\n",
      " 0 0 3 6 0 3 2 4 1 0 1 0 6 3 6 5 7 4 0 4 5 1 1 0 4 2 7 7 0 0 4 0 7 6 4 7 7\n",
      " 6 7 0 7 0 6 2 2 1 6 6 3 5 5 7 0 2 6 0 2 0 3 2 0 6 6 1 1 5 0 1 0 0 0 7 3 4\n",
      " 0 6 0 6 7 0 3 6 6 4 0 4 7 0 7 3 4 0 0 1 0 7 7 1 6 0 6 6 3 3 6 0 3 7 3 0 5\n",
      " 0 5 0 7 3 1 2 3 3 7 7 5 0 0 7 0 1 0 0 3 3 2 0 0 3 4 0 0 2 1 3 1 2 1 4 1 1\n",
      " 0 4 7 3 0 2 2 0 6 0 4 4 1 1 0 2 0 2 3 0 4 3 1 7 7 0 2 2 6 6 0 5 1 4 1 1 2\n",
      " 1 0 0 0 3 2 0 0 5 3 0 2 0 1 0 0 0 1 1 5 0 0 7 0 2 1 1 7 5 5 0 7 5 6 1 0 0\n",
      " 1 2 0 4 3 3 5 0 0 2 3 3 1 0 0 2 2 6 4 0 0 0 6 1 1 1 6 4 1 7 3 3 7 1 6 7 7\n",
      " 7 7 3 0 0 0 7 7 7 3 3 1 0 0 4 0 7 1 1 2 5 3 3 1 1 0 7 0 0 0 0 1 0 7 3 4 3\n",
      " 2 1 0 0 0 1 0 6 3 3 0 6 3 0 6 1 6 4 5 1 5 2 0 1 7 3 0 6 1 0 3 0 0 6 1 7 4\n",
      " 0 0 7 1 1 7 7 5 5 2]\n",
      "arracy on test set 0.24431818181818182\n"
     ]
    },
    {
     "data": {
      "application/vnd.jupyter.widget-view+json": {
       "model_id": "37b8dbc8eafa40049e6eaf3109dc56dd",
       "version_major": 2,
       "version_minor": 0
      },
      "text/plain": [
       "HBox(children=(FloatProgress(value=0.0, max=24.0), HTML(value='')))"
      ]
     },
     "metadata": {},
     "output_type": "display_data"
    },
    {
     "name": "stdout",
     "output_type": "stream",
     "text": [
      "\n",
      "Epoch: 28, Loss:  0.2513678967952728\n"
     ]
    },
    {
     "data": {
      "application/vnd.jupyter.widget-view+json": {
       "model_id": "b0fdd80bbe7645c984f6e1934fc93fb2",
       "version_major": 2,
       "version_minor": 0
      },
      "text/plain": [
       "HBox(children=(FloatProgress(value=0.0, max=17.0), HTML(value='')))"
      ]
     },
     "metadata": {},
     "output_type": "display_data"
    },
    {
     "name": "stdout",
     "output_type": "stream",
     "text": [
      "\n",
      "guess [6 0 0 1 0 0 1 1 0 1 0 0 0 0 0 3 1 6 3 1 1 7 7 1 1 0 0 0 0 0 7 6 0 0 0 1 0\n",
      " 0 0 6 1 7 0 0 7 1 1 6 1 0 0 6 1 0 1 7 6 1 0 1 0 0 0 1 0 1 6 1 6 0 0 0 0 0\n",
      " 6 0 0 0 1 6 1 0 0 0 0 0 0 1 0 0 1 0 7 0 0 0 0 7 6 0 1 0 0 0 0 1 0 0 0 6 0\n",
      " 1 0 1 0 1 7 6 6 1 0 1 7 7 0 1 4 0 1 1 0 1 0 0 2 4 3 0 0 1 0 0 1 1 1 0 7 0\n",
      " 6 0 0 0 0 1 7 1 7 3 0 0 0 0 1 6 0 0 0 0 1 0 0 6 0 1 0 1 1 0 1 1 7 0 1 0 7\n",
      " 0 1 0 1 0 1 0 1 0 0 1 0 1 4 0 1 6 7 0 0 1 0 1 1 1 0 7 3 0 0 1 0 0 7 0 0 3\n",
      " 7 7 0 0 1 1 0 0 0 3 0 1 6 1 0 1 0 1 5 1 1 0 1 0 0 1 0 0 1 0 6 6 1 7 0 0 0\n",
      " 6 0 6 0 0 3 1 0 0 7 7 0 0 0 0 1 0 0 7 0 7 6 6 1 0 0 6 6 1 0 0 7 3 0 1 0 0\n",
      " 1 1 0 4 0 0 1 7 1 0 0 0 7 1 1 1 0 0 0 0 0 0 1 0 0 0 0 6 0 0 5 0 6 0 0 7 1\n",
      " 0 0 0 1 0 0 1 1 0 7 1 6 0 6 0 1 0 1 0 1 0 0 0 1 0 0 1 3 0 4 0 7 0 1 0 0 0\n",
      " 0 1 0 0 7 1 6 0 1 0 0 5 1 0 1 0 0 0 6 6 0 0 1 6 0 1 1 0 4 6 1 7 7 3 0 4 0\n",
      " 0 0 0 0 0 7 1 0 1 0 1 3 1 0 0 0 1 6 7 0 1 0 0 1 0 1 0 1 0 3 3 0 0 0 0 0 0\n",
      " 0 1 1 0 0 1 3 3 0 3 1 7 0 1 1 0 0 1 0 0 0 0 1 0 0 1 6 6 0 0 0 0 1 0 1 6 1\n",
      " 0 0 1 0 0 1 0 0 0 1 1 0 0 0 0 0 0 1 0 2 7 0 0 1 1 0 0 0 6 0 1 6 0 1 0 0 0\n",
      " 7 1 0 1 0 1 0 0 1 1]\n",
      "targs [1 0 0 4 3 1 3 6 0 1 0 6 2 1 0 4 5 5 6 3 6 0 0 5 0 5 3 2 0 1 4 5 7 7 2 4 3\n",
      " 7 3 0 6 1 1 3 0 2 6 0 5 7 1 2 6 0 1 1 6 0 1 6 1 7 7 3 3 7 1 4 4 0 0 0 1 5\n",
      " 6 0 0 6 0 2 0 0 1 3 0 1 5 3 3 7 1 7 1 7 0 1 0 0 3 0 4 0 3 0 0 0 3 1 0 3 7\n",
      " 7 6 1 7 6 2 6 6 1 3 7 4 7 0 7 6 0 5 6 3 4 0 0 3 4 2 4 0 3 1 0 2 1 1 1 6 6\n",
      " 0 5 0 3 7 4 1 3 3 1 4 2 5 1 0 0 7 7 7 1 3 7 0 6 0 0 6 3 2 0 3 2 7 3 1 3 7\n",
      " 0 2 0 6 1 4 0 0 0 0 2 5 1 1 6 6 5 0 7 1 3 1 1 4 5 4 0 0 0 6 6 2 5 3 0 2 3\n",
      " 1 0 0 0 7 0 1 7 4 5 7 2 7 3 1 6 1 0 2 2 5 0 6 5 0 2 7 3 3 2 1 6 0 5 2 6 0\n",
      " 7 1 2 0 1 2 3 0 3 0 2 1 1 7 0 7 0 0 3 0 2 0 1 6 6 0 7 4 1 0 6 3 7 0 3 7 0\n",
      " 0 7 4 4 2 7 3 3 7 4 0 0 4 6 5 6 7 1 1 4 0 0 3 2 0 0 0 6 5 3 1 0 1 7 4 5 0\n",
      " 5 0 2 1 4 0 6 7 5 0 1 1 0 3 1 4 0 7 7 1 7 7 4 2 4 1 3 0 1 0 7 0 4 0 1 2 6\n",
      " 0 7 6 0 7 7 4 0 5 0 5 0 7 4 3 1 5 7 3 6 0 0 3 4 3 7 2 3 4 2 0 0 4 3 0 7 0\n",
      " 0 0 1 2 3 6 1 0 3 1 3 3 6 1 0 7 5 3 7 0 4 2 0 6 0 0 0 2 0 2 4 2 1 0 0 0 7\n",
      " 1 7 0 7 0 0 2 3 0 3 1 0 3 7 5 5 4 0 0 0 5 3 3 7 1 2 7 1 1 5 0 1 1 0 0 4 0\n",
      " 0 3 2 4 3 2 6 6 1 2 0 2 2 4 3 6 5 0 7 3 7 0 0 2 1 1 0 5 1 2 4 6 0 2 7 0 6\n",
      " 7 0 6 4 0 3 0 7 0 0]\n",
      "arracy on test set 0.26704545454545453\n"
     ]
    },
    {
     "data": {
      "application/vnd.jupyter.widget-view+json": {
       "model_id": "178ccf4a23084ec3b8c4ba85ad7f8f1d",
       "version_major": 2,
       "version_minor": 0
      },
      "text/plain": [
       "HBox(children=(FloatProgress(value=0.0, max=24.0), HTML(value='')))"
      ]
     },
     "metadata": {},
     "output_type": "display_data"
    },
    {
     "name": "stdout",
     "output_type": "stream",
     "text": [
      "\n",
      "Epoch: 29, Loss:  0.24240200221538544\n"
     ]
    },
    {
     "data": {
      "application/vnd.jupyter.widget-view+json": {
       "model_id": "0d86fe4499014e2c9cfba254c95ffd7b",
       "version_major": 2,
       "version_minor": 0
      },
      "text/plain": [
       "HBox(children=(FloatProgress(value=0.0, max=17.0), HTML(value='')))"
      ]
     },
     "metadata": {},
     "output_type": "display_data"
    },
    {
     "name": "stdout",
     "output_type": "stream",
     "text": [
      "\n",
      "guess [6 1 1 1 6 0 0 6 0 1 3 1 6 0 0 6 1 1 0 1 1 0 1 0 6 7 1 0 1 0 6 0 6 6 6 1 1\n",
      " 7 0 1 6 1 6 6 0 1 6 1 0 6 1 6 7 0 6 6 0 6 1 6 6 7 0 6 0 7 0 6 6 1 1 1 1 0\n",
      " 6 6 6 6 0 0 1 6 6 3 1 6 3 0 1 0 0 0 0 6 6 6 0 6 6 6 6 1 6 3 0 1 6 0 6 3 1\n",
      " 6 1 1 6 1 4 1 6 3 3 0 4 0 0 3 1 1 0 1 6 6 1 1 1 0 1 6 5 6 0 6 0 1 5 0 6 3\n",
      " 6 7 1 3 1 6 6 6 6 0 0 3 3 3 1 7 1 6 6 0 1 6 3 6 3 6 7 6 0 1 7 1 0 7 3 0 6\n",
      " 1 1 1 6 7 3 0 0 6 0 6 6 6 6 0 6 3 7 0 6 6 6 1 6 0 3 0 0 3 6 0 3 6 6 6 1 0\n",
      " 1 0 0 5 1 1 6 0 3 0 1 0 0 0 0 0 3 0 3 0 6 6 0 7 0 6 1 0 1 1 7 0 1 6 6 6 6\n",
      " 1 3 3 6 6 1 6 1 0 0 6 0 7 0 1 6 1 6 3 6 3 3 6 1 0 1 3 1 6 6 6 6 0 2 6 0 3\n",
      " 1 0 3 1 6 1 0 3 6 0 6 6 0 7 1 1 6 0 1 1 0 0 0 1 6 1 6 6 0 0 6 6 0 6 0 0 1\n",
      " 0 1 6 6 6 1 7 0 7 0 0 1 0 0 7 6 0 0 6 3 7 0 0 6 0 0 6 0 6 1 6 0 1 6 6 1 5\n",
      " 1 1 3 5 6 6 1 6 3 7 1 0 1 6 0 3 6 6 6 1 3 0 7 3 0 6 1 0 6 6 6 1 0 7 0 6 0\n",
      " 1 0 1 1 0 3 0 0 6 3 1 1 3 0 0 6 0 7 0 1 6 6 0 6 1 1 6 0 4 0 0 0 7 1 0 6 0\n",
      " 3 0 6 6 6 6 0 6 6 6 1 0 0 3 6 0 1 7 1 6 0 4 0 6 3 0 4 1 6 1 0 4 0 0 0 3 0\n",
      " 6 4 6 1 6 6 6 6 3 1 6 0 6 6 1 1 1 6 0 1 6 6 6 1 4 0 7 0 0 0 6 0 0 6 0 0 4\n",
      " 1 0 6 3 7 6 6 6 6 3]\n",
      "targs [3 3 5 2 0 7 3 6 0 2 0 0 7 1 0 1 6 7 0 0 3 7 7 3 2 4 0 1 0 0 7 3 6 7 3 6 3\n",
      " 0 0 6 0 6 3 3 0 4 0 4 0 5 1 4 1 0 3 6 7 6 0 0 4 2 7 0 1 0 1 0 7 0 7 2 0 1\n",
      " 1 6 2 4 2 7 5 6 6 7 3 4 5 1 3 3 5 0 0 0 6 6 5 0 2 0 6 3 0 7 7 0 6 7 5 1 7\n",
      " 7 0 1 0 6 4 4 0 1 5 6 0 0 0 4 1 0 0 0 4 4 0 0 7 0 3 4 0 4 0 1 0 7 0 1 6 5\n",
      " 0 0 7 3 1 4 4 0 2 1 0 2 1 3 5 4 0 0 0 2 1 7 2 0 2 1 3 0 6 5 4 3 7 5 3 1 2\n",
      " 5 0 7 1 7 6 7 0 7 0 1 1 5 1 5 7 3 1 0 2 1 4 3 0 3 3 0 1 6 4 6 6 3 2 7 2 6\n",
      " 5 4 0 0 6 3 0 7 2 2 0 4 1 3 5 0 2 0 0 1 0 6 7 2 1 6 1 3 5 3 7 6 1 0 1 0 3\n",
      " 7 4 1 0 3 2 5 1 0 5 6 4 0 3 0 0 6 2 1 3 3 0 6 3 7 5 1 0 3 2 0 1 0 3 6 2 3\n",
      " 1 0 4 3 7 2 7 3 1 0 3 6 7 7 7 2 6 7 3 5 0 0 0 2 3 0 7 1 1 5 0 0 5 1 0 1 2\n",
      " 0 7 1 3 0 1 1 5 6 1 2 3 6 0 0 7 2 6 0 3 7 0 0 3 1 3 2 7 1 6 7 1 0 0 2 3 0\n",
      " 7 2 2 1 1 4 4 5 0 6 0 0 3 4 3 7 3 6 7 0 4 0 7 7 0 7 3 1 0 2 4 5 1 0 7 4 1\n",
      " 6 5 1 1 5 0 7 2 4 7 2 7 3 3 0 7 0 1 4 2 0 6 0 3 1 0 0 6 1 5 0 1 0 1 4 6 1\n",
      " 4 0 7 3 1 5 0 2 3 0 7 1 7 5 0 0 0 0 2 0 7 4 3 3 1 0 4 1 1 0 0 6 0 1 4 0 0\n",
      " 7 0 0 0 3 2 1 0 0 5 1 2 6 6 7 4 3 0 1 3 3 0 5 0 4 0 4 0 7 0 2 0 2 7 1 3 7\n",
      " 0 2 6 2 0 2 0 6 1 4]\n",
      "arracy on test set 0.2159090909090909\n"
     ]
    },
    {
     "data": {
      "application/vnd.jupyter.widget-view+json": {
       "model_id": "bc95db0aa3ae44eba659793789793593",
       "version_major": 2,
       "version_minor": 0
      },
      "text/plain": [
       "HBox(children=(FloatProgress(value=0.0, max=24.0), HTML(value='')))"
      ]
     },
     "metadata": {},
     "output_type": "display_data"
    },
    {
     "name": "stdout",
     "output_type": "stream",
     "text": [
      "\n",
      "Epoch: 30, Loss:  0.28599271178245544\n"
     ]
    },
    {
     "data": {
      "application/vnd.jupyter.widget-view+json": {
       "model_id": "19c38ee6edd64aad9245187477f86b2f",
       "version_major": 2,
       "version_minor": 0
      },
      "text/plain": [
       "HBox(children=(FloatProgress(value=0.0, max=17.0), HTML(value='')))"
      ]
     },
     "metadata": {},
     "output_type": "display_data"
    },
    {
     "name": "stdout",
     "output_type": "stream",
     "text": [
      "\n",
      "guess [0 7 0 6 1 3 0 7 7 0 0 1 0 6 6 0 0 0 7 7 0 0 1 0 0 0 6 6 3 0 0 0 1 3 0 0 0\n",
      " 0 0 0 6 0 4 0 0 0 0 6 0 0 1 4 1 4 3 7 0 1 0 0 1 1 0 0 6 0 1 1 1 6 1 0 0 1\n",
      " 3 3 4 0 1 1 1 1 0 3 0 4 3 0 7 1 0 0 0 1 0 0 0 2 0 4 0 0 0 0 0 0 6 0 0 1 0\n",
      " 0 6 0 0 7 7 0 0 0 0 7 0 0 1 0 0 1 0 0 0 1 0 0 1 1 1 7 1 1 0 1 1 1 1 6 6 0\n",
      " 0 1 0 1 1 0 1 0 0 0 0 0 6 3 7 0 7 0 1 0 0 1 0 1 0 1 1 1 7 3 3 1 6 0 7 1 1\n",
      " 0 1 0 1 0 0 0 0 0 1 0 0 0 0 7 1 1 0 4 0 6 2 0 6 0 0 3 0 0 3 0 1 0 0 6 3 4\n",
      " 0 3 1 1 1 0 0 3 6 1 0 0 1 6 0 1 0 1 3 0 0 1 0 0 0 0 6 0 7 0 0 1 1 1 1 0 6\n",
      " 0 0 0 0 1 1 1 1 0 0 1 6 0 0 0 0 0 1 0 0 0 0 1 6 0 0 0 0 0 0 1 0 6 0 1 1 0\n",
      " 0 0 1 0 1 0 7 0 1 6 0 0 0 1 1 0 6 1 2 0 1 1 4 1 0 1 1 1 0 1 0 0 0 1 0 0 1\n",
      " 1 6 1 0 1 0 1 0 3 0 0 0 0 1 7 0 0 0 6 1 3 0 0 1 0 0 0 1 0 0 0 0 6 0 0 4 0\n",
      " 4 0 7 6 1 0 0 6 0 6 0 1 0 3 1 6 0 1 0 6 0 0 3 0 7 0 0 0 7 0 0 0 6 1 1 0 0\n",
      " 0 0 1 0 0 0 1 0 0 6 3 0 0 7 0 3 1 1 1 0 0 3 1 0 0 6 1 1 6 0 4 1 1 0 1 0 1\n",
      " 0 0 0 0 1 0 7 7 3 1 0 0 0 0 0 0 0 0 0 7 0 1 1 0 6 7 0 0 6 0 1 0 0 6 0 0 0\n",
      " 0 0 0 0 0 0 0 1 1 0 0 0 0 0 0 0 3 6 0 7 0 0 0 0 0 0 0 0 0 7 0 7 0 0 0 0 1\n",
      " 1 0 0 0 0 0 4 7 1 1]\n",
      "targs [1 7 1 3 1 2 7 0 0 0 2 2 2 4 6 6 1 6 4 2 0 7 3 3 6 6 3 6 0 0 7 1 5 3 2 2 0\n",
      " 7 7 0 2 2 2 4 0 6 7 1 4 7 0 7 3 1 4 3 1 2 6 6 3 0 7 4 0 1 2 1 7 6 2 0 0 7\n",
      " 1 2 6 3 0 3 0 4 0 2 7 4 5 5 5 3 7 0 4 7 0 7 0 3 6 4 7 6 7 3 4 7 2 0 0 4 1\n",
      " 0 3 3 0 0 0 0 0 0 0 0 2 5 7 0 0 5 5 0 3 3 6 5 2 7 3 7 6 2 0 3 0 6 1 3 6 0\n",
      " 1 0 6 0 1 5 0 0 6 0 1 7 6 3 4 0 4 5 6 3 4 6 7 4 1 0 2 3 7 0 3 1 0 3 2 5 2\n",
      " 7 1 3 1 0 0 0 5 7 1 0 1 0 5 1 3 2 6 1 1 5 3 0 1 1 0 5 3 3 5 6 5 1 4 5 3 4\n",
      " 1 0 3 0 0 4 0 1 6 4 3 7 0 0 7 0 0 7 2 0 7 4 7 0 5 4 3 2 4 3 0 0 0 1 6 2 2\n",
      " 7 0 0 7 0 1 7 5 5 0 0 7 7 2 1 3 1 7 2 0 0 7 6 1 7 3 0 0 0 0 6 0 5 0 3 3 0\n",
      " 6 0 1 3 6 0 0 3 3 5 1 6 3 7 2 0 1 6 1 1 6 3 0 1 0 1 7 4 1 2 7 2 4 0 0 0 2\n",
      " 4 6 4 3 2 7 1 1 3 0 0 0 2 4 1 5 1 7 7 3 3 6 0 3 1 0 1 3 0 2 2 4 6 5 4 4 7\n",
      " 4 7 7 7 7 1 7 4 0 3 3 7 5 6 6 0 0 4 0 0 0 5 2 0 7 0 0 4 2 7 0 1 6 2 1 0 0\n",
      " 6 0 1 5 2 3 2 0 1 6 3 0 1 0 4 4 2 6 3 0 0 3 1 0 5 7 5 0 4 0 6 0 6 1 4 0 0\n",
      " 1 0 0 0 6 1 3 0 1 5 0 1 2 1 2 0 0 3 2 0 3 7 0 1 4 7 1 1 3 1 6 0 5 7 0 1 7\n",
      " 3 1 3 6 0 0 0 5 3 1 0 0 1 2 0 1 7 1 7 0 1 7 6 7 0 0 0 0 1 0 7 5 3 4 0 3 0\n",
      " 3 0 6 4 1 1 0 1 7 2]\n",
      "arracy on test set 0.2803030303030303\n"
     ]
    },
    {
     "data": {
      "application/vnd.jupyter.widget-view+json": {
       "model_id": "6ff1da4194d8409eae67806c6ce55c8a",
       "version_major": 2,
       "version_minor": 0
      },
      "text/plain": [
       "HBox(children=(FloatProgress(value=0.0, max=24.0), HTML(value='')))"
      ]
     },
     "metadata": {},
     "output_type": "display_data"
    },
    {
     "name": "stdout",
     "output_type": "stream",
     "text": [
      "\n",
      "Epoch: 31, Loss:  0.2741454839706421\n"
     ]
    },
    {
     "data": {
      "application/vnd.jupyter.widget-view+json": {
       "model_id": "30eb00cdc600478ebc89fcc0873b1589",
       "version_major": 2,
       "version_minor": 0
      },
      "text/plain": [
       "HBox(children=(FloatProgress(value=0.0, max=17.0), HTML(value='')))"
      ]
     },
     "metadata": {},
     "output_type": "display_data"
    },
    {
     "name": "stdout",
     "output_type": "stream",
     "text": [
      "\n",
      "guess [6 0 0 3 0 0 3 0 0 1 0 1 0 6 0 0 6 0 7 0 6 0 0 6 6 0 6 1 3 1 3 0 0 0 6 1 0\n",
      " 0 1 0 3 0 6 3 0 3 7 0 0 1 0 0 3 0 0 1 0 0 1 0 6 0 3 1 7 0 0 0 0 0 0 0 0 1\n",
      " 0 7 1 0 0 1 6 6 0 0 0 6 0 6 0 0 0 6 0 6 6 1 0 1 7 0 0 0 0 0 0 0 6 6 1 0 0\n",
      " 0 1 3 7 6 0 7 6 6 1 3 6 0 0 0 1 6 0 6 6 1 0 3 1 0 0 0 0 6 0 3 6 1 1 0 0 0\n",
      " 1 0 0 1 7 0 6 6 0 0 0 0 0 6 0 0 1 1 3 7 0 0 1 0 3 0 1 0 0 0 6 0 6 0 0 0 0\n",
      " 0 0 0 0 6 0 1 6 0 0 7 7 0 0 6 6 1 1 1 0 0 0 4 7 6 0 6 0 0 3 0 0 4 0 0 1 3\n",
      " 6 3 6 1 0 0 0 1 0 1 0 0 0 0 0 0 4 6 0 0 0 1 6 0 0 0 0 3 3 3 1 1 4 1 0 6 0\n",
      " 0 6 0 4 0 1 6 0 0 0 6 0 0 3 0 6 0 0 0 6 0 0 0 6 6 3 0 3 6 6 0 6 1 0 3 3 0\n",
      " 0 6 6 6 1 6 0 0 4 6 0 0 3 0 0 1 6 0 0 0 3 0 0 0 0 0 0 0 6 0 0 0 3 6 0 6 7\n",
      " 6 1 0 0 0 6 1 0 0 6 0 2 0 6 0 0 1 0 0 0 6 0 0 0 6 3 1 6 6 0 0 0 0 0 6 0 3\n",
      " 0 0 1 0 6 0 6 3 0 0 0 0 0 1 0 1 0 1 3 0 0 0 6 0 6 1 3 1 0 3 6 0 0 0 4 7 1\n",
      " 0 0 0 0 4 7 0 6 0 0 0 0 4 0 0 0 1 1 1 0 6 0 3 3 0 0 1 7 1 0 3 0 0 1 0 0 1\n",
      " 0 0 0 6 0 0 1 1 0 6 1 0 0 3 1 1 0 6 6 0 6 6 0 3 0 1 0 0 0 1 0 0 1 6 0 0 0\n",
      " 0 0 6 2 6 0 6 0 7 6 0 0 1 3 0 7 0 1 0 0 0 0 0 0 1 1 7 0 0 6 0 0 0 6 0 1 0\n",
      " 6 1 0 0 0 6 0 0 0 1]\n",
      "targs [1 0 0 6 0 3 4 7 0 2 6 1 6 3 0 0 0 5 3 0 0 2 0 2 0 0 1 0 4 2 2 0 1 7 3 5 4\n",
      " 1 0 0 1 0 7 2 0 3 7 3 0 5 3 1 1 0 0 5 7 0 2 0 0 7 3 3 7 2 0 0 6 7 6 7 0 0\n",
      " 6 0 4 0 4 1 6 2 0 0 1 3 0 7 0 3 1 3 1 6 6 3 0 3 4 7 1 1 1 0 6 7 1 1 4 1 0\n",
      " 0 6 5 4 0 0 1 0 6 4 0 4 7 0 0 0 7 7 0 7 5 6 4 7 0 4 1 0 7 1 1 5 7 1 4 0 7\n",
      " 4 0 1 6 4 7 4 7 3 2 0 0 2 6 5 0 3 1 0 7 0 1 6 5 3 0 0 5 5 2 6 1 6 3 0 1 1\n",
      " 0 0 7 1 0 0 7 5 1 4 0 2 4 0 3 4 7 3 2 4 6 1 4 0 0 0 1 3 4 5 1 0 4 7 3 4 2\n",
      " 6 2 0 3 1 1 2 7 0 1 3 6 2 5 7 2 4 1 6 3 0 6 6 1 0 0 7 5 3 0 3 0 0 3 3 4 3\n",
      " 4 7 0 0 4 3 4 0 5 0 3 5 0 6 0 6 1 0 7 3 0 7 2 4 2 3 1 3 2 7 7 3 3 7 0 0 0\n",
      " 0 1 2 4 5 7 7 3 1 1 1 1 2 0 6 0 2 3 0 0 7 5 7 7 6 2 0 6 0 1 7 0 0 6 0 1 3\n",
      " 3 2 0 7 0 5 7 0 1 2 0 3 0 6 3 5 0 7 0 1 6 1 1 3 2 4 0 5 7 1 3 1 1 0 1 0 2\n",
      " 0 4 5 5 6 0 4 1 7 0 0 2 0 0 0 1 5 2 1 6 7 5 6 6 1 2 6 3 0 3 6 3 3 0 7 2 2\n",
      " 7 5 0 2 6 2 0 5 7 1 0 1 4 0 0 1 3 7 0 1 4 2 6 1 4 5 0 7 7 7 3 3 7 0 3 0 6\n",
      " 6 1 0 2 3 1 3 0 0 1 5 5 7 3 2 6 1 2 0 4 3 1 6 2 3 3 0 7 0 3 1 0 2 3 0 5 0\n",
      " 3 0 0 3 7 7 4 3 0 2 2 7 4 3 0 1 1 6 7 2 7 0 1 5 6 1 5 0 2 1 4 0 7 0 0 4 3\n",
      " 6 6 7 0 1 0 6 7 0 2]\n",
      "arracy on test set 0.2784090909090909\n"
     ]
    },
    {
     "data": {
      "application/vnd.jupyter.widget-view+json": {
       "model_id": "604321c19527460086895acf792b9e03",
       "version_major": 2,
       "version_minor": 0
      },
      "text/plain": [
       "HBox(children=(FloatProgress(value=0.0, max=24.0), HTML(value='')))"
      ]
     },
     "metadata": {},
     "output_type": "display_data"
    },
    {
     "name": "stdout",
     "output_type": "stream",
     "text": [
      "\n",
      "Epoch: 32, Loss:  0.2816040515899658\n"
     ]
    },
    {
     "data": {
      "application/vnd.jupyter.widget-view+json": {
       "model_id": "f5dc01a9458c404fb3e1f22f320dbf58",
       "version_major": 2,
       "version_minor": 0
      },
      "text/plain": [
       "HBox(children=(FloatProgress(value=0.0, max=17.0), HTML(value='')))"
      ]
     },
     "metadata": {},
     "output_type": "display_data"
    },
    {
     "name": "stdout",
     "output_type": "stream",
     "text": [
      "\n",
      "guess [0 0 0 0 1 7 1 0 0 1 6 1 0 6 1 7 4 6 6 6 0 6 3 0 1 2 0 1 0 0 0 1 1 0 3 6 5\n",
      " 6 7 1 1 0 1 0 4 1 1 0 1 0 1 7 1 0 6 0 1 1 3 3 4 0 6 1 1 0 6 0 0 3 0 1 0 0\n",
      " 7 1 6 6 0 0 0 0 7 0 0 1 0 0 6 6 0 0 0 1 0 0 0 1 0 6 0 6 1 0 1 6 0 0 0 0 6\n",
      " 1 3 6 1 6 7 6 3 0 0 0 1 5 1 1 1 1 0 1 0 6 1 0 0 0 1 7 0 6 0 1 1 7 1 3 0 1\n",
      " 0 2 1 0 0 0 1 0 1 0 0 3 6 0 1 1 7 3 0 0 0 0 1 0 0 0 2 0 0 1 3 1 1 3 7 7 1\n",
      " 5 1 3 0 0 6 1 3 0 1 0 0 6 1 0 3 0 7 1 0 0 0 4 0 7 0 0 0 0 1 6 0 6 1 0 1 0\n",
      " 0 7 0 3 3 3 3 1 6 1 6 1 1 0 6 0 6 0 1 0 0 0 0 7 6 0 0 7 1 0 7 7 0 1 1 0 6\n",
      " 1 3 1 1 0 0 3 1 0 0 6 6 0 0 0 1 3 0 1 1 1 3 0 0 6 0 1 0 1 0 0 0 0 0 0 1 3\n",
      " 0 1 0 1 0 6 1 4 3 7 0 7 1 0 1 0 0 6 0 1 1 0 0 1 0 1 0 1 0 7 0 1 0 0 0 1 0\n",
      " 1 0 3 0 0 3 0 0 1 1 7 0 0 6 0 0 1 6 3 5 1 7 7 3 1 0 6 6 0 1 0 0 6 1 0 0 6\n",
      " 1 4 0 0 1 3 6 1 1 0 6 6 5 6 3 0 6 3 1 0 3 1 0 0 0 0 0 6 6 0 6 7 6 0 1 1 5\n",
      " 1 6 1 0 0 0 0 1 1 0 1 0 0 1 1 1 0 0 1 7 4 6 0 0 6 1 3 0 0 0 6 1 1 1 3 0 1\n",
      " 1 0 6 1 4 0 0 1 6 0 7 3 6 1 1 1 6 0 3 6 6 0 0 0 3 1 1 1 6 3 6 2 1 1 7 1 1\n",
      " 1 3 0 3 3 1 1 1 0 1 0 1 1 0 0 0 1 3 0 1 3 0 7 6 6 3 0 1 4 1 7 0 0 0 1 0 1\n",
      " 0 0 1 1 0 7 7 1 0 1]\n",
      "targs [1 0 7 0 0 0 7 1 0 4 4 5 0 4 0 0 4 0 7 1 0 7 0 5 4 6 0 6 7 0 2 6 3 5 1 0 2\n",
      " 6 5 6 4 0 0 0 0 3 6 3 5 7 3 1 0 0 2 3 7 4 6 6 0 0 4 1 0 7 6 1 4 2 0 3 1 0\n",
      " 2 0 1 1 6 0 1 0 0 7 0 6 1 0 3 3 0 7 7 3 4 3 1 0 1 1 6 1 1 0 4 2 4 5 5 5 3\n",
      " 7 2 6 0 6 0 7 3 0 5 5 0 0 1 2 0 7 0 1 4 5 3 0 7 2 3 4 1 0 1 2 2 5 6 3 1 7\n",
      " 1 3 0 7 0 0 1 2 1 1 7 1 2 0 4 1 3 3 7 1 7 0 3 0 0 4 0 7 7 1 4 0 7 0 0 0 7\n",
      " 0 3 0 0 0 4 3 4 0 0 1 0 3 3 1 4 0 3 5 1 1 7 6 0 7 0 3 7 5 5 3 0 7 5 0 0 0\n",
      " 1 0 1 2 2 7 2 3 3 7 2 2 7 2 0 4 6 3 6 3 1 7 0 0 4 7 3 0 2 6 2 4 1 2 7 3 0\n",
      " 4 7 2 0 7 1 0 5 0 1 0 0 0 6 4 1 0 0 4 1 2 3 3 1 7 0 6 3 7 5 7 1 0 1 7 1 3\n",
      " 0 2 2 3 0 5 0 1 6 3 0 7 4 0 0 0 3 0 3 0 0 6 6 1 5 1 0 0 4 7 3 0 0 7 0 0 2\n",
      " 3 1 1 7 6 5 0 2 0 3 4 6 2 4 4 0 6 3 7 1 2 2 0 6 1 0 3 1 1 7 0 0 5 6 7 6 2\n",
      " 1 4 3 6 2 3 7 0 0 0 0 7 0 6 3 1 4 2 7 2 1 6 2 0 5 3 7 2 5 0 1 6 6 0 0 3 0\n",
      " 3 0 1 0 1 2 1 6 0 5 3 5 0 2 0 6 6 0 7 6 4 7 7 4 6 7 3 7 0 0 0 5 0 1 4 3 6\n",
      " 5 7 6 2 4 5 3 3 5 4 1 1 2 3 4 3 1 1 0 1 6 7 0 1 5 2 0 1 3 3 0 1 3 7 4 2 7\n",
      " 6 0 0 0 2 2 2 1 0 0 7 3 5 0 1 0 3 3 0 6 1 3 7 6 0 5 0 3 7 1 4 6 7 0 1 0 0\n",
      " 2 6 4 6 0 1 7 2 7 5]\n",
      "arracy on test set 0.24053030303030304\n"
     ]
    },
    {
     "data": {
      "application/vnd.jupyter.widget-view+json": {
       "model_id": "26b7bfb527a14f149e982f264d9d0ba4",
       "version_major": 2,
       "version_minor": 0
      },
      "text/plain": [
       "HBox(children=(FloatProgress(value=0.0, max=24.0), HTML(value='')))"
      ]
     },
     "metadata": {},
     "output_type": "display_data"
    },
    {
     "name": "stdout",
     "output_type": "stream",
     "text": [
      "\n",
      "Epoch: 33, Loss:  0.2387615293264389\n"
     ]
    },
    {
     "data": {
      "application/vnd.jupyter.widget-view+json": {
       "model_id": "31074a7fa33c4036a6ff881b54366860",
       "version_major": 2,
       "version_minor": 0
      },
      "text/plain": [
       "HBox(children=(FloatProgress(value=0.0, max=17.0), HTML(value='')))"
      ]
     },
     "metadata": {},
     "output_type": "display_data"
    },
    {
     "name": "stdout",
     "output_type": "stream",
     "text": [
      "\n",
      "guess [0 1 0 6 1 6 6 1 0 1 0 6 6 0 0 0 3 0 0 0 3 1 7 6 6 1 1 0 3 0 0 4 6 0 6 0 1\n",
      " 0 7 0 1 0 1 0 0 0 1 3 0 0 3 0 0 3 0 1 1 0 0 0 1 0 0 3 0 0 7 7 0 6 1 0 1 0\n",
      " 6 3 0 1 6 0 1 0 0 0 0 0 7 0 0 0 6 0 0 0 0 6 0 0 6 0 0 0 0 0 0 0 0 1 0 6 1\n",
      " 6 0 0 6 3 1 0 0 1 0 6 0 0 6 0 0 3 0 0 0 0 0 0 6 0 6 0 1 0 0 1 6 1 0 0 0 0\n",
      " 3 0 0 0 1 0 1 0 0 1 0 4 3 7 0 0 6 6 0 0 0 1 6 1 6 0 0 3 0 1 0 0 0 1 1 6 0\n",
      " 7 3 4 1 0 6 0 1 0 6 4 7 0 3 4 7 1 1 0 1 3 0 6 0 1 0 1 7 1 1 0 6 4 0 6 0 0\n",
      " 6 3 0 6 0 1 6 0 1 0 0 6 1 0 0 1 0 6 0 6 0 0 0 6 1 0 0 0 0 1 0 1 1 6 0 1 1\n",
      " 0 0 1 0 1 0 6 6 0 0 0 2 1 6 1 3 1 3 0 0 0 0 6 6 1 6 6 0 7 0 0 0 1 1 6 6 1\n",
      " 0 1 1 0 0 0 0 0 1 0 1 0 0 0 0 6 0 1 1 0 0 0 3 1 0 0 0 0 0 1 0 6 0 3 6 1 0\n",
      " 0 0 0 6 0 6 1 0 3 0 6 3 0 0 0 1 0 0 1 6 0 3 0 6 0 6 1 1 6 0 1 1 0 3 1 6 0\n",
      " 0 6 0 0 5 1 0 1 3 0 3 1 6 0 0 0 0 0 0 6 0 0 6 0 6 1 0 0 0 3 6 6 4 3 0 6 3\n",
      " 0 0 1 0 6 0 1 0 0 1 6 0 0 0 0 0 0 7 0 7 1 0 0 7 0 1 0 0 0 7 6 0 0 0 6 0 0\n",
      " 0 1 0 0 0 0 0 0 3 1 7 0 3 0 2 0 7 0 0 0 0 1 1 6 0 1 7 0 6 0 1 0 0 7 0 7 6\n",
      " 0 1 0 0 0 6 0 0 1 0 6 0 1 0 3 6 1 0 6 0 1 0 6 0 6 3 1 0 1 3 1 6 0 0 0 0 6\n",
      " 1 6 0 0 3 6 0 1 1 0]\n",
      "targs [0 7 0 4 1 4 0 4 4 0 2 1 7 2 6 1 7 4 1 0 2 6 1 0 1 6 3 1 2 0 7 4 6 0 2 1 0\n",
      " 1 2 1 6 3 0 6 6 6 1 3 6 1 4 0 1 4 6 3 3 3 6 0 2 1 6 3 0 4 3 0 0 5 2 0 0 0\n",
      " 1 3 1 4 6 0 7 0 4 0 1 0 0 7 0 1 7 0 7 0 7 6 7 0 2 0 1 1 0 0 7 0 5 3 7 0 5\n",
      " 5 0 1 0 6 0 0 7 3 1 3 0 3 1 0 6 5 7 6 0 2 0 2 5 0 3 7 2 0 7 2 6 1 6 3 7 1\n",
      " 2 0 0 4 2 5 1 6 1 3 5 7 1 5 1 0 2 6 3 0 0 3 3 2 6 2 0 5 0 0 7 1 7 3 1 0 0\n",
      " 7 0 4 0 0 3 7 3 0 4 6 2 0 3 1 0 0 7 3 6 6 5 0 7 5 0 1 4 2 5 1 2 4 0 4 1 1\n",
      " 0 3 1 2 1 3 0 7 2 1 7 7 2 0 3 4 0 6 5 0 7 0 2 6 4 7 0 6 3 5 0 5 7 7 1 4 6\n",
      " 5 7 6 0 7 1 6 4 0 3 0 3 0 1 0 0 0 3 2 3 7 7 0 6 4 2 3 0 4 7 1 0 3 3 4 3 1\n",
      " 6 0 6 1 3 1 4 7 0 0 5 1 4 7 3 4 3 2 4 5 0 0 2 0 0 2 6 5 0 6 0 1 4 6 0 2 5\n",
      " 0 3 0 1 2 6 7 4 1 0 3 0 1 4 0 0 3 5 5 2 0 0 0 2 7 3 3 7 0 5 3 1 0 3 5 1 2\n",
      " 0 6 4 7 2 2 4 7 0 2 7 3 7 6 0 0 0 0 3 2 6 0 7 1 7 1 3 0 3 2 0 0 0 0 5 1 2\n",
      " 0 0 7 1 5 0 1 4 1 2 4 5 1 5 2 0 3 7 0 7 2 1 3 4 7 6 1 0 6 0 1 0 0 1 4 1 0\n",
      " 0 2 2 2 1 3 0 3 5 7 7 1 1 0 3 0 3 5 3 7 7 6 1 1 0 1 2 0 3 1 1 5 6 3 0 0 6\n",
      " 7 4 0 0 7 7 7 0 0 7 0 0 3 0 4 1 0 0 6 0 7 0 5 7 3 6 3 0 0 3 7 7 3 1 7 4 7\n",
      " 6 3 4 0 1 1 5 3 4 0]\n",
      "arracy on test set 0.2708333333333333\n"
     ]
    },
    {
     "data": {
      "application/vnd.jupyter.widget-view+json": {
       "model_id": "0f536819e27e4c0f91501048091a642a",
       "version_major": 2,
       "version_minor": 0
      },
      "text/plain": [
       "HBox(children=(FloatProgress(value=0.0, max=24.0), HTML(value='')))"
      ]
     },
     "metadata": {},
     "output_type": "display_data"
    },
    {
     "name": "stdout",
     "output_type": "stream",
     "text": [
      "\n",
      "Epoch: 34, Loss:  0.23402483761310577\n"
     ]
    },
    {
     "data": {
      "application/vnd.jupyter.widget-view+json": {
       "model_id": "9404c55ff0da4392b7dbc4f543e7025f",
       "version_major": 2,
       "version_minor": 0
      },
      "text/plain": [
       "HBox(children=(FloatProgress(value=0.0, max=17.0), HTML(value='')))"
      ]
     },
     "metadata": {},
     "output_type": "display_data"
    },
    {
     "name": "stdout",
     "output_type": "stream",
     "text": [
      "\n",
      "guess [0 0 6 1 1 1 6 0 0 1 1 0 6 0 6 0 7 1 3 0 7 0 1 1 1 0 0 1 1 3 0 3 7 6 6 0 0\n",
      " 0 1 3 0 0 7 0 1 0 1 0 0 4 3 0 0 0 0 1 1 0 1 0 1 3 1 0 6 1 6 6 1 1 1 6 0 7\n",
      " 6 7 1 0 6 0 5 0 0 1 1 1 6 7 3 6 1 0 0 3 0 1 1 0 0 5 0 0 1 5 1 0 1 1 0 0 0\n",
      " 2 0 0 4 6 0 0 1 0 0 6 0 0 1 0 1 0 6 0 0 1 7 0 0 1 6 0 6 0 0 1 0 1 6 0 0 0\n",
      " 6 0 5 4 0 1 0 1 1 0 0 0 0 0 1 7 0 3 1 3 0 0 6 0 7 0 7 0 1 4 6 0 6 1 0 1 3\n",
      " 0 1 0 1 0 6 1 1 7 0 0 7 0 6 1 0 1 1 6 6 1 1 0 6 0 3 0 6 0 7 0 0 0 1 0 0 0\n",
      " 0 0 1 7 6 1 6 1 0 0 1 0 0 6 0 6 7 0 0 0 0 4 0 0 0 7 0 3 1 7 0 0 7 7 6 0 0\n",
      " 0 1 0 0 6 1 1 0 0 0 0 0 0 0 7 0 5 6 1 1 7 1 0 1 6 1 0 0 0 0 3 0 1 1 6 0 6\n",
      " 1 1 0 0 0 1 7 0 4 6 1 7 0 0 1 0 0 3 1 0 0 6 6 6 0 1 0 7 6 6 0 0 0 7 3 6 0\n",
      " 1 1 1 6 0 0 0 0 0 0 0 1 0 3 1 6 0 0 1 0 1 0 6 0 0 7 0 0 1 6 7 1 7 1 0 1 1\n",
      " 1 1 0 0 1 6 7 1 0 6 0 1 0 0 0 0 0 6 6 1 3 7 7 0 0 0 6 0 0 0 6 0 0 0 0 0 0\n",
      " 0 0 0 0 0 1 1 6 0 7 1 0 0 1 1 6 1 1 3 1 0 6 7 0 0 1 0 0 6 3 1 1 0 1 0 7 3\n",
      " 1 1 1 0 0 1 1 0 0 0 0 6 1 6 1 0 1 6 0 1 0 7 0 0 1 0 1 0 7 1 1 6 1 0 0 3 6\n",
      " 0 1 1 1 6 1 1 7 3 1 0 0 1 6 0 0 1 0 6 0 0 1 0 0 1 6 1 1 0 0 7 0 0 0 0 1 0\n",
      " 0 0 1 0 0 0 0 1 0 7]\n",
      "targs [0 0 3 2 5 0 3 1 7 3 5 1 0 7 7 0 7 1 3 0 5 6 5 2 6 2 7 5 0 2 3 1 1 6 3 3 0\n",
      " 0 4 0 1 7 4 5 7 3 0 0 5 1 3 0 3 0 0 1 0 7 2 6 2 3 6 2 6 4 3 2 2 3 6 0 2 0\n",
      " 0 4 4 6 1 1 2 1 0 3 7 6 0 0 4 4 7 1 3 2 2 0 4 1 1 0 7 7 2 1 3 0 4 2 6 6 0\n",
      " 3 7 7 0 1 5 1 7 0 0 6 0 1 2 0 2 7 1 0 1 1 3 5 1 0 0 0 3 1 0 0 1 0 1 2 0 0\n",
      " 6 3 0 4 1 0 5 7 2 5 4 0 6 1 3 0 4 0 1 6 0 2 5 0 3 2 0 0 2 4 3 3 1 6 7 2 5\n",
      " 5 0 5 2 5 2 7 0 0 7 0 2 4 5 6 4 0 3 2 2 0 0 7 0 0 7 0 7 5 0 3 5 4 6 4 0 1\n",
      " 4 0 3 3 1 0 4 4 6 7 3 1 0 3 0 4 6 0 1 7 0 7 0 2 3 6 3 0 6 1 3 0 7 1 0 3 0\n",
      " 0 0 3 0 3 1 6 7 2 3 5 7 1 0 2 0 0 1 0 6 7 1 3 3 3 2 0 0 0 0 2 1 3 1 2 3 4\n",
      " 0 7 0 7 0 3 6 0 4 7 3 0 1 4 0 1 0 5 1 0 0 0 7 6 7 3 1 0 4 7 0 0 2 5 1 6 1\n",
      " 0 7 0 4 0 2 4 0 1 0 2 5 7 4 4 0 7 0 4 3 2 4 2 0 6 0 6 0 7 7 0 6 2 7 0 1 0\n",
      " 0 7 0 6 5 4 3 2 1 6 0 4 6 1 7 6 1 4 1 7 3 7 4 5 7 7 1 4 0 0 5 0 3 0 0 0 3\n",
      " 1 0 2 7 1 6 7 6 1 7 6 0 0 1 0 0 0 3 4 3 5 5 1 7 0 0 5 0 2 2 0 3 4 5 7 0 0\n",
      " 0 3 0 0 6 4 3 0 4 7 6 6 3 6 6 7 1 6 0 3 1 0 1 6 3 3 1 4 1 7 1 7 6 1 0 2 6\n",
      " 7 1 1 6 5 7 1 6 3 3 2 5 2 3 0 0 5 1 7 1 0 1 3 7 6 1 7 0 7 0 4 1 0 2 3 3 7\n",
      " 1 0 1 7 0 1 7 3 5 0]\n",
      "arracy on test set 0.24242424242424243\n"
     ]
    },
    {
     "data": {
      "application/vnd.jupyter.widget-view+json": {
       "model_id": "d1162e23bb4e426685fc2612d0da3057",
       "version_major": 2,
       "version_minor": 0
      },
      "text/plain": [
       "HBox(children=(FloatProgress(value=0.0, max=24.0), HTML(value='')))"
      ]
     },
     "metadata": {},
     "output_type": "display_data"
    },
    {
     "name": "stdout",
     "output_type": "stream",
     "text": [
      "\n",
      "Epoch: 35, Loss:  0.28619641065597534\n"
     ]
    },
    {
     "data": {
      "application/vnd.jupyter.widget-view+json": {
       "model_id": "b766c83fb5ca46328b569e1dbd262d99",
       "version_major": 2,
       "version_minor": 0
      },
      "text/plain": [
       "HBox(children=(FloatProgress(value=0.0, max=17.0), HTML(value='')))"
      ]
     },
     "metadata": {},
     "output_type": "display_data"
    },
    {
     "name": "stdout",
     "output_type": "stream",
     "text": [
      "\n",
      "guess [0 0 0 6 0 0 0 0 3 1 6 0 1 1 0 3 6 1 0 7 0 0 1 0 4 1 0 7 0 1 0 1 0 6 6 0 0\n",
      " 1 0 1 0 0 0 1 1 1 0 4 0 1 3 3 6 3 1 0 6 0 0 6 1 6 6 0 3 0 1 0 0 1 3 1 1 1\n",
      " 6 1 0 3 1 0 0 0 0 0 0 0 1 0 0 1 6 6 0 0 1 0 0 0 0 1 0 0 3 3 3 0 0 0 0 1 0\n",
      " 4 0 6 1 0 0 3 6 0 3 0 0 7 6 6 1 0 0 0 6 6 3 0 0 1 1 1 6 0 3 0 1 0 1 6 1 0\n",
      " 3 0 7 1 0 0 1 2 1 0 0 7 3 3 7 6 0 1 7 1 3 3 1 6 3 1 0 1 7 1 0 1 0 1 6 7 1\n",
      " 2 1 0 0 1 0 1 6 6 0 7 0 1 0 0 6 4 0 1 1 0 0 3 6 0 0 1 3 1 6 0 0 6 7 7 3 3\n",
      " 0 6 6 1 7 0 0 6 6 0 1 1 3 0 6 0 6 0 1 0 0 6 0 3 3 0 4 2 0 3 1 1 1 6 3 4 3\n",
      " 1 1 0 1 1 3 3 1 1 6 0 0 7 0 0 3 0 1 0 0 0 6 3 1 1 1 7 3 7 6 0 6 0 1 1 1 0\n",
      " 3 3 0 0 0 1 1 0 3 3 0 0 1 0 1 1 0 3 3 6 4 0 3 3 3 1 6 3 3 6 0 0 1 0 0 0 1\n",
      " 4 0 0 0 6 6 0 0 0 0 3 1 3 0 3 3 0 3 0 1 1 6 2 4 1 2 1 0 4 0 3 0 3 0 6 0 3\n",
      " 1 0 0 0 0 0 1 3 1 3 0 0 6 1 1 1 4 0 0 2 1 0 0 0 0 6 1 3 4 1 3 1 0 3 0 0 0\n",
      " 0 1 0 0 1 1 1 0 3 6 0 1 1 0 2 0 0 4 7 6 6 7 1 3 1 1 0 0 6 1 0 0 7 1 1 0 0\n",
      " 1 0 7 0 1 1 1 1 0 0 6 0 1 0 0 1 3 2 6 0 6 0 7 3 6 1 3 1 3 0 0 0 6 3 0 0 0\n",
      " 0 3 0 0 0 0 3 1 0 1 4 0 0 0 0 1 0 3 1 3 0 0 1 0 0 1 0 1 6 1 0 6 0 6 0 0 0\n",
      " 0 7 3 0 2 6 1 1 0 3]\n",
      "targs [0 3 5 0 3 2 7 7 1 3 0 4 6 1 0 1 0 1 7 5 2 3 4 0 7 7 4 2 3 1 0 2 0 0 1 4 6\n",
      " 3 4 0 7 6 3 1 5 3 4 4 5 2 7 3 1 4 6 0 7 1 7 6 1 5 3 0 1 0 3 0 0 7 2 2 1 0\n",
      " 6 0 3 2 5 0 0 7 0 0 7 1 4 0 2 6 5 3 1 0 3 2 0 0 0 3 2 0 0 2 6 7 1 6 1 6 7\n",
      " 4 0 1 0 0 3 0 2 0 7 1 0 7 5 6 0 6 7 6 7 6 5 0 0 1 3 2 7 1 3 0 3 1 4 6 7 0\n",
      " 6 6 5 4 6 0 6 6 3 4 3 7 7 4 1 7 3 0 2 4 3 1 2 3 2 0 1 0 4 0 6 0 6 2 4 0 7\n",
      " 3 2 0 1 2 1 0 0 2 0 0 7 7 0 1 3 1 1 5 0 1 7 5 1 0 1 2 7 1 6 0 0 7 0 4 0 3\n",
      " 0 6 2 7 4 1 0 7 0 3 4 0 4 7 0 0 1 0 7 7 7 4 4 1 7 7 0 0 3 7 6 0 0 0 3 4 0\n",
      " 3 2 7 3 2 0 2 1 3 3 0 0 0 5 1 1 0 6 2 2 3 1 1 3 0 5 4 6 0 6 7 4 7 0 7 2 0\n",
      " 6 2 6 0 2 5 5 2 0 0 0 1 3 5 7 0 0 2 0 5 7 3 7 3 3 1 6 3 0 2 0 7 3 1 0 0 7\n",
      " 1 0 0 4 2 5 0 1 0 0 7 6 3 0 1 1 0 5 6 3 6 3 1 2 2 1 3 1 6 2 0 0 2 0 4 0 3\n",
      " 0 1 1 2 1 7 0 5 6 0 0 0 6 4 5 0 4 5 4 3 4 0 1 5 7 4 7 5 4 3 0 1 1 0 5 1 1\n",
      " 7 7 0 5 1 2 1 0 3 6 0 1 2 0 3 5 5 2 0 3 3 0 3 6 2 7 3 0 1 6 1 0 0 6 1 5 2\n",
      " 6 0 0 1 6 4 0 2 7 0 1 7 3 0 3 3 0 5 0 0 4 2 3 0 7 5 3 7 3 1 3 1 1 6 1 0 0\n",
      " 4 3 0 6 7 5 3 7 7 0 0 0 3 4 7 1 0 4 0 0 0 6 7 4 5 4 1 4 1 3 0 0 1 7 0 0 0\n",
      " 0 7 7 1 6 2 6 0 6 1]\n",
      "arracy on test set 0.2518939393939394\n"
     ]
    },
    {
     "data": {
      "application/vnd.jupyter.widget-view+json": {
       "model_id": "52baef0e94394f53a4a9c16a7e1f48d2",
       "version_major": 2,
       "version_minor": 0
      },
      "text/plain": [
       "HBox(children=(FloatProgress(value=0.0, max=24.0), HTML(value='')))"
      ]
     },
     "metadata": {},
     "output_type": "display_data"
    },
    {
     "name": "stdout",
     "output_type": "stream",
     "text": [
      "\n",
      "Epoch: 36, Loss:  0.18063218891620636\n"
     ]
    },
    {
     "data": {
      "application/vnd.jupyter.widget-view+json": {
       "model_id": "2104a53ca35b45faa0421ba796a82160",
       "version_major": 2,
       "version_minor": 0
      },
      "text/plain": [
       "HBox(children=(FloatProgress(value=0.0, max=17.0), HTML(value='')))"
      ]
     },
     "metadata": {},
     "output_type": "display_data"
    },
    {
     "name": "stdout",
     "output_type": "stream",
     "text": [
      "\n",
      "guess [7 6 7 0 0 6 0 1 1 7 3 0 0 0 7 0 0 0 6 0 0 6 1 0 0 7 7 0 6 3 6 7 0 0 0 3 6\n",
      " 1 0 0 6 3 6 6 0 0 1 0 1 7 7 0 0 4 6 7 0 1 6 0 6 4 1 7 0 6 1 6 1 3 0 0 6 4\n",
      " 1 6 0 6 1 1 7 6 0 1 7 0 0 0 7 1 6 0 6 7 1 1 0 6 0 6 6 1 0 0 0 1 0 0 0 0 6\n",
      " 0 6 6 0 6 7 0 7 1 0 1 7 0 1 0 0 7 1 1 0 0 7 6 0 6 0 6 0 6 0 1 1 0 1 3 0 0\n",
      " 0 0 4 7 1 0 0 0 6 0 6 1 3 0 4 0 0 4 0 1 7 1 1 1 0 3 6 1 6 0 6 0 1 7 7 0 0\n",
      " 1 7 0 0 4 6 1 0 4 6 1 0 7 7 6 0 0 1 7 0 0 0 0 1 0 0 1 0 0 0 4 0 0 6 0 1 1\n",
      " 4 0 6 0 6 7 0 0 0 0 0 0 6 7 6 0 0 3 3 6 6 3 0 0 7 1 0 1 6 0 0 0 1 6 0 6 0\n",
      " 0 6 0 0 0 4 0 7 0 0 0 0 0 0 1 0 7 0 1 3 0 6 6 0 3 6 0 3 4 6 0 6 1 0 6 7 3\n",
      " 0 6 0 1 3 6 0 1 3 7 1 0 1 0 0 6 0 0 0 6 7 0 0 7 0 1 1 0 0 1 0 3 3 7 0 7 1\n",
      " 6 0 0 1 0 1 6 0 0 0 1 1 0 1 6 0 0 0 0 0 0 7 0 0 1 1 6 7 6 0 1 0 0 0 7 6 0\n",
      " 0 0 6 0 1 0 0 0 0 6 0 0 0 7 1 0 1 7 1 0 0 7 7 0 1 0 0 6 0 7 0 1 1 6 0 6 7\n",
      " 0 7 0 0 1 0 6 6 0 0 0 0 0 1 0 0 0 6 0 0 0 1 0 1 7 7 0 0 6 7 6 1 0 0 6 6 6\n",
      " 6 0 6 0 1 7 1 6 0 0 7 1 1 1 6 6 3 0 0 1 1 0 6 0 1 3 6 0 1 6 1 0 6 6 6 2 0\n",
      " 7 0 0 6 0 3 0 1 6 7 0 6 7 6 0 0 6 0 7 6 0 0 0 6 7 1 0 0 7 0 1 0 0 0 0 1 2\n",
      " 6 6 0 0 6 7 1 0 6 0]\n",
      "targs [0 0 2 0 3 7 1 5 0 2 2 0 1 3 7 1 6 1 2 2 1 0 5 7 0 0 3 6 2 1 4 7 0 3 7 3 7\n",
      " 3 3 0 5 0 4 3 7 0 4 1 6 3 5 0 7 1 1 0 4 1 0 0 2 0 0 0 0 6 7 0 0 0 0 1 3 4\n",
      " 3 2 1 1 1 0 5 4 0 0 3 6 1 3 0 1 0 2 4 5 3 6 6 3 0 2 2 2 1 6 5 4 7 0 0 7 5\n",
      " 0 6 0 0 1 1 5 0 2 3 3 0 7 2 4 0 1 3 2 1 0 6 0 2 2 2 3 0 7 3 0 2 1 7 5 1 0\n",
      " 0 3 0 3 6 7 2 0 1 5 6 4 2 6 7 7 6 4 0 2 1 6 3 3 1 4 5 7 0 4 4 0 7 2 0 0 0\n",
      " 1 3 1 0 1 7 3 2 4 0 3 7 0 3 6 0 1 1 4 1 5 0 5 3 0 0 0 7 0 1 4 1 2 6 7 3 1\n",
      " 2 6 7 7 0 7 1 1 0 0 7 1 7 1 0 0 0 2 4 1 6 6 0 0 5 5 4 1 6 0 1 5 3 3 7 1 4\n",
      " 0 1 0 0 0 4 0 1 0 1 0 3 7 1 3 3 0 5 1 7 5 7 3 2 0 3 0 4 6 7 0 6 3 0 3 4 5\n",
      " 0 0 0 0 6 6 0 6 3 2 0 4 6 7 7 6 2 2 0 4 7 1 7 0 0 7 0 7 6 4 1 1 2 1 0 7 5\n",
      " 3 6 4 3 0 3 3 3 0 3 3 1 0 7 4 0 0 0 3 0 0 0 6 3 0 2 1 6 1 7 7 2 3 1 4 4 1\n",
      " 0 4 0 1 0 5 0 7 2 0 6 4 0 0 0 1 5 0 6 0 2 3 1 1 4 5 1 0 0 0 7 7 0 4 1 3 6\n",
      " 0 7 0 1 2 0 7 1 3 4 0 0 1 2 7 7 2 5 4 3 0 6 6 2 2 1 0 0 7 0 1 2 3 7 7 6 1\n",
      " 0 0 3 6 6 5 6 1 3 6 4 0 4 7 7 0 2 7 0 2 5 5 5 7 6 1 6 3 4 0 0 7 0 1 5 3 5\n",
      " 7 3 7 2 7 3 6 1 6 0 7 7 0 2 5 0 6 0 0 6 0 1 3 3 3 0 4 7 4 0 2 1 0 0 7 3 3\n",
      " 6 0 0 1 4 5 2 5 7 1]\n",
      "arracy on test set 0.23863636363636365\n"
     ]
    },
    {
     "data": {
      "application/vnd.jupyter.widget-view+json": {
       "model_id": "235906b9230542419a000e91649d2792",
       "version_major": 2,
       "version_minor": 0
      },
      "text/plain": [
       "HBox(children=(FloatProgress(value=0.0, max=24.0), HTML(value='')))"
      ]
     },
     "metadata": {},
     "output_type": "display_data"
    },
    {
     "name": "stdout",
     "output_type": "stream",
     "text": [
      "\n",
      "Epoch: 37, Loss:  0.21034729480743408\n"
     ]
    },
    {
     "data": {
      "application/vnd.jupyter.widget-view+json": {
       "model_id": "a3d48b62deb74b8f918ae08aa9d198b9",
       "version_major": 2,
       "version_minor": 0
      },
      "text/plain": [
       "HBox(children=(FloatProgress(value=0.0, max=17.0), HTML(value='')))"
      ]
     },
     "metadata": {},
     "output_type": "display_data"
    },
    {
     "name": "stdout",
     "output_type": "stream",
     "text": [
      "\n",
      "guess [4 0 6 0 1 1 3 0 3 0 3 3 0 0 3 6 1 0 0 0 0 0 0 0 0 3 1 0 6 0 3 0 6 0 0 0 1\n",
      " 0 1 0 0 0 0 1 0 3 1 0 1 6 0 1 3 0 0 6 1 6 3 4 0 1 0 0 0 6 0 0 6 0 1 0 1 0\n",
      " 0 7 6 3 1 0 1 0 0 0 0 0 6 0 1 0 3 0 0 1 7 1 0 0 0 0 0 0 3 6 0 1 1 0 0 0 0\n",
      " 0 0 0 0 0 0 0 1 6 0 0 4 6 0 0 1 3 0 0 0 1 3 1 3 0 0 0 0 3 0 0 0 1 0 0 0 0\n",
      " 6 1 6 0 1 0 7 3 0 0 0 0 1 0 6 0 0 6 3 0 1 0 6 0 1 6 0 1 0 1 4 0 0 0 1 6 0\n",
      " 6 6 3 3 3 0 0 1 1 1 0 0 0 1 1 0 0 1 0 0 7 0 6 1 0 0 0 1 0 0 1 0 6 0 0 0 0\n",
      " 1 0 0 0 0 3 0 0 1 1 0 0 6 6 0 1 0 0 0 6 4 0 6 0 0 0 3 1 3 1 3 1 3 2 0 0 0\n",
      " 2 0 6 0 0 0 0 0 0 1 0 1 0 1 0 1 1 0 0 0 4 0 0 0 0 3 7 3 6 0 3 0 6 0 1 1 1\n",
      " 6 0 0 1 6 0 0 0 0 3 0 4 3 0 0 1 6 0 1 3 1 0 0 7 0 0 0 2 6 3 6 0 7 3 6 4 3\n",
      " 1 0 2 1 0 6 0 1 0 0 0 0 7 1 6 0 0 4 0 0 0 0 7 0 3 0 3 0 6 0 0 4 1 0 3 7 0\n",
      " 1 3 0 0 2 4 0 3 0 6 3 0 1 1 0 3 0 0 0 0 7 3 6 6 4 3 1 0 0 0 0 1 0 1 3 2 0\n",
      " 1 0 0 0 1 0 0 3 1 4 1 1 1 7 6 0 6 4 0 0 0 0 0 1 7 0 6 3 1 0 0 0 1 1 3 1 0\n",
      " 3 0 1 0 0 6 6 0 3 1 0 6 1 1 0 0 0 3 0 0 4 0 6 3 6 0 0 0 3 0 1 0 1 6 1 6 0\n",
      " 0 0 3 1 0 0 0 0 1 0 0 1 0 0 1 1 0 6 0 3 0 0 3 0 1 0 0 3 7 0 1 0 1 0 2 0 1\n",
      " 1 1 0 6 0 3 0 1 1 0]\n",
      "targs [4 3 6 7 1 6 2 3 0 2 2 3 3 0 0 7 3 1 0 0 4 7 1 4 4 0 6 4 7 0 4 6 5 1 1 7 3\n",
      " 3 6 3 2 0 2 5 0 3 0 1 4 6 4 4 3 5 0 7 1 6 2 2 2 1 1 0 0 6 7 0 3 1 6 0 1 0\n",
      " 7 0 7 6 3 3 7 4 3 6 4 0 0 3 4 2 6 0 0 6 0 4 6 0 7 5 0 1 3 3 0 0 0 3 0 6 5\n",
      " 1 5 0 5 0 0 1 7 1 6 2 4 0 7 1 2 1 7 0 0 5 1 2 1 1 0 3 4 3 1 3 1 2 6 0 6 7\n",
      " 4 0 0 1 2 0 4 1 3 0 1 7 0 4 0 4 0 1 7 1 6 0 7 1 2 0 1 1 0 3 2 0 3 0 3 1 7\n",
      " 5 6 3 0 3 0 7 7 2 0 0 3 0 2 2 0 1 7 6 3 7 0 3 4 0 5 0 3 5 0 4 0 5 1 1 1 7\n",
      " 3 0 0 1 3 3 1 7 0 2 0 2 2 3 0 6 7 0 0 6 1 7 1 0 0 0 0 7 6 2 0 7 6 5 0 1 6\n",
      " 3 0 1 1 5 0 0 7 7 7 0 0 7 6 7 2 3 7 7 0 7 1 1 6 3 2 4 6 6 1 3 1 3 3 3 7 2\n",
      " 4 0 0 2 2 0 5 4 5 1 2 4 0 6 1 2 0 3 1 6 2 6 5 0 0 0 0 1 4 7 3 5 4 6 4 4 2\n",
      " 0 3 1 5 0 2 4 3 2 1 0 0 3 1 7 1 0 0 0 0 0 1 2 0 1 6 2 0 7 2 0 6 2 6 3 7 0\n",
      " 7 3 7 1 3 4 1 0 7 5 5 0 7 0 7 3 2 2 7 4 2 3 7 2 6 3 3 0 5 5 7 7 7 3 4 3 0\n",
      " 0 0 7 0 1 0 2 5 0 7 0 5 5 5 0 0 6 0 0 0 0 0 1 0 1 1 4 4 3 0 0 0 3 1 7 5 7\n",
      " 0 1 7 0 2 1 0 7 4 0 7 6 4 0 0 7 0 2 3 7 1 3 0 2 3 1 2 1 1 2 4 0 1 6 4 5 4\n",
      " 0 7 5 6 0 0 4 1 6 5 0 1 7 5 0 0 0 1 6 0 7 7 5 3 6 1 0 3 0 0 7 0 3 5 6 6 0\n",
      " 4 3 1 6 0 1 0 6 3 1]\n",
      "arracy on test set 0.2765151515151515\n"
     ]
    },
    {
     "data": {
      "application/vnd.jupyter.widget-view+json": {
       "model_id": "a1cd1d4167314867aef13ba44b7cf9af",
       "version_major": 2,
       "version_minor": 0
      },
      "text/plain": [
       "HBox(children=(FloatProgress(value=0.0, max=24.0), HTML(value='')))"
      ]
     },
     "metadata": {},
     "output_type": "display_data"
    },
    {
     "name": "stdout",
     "output_type": "stream",
     "text": [
      "\n",
      "Epoch: 38, Loss:  0.1573493778705597\n"
     ]
    },
    {
     "data": {
      "application/vnd.jupyter.widget-view+json": {
       "model_id": "5ca9b251d61c4206bfa4c482a1db667f",
       "version_major": 2,
       "version_minor": 0
      },
      "text/plain": [
       "HBox(children=(FloatProgress(value=0.0, max=17.0), HTML(value='')))"
      ]
     },
     "metadata": {},
     "output_type": "display_data"
    },
    {
     "name": "stdout",
     "output_type": "stream",
     "text": [
      "\n",
      "guess [0 1 3 0 3 6 0 0 1 0 7 0 0 6 4 0 0 0 1 3 0 0 6 0 0 0 1 7 3 0 0 3 0 6 0 3 0\n",
      " 0 0 0 1 6 3 3 0 7 0 0 6 6 2 0 4 7 6 0 3 0 0 3 0 0 2 0 0 6 0 0 6 0 0 6 1 1\n",
      " 1 0 0 1 0 1 0 3 0 1 0 1 0 0 0 1 1 1 3 0 0 0 0 1 2 6 6 1 4 3 6 1 0 0 1 0 1\n",
      " 3 0 0 0 4 0 6 0 6 6 7 6 0 0 0 1 6 1 0 0 0 6 3 4 1 4 3 0 1 0 1 3 0 0 1 0 1\n",
      " 6 0 0 0 0 0 3 6 6 6 1 0 1 0 3 0 7 6 3 0 3 2 0 0 1 6 6 0 1 1 6 1 0 0 4 0 6\n",
      " 0 3 0 0 0 3 6 4 0 5 0 3 0 0 0 0 0 0 0 1 0 0 0 3 0 1 1 1 1 0 3 3 0 1 6 3 6\n",
      " 3 0 0 0 6 7 3 0 0 1 6 0 1 0 7 1 1 1 1 0 0 0 0 0 0 1 0 0 0 6 6 2 0 0 0 0 6\n",
      " 3 3 3 0 0 3 0 0 0 0 0 0 0 0 0 1 1 0 3 0 0 0 0 0 1 0 1 7 3 1 4 0 1 6 4 6 0\n",
      " 6 3 0 1 6 0 0 3 0 0 0 6 2 7 1 3 7 1 0 7 6 1 0 0 0 7 6 0 0 1 7 0 0 2 0 0 6\n",
      " 0 1 1 0 0 0 0 0 6 7 0 0 0 0 3 0 7 1 7 0 0 3 0 0 0 0 4 0 0 4 7 1 0 0 0 1 6\n",
      " 1 1 0 0 1 0 1 0 1 0 0 0 6 3 0 7 0 0 0 0 0 0 6 7 0 3 0 0 0 0 0 0 0 0 0 0 3\n",
      " 0 0 3 1 3 1 7 0 0 6 0 6 6 0 0 0 0 3 1 0 7 0 0 0 6 6 7 0 0 4 0 6 0 6 0 1 0\n",
      " 0 1 0 6 1 0 0 0 0 3 1 6 6 1 0 7 0 6 3 7 0 3 0 6 0 4 7 0 1 1 1 0 0 0 3 1 1\n",
      " 1 3 6 0 0 0 6 5 0 0 0 0 1 0 0 1 0 0 0 1 0 1 0 0 1 1 1 6 0 0 0 6 1 0 4 6 3\n",
      " 0 0 0 0 0 0 0 0 0 7]\n",
      "targs [1 2 0 4 6 7 0 0 2 5 1 0 0 1 0 0 2 0 3 3 0 1 3 0 1 0 1 7 4 1 0 2 0 3 4 2 7\n",
      " 0 0 7 5 6 0 1 6 2 2 5 6 7 1 1 1 3 2 3 5 1 0 2 0 7 3 0 0 0 0 7 6 3 0 4 7 4\n",
      " 6 6 7 7 5 7 1 3 0 0 0 4 0 5 7 2 6 0 1 0 0 0 1 3 6 5 1 0 4 4 0 6 0 0 4 4 6\n",
      " 3 0 0 7 6 1 6 6 4 3 7 7 0 0 0 2 7 0 1 0 3 0 3 4 7 2 7 1 3 7 6 5 7 7 4 0 2\n",
      " 2 0 7 0 0 0 4 1 3 1 6 1 5 0 3 5 3 6 4 3 2 5 7 7 4 0 0 0 0 3 2 6 3 7 6 3 3\n",
      " 3 2 1 1 1 4 7 4 0 1 1 6 0 4 2 0 7 7 0 2 0 0 5 1 0 6 7 7 3 5 1 2 1 2 3 3 0\n",
      " 7 6 6 4 1 6 0 0 6 3 3 0 2 6 7 7 3 2 1 0 1 0 1 6 0 1 0 0 5 7 6 3 1 7 3 5 6\n",
      " 6 3 5 7 5 0 0 3 0 3 1 0 1 7 7 0 2 2 6 1 6 0 3 0 5 3 2 0 0 7 1 1 2 1 4 6 0\n",
      " 5 3 0 2 4 7 3 1 3 1 7 4 1 5 0 3 3 0 7 0 1 2 0 1 0 0 4 1 6 0 0 7 0 3 3 2 7\n",
      " 1 7 0 0 0 0 0 5 3 0 3 2 1 0 2 0 4 4 4 4 4 3 0 1 0 4 7 2 7 7 2 4 3 5 1 7 6\n",
      " 3 3 1 7 1 7 0 0 5 4 7 7 0 2 0 5 1 7 0 2 6 1 2 0 3 3 7 1 0 0 7 6 3 2 6 0 1\n",
      " 3 6 1 4 2 3 0 3 0 5 0 5 6 7 1 0 4 3 2 2 0 0 3 0 0 0 0 0 0 2 0 6 0 0 2 0 1\n",
      " 0 4 2 0 0 0 6 6 0 0 3 6 1 1 1 4 2 2 6 5 1 6 0 4 7 4 1 5 1 0 3 7 0 2 0 1 3\n",
      " 6 3 7 0 7 1 4 0 5 1 3 7 1 4 1 2 0 0 4 6 0 5 3 0 3 0 1 7 1 0 7 7 6 5 0 5 5\n",
      " 1 7 1 0 1 3 0 5 0 4]\n",
      "arracy on test set 0.2708333333333333\n"
     ]
    },
    {
     "data": {
      "application/vnd.jupyter.widget-view+json": {
       "model_id": "cd1b624144dc4b078fe17174b9c56e55",
       "version_major": 2,
       "version_minor": 0
      },
      "text/plain": [
       "HBox(children=(FloatProgress(value=0.0, max=24.0), HTML(value='')))"
      ]
     },
     "metadata": {},
     "output_type": "display_data"
    },
    {
     "name": "stdout",
     "output_type": "stream",
     "text": [
      "\n",
      "Epoch: 39, Loss:  0.21765106916427612\n"
     ]
    },
    {
     "data": {
      "application/vnd.jupyter.widget-view+json": {
       "model_id": "0502aacd750442f3ac01c826fdf7c7c8",
       "version_major": 2,
       "version_minor": 0
      },
      "text/plain": [
       "HBox(children=(FloatProgress(value=0.0, max=17.0), HTML(value='')))"
      ]
     },
     "metadata": {},
     "output_type": "display_data"
    },
    {
     "name": "stdout",
     "output_type": "stream",
     "text": [
      "\n",
      "guess [0 6 0 7 6 3 1 0 1 0 7 0 6 1 7 6 3 3 6 0 0 0 0 6 0 1 0 1 0 0 0 6 6 1 1 1 0\n",
      " 0 4 2 3 1 0 0 6 0 0 3 4 0 0 4 1 0 6 3 6 0 0 3 1 0 0 3 3 7 0 0 1 3 4 3 6 7\n",
      " 3 0 1 3 0 0 1 1 1 1 5 4 6 1 1 1 3 1 4 3 6 0 7 0 0 6 1 0 2 0 1 1 0 1 1 3 6\n",
      " 0 0 0 1 0 7 1 1 0 0 1 7 0 0 1 0 3 0 6 0 0 3 1 6 3 1 0 1 3 0 3 1 7 0 0 0 1\n",
      " 6 0 6 6 5 1 1 1 1 7 3 6 1 7 0 0 0 1 0 0 3 6 0 4 1 1 3 1 0 7 0 0 0 0 0 0 7\n",
      " 3 0 4 0 3 6 6 3 7 3 6 3 0 1 0 0 0 3 6 7 1 0 1 3 0 6 0 2 7 0 6 7 6 3 0 1 6\n",
      " 0 0 7 6 6 3 7 1 0 6 0 6 2 6 0 0 0 0 0 6 1 7 6 0 1 1 4 7 7 0 1 1 1 3 1 6 3\n",
      " 0 1 0 1 6 1 1 1 0 0 6 0 0 6 0 3 6 1 3 0 0 3 2 3 1 3 6 0 0 3 3 0 0 0 0 6 7\n",
      " 0 0 3 0 0 1 1 6 0 1 0 6 1 1 1 1 0 0 6 6 3 0 0 0 1 0 3 0 0 1 0 6 1 1 6 4 0\n",
      " 1 4 0 0 1 1 0 0 0 0 6 0 0 0 0 0 1 1 0 0 1 4 0 0 0 6 0 0 0 1 0 1 3 3 3 3 0\n",
      " 0 1 0 6 6 6 3 1 1 7 0 0 1 0 1 3 0 6 1 1 6 6 6 0 0 2 1 6 7 0 0 0 0 3 6 1 0\n",
      " 5 6 6 1 0 2 0 0 3 6 7 3 1 1 0 6 6 6 1 6 1 1 1 0 6 0 0 1 6 6 0 0 0 1 0 0 3\n",
      " 0 1 0 7 0 3 1 1 0 1 2 7 7 0 3 6 3 0 1 1 6 1 1 1 0 0 3 2 1 0 6 7 0 6 0 5 0\n",
      " 4 0 0 6 6 0 0 1 1 1 1 6 0 3 0 4 0 1 6 3 0 0 1 7 0 6 1 6 1 6 4 3 3 0 0 0 1\n",
      " 7 1 1 6 0 6 0 1 1 6]\n",
      "targs [0 1 0 0 0 0 3 5 1 0 2 1 6 2 7 0 0 6 1 3 3 0 0 1 0 1 0 0 7 7 1 0 3 1 0 1 0\n",
      " 3 7 5 1 2 5 2 5 7 1 1 7 1 0 4 2 0 7 3 1 4 0 0 0 7 7 2 7 5 0 1 1 4 1 2 0 1\n",
      " 0 3 6 6 0 3 2 4 3 7 0 6 5 5 2 1 2 0 1 0 3 0 0 0 7 7 0 7 1 0 7 4 4 0 6 6 5\n",
      " 0 6 2 3 1 0 4 0 0 2 0 4 1 7 3 0 3 1 1 7 0 1 7 3 1 7 2 6 5 0 5 2 0 3 7 2 6\n",
      " 4 5 7 7 0 6 5 0 1 3 0 6 2 3 0 0 0 3 0 7 0 0 0 2 3 0 3 3 7 0 0 5 5 2 4 2 7\n",
      " 2 0 0 0 2 0 6 4 0 7 2 4 1 4 7 7 5 1 1 0 7 0 1 5 3 7 1 3 5 1 7 4 4 3 1 7 1\n",
      " 2 0 2 7 4 4 0 3 3 4 1 0 1 0 6 3 5 1 7 5 0 5 3 0 1 6 0 4 0 1 2 3 0 1 4 6 5\n",
      " 2 7 0 1 3 6 4 3 0 7 0 2 6 6 3 3 0 7 6 1 7 2 6 7 3 6 0 0 0 2 1 0 7 0 0 6 7\n",
      " 7 6 6 0 1 6 0 0 6 0 0 5 0 3 1 3 0 4 6 4 1 4 0 6 0 4 3 3 4 2 0 0 5 0 7 4 6\n",
      " 4 2 0 0 7 1 0 5 6 0 6 1 0 0 7 0 0 7 3 7 1 0 1 1 3 6 5 0 6 2 0 0 0 0 3 1 0\n",
      " 0 0 4 6 3 6 3 2 2 1 1 0 5 0 4 3 1 6 1 0 4 2 4 1 2 6 7 3 4 7 2 4 0 7 7 3 0\n",
      " 1 3 2 2 2 3 7 1 6 0 0 0 5 1 5 6 0 3 2 1 7 6 1 0 2 4 0 6 2 3 3 7 7 3 3 0 2\n",
      " 7 0 0 1 0 3 7 2 1 3 3 6 0 7 1 1 0 6 4 6 1 0 6 3 4 1 7 5 3 5 0 3 1 0 7 0 7\n",
      " 4 1 1 7 7 3 0 7 0 3 0 0 6 0 1 4 0 1 1 3 5 5 3 1 0 3 5 7 0 2 4 3 3 0 5 0 2\n",
      " 4 2 4 0 0 7 6 0 6 0]\n",
      "arracy on test set 0.22916666666666666\n"
     ]
    },
    {
     "data": {
      "application/vnd.jupyter.widget-view+json": {
       "model_id": "44771a5f449e474985e4748fedb359c4",
       "version_major": 2,
       "version_minor": 0
      },
      "text/plain": [
       "HBox(children=(FloatProgress(value=0.0, max=24.0), HTML(value='')))"
      ]
     },
     "metadata": {},
     "output_type": "display_data"
    },
    {
     "name": "stdout",
     "output_type": "stream",
     "text": [
      "\n",
      "Epoch: 40, Loss:  0.2677140235900879\n"
     ]
    },
    {
     "data": {
      "application/vnd.jupyter.widget-view+json": {
       "model_id": "159df39437d047a69bbc26fbe114c4b4",
       "version_major": 2,
       "version_minor": 0
      },
      "text/plain": [
       "HBox(children=(FloatProgress(value=0.0, max=17.0), HTML(value='')))"
      ]
     },
     "metadata": {},
     "output_type": "display_data"
    },
    {
     "name": "stdout",
     "output_type": "stream",
     "text": [
      "\n",
      "guess [3 3 0 6 1 0 6 3 3 1 3 1 6 6 0 6 0 4 6 7 7 0 0 0 0 7 6 3 0 6 0 0 6 6 3 0 0\n",
      " 1 0 1 6 6 0 0 0 0 1 1 6 6 0 6 0 0 3 0 0 1 0 6 3 1 0 6 3 0 0 0 6 0 6 0 0 0\n",
      " 0 1 1 0 0 1 0 0 0 6 0 3 0 0 3 1 0 0 0 0 0 6 0 3 0 3 0 0 3 0 1 0 0 3 6 3 6\n",
      " 3 0 0 0 1 0 1 0 0 0 0 0 0 0 0 3 0 0 0 0 0 6 0 0 6 0 1 7 0 0 1 3 0 1 0 1 0\n",
      " 0 6 3 0 6 6 0 0 0 1 3 4 1 1 0 6 0 0 7 6 1 0 6 3 5 1 6 0 1 6 0 1 0 6 0 0 0\n",
      " 1 6 1 0 6 6 6 0 0 0 0 2 3 7 6 1 2 0 6 1 0 0 1 0 1 3 1 0 0 0 0 0 0 0 0 0 6\n",
      " 0 0 0 0 0 0 0 1 6 0 0 0 0 6 1 5 2 1 0 0 3 0 6 6 1 1 6 0 0 1 1 1 7 0 6 0 0\n",
      " 1 0 1 0 0 1 0 0 1 0 1 1 6 3 0 0 0 3 6 3 0 0 6 1 0 0 0 2 6 0 1 7 1 1 3 7 0\n",
      " 6 3 6 0 1 2 0 0 3 0 0 0 0 3 6 6 0 0 6 0 5 4 0 0 7 3 6 1 6 1 4 0 6 3 6 0 4\n",
      " 7 0 3 1 3 0 0 6 0 1 1 6 0 6 2 3 1 6 0 0 1 6 6 0 6 6 6 6 1 0 0 0 0 0 0 7 0\n",
      " 0 7 0 0 6 6 0 6 0 2 0 0 3 0 0 0 3 6 6 0 4 1 3 3 6 6 0 0 0 0 1 0 0 0 0 0 1\n",
      " 6 0 7 4 6 0 0 1 0 1 6 0 0 6 1 1 7 0 0 1 6 1 6 0 0 1 4 0 0 6 1 6 1 0 7 2 6\n",
      " 4 0 6 7 0 0 1 6 0 0 3 6 6 7 7 3 0 0 0 0 1 0 0 7 1 6 3 0 0 6 0 0 3 1 3 0 6\n",
      " 0 0 0 0 0 0 6 0 1 0 6 1 1 1 6 1 3 4 6 3 7 0 6 0 1 3 1 0 0 6 1 6 1 3 6 3 4\n",
      " 0 0 0 6 6 1 3 6 1 1]\n",
      "targs [6 6 3 0 3 1 1 2 5 0 2 3 1 3 5 1 2 0 0 0 3 0 0 0 0 0 6 3 0 7 7 7 2 4 2 2 6\n",
      " 0 4 2 3 6 0 2 7 4 3 0 4 3 1 5 0 6 2 1 0 1 0 3 7 2 0 2 7 0 6 3 0 0 2 0 4 0\n",
      " 7 7 3 3 0 3 0 0 3 7 0 3 2 7 1 0 1 0 0 7 5 4 6 0 3 1 7 0 7 0 1 1 0 1 1 0 3\n",
      " 7 7 5 6 0 0 4 0 0 6 4 1 0 7 7 6 0 7 1 0 3 2 3 4 6 7 3 4 0 7 2 2 4 3 7 0 1\n",
      " 5 0 3 7 0 0 6 5 1 0 3 1 7 0 0 1 0 6 0 4 4 0 1 3 0 2 2 1 4 0 7 3 5 7 0 0 7\n",
      " 3 0 1 0 0 0 6 5 7 4 0 3 0 2 0 2 3 0 1 2 2 2 5 5 7 6 1 4 0 1 5 7 5 2 3 7 6\n",
      " 3 0 1 1 4 0 5 3 0 5 3 0 1 6 7 0 6 4 1 1 1 4 7 2 0 2 2 1 1 1 7 2 0 7 4 4 0\n",
      " 5 1 7 3 1 0 7 0 0 0 4 4 7 6 0 0 1 6 7 4 0 0 5 3 3 2 3 5 7 7 2 2 5 6 3 7 1\n",
      " 6 1 0 3 5 1 6 7 3 3 6 7 0 5 6 6 7 0 2 1 1 4 0 0 1 1 6 2 1 7 4 6 7 4 6 0 7\n",
      " 0 2 0 2 5 0 0 4 0 1 7 0 0 5 7 3 2 4 3 3 1 7 3 7 0 1 0 6 1 0 4 7 0 0 7 5 0\n",
      " 0 3 0 7 4 1 2 5 2 0 3 1 0 3 0 6 3 7 0 0 4 5 1 1 7 2 6 0 1 0 0 0 3 1 0 5 4\n",
      " 3 0 4 0 2 0 7 3 5 0 5 1 1 1 3 2 0 0 5 6 1 6 6 7 0 1 4 0 0 6 6 4 6 1 4 3 0\n",
      " 0 0 6 4 0 0 3 0 0 1 3 6 6 5 7 4 0 0 3 0 3 1 0 1 0 4 0 4 1 2 1 7 6 4 0 3 3\n",
      " 6 2 1 0 7 3 1 1 0 2 7 0 6 7 7 6 0 2 3 2 0 5 3 0 7 3 1 1 1 1 6 3 0 0 0 5 7\n",
      " 1 1 2 6 1 6 2 0 5 3]\n",
      "arracy on test set 0.2481060606060606\n"
     ]
    },
    {
     "data": {
      "application/vnd.jupyter.widget-view+json": {
       "model_id": "2e1b7351d102402f89b487c8a3899efb",
       "version_major": 2,
       "version_minor": 0
      },
      "text/plain": [
       "HBox(children=(FloatProgress(value=0.0, max=24.0), HTML(value='')))"
      ]
     },
     "metadata": {},
     "output_type": "display_data"
    },
    {
     "name": "stdout",
     "output_type": "stream",
     "text": [
      "\n",
      "Epoch: 41, Loss:  0.3529404103755951\n"
     ]
    },
    {
     "data": {
      "application/vnd.jupyter.widget-view+json": {
       "model_id": "0cc986bd4a9f4324b793ce70074825d4",
       "version_major": 2,
       "version_minor": 0
      },
      "text/plain": [
       "HBox(children=(FloatProgress(value=0.0, max=17.0), HTML(value='')))"
      ]
     },
     "metadata": {},
     "output_type": "display_data"
    },
    {
     "name": "stdout",
     "output_type": "stream",
     "text": [
      "\n",
      "guess [0 6 0 0 0 6 0 0 0 1 0 1 0 0 0 0 6 0 0 0 1 6 1 6 1 0 0 1 6 0 0 0 0 0 0 0 0\n",
      " 1 1 7 0 3 0 0 6 6 0 0 0 0 0 2 0 0 3 0 0 4 1 0 0 1 0 0 1 7 1 1 0 0 4 0 0 1\n",
      " 0 0 0 7 0 0 0 0 0 1 0 3 0 3 0 3 1 4 0 1 0 0 3 1 0 6 0 0 0 3 3 3 2 0 0 0 6\n",
      " 1 1 0 1 0 0 3 0 1 1 7 0 0 0 0 1 0 1 6 0 6 0 6 0 6 1 1 1 0 0 1 0 3 1 0 6 3\n",
      " 0 6 0 0 0 0 1 0 3 0 0 0 0 3 6 0 7 6 0 0 0 0 0 3 0 0 0 6 0 0 0 1 7 6 3 0 1\n",
      " 6 6 6 1 1 7 0 0 2 0 1 4 1 0 0 0 0 6 0 6 6 1 0 1 1 6 1 1 4 0 0 0 4 0 1 0 1\n",
      " 0 0 0 6 3 0 0 1 1 1 0 0 0 3 0 1 6 1 1 6 1 0 7 3 0 0 0 1 0 0 1 3 1 4 6 2 0\n",
      " 0 6 4 3 3 1 1 0 0 0 0 6 0 6 0 0 1 0 1 0 0 0 7 6 6 0 3 0 0 1 0 7 1 0 0 1 0\n",
      " 4 0 6 3 4 6 1 0 0 0 0 1 1 0 0 0 0 1 6 0 6 0 0 0 4 0 0 0 0 1 0 0 0 6 7 0 1\n",
      " 3 0 1 1 1 0 6 1 3 0 0 0 7 0 2 6 0 0 0 4 0 6 6 0 0 0 0 0 1 0 4 0 1 0 0 0 6\n",
      " 0 0 0 0 4 6 3 0 0 1 3 1 0 0 0 0 0 1 0 0 0 7 0 6 0 6 6 0 0 7 3 0 0 6 0 1 1\n",
      " 0 0 7 0 0 0 6 7 0 1 0 0 0 0 1 1 6 3 0 4 3 3 1 7 0 1 0 7 0 6 3 0 0 0 3 1 1\n",
      " 0 0 0 0 0 0 0 1 0 0 0 2 0 7 7 0 1 0 0 1 0 1 0 0 0 7 0 0 1 0 0 0 0 0 3 0 0\n",
      " 1 0 0 6 0 0 3 3 0 6 0 6 0 0 3 3 0 0 0 0 0 0 1 6 7 0 6 1 0 0 6 1 1 0 0 0 6\n",
      " 0 0 1 0 0 2 6 0 0 0]\n",
      "targs [1 0 1 2 3 0 5 1 1 0 7 0 0 0 0 1 7 0 7 0 0 5 2 5 7 6 5 4 0 0 0 0 7 1 0 7 7\n",
      " 0 6 4 7 3 7 2 1 6 3 1 0 7 6 3 0 3 1 7 5 2 7 7 4 2 4 0 3 1 3 7 1 2 0 0 1 6\n",
      " 5 0 5 4 7 1 6 0 0 6 1 3 0 5 5 2 1 7 0 3 2 0 1 2 3 6 4 6 0 6 3 4 5 5 7 0 1\n",
      " 0 3 1 5 1 6 2 0 2 0 0 1 3 0 0 1 3 0 6 0 7 0 3 0 7 3 6 7 0 0 7 1 3 3 6 4 1\n",
      " 3 3 0 2 1 7 2 3 3 0 2 0 0 0 2 1 0 6 1 2 3 2 0 2 3 0 3 0 1 6 0 2 5 6 3 0 6\n",
      " 6 1 7 1 3 7 7 7 3 5 6 6 3 0 0 4 5 7 5 6 0 5 0 1 0 1 0 4 7 0 0 4 2 4 2 0 4\n",
      " 0 6 3 4 1 7 1 5 5 1 1 7 4 0 0 0 1 0 6 5 5 0 3 0 0 7 4 1 0 7 6 6 6 4 6 3 3\n",
      " 0 6 4 0 2 2 3 0 0 2 0 5 4 0 0 1 3 0 2 0 2 1 4 2 4 0 1 1 0 1 7 0 3 0 7 4 0\n",
      " 0 1 4 6 4 0 7 3 0 0 2 7 2 0 7 3 0 0 2 6 6 1 0 5 6 0 1 5 0 1 6 0 7 0 0 6 4\n",
      " 0 1 6 0 3 6 7 3 2 0 7 2 3 7 1 7 7 7 0 1 1 4 6 0 1 3 6 0 3 2 1 1 2 4 0 5 5\n",
      " 1 0 3 7 4 3 1 6 0 3 0 1 0 0 7 3 4 0 3 1 0 3 6 4 2 1 1 0 0 4 7 6 3 3 0 2 3\n",
      " 0 3 2 0 1 6 2 2 2 2 7 0 7 3 2 3 2 7 0 4 4 2 2 7 1 5 0 0 7 0 3 1 0 0 2 0 4\n",
      " 0 7 6 3 7 7 0 4 1 5 3 6 0 0 7 3 2 0 4 4 6 0 5 0 4 3 1 6 7 7 7 0 1 0 3 0 7\n",
      " 6 1 1 6 0 1 5 3 3 7 0 0 2 0 4 5 0 1 0 7 4 0 4 3 0 7 7 7 7 0 3 4 1 5 1 1 1\n",
      " 0 0 5 1 0 1 3 1 5 1]\n",
      "arracy on test set 0.2727272727272727\n"
     ]
    },
    {
     "data": {
      "application/vnd.jupyter.widget-view+json": {
       "model_id": "25370b4a80594cda8eafaa8cc2d88fbe",
       "version_major": 2,
       "version_minor": 0
      },
      "text/plain": [
       "HBox(children=(FloatProgress(value=0.0, max=24.0), HTML(value='')))"
      ]
     },
     "metadata": {},
     "output_type": "display_data"
    },
    {
     "name": "stdout",
     "output_type": "stream",
     "text": [
      "\n",
      "Epoch: 42, Loss:  0.26563867926597595\n"
     ]
    },
    {
     "data": {
      "application/vnd.jupyter.widget-view+json": {
       "model_id": "b942f15c98064d538b4687fba27c23d2",
       "version_major": 2,
       "version_minor": 0
      },
      "text/plain": [
       "HBox(children=(FloatProgress(value=0.0, max=17.0), HTML(value='')))"
      ]
     },
     "metadata": {},
     "output_type": "display_data"
    },
    {
     "name": "stdout",
     "output_type": "stream",
     "text": [
      "\n",
      "guess [1 3 0 0 3 1 7 1 3 1 0 6 6 1 1 0 3 6 6 6 0 0 0 1 3 0 0 1 3 0 6 1 6 0 1 3 0\n",
      " 1 4 1 1 0 0 6 0 0 6 0 4 3 6 6 0 0 3 0 0 0 0 1 0 6 1 1 0 4 1 7 0 0 6 3 0 0\n",
      " 1 0 0 1 6 1 0 0 0 0 0 0 5 4 4 4 1 0 6 1 4 1 1 3 7 0 3 0 0 0 0 0 0 7 5 1 6\n",
      " 0 0 0 3 1 7 0 0 3 2 0 0 0 3 1 0 0 3 0 0 0 0 0 7 3 0 0 0 0 6 0 1 0 0 0 7 0\n",
      " 0 0 0 0 6 1 0 0 0 0 0 6 0 0 1 6 0 2 0 7 1 1 1 0 6 0 1 1 0 1 0 0 0 0 0 1 3\n",
      " 0 1 1 3 0 0 1 0 6 0 3 0 1 6 3 0 0 1 1 7 0 0 6 0 1 0 0 0 0 1 0 1 4 1 0 0 6\n",
      " 0 0 1 0 0 3 0 0 4 0 7 0 0 1 0 0 3 0 0 6 1 1 0 1 5 0 0 6 2 0 1 1 0 0 7 0 1\n",
      " 1 0 1 0 0 0 7 1 7 3 0 3 0 7 6 1 0 0 0 6 0 6 6 0 0 5 0 0 0 3 6 3 1 0 1 0 0\n",
      " 4 7 1 0 1 1 0 1 0 0 0 3 0 0 3 0 0 0 0 0 0 1 3 3 1 0 0 6 6 0 4 0 0 0 0 0 1\n",
      " 3 1 1 0 2 4 0 6 0 0 0 3 3 0 3 1 0 0 6 1 0 7 0 0 1 0 1 0 0 1 0 6 1 1 1 1 4\n",
      " 6 7 3 0 1 3 6 0 1 0 0 0 0 0 0 6 0 0 0 6 6 2 0 6 1 1 7 0 0 0 0 0 1 1 3 3 1\n",
      " 1 1 0 0 0 0 1 0 7 1 0 0 3 6 0 1 1 1 0 0 0 0 1 0 0 0 3 2 6 0 1 0 1 0 0 4 0\n",
      " 0 2 0 3 3 0 0 0 0 0 3 1 0 6 1 1 0 5 0 1 0 0 0 0 1 1 0 1 1 1 0 0 1 3 0 0 0\n",
      " 0 1 0 0 0 7 0 0 1 6 6 0 1 0 1 7 3 1 0 0 1 0 0 6 1 0 1 0 3 0 1 0 0 0 0 0 3\n",
      " 2 0 3 3 0 0 2 0 0 0]\n",
      "targs [3 2 0 7 0 7 0 3 3 3 1 4 2 4 4 1 3 5 2 6 0 1 0 0 4 7 1 0 6 0 3 0 3 7 6 3 0\n",
      " 1 2 2 1 1 2 3 0 0 6 0 2 0 5 1 5 7 1 7 1 0 0 3 2 6 2 7 1 0 0 4 0 0 5 4 0 7\n",
      " 6 0 7 3 5 6 0 0 7 7 2 0 1 1 7 4 7 7 6 0 0 4 2 1 4 0 3 5 1 1 0 3 0 0 3 1 6\n",
      " 1 0 7 2 7 5 2 6 1 5 3 6 5 6 4 0 0 1 7 7 0 0 0 4 1 4 3 7 0 4 5 3 2 1 2 4 0\n",
      " 3 2 6 0 3 1 2 1 0 3 0 0 0 0 3 0 1 6 6 0 6 5 0 3 3 0 0 2 1 0 4 1 3 0 3 0 1\n",
      " 0 0 5 2 0 7 3 0 4 0 3 1 2 7 2 3 7 1 0 7 1 1 3 4 1 0 6 0 0 2 3 3 4 2 5 5 1\n",
      " 0 2 6 2 7 0 1 5 4 6 0 0 6 4 0 1 6 7 6 4 3 7 0 0 0 0 2 7 1 0 2 1 0 0 0 7 0\n",
      " 3 0 6 4 0 0 1 6 0 7 4 0 3 2 7 0 7 4 7 1 1 4 6 7 7 0 5 0 5 5 0 2 7 3 5 1 7\n",
      " 7 2 2 7 0 0 6 0 0 1 2 3 1 1 7 5 0 0 7 0 0 4 1 3 0 7 1 6 5 0 6 0 7 1 3 5 6\n",
      " 0 4 2 4 3 4 7 6 5 1 3 0 5 4 0 3 1 0 2 7 5 7 6 3 3 1 6 7 1 1 1 2 3 6 2 1 4\n",
      " 1 0 0 0 7 2 1 0 3 0 3 7 1 6 7 1 3 7 7 0 6 6 0 7 1 2 3 3 4 0 2 0 1 0 2 5 0\n",
      " 6 5 3 0 0 5 2 0 3 0 0 3 7 6 6 7 5 2 1 1 6 3 4 6 7 7 3 1 7 0 3 0 7 2 1 1 1\n",
      " 6 3 4 1 6 0 1 0 0 0 3 7 1 0 4 6 3 0 3 7 0 1 4 5 1 0 0 1 3 2 7 4 2 4 0 5 3\n",
      " 0 6 7 2 0 3 0 0 0 6 0 4 7 0 5 7 0 4 0 0 3 6 0 1 4 3 7 0 3 4 2 0 5 0 1 6 7\n",
      " 3 2 6 0 1 0 5 1 0 0]\n",
      "arracy on test set 0.25946969696969696\n"
     ]
    },
    {
     "data": {
      "application/vnd.jupyter.widget-view+json": {
       "model_id": "379306e0e70d41dd9e0c821e2df498cb",
       "version_major": 2,
       "version_minor": 0
      },
      "text/plain": [
       "HBox(children=(FloatProgress(value=0.0, max=24.0), HTML(value='')))"
      ]
     },
     "metadata": {},
     "output_type": "display_data"
    },
    {
     "name": "stdout",
     "output_type": "stream",
     "text": [
      "\n",
      "Epoch: 43, Loss:  0.24486982822418213\n"
     ]
    },
    {
     "data": {
      "application/vnd.jupyter.widget-view+json": {
       "model_id": "5812cc1260074fd094264eea06ef94e6",
       "version_major": 2,
       "version_minor": 0
      },
      "text/plain": [
       "HBox(children=(FloatProgress(value=0.0, max=17.0), HTML(value='')))"
      ]
     },
     "metadata": {},
     "output_type": "display_data"
    },
    {
     "name": "stdout",
     "output_type": "stream",
     "text": [
      "\n",
      "guess [0 7 0 0 0 0 1 0 0 0 0 0 1 0 1 1 0 0 1 1 0 0 1 7 0 0 0 0 0 6 0 0 0 0 0 0 7\n",
      " 0 0 6 1 0 0 7 1 0 0 7 0 3 1 6 1 1 1 0 0 0 6 3 3 0 0 6 0 0 1 0 0 0 0 0 1 3\n",
      " 6 0 1 0 0 0 0 3 0 0 0 1 0 0 7 0 0 0 0 0 0 0 6 3 0 4 0 0 0 1 0 0 0 0 0 6 0\n",
      " 0 0 0 7 0 7 7 0 7 6 1 1 1 6 0 0 0 0 0 6 0 0 3 4 0 6 0 0 0 0 0 6 0 6 0 0 1\n",
      " 7 6 0 7 0 0 1 0 0 0 0 0 0 0 0 0 0 0 0 7 0 0 0 1 1 1 0 0 0 0 1 7 0 0 6 0 1\n",
      " 0 0 1 3 1 0 0 1 1 1 0 1 7 6 6 1 0 0 0 0 1 0 0 0 0 6 0 0 7 0 0 0 1 0 3 0 0\n",
      " 1 1 0 0 0 0 0 0 3 0 0 0 0 0 1 0 0 0 0 0 6 0 0 0 0 3 0 0 0 0 0 1 0 1 1 0 0\n",
      " 7 6 1 6 0 0 3 0 0 0 0 0 0 0 3 0 0 0 0 0 0 1 6 0 0 0 6 0 1 0 0 1 1 0 7 7 0\n",
      " 0 6 0 6 0 7 7 0 1 1 1 0 1 0 1 6 0 1 3 4 1 3 1 0 0 6 1 3 0 1 0 0 0 0 0 1 0\n",
      " 0 0 6 6 1 0 0 0 0 6 3 1 0 6 0 7 0 0 0 0 1 0 0 0 6 0 0 1 7 4 0 0 7 7 0 1 3\n",
      " 7 1 6 0 0 0 0 0 0 3 1 0 6 6 1 1 0 1 1 1 7 0 0 0 6 1 0 0 1 7 6 1 0 7 1 6 0\n",
      " 1 3 7 0 0 7 0 3 7 2 0 6 0 0 6 0 0 0 0 0 0 1 0 1 1 3 1 0 1 1 0 7 0 1 6 1 7\n",
      " 0 0 7 0 0 0 0 3 0 0 0 0 1 0 1 7 1 1 7 0 3 6 6 0 3 0 7 1 4 0 0 1 0 1 0 3 4\n",
      " 1 0 0 0 0 1 6 0 7 6 1 1 6 1 0 1 7 6 0 0 0 3 6 0 0 6 0 7 0 0 1 1 0 6 0 0 6\n",
      " 0 3 0 0 0 6 0 0 6 0]\n",
      "targs [4 5 0 5 7 1 0 0 7 1 2 5 6 6 0 2 0 0 1 2 3 0 3 2 0 0 0 2 5 2 7 1 5 1 1 4 3\n",
      " 0 3 2 7 7 5 7 6 2 3 0 0 3 1 1 7 7 5 7 1 2 3 3 5 0 0 3 7 1 3 7 3 5 0 4 2 3\n",
      " 0 1 7 7 3 7 0 0 0 2 0 7 0 2 7 0 0 1 7 5 4 1 1 4 1 1 0 2 6 1 7 7 5 0 0 3 0\n",
      " 1 1 6 6 7 0 0 0 1 6 0 0 2 1 0 5 0 3 3 1 0 6 1 0 0 2 7 0 5 1 7 3 1 5 6 2 0\n",
      " 0 5 4 5 0 0 5 4 7 0 2 6 2 5 3 0 4 3 0 0 0 0 0 1 5 2 6 1 3 1 4 4 7 4 4 0 3\n",
      " 5 5 5 5 0 0 0 2 6 4 0 2 4 6 6 3 1 0 4 4 6 2 0 7 0 6 0 3 7 0 0 6 1 6 6 0 3\n",
      " 3 5 4 0 0 3 7 2 6 0 0 0 1 7 6 4 1 2 6 7 6 0 7 2 0 1 7 1 0 1 1 4 7 0 1 0 5\n",
      " 7 7 1 4 1 0 4 1 0 0 3 0 0 0 7 0 0 0 1 6 1 6 7 3 0 0 2 0 2 4 7 4 3 3 2 3 0\n",
      " 6 4 7 3 0 0 3 0 1 0 5 3 2 0 7 6 0 0 6 7 4 3 3 0 6 1 2 3 3 6 0 3 2 0 7 0 0\n",
      " 0 2 6 1 4 1 1 0 0 6 2 2 0 0 0 3 1 1 5 0 2 1 7 4 0 0 0 0 2 4 0 7 0 1 7 2 1\n",
      " 4 0 6 0 0 5 3 6 0 3 7 1 7 3 3 7 0 3 0 3 1 7 7 7 4 1 1 6 6 0 2 2 0 0 3 0 1\n",
      " 3 0 3 0 3 2 1 0 0 3 4 5 3 4 0 0 3 5 7 1 1 1 0 0 2 6 4 0 6 7 7 2 0 0 1 3 6\n",
      " 6 2 0 1 3 0 0 2 1 0 1 3 2 0 4 7 4 3 1 1 5 6 5 7 2 3 4 6 4 7 1 3 0 7 0 3 4\n",
      " 5 1 7 6 1 0 6 7 4 4 3 3 1 7 5 1 3 7 2 6 0 2 4 6 7 1 1 7 7 7 3 6 1 7 6 0 1\n",
      " 0 0 3 1 0 4 6 0 0 3]\n",
      "arracy on test set 0.2765151515151515\n"
     ]
    },
    {
     "data": {
      "application/vnd.jupyter.widget-view+json": {
       "model_id": "1cf0570fc5754faf92b62e60280d4f19",
       "version_major": 2,
       "version_minor": 0
      },
      "text/plain": [
       "HBox(children=(FloatProgress(value=0.0, max=24.0), HTML(value='')))"
      ]
     },
     "metadata": {},
     "output_type": "display_data"
    },
    {
     "name": "stdout",
     "output_type": "stream",
     "text": [
      "\n",
      "Epoch: 44, Loss:  0.14943622052669525\n"
     ]
    },
    {
     "data": {
      "application/vnd.jupyter.widget-view+json": {
       "model_id": "d653b55d5d0a4a97a492760c9edeee95",
       "version_major": 2,
       "version_minor": 0
      },
      "text/plain": [
       "HBox(children=(FloatProgress(value=0.0, max=17.0), HTML(value='')))"
      ]
     },
     "metadata": {},
     "output_type": "display_data"
    },
    {
     "name": "stdout",
     "output_type": "stream",
     "text": [
      "\n",
      "guess [0 0 7 0 0 1 0 1 1 1 4 6 3 0 0 0 0 1 0 0 0 0 0 0 0 3 0 0 0 7 0 6 0 0 0 0 1\n",
      " 1 0 4 1 1 0 0 0 6 0 1 0 0 6 0 7 6 0 0 0 6 0 6 0 6 0 0 3 0 1 1 4 1 0 4 7 3\n",
      " 1 6 1 3 1 0 6 4 0 1 0 7 0 1 0 0 4 0 0 0 4 4 3 3 0 0 7 0 1 1 0 1 0 0 0 0 0\n",
      " 1 6 7 1 0 0 6 0 3 0 0 0 4 0 1 0 0 0 6 6 6 0 0 6 0 1 6 1 1 1 1 0 0 0 6 1 0\n",
      " 6 0 3 0 0 0 6 0 6 4 3 0 0 3 0 6 0 0 1 4 6 0 0 3 1 1 0 7 0 1 0 0 4 0 1 0 0\n",
      " 6 7 0 1 6 1 0 7 0 1 6 0 6 0 0 3 0 0 0 1 0 6 6 6 0 0 0 6 1 1 6 0 0 0 7 0 0\n",
      " 1 0 0 0 1 1 0 0 0 0 1 6 0 0 0 6 0 0 0 0 0 3 6 1 0 0 0 1 0 0 0 0 6 0 0 1 0\n",
      " 0 0 0 0 0 1 0 0 0 6 0 1 0 6 0 0 0 0 6 0 3 6 6 3 2 1 1 0 6 3 6 0 6 0 0 1 1\n",
      " 0 0 0 0 0 0 0 0 1 0 1 0 0 0 6 1 3 0 0 0 0 0 6 0 0 6 0 1 0 0 0 0 4 0 1 0 0\n",
      " 6 0 0 6 0 0 0 0 0 0 0 0 1 1 0 0 1 1 3 0 0 0 7 0 6 6 6 3 0 1 0 0 0 1 0 0 1\n",
      " 0 0 0 1 0 1 0 6 1 1 0 6 0 0 4 1 6 0 0 6 0 0 0 7 1 6 1 0 1 3 0 1 6 0 0 0 1\n",
      " 1 0 1 0 0 0 6 1 3 0 0 4 7 0 0 0 0 1 1 1 0 0 0 1 3 0 0 6 7 0 1 0 1 0 1 7 0\n",
      " 1 1 0 6 0 1 7 0 0 1 6 0 1 0 0 0 0 6 0 0 0 7 0 1 6 1 0 1 6 0 0 1 1 0 1 0 0\n",
      " 0 0 0 0 0 0 0 6 0 0 7 7 0 0 3 1 1 1 0 0 6 3 1 0 0 0 0 6 6 1 0 0 0 0 6 0 0\n",
      " 0 0 0 3 0 0 0 1 0 1]\n",
      "targs [0 6 0 1 0 2 0 1 2 4 7 2 0 6 1 0 1 0 7 0 3 1 0 0 0 2 7 7 0 0 4 7 0 1 0 1 3\n",
      " 5 1 4 6 0 1 0 4 6 0 2 3 3 4 0 3 4 2 1 7 7 6 0 0 6 1 2 1 2 3 7 2 0 0 2 3 7\n",
      " 2 7 6 3 0 3 1 4 4 7 4 0 0 7 0 6 4 7 0 3 0 6 6 3 1 0 3 6 5 0 1 5 7 1 7 0 1\n",
      " 3 0 3 1 7 3 3 0 6 7 1 4 4 0 2 0 0 1 2 0 1 3 3 4 1 4 1 7 3 3 0 2 1 4 1 0 0\n",
      " 4 7 2 3 0 6 0 0 0 1 6 7 0 3 0 0 5 3 2 7 1 0 0 3 1 2 0 4 3 2 0 0 4 3 5 4 3\n",
      " 6 7 3 5 6 6 0 1 0 0 6 7 5 3 1 5 7 3 2 7 7 2 0 3 6 6 7 1 7 0 3 1 0 5 2 4 2\n",
      " 5 7 7 0 7 6 0 0 0 0 3 3 1 6 2 7 3 1 0 0 0 2 3 3 0 4 1 0 5 1 4 7 6 1 1 4 1\n",
      " 1 3 7 0 6 2 0 0 6 6 0 0 3 6 3 0 3 2 6 0 3 0 7 5 3 2 6 1 7 5 7 1 1 0 1 2 4\n",
      " 2 0 1 0 5 5 5 0 0 1 4 6 0 0 5 6 4 5 1 2 7 7 3 0 0 0 0 4 7 1 5 1 6 3 4 0 6\n",
      " 2 0 3 1 4 0 0 5 2 0 5 6 1 1 0 7 3 7 4 0 0 0 7 6 4 0 0 0 0 0 0 4 6 6 0 1 3\n",
      " 0 5 7 6 2 2 7 2 7 5 0 3 0 7 1 4 6 7 1 3 5 5 2 5 1 5 0 0 6 1 0 6 1 1 0 7 1\n",
      " 6 0 1 0 1 0 6 5 3 7 1 0 1 0 6 5 0 0 2 2 0 1 3 3 1 0 1 7 4 7 1 6 0 5 3 0 0\n",
      " 3 1 0 7 0 3 0 0 3 1 4 0 3 5 0 5 7 6 3 0 7 4 0 4 1 7 7 2 5 0 4 1 7 0 0 3 4\n",
      " 0 0 7 7 2 6 1 2 2 7 3 2 7 1 2 3 0 0 7 2 5 2 0 1 3 0 0 6 4 3 7 0 0 2 0 4 4\n",
      " 1 7 7 3 0 6 1 3 0 2]\n",
      "arracy on test set 0.2727272727272727\n"
     ]
    },
    {
     "data": {
      "application/vnd.jupyter.widget-view+json": {
       "model_id": "1b1274f922ca43119da51d37ae2a419d",
       "version_major": 2,
       "version_minor": 0
      },
      "text/plain": [
       "HBox(children=(FloatProgress(value=0.0, max=24.0), HTML(value='')))"
      ]
     },
     "metadata": {},
     "output_type": "display_data"
    },
    {
     "name": "stdout",
     "output_type": "stream",
     "text": [
      "\n",
      "Epoch: 45, Loss:  0.24524755775928497\n"
     ]
    },
    {
     "data": {
      "application/vnd.jupyter.widget-view+json": {
       "model_id": "0d55ef6ec72148c8b58a473ec7f93cde",
       "version_major": 2,
       "version_minor": 0
      },
      "text/plain": [
       "HBox(children=(FloatProgress(value=0.0, max=17.0), HTML(value='')))"
      ]
     },
     "metadata": {},
     "output_type": "display_data"
    },
    {
     "name": "stdout",
     "output_type": "stream",
     "text": [
      "\n",
      "guess [1 1 1 1 0 7 0 1 0 0 1 1 1 0 0 1 0 0 0 0 1 7 6 0 2 4 0 0 7 1 1 0 0 0 0 7 0\n",
      " 6 1 0 1 7 6 0 0 0 0 1 0 1 7 0 1 0 1 3 0 6 0 7 0 1 3 0 1 7 5 0 0 7 0 0 7 6\n",
      " 7 4 0 7 0 1 1 7 0 0 1 0 6 7 0 0 0 0 6 1 7 1 6 6 7 0 6 0 0 0 6 0 0 4 0 3 7\n",
      " 0 1 0 6 0 4 1 6 0 4 1 0 0 6 0 0 0 0 0 6 7 0 1 7 0 0 0 6 0 1 7 7 0 1 1 0 1\n",
      " 0 7 3 7 0 6 6 0 6 6 0 0 7 0 1 0 0 1 1 0 1 0 6 1 7 0 1 0 6 0 0 0 0 6 7 6 1\n",
      " 5 1 0 0 0 0 1 1 0 6 7 1 1 0 1 0 0 0 6 0 0 1 7 0 1 6 6 0 0 1 0 0 3 0 4 1 7\n",
      " 1 6 2 3 0 1 0 7 0 3 7 1 0 3 0 0 0 7 6 3 1 0 3 0 6 0 0 1 7 0 6 0 6 1 1 0 0\n",
      " 0 0 0 0 1 1 6 1 7 3 0 0 0 0 7 0 0 6 0 1 1 1 4 6 1 0 0 6 1 7 0 3 6 6 1 6 0\n",
      " 0 0 7 0 6 1 0 1 0 0 4 0 0 0 0 0 0 1 0 1 0 3 0 1 0 1 6 7 1 0 6 7 6 0 1 0 3\n",
      " 1 0 0 1 6 1 3 1 1 0 0 1 0 0 1 0 0 0 0 0 1 4 0 3 6 0 0 6 7 0 7 0 7 1 0 1 7\n",
      " 0 0 1 7 6 0 0 7 0 4 0 7 7 0 0 7 0 1 7 7 1 0 1 0 1 6 1 0 0 0 0 1 0 0 0 0 0\n",
      " 0 0 1 0 6 0 7 3 6 3 1 2 7 0 0 0 7 0 0 0 0 0 0 0 0 0 4 0 1 6 0 1 1 1 0 0 7\n",
      " 3 1 1 7 1 0 0 1 7 3 6 1 3 7 0 0 3 0 6 1 0 1 6 0 0 6 1 1 0 0 0 0 0 0 0 1 1\n",
      " 0 0 1 3 0 6 1 6 1 0 0 1 6 7 0 1 3 1 6 0 1 1 0 0 0 0 0 3 1 3 6 1 6 0 6 6 1\n",
      " 0 0 1 0 0 0 0 1 0 0]\n",
      "targs [0 5 1 7 7 6 0 0 2 0 4 2 6 6 2 7 1 0 0 0 1 0 4 0 3 7 0 6 3 7 0 5 0 0 0 5 0\n",
      " 5 7 0 3 7 7 5 5 7 6 4 2 0 4 3 4 3 6 5 1 6 4 3 3 2 3 7 0 0 0 1 7 7 1 0 3 6\n",
      " 1 4 0 3 7 5 0 4 1 0 2 7 7 4 1 4 0 7 3 7 2 2 5 1 0 0 2 2 3 2 4 3 0 4 0 2 6\n",
      " 0 5 0 4 0 0 1 3 4 4 0 7 0 2 7 1 2 7 6 6 0 1 3 3 0 7 1 3 0 7 1 5 7 0 7 1 6\n",
      " 0 4 6 0 0 0 6 3 4 6 0 2 2 2 0 2 4 5 6 5 2 7 0 2 4 3 1 0 0 0 3 6 1 3 3 6 4\n",
      " 0 7 0 3 1 1 4 7 0 3 5 2 3 2 4 7 3 1 2 3 7 3 6 4 3 6 7 0 0 3 1 0 6 1 0 0 7\n",
      " 6 0 5 3 0 1 0 1 0 4 0 1 0 0 4 1 1 7 6 3 3 0 1 7 1 0 1 3 3 1 5 7 0 3 5 5 5\n",
      " 7 3 0 5 4 3 1 3 0 5 5 3 0 0 0 1 0 0 3 1 4 1 1 5 2 3 6 2 2 6 4 3 7 7 0 1 7\n",
      " 0 4 7 0 1 1 7 2 7 0 2 0 0 0 0 7 1 0 2 0 1 0 0 7 2 2 7 2 4 0 6 0 7 7 6 1 7\n",
      " 0 0 1 6 4 5 2 2 2 1 0 3 7 0 5 7 0 3 0 7 3 1 2 4 6 0 1 2 0 1 2 2 0 6 0 0 6\n",
      " 4 6 1 1 0 1 0 7 7 4 6 3 1 1 0 0 3 7 6 0 2 0 6 0 7 3 5 6 0 0 3 6 3 0 7 0 0\n",
      " 1 1 6 0 1 1 4 5 4 2 0 1 3 0 6 0 0 5 7 1 0 1 0 3 0 6 4 2 1 6 5 2 2 0 1 7 7\n",
      " 3 3 0 0 0 6 5 0 0 6 7 3 2 1 7 0 0 0 7 6 7 3 0 1 4 1 1 0 7 0 6 1 5 4 0 3 6\n",
      " 3 0 5 1 7 6 7 2 6 3 0 2 0 2 1 3 3 3 5 4 1 1 3 1 1 1 0 0 0 3 0 4 3 7 4 0 0\n",
      " 0 1 6 1 1 0 0 0 5 0]\n",
      "arracy on test set 0.25\n"
     ]
    },
    {
     "data": {
      "application/vnd.jupyter.widget-view+json": {
       "model_id": "dfb947289ef24fc490a76a158f26ae9e",
       "version_major": 2,
       "version_minor": 0
      },
      "text/plain": [
       "HBox(children=(FloatProgress(value=0.0, max=24.0), HTML(value='')))"
      ]
     },
     "metadata": {},
     "output_type": "display_data"
    },
    {
     "name": "stdout",
     "output_type": "stream",
     "text": [
      "\n",
      "Epoch: 46, Loss:  0.27592989802360535\n"
     ]
    },
    {
     "data": {
      "application/vnd.jupyter.widget-view+json": {
       "model_id": "85b2dcfe47ac4eb0ba82b7e7baa623b3",
       "version_major": 2,
       "version_minor": 0
      },
      "text/plain": [
       "HBox(children=(FloatProgress(value=0.0, max=17.0), HTML(value='')))"
      ]
     },
     "metadata": {},
     "output_type": "display_data"
    },
    {
     "name": "stdout",
     "output_type": "stream",
     "text": [
      "\n",
      "guess [0 0 6 1 1 6 1 1 0 0 0 0 0 0 6 0 0 6 1 0 6 6 0 0 0 0 1 6 1 0 3 1 0 1 6 0 0\n",
      " 0 1 0 6 0 0 6 3 0 3 0 0 0 1 6 0 6 1 1 1 0 3 1 1 1 1 1 7 0 0 0 0 5 0 0 3 6\n",
      " 0 0 0 0 0 0 0 1 0 6 0 3 6 0 6 0 7 0 0 0 0 6 1 1 0 6 1 1 1 0 6 1 7 0 0 0 0\n",
      " 0 6 7 1 0 0 0 0 0 1 0 6 7 0 1 0 3 0 0 1 1 0 3 6 6 0 0 7 0 0 0 1 1 1 1 1 1\n",
      " 0 0 7 6 0 7 0 1 1 0 0 0 0 0 1 0 0 7 1 0 0 6 0 0 6 1 0 0 0 0 0 0 1 1 1 0 3\n",
      " 6 0 0 0 1 0 0 0 3 7 0 0 0 1 0 0 0 0 1 0 1 0 4 0 0 0 0 1 1 3 0 6 0 0 0 0 0\n",
      " 0 6 6 0 6 0 1 0 6 1 1 1 6 1 0 3 6 1 0 0 0 6 1 0 6 0 4 0 0 0 0 6 0 1 1 0 3\n",
      " 0 4 1 0 3 4 0 1 0 1 1 6 6 1 6 1 0 4 1 5 0 0 6 0 0 0 1 3 0 1 0 1 1 0 0 0 1\n",
      " 6 1 1 0 0 0 0 0 0 6 0 1 2 0 0 3 1 0 0 0 1 3 0 0 1 6 0 1 1 4 0 1 6 0 0 1 1\n",
      " 6 0 0 0 0 1 3 0 0 6 0 3 0 1 1 7 0 0 1 0 7 6 0 0 0 0 3 0 0 6 0 7 0 0 0 6 0\n",
      " 0 6 1 0 1 0 5 6 4 6 0 1 0 1 0 0 6 0 1 0 1 0 3 0 3 1 0 0 1 6 1 1 0 0 0 1 0\n",
      " 0 1 1 0 0 6 1 7 1 1 0 0 7 0 0 1 1 0 1 0 0 0 1 0 0 0 0 0 0 0 0 7 0 0 0 0 0\n",
      " 6 0 0 6 0 1 3 6 1 0 0 0 0 6 1 0 0 3 1 1 0 0 7 0 0 5 0 0 1 0 0 0 0 0 0 0 1\n",
      " 1 6 1 1 0 0 0 0 0 0 6 0 0 0 0 6 6 6 0 0 1 0 0 1 0 7 0 7 0 6 1 0 6 0 3 7 1\n",
      " 1 6 4 1 0 0 1 7 1 1]\n",
      "targs [7 7 1 4 0 1 2 6 0 0 0 1 3 6 1 1 7 7 3 5 5 4 6 0 4 0 5 1 3 1 3 2 0 7 1 0 0\n",
      " 3 1 0 0 2 3 7 3 5 4 3 7 2 6 6 3 7 3 7 0 1 3 3 7 6 2 5 0 3 0 6 0 1 7 4 6 1\n",
      " 0 0 1 7 0 6 0 4 0 0 0 3 3 0 6 1 7 7 7 0 5 2 3 5 1 1 2 5 0 7 6 7 4 7 1 2 7\n",
      " 7 6 0 6 0 7 2 0 0 2 2 5 3 1 6 0 6 1 7 0 7 6 3 7 3 6 0 4 7 2 0 1 6 2 3 0 2\n",
      " 1 7 2 5 0 5 0 2 4 0 5 0 2 0 0 0 0 3 6 7 7 2 3 0 7 6 5 0 4 2 1 1 0 1 7 3 3\n",
      " 3 3 0 2 3 1 2 1 2 4 0 6 1 0 7 7 1 2 7 4 6 1 4 1 5 1 1 1 0 4 1 4 0 1 5 1 3\n",
      " 0 7 3 4 7 1 1 0 2 0 3 1 4 5 0 7 6 0 6 4 0 5 5 1 5 7 4 7 1 0 0 6 7 4 2 5 2\n",
      " 0 0 0 5 0 7 0 1 1 3 7 2 4 0 2 4 6 1 3 0 0 0 0 3 3 0 0 2 0 1 4 6 1 4 0 4 0\n",
      " 0 7 1 3 0 3 2 0 6 0 2 3 3 0 2 5 6 7 0 1 0 2 0 0 0 0 7 3 4 2 0 0 3 1 3 5 2\n",
      " 6 4 1 7 2 6 5 3 0 4 6 3 5 7 0 3 3 0 5 0 2 7 7 7 3 4 2 0 3 6 1 4 0 0 0 3 0\n",
      " 1 6 0 0 7 0 0 0 7 0 5 4 1 6 4 0 1 7 0 0 1 5 0 0 1 5 0 1 0 3 2 1 1 0 0 2 7\n",
      " 6 4 2 6 0 1 1 0 4 3 0 7 1 0 1 0 0 0 4 0 0 7 5 3 0 0 0 4 0 3 0 1 3 2 4 7 7\n",
      " 3 7 0 6 6 0 1 0 0 2 6 0 1 1 6 1 0 0 7 6 4 1 0 3 5 0 1 1 6 7 0 5 0 6 3 0 2\n",
      " 3 3 4 2 3 3 0 0 5 1 6 0 4 0 1 6 2 6 6 0 2 0 0 3 1 3 7 0 7 1 7 0 4 3 5 7 7\n",
      " 7 1 4 3 6 1 3 0 3 2]\n",
      "arracy on test set 0.25757575757575757\n"
     ]
    },
    {
     "data": {
      "application/vnd.jupyter.widget-view+json": {
       "model_id": "8e70354c17d7408daf914598e7b7ad10",
       "version_major": 2,
       "version_minor": 0
      },
      "text/plain": [
       "HBox(children=(FloatProgress(value=0.0, max=24.0), HTML(value='')))"
      ]
     },
     "metadata": {},
     "output_type": "display_data"
    },
    {
     "name": "stdout",
     "output_type": "stream",
     "text": [
      "\n",
      "Epoch: 47, Loss:  0.1928681582212448\n"
     ]
    },
    {
     "data": {
      "application/vnd.jupyter.widget-view+json": {
       "model_id": "b975782438f14d919ce4793cc6e4685b",
       "version_major": 2,
       "version_minor": 0
      },
      "text/plain": [
       "HBox(children=(FloatProgress(value=0.0, max=17.0), HTML(value='')))"
      ]
     },
     "metadata": {},
     "output_type": "display_data"
    },
    {
     "name": "stdout",
     "output_type": "stream",
     "text": [
      "\n",
      "guess [6 1 0 3 1 0 1 0 0 0 3 0 1 0 1 1 0 1 7 6 1 0 0 1 6 6 0 1 6 1 6 7 0 2 0 7 7\n",
      " 0 0 6 1 1 6 0 3 1 0 6 1 1 6 6 0 7 1 1 6 0 0 0 0 1 7 7 7 0 0 6 1 1 0 1 0 0\n",
      " 1 1 6 0 4 0 6 1 0 0 7 3 1 0 7 3 4 0 6 1 0 0 0 4 0 0 0 0 6 0 1 0 0 1 7 0 0\n",
      " 0 1 0 6 1 7 0 0 4 1 6 1 1 6 1 0 7 3 6 6 1 1 1 1 0 0 4 0 0 6 1 0 1 1 1 1 6\n",
      " 3 0 1 1 6 3 6 6 0 1 6 7 0 1 6 0 1 6 1 1 0 1 0 0 0 0 6 0 0 1 4 0 0 1 0 0 1\n",
      " 0 1 1 6 0 0 6 3 7 1 0 6 0 3 1 1 0 1 0 0 7 0 1 0 0 1 1 0 1 0 0 4 0 7 3 4 0\n",
      " 3 1 1 0 1 6 7 1 0 0 6 1 6 0 0 6 1 1 1 0 1 0 1 1 1 0 1 1 6 7 6 0 1 0 0 1 0\n",
      " 1 0 6 6 1 0 3 6 7 3 6 0 0 1 0 1 1 1 3 0 1 0 0 1 0 6 5 1 0 1 0 0 0 0 7 1 1\n",
      " 0 6 1 1 1 3 5 6 0 6 7 4 1 6 1 7 6 0 0 3 0 1 7 6 0 1 0 1 1 1 1 3 0 0 0 1 1\n",
      " 7 0 1 6 6 1 0 5 1 1 1 1 0 1 0 6 7 0 1 0 1 7 0 1 6 0 1 6 1 3 1 1 7 0 4 0 1\n",
      " 6 5 6 0 1 1 0 0 0 6 7 0 0 0 0 3 1 0 0 0 0 1 0 0 6 7 0 0 1 1 0 7 0 6 0 0 1\n",
      " 0 1 0 0 7 1 7 1 0 0 0 0 1 0 0 1 1 0 7 0 0 7 7 0 0 4 1 6 1 6 0 0 0 0 6 4 1\n",
      " 6 3 6 5 1 3 6 1 6 0 6 1 6 6 0 0 6 0 7 3 4 0 0 1 7 0 0 3 0 6 0 0 1 1 0 6 0\n",
      " 0 4 6 7 0 1 6 1 6 0 0 0 0 0 0 6 0 7 6 1 1 0 0 0 7 0 0 0 0 0 0 1 6 6 7 1 0\n",
      " 1 1 0 3 0 3 0 6 4 6]\n",
      "targs [5 7 3 5 2 5 6 0 0 1 7 0 0 0 6 1 4 5 4 4 0 0 6 1 0 6 3 3 2 3 0 6 3 3 0 4 0\n",
      " 0 7 1 7 0 4 5 1 1 0 1 0 3 7 7 0 0 1 1 2 2 0 2 7 0 0 7 0 7 0 0 3 0 1 1 0 2\n",
      " 0 2 3 0 7 1 1 0 0 5 7 3 0 5 6 0 4 6 6 7 0 5 4 0 0 4 6 7 2 1 6 0 7 0 7 0 0\n",
      " 1 6 0 3 1 4 0 0 7 2 5 2 0 1 6 0 1 3 0 3 1 0 6 1 3 6 4 0 0 6 0 6 3 0 2 4 5\n",
      " 4 0 0 2 2 1 1 7 0 3 6 5 7 2 2 5 7 6 3 3 7 1 2 7 3 1 6 7 2 1 1 0 6 0 2 4 3\n",
      " 1 6 1 1 7 0 3 5 2 6 0 3 7 3 0 3 7 7 2 1 0 0 3 2 1 3 4 0 4 0 3 1 7 1 2 4 0\n",
      " 2 6 0 5 4 6 2 1 2 3 7 2 6 3 0 1 0 6 0 1 2 5 1 3 7 1 5 6 7 4 3 5 0 0 3 2 1\n",
      " 4 6 0 1 6 0 6 3 7 3 2 2 0 0 0 0 4 5 0 1 5 4 1 2 1 0 0 7 7 2 1 3 0 0 0 1 7\n",
      " 0 6 3 0 1 1 1 0 0 6 1 2 0 1 0 0 7 0 1 5 1 7 0 6 7 7 3 3 3 5 7 2 7 0 1 2 7\n",
      " 3 4 3 7 7 2 6 0 7 2 6 2 0 3 4 0 0 6 5 2 1 1 1 6 1 0 0 7 6 6 1 5 0 1 2 7 1\n",
      " 6 0 0 7 0 6 0 4 0 4 3 0 0 7 4 2 2 7 1 3 4 5 0 0 6 3 0 7 0 5 3 7 0 7 0 6 3\n",
      " 0 0 1 2 0 3 0 3 0 0 1 1 1 5 3 0 3 1 2 0 5 6 0 6 1 6 4 5 3 0 7 0 7 7 0 0 4\n",
      " 1 0 7 0 1 2 5 0 0 7 4 7 0 2 5 0 4 0 3 4 0 1 0 4 4 7 1 6 1 0 3 7 0 6 0 4 0\n",
      " 7 4 4 3 3 0 7 2 4 0 3 1 2 7 0 3 7 5 3 3 5 0 3 6 3 0 1 7 7 4 0 3 0 1 3 4 5\n",
      " 1 5 0 4 3 3 1 0 4 0]\n",
      "arracy on test set 0.23106060606060605\n"
     ]
    },
    {
     "data": {
      "application/vnd.jupyter.widget-view+json": {
       "model_id": "77dce34533c94b95ac49497a91df80ac",
       "version_major": 2,
       "version_minor": 0
      },
      "text/plain": [
       "HBox(children=(FloatProgress(value=0.0, max=24.0), HTML(value='')))"
      ]
     },
     "metadata": {},
     "output_type": "display_data"
    },
    {
     "name": "stdout",
     "output_type": "stream",
     "text": [
      "\n",
      "Epoch: 48, Loss:  0.1397356241941452\n"
     ]
    },
    {
     "data": {
      "application/vnd.jupyter.widget-view+json": {
       "model_id": "90de539a84f94df7ae098b105b6ce70a",
       "version_major": 2,
       "version_minor": 0
      },
      "text/plain": [
       "HBox(children=(FloatProgress(value=0.0, max=17.0), HTML(value='')))"
      ]
     },
     "metadata": {},
     "output_type": "display_data"
    },
    {
     "name": "stdout",
     "output_type": "stream",
     "text": [
      "\n",
      "guess [1 7 0 7 0 0 0 0 1 0 6 0 1 6 3 4 1 0 1 7 0 3 1 1 5 1 1 3 0 0 0 3 0 6 0 6 3\n",
      " 0 0 1 0 6 3 0 1 0 1 4 0 0 1 1 6 6 3 0 1 7 1 1 0 0 1 0 7 6 0 0 0 3 5 1 0 0\n",
      " 6 0 6 0 1 1 1 0 6 0 0 0 6 0 3 0 0 4 0 3 1 1 1 0 0 6 1 0 1 1 0 0 0 1 0 0 0\n",
      " 4 6 0 0 0 1 1 0 0 1 1 0 1 3 3 0 0 1 1 0 1 1 1 1 0 1 0 0 0 3 3 0 3 5 1 0 0\n",
      " 0 1 0 0 0 0 6 3 6 0 0 1 0 0 0 0 1 6 3 6 0 3 1 0 3 1 0 7 7 6 6 4 0 0 0 0 6\n",
      " 1 0 1 0 0 6 3 0 6 0 6 0 0 1 0 1 7 0 6 3 1 6 1 0 0 6 0 1 0 0 0 1 0 1 0 0 0\n",
      " 4 4 0 6 6 1 0 1 0 0 1 0 0 0 6 0 0 3 1 0 1 6 1 0 0 0 6 0 6 0 0 3 3 3 6 0 6\n",
      " 0 1 0 1 1 3 6 3 0 1 0 1 1 0 1 3 3 6 1 0 0 6 1 0 1 0 0 0 6 3 1 6 0 1 0 0 2\n",
      " 4 3 3 0 0 6 0 6 0 0 1 0 0 0 1 0 3 0 0 0 0 0 5 0 0 0 0 0 6 0 1 0 0 0 3 0 2\n",
      " 3 1 0 0 0 3 6 0 7 4 1 0 0 1 3 4 6 0 3 1 0 1 0 0 6 0 0 6 0 0 0 6 1 6 6 3 6\n",
      " 7 1 0 1 4 0 1 1 0 0 0 1 0 0 0 3 1 0 7 6 0 0 1 0 6 0 0 1 0 0 0 0 1 7 0 0 0\n",
      " 6 1 0 1 6 0 0 0 1 6 0 0 6 3 0 0 0 1 7 1 0 1 0 1 7 0 6 2 0 0 7 1 7 6 3 6 1\n",
      " 7 7 6 3 0 1 0 1 0 1 1 1 4 0 0 3 3 0 6 0 0 0 4 3 0 7 0 1 6 0 0 1 0 0 0 1 0\n",
      " 3 6 6 0 0 0 0 7 6 0 6 3 0 0 1 0 0 0 6 3 6 1 6 0 1 0 7 0 6 3 4 3 0 1 2 0 0\n",
      " 0 0 0 0 1 0 0 0 1 0]\n",
      "targs [1 0 0 4 0 1 1 0 6 3 3 7 6 7 1 1 3 0 3 2 0 0 4 4 0 2 0 0 5 0 0 0 6 1 0 1 2\n",
      " 3 0 6 3 6 3 0 2 1 0 1 6 2 2 5 3 1 0 2 0 5 0 3 1 4 4 7 1 7 3 3 6 7 0 6 6 6\n",
      " 1 0 3 0 0 4 5 0 6 7 2 2 2 7 1 0 4 4 0 6 3 1 3 1 0 6 0 0 7 6 0 0 7 5 7 3 0\n",
      " 4 0 2 1 1 0 5 0 0 7 1 7 7 3 7 6 7 3 2 7 4 4 2 3 0 1 3 6 7 2 3 7 5 1 2 3 5\n",
      " 7 0 5 0 3 0 1 1 3 0 3 0 3 1 0 0 0 1 2 0 4 6 2 4 2 7 1 3 4 7 7 0 0 0 1 0 1\n",
      " 6 0 5 0 2 6 3 5 6 5 3 7 0 1 6 6 0 4 4 0 5 7 3 3 6 5 0 4 3 4 7 3 1 3 1 3 3\n",
      " 0 7 1 0 6 6 5 6 0 1 2 2 0 0 1 0 1 0 1 0 6 0 5 0 7 7 2 7 0 4 1 3 2 4 2 7 2\n",
      " 6 7 1 6 0 3 4 1 0 0 3 0 0 1 0 0 5 4 6 0 2 2 1 0 2 1 5 1 1 5 2 4 6 3 1 5 2\n",
      " 2 3 6 2 0 1 7 0 7 0 6 7 4 2 7 4 1 0 0 5 2 1 0 7 1 0 7 1 6 0 3 0 3 3 2 0 3\n",
      " 2 1 0 0 0 3 5 3 6 6 0 0 5 7 0 4 6 5 3 1 0 4 0 1 3 1 3 3 1 0 7 0 1 6 7 6 7\n",
      " 7 0 1 3 4 0 4 0 0 0 0 7 6 0 7 3 5 5 0 5 3 7 0 0 0 0 1 1 6 0 7 7 2 2 0 4 0\n",
      " 7 2 6 2 4 5 6 0 2 3 0 3 6 4 7 1 0 7 3 3 0 1 4 6 0 2 7 5 0 3 4 0 0 5 2 0 3\n",
      " 3 7 0 4 3 7 7 2 1 0 1 7 2 1 1 4 3 7 6 0 0 1 4 7 0 0 0 3 4 5 0 0 0 0 7 7 0\n",
      " 6 1 0 5 0 0 1 4 4 7 2 1 1 1 6 1 2 1 5 7 7 3 0 0 0 6 0 1 7 1 7 0 0 2 4 7 1\n",
      " 4 0 7 0 3 1 0 0 3 5]\n",
      "arracy on test set 0.2518939393939394\n"
     ]
    },
    {
     "data": {
      "application/vnd.jupyter.widget-view+json": {
       "model_id": "12a6220ed8ef4eb4ba27acdf7440be75",
       "version_major": 2,
       "version_minor": 0
      },
      "text/plain": [
       "HBox(children=(FloatProgress(value=0.0, max=24.0), HTML(value='')))"
      ]
     },
     "metadata": {},
     "output_type": "display_data"
    },
    {
     "name": "stdout",
     "output_type": "stream",
     "text": [
      "\n",
      "Epoch: 49, Loss:  0.16581925749778748\n"
     ]
    },
    {
     "data": {
      "application/vnd.jupyter.widget-view+json": {
       "model_id": "65c536d974d349a3900d2505811a4d91",
       "version_major": 2,
       "version_minor": 0
      },
      "text/plain": [
       "HBox(children=(FloatProgress(value=0.0, max=17.0), HTML(value='')))"
      ]
     },
     "metadata": {},
     "output_type": "display_data"
    },
    {
     "name": "stdout",
     "output_type": "stream",
     "text": [
      "\n",
      "guess [0 0 0 6 0 0 1 0 1 0 0 6 0 0 0 6 7 6 5 0 0 0 0 7 6 1 7 0 7 6 0 0 0 1 0 6 4\n",
      " 3 6 0 1 7 0 1 0 1 0 1 6 6 0 6 0 0 6 1 3 3 0 6 0 7 1 0 1 0 6 6 0 1 1 0 5 0\n",
      " 0 6 0 6 7 0 0 0 6 0 6 1 4 3 0 1 1 0 0 0 6 6 1 1 0 1 7 0 0 6 0 0 7 0 0 0 0\n",
      " 0 6 1 6 0 0 0 1 0 6 0 0 1 1 0 7 0 7 0 0 0 7 0 6 0 0 0 0 7 6 0 0 0 1 0 0 0\n",
      " 6 1 0 0 3 6 0 0 3 6 0 0 0 0 0 7 1 1 4 1 0 7 6 3 0 0 0 0 7 1 1 6 0 1 1 0 0\n",
      " 1 1 0 0 0 7 0 1 6 0 7 6 0 6 3 0 1 0 0 6 1 0 0 0 1 6 4 0 7 0 1 0 0 0 1 6 0\n",
      " 7 6 1 0 0 7 3 1 6 1 0 1 0 6 6 1 0 1 6 6 7 0 0 1 0 0 6 0 2 0 0 4 0 0 0 0 0\n",
      " 4 6 3 0 1 7 0 0 1 0 1 0 0 3 3 0 0 7 0 0 1 7 0 3 0 0 0 1 0 7 1 1 0 1 3 0 0\n",
      " 6 0 2 0 4 0 1 0 0 5 1 3 6 0 0 0 2 0 1 1 0 0 6 3 6 1 0 1 7 0 6 7 1 0 6 0 1\n",
      " 1 1 0 0 3 0 6 4 0 0 0 1 0 6 0 6 0 0 6 0 3 0 0 4 0 0 0 0 6 0 0 1 2 0 0 1 1\n",
      " 6 0 0 0 6 0 0 0 0 0 6 0 0 0 1 0 6 6 0 1 6 4 1 0 0 0 7 0 0 0 0 0 7 0 4 6 5\n",
      " 1 0 0 0 7 1 0 0 3 4 0 7 6 0 7 0 7 0 0 1 0 6 7 3 0 0 6 0 7 0 0 0 0 0 0 1 0\n",
      " 0 0 0 0 3 0 0 3 0 0 0 0 0 7 6 0 0 0 0 0 0 7 6 6 0 0 0 0 1 0 0 6 3 1 6 7 0\n",
      " 1 4 6 1 0 0 0 6 6 0 4 6 0 1 0 4 1 1 1 0 6 0 0 6 3 0 0 0 0 7 1 6 3 0 0 7 6\n",
      " 0 1 6 0 0 6 0 0 0 1]\n",
      "targs [0 4 0 6 7 1 0 0 7 0 7 4 0 7 2 0 4 3 1 0 4 7 7 4 4 1 2 0 6 7 1 4 5 2 3 2 4\n",
      " 0 1 0 1 0 3 1 3 3 7 3 2 5 0 1 1 0 4 1 0 2 1 7 7 7 1 0 4 1 5 2 0 3 0 0 0 0\n",
      " 3 3 6 4 7 1 0 0 1 0 4 3 4 3 7 2 0 7 0 0 6 7 2 0 0 3 0 1 6 7 7 1 2 7 0 4 1\n",
      " 6 3 2 5 6 0 0 6 0 7 1 1 0 3 7 2 0 4 0 7 3 7 1 2 1 3 1 0 0 0 1 6 1 5 6 1 1\n",
      " 3 4 0 1 6 3 0 4 1 0 3 0 7 5 4 5 3 2 0 0 0 3 6 6 7 0 0 0 7 5 3 6 7 7 1 0 5\n",
      " 7 4 3 0 4 4 6 3 3 0 0 0 0 6 0 0 5 6 1 1 0 0 4 0 6 0 4 0 5 4 3 0 4 0 3 6 0\n",
      " 7 1 3 2 3 3 3 3 3 5 1 7 5 5 1 1 6 5 0 0 3 0 2 7 0 7 2 5 5 0 5 1 6 7 3 1 3\n",
      " 2 1 3 0 4 0 7 7 2 1 2 0 0 3 5 1 2 2 1 0 5 3 0 2 3 3 0 0 3 4 5 0 0 4 3 5 2\n",
      " 7 6 2 3 7 0 7 1 7 0 2 2 7 7 0 0 3 6 1 7 1 0 1 2 6 0 3 0 1 1 3 2 6 2 0 0 3\n",
      " 6 4 7 0 5 6 7 2 1 2 3 7 7 4 0 0 4 0 0 0 4 0 1 6 3 6 5 3 7 1 2 0 4 3 5 4 2\n",
      " 7 1 3 7 6 7 3 2 1 0 1 7 1 0 1 5 6 4 0 6 0 4 2 6 0 1 6 0 0 1 1 0 3 0 7 1 0\n",
      " 6 2 7 1 0 6 5 0 1 0 0 3 6 0 1 0 6 0 5 2 0 4 0 3 1 7 7 7 0 2 0 5 6 3 2 0 7\n",
      " 7 7 6 0 5 6 0 3 0 0 5 7 0 0 0 4 0 0 1 0 0 1 7 0 1 1 0 7 1 3 2 1 4 3 2 0 5\n",
      " 7 4 6 0 0 1 0 0 2 6 1 5 2 5 6 6 7 4 2 7 1 6 2 6 7 0 3 4 2 0 0 6 1 0 3 0 6\n",
      " 0 3 2 0 3 0 1 1 3 1]\n",
      "arracy on test set 0.26325757575757575\n"
     ]
    },
    {
     "data": {
      "application/vnd.jupyter.widget-view+json": {
       "model_id": "240eb45fe08d4bf2826b5f8dd1c0d0e7",
       "version_major": 2,
       "version_minor": 0
      },
      "text/plain": [
       "HBox(children=(FloatProgress(value=0.0, max=24.0), HTML(value='')))"
      ]
     },
     "metadata": {},
     "output_type": "display_data"
    },
    {
     "name": "stdout",
     "output_type": "stream",
     "text": [
      "\n",
      "Epoch: 50, Loss:  0.2318165898323059\n"
     ]
    },
    {
     "data": {
      "application/vnd.jupyter.widget-view+json": {
       "model_id": "9feee7221f984cadba3c78b6a9840313",
       "version_major": 2,
       "version_minor": 0
      },
      "text/plain": [
       "HBox(children=(FloatProgress(value=0.0, max=17.0), HTML(value='')))"
      ]
     },
     "metadata": {},
     "output_type": "display_data"
    },
    {
     "name": "stdout",
     "output_type": "stream",
     "text": [
      "\n",
      "guess [0 3 0 0 0 1 6 1 0 0 0 0 1 1 0 6 0 0 0 0 0 0 0 3 0 1 0 1 1 0 0 1 0 7 7 0 0\n",
      " 6 0 0 6 1 0 1 0 6 1 1 0 6 0 1 0 7 1 0 1 0 1 0 6 6 1 7 7 7 0 1 0 1 1 0 0 0\n",
      " 0 1 0 7 7 0 6 0 0 1 0 0 0 0 0 1 6 6 6 7 0 1 0 1 1 1 6 0 1 1 1 1 0 1 7 0 0\n",
      " 0 1 0 1 1 1 0 0 2 0 1 1 0 1 7 0 0 1 6 0 3 0 0 0 0 0 0 6 6 0 6 7 6 0 0 0 6\n",
      " 1 6 0 6 0 0 0 1 1 7 6 0 3 0 1 0 6 6 0 0 6 0 1 1 0 0 3 1 7 4 0 4 0 1 6 4 0\n",
      " 1 0 4 1 0 6 0 6 6 0 0 1 0 4 1 0 0 6 0 0 0 1 0 1 0 6 0 7 0 6 1 2 1 6 4 1 0\n",
      " 7 0 7 0 3 0 0 4 1 0 0 6 1 1 0 0 0 3 1 3 3 2 0 6 0 1 0 0 7 0 0 0 0 7 0 0 0\n",
      " 1 6 0 0 1 1 4 0 1 0 0 0 0 1 0 6 0 4 0 0 1 0 0 1 0 1 0 4 0 6 1 0 3 0 3 6 0\n",
      " 0 0 7 0 0 1 0 7 6 6 7 7 1 0 1 4 7 0 0 1 0 0 0 1 3 1 0 0 0 6 0 0 0 1 6 0 0\n",
      " 0 1 7 3 0 0 1 1 0 0 4 6 0 0 1 0 1 1 1 1 1 0 0 1 0 0 0 6 0 0 1 6 0 0 0 1 0\n",
      " 0 0 0 4 0 1 0 0 0 1 0 0 0 7 6 1 6 0 0 1 7 4 1 0 1 0 0 0 6 6 0 1 0 6 6 1 1\n",
      " 0 3 0 7 0 1 6 0 0 4 7 0 1 1 3 0 1 1 1 6 6 6 7 0 0 0 1 0 3 1 6 1 6 1 0 0 0\n",
      " 0 1 0 1 1 3 0 0 0 0 1 0 0 0 0 7 7 1 0 0 1 0 0 2 1 0 1 7 6 3 0 0 0 1 0 0 0\n",
      " 6 3 0 1 0 0 1 6 0 7 0 1 0 0 0 6 1 0 1 0 1 0 0 1 1 6 0 0 1 1 7 1 0 1 0 0 0\n",
      " 6 0 1 1 1 1 0 1 0 0]\n",
      "targs [2 2 0 7 0 3 3 3 0 0 1 0 7 3 0 3 7 1 2 3 7 0 5 0 6 3 7 4 0 0 3 3 1 3 0 0 4\n",
      " 5 7 0 5 4 0 1 0 2 2 2 1 4 1 1 7 4 3 1 6 0 2 0 6 0 1 7 2 2 0 6 2 3 3 5 0 7\n",
      " 7 7 7 4 7 0 3 1 5 3 7 1 0 1 1 3 1 6 0 3 1 0 7 1 5 2 5 0 1 0 2 0 2 6 0 5 1\n",
      " 0 0 0 6 6 4 0 1 3 4 6 5 3 7 0 0 1 0 1 4 4 1 0 7 3 0 1 7 5 5 6 0 7 0 5 7 6\n",
      " 1 7 1 1 3 7 4 4 3 5 1 0 6 0 6 7 0 7 0 0 4 6 0 2 0 3 3 2 2 2 2 0 0 1 0 4 5\n",
      " 3 0 4 3 2 0 6 6 4 3 0 0 0 7 7 7 0 0 3 1 0 4 7 1 0 3 5 3 3 6 5 3 2 4 6 0 2\n",
      " 1 7 3 0 5 1 0 4 5 3 0 7 2 1 0 3 1 3 3 3 2 1 7 2 0 1 0 7 1 1 1 1 0 3 6 1 0\n",
      " 0 2 1 1 0 6 6 1 7 6 1 7 7 0 0 5 4 2 0 6 5 0 0 1 2 2 7 4 2 6 1 1 5 0 1 4 3\n",
      " 0 3 0 0 6 7 7 0 4 1 5 4 6 0 3 7 6 0 0 1 2 0 7 4 3 3 3 4 6 6 1 5 2 1 7 0 4\n",
      " 1 6 4 3 3 6 7 7 0 0 1 1 1 7 7 4 6 2 0 7 0 1 1 0 0 3 0 2 0 0 4 7 7 0 0 3 7\n",
      " 4 0 1 1 3 0 0 2 0 6 7 0 0 7 7 7 6 5 1 6 3 0 6 1 1 6 5 0 0 7 0 0 1 3 4 0 3\n",
      " 3 2 6 0 5 5 0 0 3 4 0 7 6 4 7 0 0 0 0 0 2 2 0 0 0 4 6 3 2 3 1 2 0 1 0 1 0\n",
      " 5 3 3 3 0 4 5 6 0 7 4 5 0 0 0 7 0 1 6 1 6 3 0 1 3 0 3 7 6 1 0 1 1 0 0 7 2\n",
      " 3 0 0 5 7 6 5 6 6 0 1 2 4 6 2 0 2 6 0 7 7 4 7 0 0 1 0 1 3 7 2 5 7 2 3 0 0\n",
      " 0 4 0 4 5 2 4 2 2 0]\n",
      "arracy on test set 0.2556818181818182\n"
     ]
    },
    {
     "data": {
      "application/vnd.jupyter.widget-view+json": {
       "model_id": "b7703d833a2c4e7ba379b27569ce4c06",
       "version_major": 2,
       "version_minor": 0
      },
      "text/plain": [
       "HBox(children=(FloatProgress(value=0.0, max=24.0), HTML(value='')))"
      ]
     },
     "metadata": {},
     "output_type": "display_data"
    },
    {
     "name": "stdout",
     "output_type": "stream",
     "text": [
      "\n",
      "Epoch: 51, Loss:  0.32542094588279724\n"
     ]
    },
    {
     "data": {
      "application/vnd.jupyter.widget-view+json": {
       "model_id": "9082351429b34160855d550fd06f695a",
       "version_major": 2,
       "version_minor": 0
      },
      "text/plain": [
       "HBox(children=(FloatProgress(value=0.0, max=17.0), HTML(value='')))"
      ]
     },
     "metadata": {},
     "output_type": "display_data"
    },
    {
     "name": "stdout",
     "output_type": "stream",
     "text": [
      "\n",
      "guess [0 7 1 3 6 6 0 0 0 1 0 0 0 0 3 3 0 0 6 5 0 0 1 3 6 0 3 4 0 1 1 0 4 3 4 1 6\n",
      " 1 0 1 1 4 1 0 6 6 1 1 6 0 0 0 6 3 1 6 0 0 6 0 1 0 0 7 0 0 1 3 1 0 7 1 0 0\n",
      " 1 0 1 0 6 0 1 0 3 1 3 0 1 6 3 1 1 0 0 6 1 3 0 1 0 3 0 0 0 4 0 1 3 6 0 0 0\n",
      " 6 0 0 0 1 0 0 0 1 0 1 2 0 0 6 0 1 4 6 1 7 3 3 0 1 0 0 0 0 4 6 1 0 0 0 1 0\n",
      " 0 1 0 1 6 6 1 3 3 0 7 0 1 0 0 6 0 6 0 6 0 1 0 0 1 1 0 0 6 6 4 1 0 0 3 1 0\n",
      " 0 6 0 1 0 4 1 0 0 0 3 1 6 1 0 0 1 0 1 0 0 1 0 0 0 0 0 0 0 0 6 7 0 0 0 1 6\n",
      " 1 3 4 1 0 0 0 0 0 0 7 7 3 0 6 2 5 6 1 1 0 0 1 1 0 0 6 0 6 7 4 0 0 0 0 1 0\n",
      " 1 6 6 1 1 6 7 6 2 6 1 0 0 1 0 0 3 6 0 1 0 1 0 6 0 0 7 0 0 0 3 6 0 1 0 4 0\n",
      " 0 1 7 3 0 1 1 3 0 1 3 7 0 1 7 1 1 1 0 3 0 6 0 1 1 3 1 0 7 6 1 7 1 6 0 6 1\n",
      " 3 0 1 0 0 1 6 1 1 6 3 6 5 0 0 3 7 6 3 0 1 1 0 0 0 7 0 0 0 0 0 0 1 1 0 1 0\n",
      " 1 6 1 6 0 0 1 1 1 1 0 6 6 0 6 1 1 0 1 1 6 1 6 1 3 1 4 7 0 0 0 6 1 0 6 1 0\n",
      " 0 6 6 5 0 1 1 1 3 1 6 3 1 1 1 0 1 6 7 6 0 6 0 3 4 0 1 0 1 0 7 6 1 1 0 3 6\n",
      " 6 0 7 0 1 0 0 7 3 0 7 6 6 3 6 6 3 6 0 1 0 1 0 0 7 1 7 0 1 6 0 0 6 1 1 1 0\n",
      " 0 7 0 3 0 0 1 0 0 0 7 0 6 0 0 0 1 0 0 3 3 1 1 1 3 0 6 0 1 0 3 0 3 0 0 0 6\n",
      " 6 0 1 5 2 1 1 4 3 6]\n",
      "targs [2 5 3 3 0 6 1 1 6 1 0 4 4 0 7 5 2 0 3 0 3 6 2 2 0 1 0 2 0 3 3 7 4 6 2 0 1\n",
      " 7 0 1 0 7 7 0 4 0 0 7 1 0 7 7 4 7 0 3 7 7 6 1 3 1 1 1 3 0 6 1 1 6 7 6 0 7\n",
      " 0 0 4 6 0 0 3 0 4 1 3 7 5 5 6 3 5 0 3 6 6 2 7 6 0 0 0 1 0 4 1 2 6 6 6 5 3\n",
      " 7 0 0 5 0 5 7 3 4 1 5 3 7 3 2 7 5 6 6 3 3 6 5 0 0 5 1 7 3 1 0 0 4 0 2 6 1\n",
      " 0 0 6 7 0 0 0 1 2 7 0 7 4 0 7 3 1 2 1 3 0 1 0 5 2 2 0 0 0 6 0 5 1 0 2 1 0\n",
      " 5 1 0 0 0 7 4 7 2 3 3 7 6 5 0 3 2 1 7 0 2 7 5 1 0 7 0 0 7 2 0 0 7 1 4 5 7\n",
      " 1 0 4 3 7 1 0 2 1 5 0 4 4 7 6 3 0 7 5 1 6 5 0 0 5 5 6 0 4 0 1 7 0 1 5 6 0\n",
      " 1 3 2 7 2 6 0 1 1 6 2 0 7 3 1 0 0 1 1 6 1 1 4 1 3 7 7 0 7 4 0 7 3 7 0 0 7\n",
      " 1 2 2 4 2 4 3 7 1 7 2 4 2 3 4 7 7 0 0 0 7 1 7 6 5 2 0 4 1 5 0 0 3 5 4 0 3\n",
      " 2 4 5 0 0 6 0 1 3 0 3 4 0 3 0 5 7 4 6 1 0 3 4 0 1 3 1 0 4 0 0 0 7 3 1 0 0\n",
      " 0 4 3 6 6 0 6 2 4 4 6 4 3 0 7 4 0 6 1 3 6 3 5 6 3 3 4 3 0 0 0 7 1 0 0 6 0\n",
      " 3 7 6 0 3 7 3 6 2 0 3 0 6 6 0 2 2 4 0 2 4 1 6 1 4 0 0 7 0 0 4 7 4 2 0 3 0\n",
      " 0 0 5 0 5 0 3 0 0 1 2 7 0 1 2 0 3 2 1 6 6 0 5 7 0 1 6 2 1 5 3 0 2 2 2 2 0\n",
      " 2 7 0 1 0 7 3 3 0 0 0 0 1 1 0 0 0 1 1 3 1 2 1 0 3 1 1 3 0 3 3 0 7 1 7 2 3\n",
      " 7 1 1 1 1 3 2 0 4 3]\n",
      "arracy on test set 0.23863636363636365\n"
     ]
    },
    {
     "data": {
      "application/vnd.jupyter.widget-view+json": {
       "model_id": "3e8d3dcfc954404081fe075293a1ffb2",
       "version_major": 2,
       "version_minor": 0
      },
      "text/plain": [
       "HBox(children=(FloatProgress(value=0.0, max=24.0), HTML(value='')))"
      ]
     },
     "metadata": {},
     "output_type": "display_data"
    },
    {
     "name": "stdout",
     "output_type": "stream",
     "text": [
      "\n",
      "Epoch: 52, Loss:  0.22427231073379517\n"
     ]
    },
    {
     "data": {
      "application/vnd.jupyter.widget-view+json": {
       "model_id": "d91392835b2144379b972cec15690f8c",
       "version_major": 2,
       "version_minor": 0
      },
      "text/plain": [
       "HBox(children=(FloatProgress(value=0.0, max=17.0), HTML(value='')))"
      ]
     },
     "metadata": {},
     "output_type": "display_data"
    },
    {
     "name": "stdout",
     "output_type": "stream",
     "text": [
      "\n",
      "guess [0 1 3 6 0 1 1 0 0 6 0 3 0 0 4 0 0 0 1 0 6 0 3 0 6 0 1 0 0 3 6 0 0 4 0 1 3\n",
      " 3 3 0 0 1 0 3 0 6 0 0 6 0 0 7 4 0 0 0 0 0 7 0 0 1 1 0 1 3 6 3 0 1 1 0 7 0\n",
      " 0 3 1 3 3 0 0 0 0 1 3 3 0 0 6 0 0 0 1 3 1 7 3 7 1 0 6 6 0 0 6 3 0 3 3 1 6\n",
      " 1 0 7 6 0 0 0 6 3 0 0 0 0 0 0 0 1 1 1 1 4 0 0 6 6 0 0 0 4 6 1 6 0 1 0 6 7\n",
      " 0 0 6 6 0 0 0 0 0 0 0 1 0 0 6 0 0 0 7 0 2 0 0 0 0 6 0 0 1 0 1 6 1 0 0 0 0\n",
      " 6 0 6 0 0 1 0 0 0 1 0 0 0 0 0 0 1 0 4 1 3 3 0 0 0 0 0 0 0 1 1 0 1 0 0 0 6\n",
      " 4 0 1 0 0 6 3 1 4 6 0 4 1 4 0 6 0 0 6 1 0 0 0 6 1 3 0 3 0 1 1 3 1 0 0 1 0\n",
      " 1 1 0 7 0 0 1 4 0 0 1 1 0 1 6 0 0 3 0 0 6 6 1 0 0 0 0 0 1 6 6 0 3 1 0 0 6\n",
      " 0 6 6 0 1 0 0 4 1 0 0 0 6 1 1 0 6 6 0 0 7 0 0 0 1 1 1 3 0 0 6 0 6 3 6 0 6\n",
      " 6 0 4 1 6 6 0 6 4 0 1 0 3 6 1 1 6 0 1 1 0 3 0 0 0 6 6 7 6 0 7 0 3 1 7 0 6\n",
      " 7 0 0 0 6 6 6 4 0 1 0 0 1 1 7 0 0 0 3 0 3 7 6 0 0 1 0 1 1 0 0 0 0 1 0 0 6\n",
      " 7 0 1 0 1 0 0 0 0 6 0 3 0 0 0 0 1 0 6 3 7 0 0 3 1 0 0 0 3 0 3 6 4 1 0 0 3\n",
      " 0 0 0 0 0 0 7 6 0 0 0 3 3 7 3 0 0 6 1 0 3 3 0 6 1 0 0 0 1 0 6 0 1 0 6 1 0\n",
      " 7 7 0 1 0 1 0 0 0 1 1 7 7 0 1 0 0 0 3 0 0 0 1 6 0 0 0 0 0 0 1 7 1 0 0 7 0\n",
      " 0 1 0 0 0 0 0 0 3 0]\n",
      "targs [5 1 7 0 1 2 4 3 0 6 6 0 6 7 4 1 1 0 5 3 7 6 2 0 0 0 7 1 5 6 4 0 6 2 2 5 1\n",
      " 3 4 0 0 3 6 3 7 6 0 6 4 4 0 0 1 3 1 2 7 0 3 0 6 6 7 0 0 1 3 5 5 5 1 4 0 0\n",
      " 5 2 4 3 5 0 2 0 0 0 2 2 1 5 5 1 7 0 2 2 1 5 1 5 1 7 4 6 6 0 2 3 7 4 0 1 2\n",
      " 0 1 7 7 1 6 0 1 2 1 0 7 5 6 0 0 7 3 0 2 4 1 0 3 1 2 1 0 0 7 1 0 6 0 0 3 3\n",
      " 1 3 2 6 1 0 7 2 0 3 6 1 5 2 2 3 0 0 4 1 3 7 0 0 7 0 1 0 7 0 6 3 2 1 0 7 0\n",
      " 6 7 5 0 0 2 3 0 4 6 3 3 0 0 3 1 3 0 0 1 0 7 3 0 7 0 0 7 7 0 0 1 3 0 1 1 1\n",
      " 2 6 7 7 3 6 7 4 7 3 1 1 3 6 6 1 5 1 7 3 5 1 0 4 7 3 0 3 3 3 2 6 3 3 0 3 1\n",
      " 6 2 4 0 5 4 2 4 7 1 2 7 0 3 5 0 0 0 6 7 6 0 6 6 5 7 1 0 6 3 7 0 6 1 6 0 6\n",
      " 0 1 4 1 3 1 0 0 6 7 7 0 3 4 0 0 6 6 2 1 0 0 0 0 4 6 0 4 1 1 4 3 1 0 2 3 0\n",
      " 0 0 7 4 2 4 0 0 4 3 3 7 0 7 2 0 7 0 4 6 3 5 0 7 1 6 7 0 1 0 0 1 3 0 6 1 2\n",
      " 3 1 6 4 0 6 0 4 1 2 7 7 0 3 0 5 6 1 2 0 0 7 7 0 1 0 0 5 2 5 0 0 7 1 5 0 4\n",
      " 1 7 7 0 4 0 2 1 0 5 7 3 0 7 7 4 7 0 0 0 4 3 1 1 1 1 6 3 3 7 0 0 6 0 3 0 2\n",
      " 7 0 3 7 0 3 4 1 0 0 5 2 0 2 4 3 4 0 5 0 1 3 3 5 3 6 5 1 3 7 6 1 0 0 0 4 0\n",
      " 0 3 0 5 0 2 0 1 2 2 3 0 0 0 2 2 1 4 7 1 2 1 5 1 7 0 2 2 7 3 1 7 7 4 4 7 4\n",
      " 0 0 7 0 5 2 3 3 4 0]\n",
      "arracy on test set 0.25946969696969696\n"
     ]
    },
    {
     "data": {
      "application/vnd.jupyter.widget-view+json": {
       "model_id": "9010f24a45cb46e08f4a2df264b92eec",
       "version_major": 2,
       "version_minor": 0
      },
      "text/plain": [
       "HBox(children=(FloatProgress(value=0.0, max=24.0), HTML(value='')))"
      ]
     },
     "metadata": {},
     "output_type": "display_data"
    },
    {
     "name": "stdout",
     "output_type": "stream",
     "text": [
      "\n",
      "Epoch: 53, Loss:  0.3458746671676636\n"
     ]
    },
    {
     "data": {
      "application/vnd.jupyter.widget-view+json": {
       "model_id": "5cbdc905dbe34427abac39b5eb9f03f0",
       "version_major": 2,
       "version_minor": 0
      },
      "text/plain": [
       "HBox(children=(FloatProgress(value=0.0, max=17.0), HTML(value='')))"
      ]
     },
     "metadata": {},
     "output_type": "display_data"
    },
    {
     "name": "stdout",
     "output_type": "stream",
     "text": [
      "\n",
      "guess [3 0 0 1 0 0 6 1 1 4 0 6 3 6 3 0 6 3 0 0 0 1 1 1 1 1 0 6 0 0 0 0 0 0 1 0 0\n",
      " 0 0 3 0 0 6 0 1 0 7 0 6 6 0 0 1 0 0 0 0 0 0 6 1 0 0 6 0 0 0 1 0 1 0 0 0 6\n",
      " 1 0 0 0 3 6 0 0 0 7 7 1 1 1 0 0 6 3 0 0 0 4 0 3 6 7 0 0 4 0 0 4 0 3 1 0 0\n",
      " 1 0 1 1 0 0 0 1 6 0 6 3 1 0 6 0 0 0 1 1 6 0 0 1 0 0 0 3 0 0 0 0 0 1 7 6 6\n",
      " 6 1 0 0 6 3 3 1 0 0 0 0 0 1 0 0 0 6 0 0 0 0 7 0 0 0 0 1 1 7 0 0 6 0 0 4 0\n",
      " 0 0 1 0 0 0 0 0 3 1 0 0 0 0 1 0 0 4 0 0 0 1 0 1 0 6 0 0 3 0 0 1 0 0 3 7 7\n",
      " 3 0 1 1 0 0 1 4 0 6 1 6 1 0 0 0 0 1 1 0 0 1 0 6 1 6 3 0 0 0 0 0 6 0 6 0 0\n",
      " 6 0 0 0 1 0 0 6 1 0 3 0 0 0 7 0 0 0 6 0 0 0 0 0 0 6 7 4 1 0 0 7 7 0 3 0 4\n",
      " 0 1 0 6 1 0 0 6 2 7 0 6 0 0 0 0 0 6 0 6 6 1 3 4 0 6 1 0 0 0 0 0 0 1 3 1 3\n",
      " 0 0 0 6 0 0 0 6 0 0 4 0 7 0 1 0 1 0 3 1 3 0 6 1 6 0 0 0 1 0 0 1 1 0 4 1 6\n",
      " 3 1 0 6 3 1 1 1 4 3 0 6 1 0 0 0 0 1 0 1 0 1 7 0 0 7 7 0 0 0 0 6 0 0 0 1 0\n",
      " 0 7 6 0 7 0 1 0 6 0 0 1 0 0 3 1 3 1 0 1 0 0 0 7 0 0 1 6 4 1 7 0 3 0 0 0 0\n",
      " 1 0 0 0 1 1 0 0 0 1 1 0 0 0 0 3 1 6 0 1 0 0 6 0 6 6 1 1 7 1 0 0 1 0 3 6 0\n",
      " 1 0 1 1 6 6 1 1 1 6 0 0 1 0 0 3 0 0 1 4 0 0 0 0 0 0 0 0 0 0 0 6 0 6 0 0 6\n",
      " 0 2 4 6 6 1 7 0 0 1]\n",
      "targs [1 0 7 3 3 7 0 6 2 2 0 6 3 7 4 1 1 5 0 0 3 3 0 7 5 4 0 4 1 5 3 7 0 1 2 3 3\n",
      " 3 5 3 3 0 7 0 7 0 0 6 3 3 3 6 3 4 6 6 3 0 0 1 0 4 0 4 0 1 7 4 1 1 7 0 1 1\n",
      " 2 0 7 1 0 2 0 3 0 0 3 5 3 4 6 5 7 3 0 0 0 0 7 2 5 4 4 1 7 0 1 7 3 3 7 7 7\n",
      " 0 0 0 2 3 0 0 6 7 0 2 3 3 1 6 5 0 7 0 1 6 7 0 7 7 4 0 1 7 3 0 0 7 4 0 0 5\n",
      " 2 3 5 6 5 0 2 2 0 2 5 7 7 0 0 3 0 3 1 3 0 0 5 5 1 2 1 4 2 6 3 3 0 2 2 2 0\n",
      " 1 0 2 0 7 5 0 1 0 6 7 7 5 3 1 0 5 4 6 7 7 2 0 2 0 2 7 0 1 0 0 0 0 7 3 1 7\n",
      " 6 0 2 2 1 5 4 6 2 2 0 0 5 1 4 1 0 5 1 0 7 0 1 3 1 6 4 1 1 7 1 3 0 7 0 7 0\n",
      " 1 7 6 7 1 0 1 1 6 2 0 0 0 7 0 0 2 2 7 3 2 7 3 0 0 1 0 4 4 4 6 4 2 4 5 3 0\n",
      " 7 1 2 0 7 6 4 4 3 0 0 4 1 7 0 4 1 1 0 3 6 3 3 0 1 2 3 0 7 1 1 4 0 3 0 4 1\n",
      " 0 0 3 6 1 6 0 4 0 3 1 0 0 2 3 4 4 1 3 5 0 0 3 0 0 0 6 0 0 3 0 0 3 1 4 7 6\n",
      " 2 3 5 4 2 2 3 1 6 2 0 7 6 6 7 0 0 0 2 1 1 1 5 1 5 2 3 0 0 4 0 6 0 7 5 7 6\n",
      " 6 7 1 0 0 0 2 0 0 1 7 0 1 1 4 0 1 0 1 2 0 0 2 3 1 7 5 4 4 7 4 1 7 0 1 0 1\n",
      " 2 3 0 6 0 0 1 6 1 3 1 4 5 1 2 6 2 6 0 6 5 0 3 6 5 7 4 5 4 1 0 1 6 6 2 0 1\n",
      " 6 6 6 7 0 0 6 7 2 6 0 3 3 0 0 5 3 6 7 4 6 3 0 2 3 0 0 5 1 0 0 7 0 5 7 7 6\n",
      " 0 3 1 7 6 3 7 1 0 1]\n",
      "arracy on test set 0.26515151515151514\n"
     ]
    },
    {
     "data": {
      "application/vnd.jupyter.widget-view+json": {
       "model_id": "286122a77a484eacb8f37a1013df11e6",
       "version_major": 2,
       "version_minor": 0
      },
      "text/plain": [
       "HBox(children=(FloatProgress(value=0.0, max=24.0), HTML(value='')))"
      ]
     },
     "metadata": {},
     "output_type": "display_data"
    },
    {
     "name": "stdout",
     "output_type": "stream",
     "text": [
      "\n",
      "Epoch: 54, Loss:  0.19774053990840912\n"
     ]
    },
    {
     "data": {
      "application/vnd.jupyter.widget-view+json": {
       "model_id": "9fa09123903148988470a7e262af7371",
       "version_major": 2,
       "version_minor": 0
      },
      "text/plain": [
       "HBox(children=(FloatProgress(value=0.0, max=17.0), HTML(value='')))"
      ]
     },
     "metadata": {},
     "output_type": "display_data"
    },
    {
     "name": "stdout",
     "output_type": "stream",
     "text": [
      "\n",
      "guess [0 0 0 0 0 6 6 0 3 0 6 2 0 0 0 1 0 4 0 6 1 3 0 0 1 0 0 1 0 0 0 0 1 0 1 0 0\n",
      " 0 6 0 3 0 0 4 0 0 1 1 6 6 1 0 3 1 6 0 6 6 4 0 0 0 0 0 0 3 1 7 0 7 4 1 6 6\n",
      " 3 0 1 0 1 0 1 0 0 4 0 0 1 0 1 6 0 0 0 0 0 3 0 0 0 1 0 0 6 1 1 0 1 0 0 0 1\n",
      " 1 6 0 1 1 0 0 0 3 0 6 6 1 1 0 7 0 0 0 0 0 1 0 0 0 1 6 1 0 0 1 4 1 6 0 0 1\n",
      " 0 1 0 0 0 6 0 0 6 6 1 0 0 0 0 3 3 3 0 1 1 6 1 6 0 0 0 0 0 0 6 1 0 0 0 1 0\n",
      " 0 1 0 6 1 6 1 0 6 0 0 1 0 0 0 1 0 6 1 2 6 3 6 0 0 6 6 1 0 6 0 1 0 6 0 1 0\n",
      " 0 0 0 1 4 0 0 7 0 0 0 1 0 1 1 1 0 0 1 4 3 0 6 0 1 0 0 1 1 6 0 3 0 0 0 6 0\n",
      " 7 1 0 0 0 6 6 3 6 0 0 1 0 6 1 1 3 1 0 3 6 0 3 6 0 6 1 4 0 6 3 1 0 0 2 0 1\n",
      " 0 0 0 0 0 3 0 1 0 0 6 1 6 0 0 1 1 0 4 0 3 0 4 1 0 0 6 1 6 6 0 0 0 0 1 0 3\n",
      " 4 3 1 0 0 1 0 0 6 0 1 1 0 1 0 1 6 0 6 4 0 3 3 0 0 1 1 0 1 0 6 6 0 6 7 0 0\n",
      " 0 6 0 1 0 0 1 3 0 0 0 0 0 0 1 3 0 2 0 0 6 0 0 4 6 6 1 0 1 1 0 0 6 0 6 0 6\n",
      " 3 1 0 6 0 1 6 1 0 0 1 3 0 1 0 1 1 0 1 6 1 0 0 0 1 3 0 0 0 7 0 1 0 0 1 6 0\n",
      " 0 1 1 0 1 6 0 0 1 0 0 1 1 0 0 3 0 1 6 0 0 0 0 0 0 6 0 7 3 1 1 0 6 0 0 1 0\n",
      " 0 1 1 0 1 1 3 0 3 0 6 0 0 1 4 0 0 0 0 0 0 1 0 0 6 0 6 0 1 6 0 0 3 3 6 0 6\n",
      " 3 1 0 6 3 4 3 0 0 1]\n",
      "targs [7 0 4 0 1 6 2 7 3 7 7 3 0 2 7 2 6 4 0 6 1 5 2 0 0 6 0 1 2 0 4 0 0 1 1 0 0\n",
      " 0 1 0 7 2 0 7 0 0 3 3 1 0 6 6 2 4 2 4 3 4 0 0 7 7 5 1 0 3 0 4 0 3 6 0 6 2\n",
      " 3 0 1 0 7 7 1 0 7 1 1 0 2 7 7 6 0 7 7 2 1 6 3 1 5 4 0 0 3 6 0 6 0 0 6 3 4\n",
      " 5 1 7 3 5 7 0 0 3 0 0 1 3 3 0 0 0 1 1 0 4 0 0 0 3 5 0 2 0 0 5 4 1 0 3 7 0\n",
      " 0 2 0 2 1 3 0 3 1 1 6 0 3 0 0 0 0 2 4 6 3 1 1 1 3 6 3 7 7 6 5 6 1 5 1 2 0\n",
      " 2 0 6 0 7 3 4 0 0 1 0 0 0 0 0 4 0 4 1 3 0 6 7 3 1 6 5 1 4 7 3 2 7 4 0 7 1\n",
      " 6 0 5 7 1 7 1 5 0 0 1 0 1 4 0 3 0 0 7 0 2 7 1 4 5 1 1 7 0 1 0 1 1 7 1 5 1\n",
      " 4 7 3 7 6 6 1 0 3 3 6 6 1 4 2 2 0 1 7 0 4 2 6 0 0 3 7 6 1 0 6 3 7 0 1 0 2\n",
      " 0 0 1 0 0 3 0 3 1 7 0 6 2 3 2 6 4 0 4 1 3 2 0 7 0 7 7 1 0 7 3 1 3 6 0 1 5\n",
      " 2 2 2 3 7 4 0 0 2 0 0 1 1 3 3 6 6 1 7 7 0 2 2 1 0 7 3 0 6 5 1 6 0 3 0 5 5\n",
      " 2 6 1 7 7 4 0 4 1 6 0 3 5 5 0 3 0 3 0 5 6 5 1 4 0 5 2 3 3 3 3 0 6 1 2 3 7\n",
      " 2 3 7 7 1 3 7 6 0 5 6 4 2 0 3 1 0 0 0 0 6 3 4 7 2 1 1 0 1 7 0 3 4 0 6 3 0\n",
      " 6 3 5 6 0 4 1 2 2 0 0 5 7 4 7 3 7 2 6 0 2 5 0 7 1 3 6 0 0 5 3 5 7 7 7 0 2\n",
      " 5 1 3 0 2 2 1 5 4 1 7 5 4 3 4 0 0 0 0 0 1 4 0 0 0 7 6 7 3 1 7 7 1 4 2 4 5\n",
      " 3 2 0 4 0 2 5 4 0 4]\n",
      "arracy on test set 0.26325757575757575\n"
     ]
    },
    {
     "data": {
      "application/vnd.jupyter.widget-view+json": {
       "model_id": "15e56778062748688e1b6c3d1c691f10",
       "version_major": 2,
       "version_minor": 0
      },
      "text/plain": [
       "HBox(children=(FloatProgress(value=0.0, max=24.0), HTML(value='')))"
      ]
     },
     "metadata": {},
     "output_type": "display_data"
    },
    {
     "name": "stdout",
     "output_type": "stream",
     "text": [
      "\n",
      "Epoch: 55, Loss:  0.2433324009180069\n"
     ]
    },
    {
     "data": {
      "application/vnd.jupyter.widget-view+json": {
       "model_id": "7db06c4d29454f7681953226e7508bfc",
       "version_major": 2,
       "version_minor": 0
      },
      "text/plain": [
       "HBox(children=(FloatProgress(value=0.0, max=17.0), HTML(value='')))"
      ]
     },
     "metadata": {},
     "output_type": "display_data"
    },
    {
     "name": "stdout",
     "output_type": "stream",
     "text": [
      "\n",
      "guess [0 0 1 6 0 0 0 1 0 0 1 4 0 0 1 0 1 0 7 0 0 0 0 0 0 6 7 3 3 0 3 0 1 0 0 0 1\n",
      " 0 0 0 0 3 4 0 6 0 0 6 0 1 0 6 1 7 0 1 7 0 0 0 0 0 6 0 0 1 0 6 3 1 7 6 0 1\n",
      " 0 0 1 4 3 0 0 6 6 0 3 0 0 0 1 0 6 1 0 0 0 0 0 4 3 0 6 6 3 6 0 1 0 1 0 3 4\n",
      " 6 4 6 0 0 1 0 0 0 1 1 0 6 0 7 0 3 0 6 0 0 3 6 0 6 0 6 0 0 0 0 6 4 1 0 0 6\n",
      " 4 4 1 0 7 3 0 0 6 0 0 1 1 0 3 0 1 6 0 4 6 0 1 0 0 4 1 0 3 0 0 0 4 7 0 1 1\n",
      " 0 0 0 4 0 0 1 0 1 0 6 1 0 0 0 1 0 6 0 0 0 0 7 0 0 0 0 0 6 3 0 0 0 0 0 0 6\n",
      " 6 7 0 1 4 6 6 6 6 0 1 0 6 0 1 0 6 6 6 6 0 0 0 0 0 0 0 3 0 0 0 0 6 0 0 0 7\n",
      " 1 0 0 1 0 0 6 1 0 6 0 0 6 0 0 0 0 0 0 1 1 0 0 1 0 0 7 0 3 0 0 1 0 1 0 0 0\n",
      " 0 7 1 0 7 3 0 3 0 0 1 0 6 0 0 0 0 3 4 3 0 0 4 6 6 0 1 4 1 6 0 0 0 1 3 0 2\n",
      " 0 0 0 0 6 1 1 0 6 0 7 1 6 2 0 0 7 0 0 1 0 6 3 1 0 0 0 6 1 0 6 0 6 3 6 0 0\n",
      " 0 0 1 0 1 1 1 0 6 0 3 1 0 0 0 1 6 0 6 4 4 0 0 0 1 1 3 0 0 1 2 0 1 0 0 1 7\n",
      " 6 3 0 6 1 0 0 0 1 1 0 3 6 4 6 0 0 0 0 0 0 0 0 0 0 0 1 4 0 0 6 1 3 0 0 0 6\n",
      " 0 0 0 0 6 0 0 0 0 0 6 0 0 3 0 0 4 3 2 1 0 0 0 0 6 0 0 0 7 0 0 1 0 0 0 3 0\n",
      " 6 6 0 0 0 0 0 0 0 7 6 6 0 6 3 6 0 1 7 0 0 0 0 0 6 0 6 0 1 0 6 0 0 0 0 0 0\n",
      " 7 0 7 0 1 6 1 0 0 0]\n",
      "targs [0 7 0 4 0 0 7 6 0 3 3 0 0 0 0 0 3 1 0 1 7 1 0 6 0 2 7 5 3 0 0 7 6 1 3 0 6\n",
      " 0 0 1 1 1 1 2 4 1 7 0 7 1 0 1 3 0 0 5 7 0 5 0 7 0 4 0 3 3 6 7 6 0 5 4 4 0\n",
      " 5 6 4 7 6 2 6 7 6 6 1 7 3 6 3 4 5 0 1 0 0 0 0 1 3 0 0 3 2 3 2 6 5 6 6 3 2\n",
      " 0 4 1 0 0 1 3 0 1 1 7 3 1 1 0 5 6 2 0 1 5 2 7 5 2 0 6 2 7 1 0 4 4 5 5 3 2\n",
      " 1 2 6 0 3 0 2 7 5 0 1 3 5 1 5 0 3 7 1 7 6 0 5 7 6 6 7 0 3 7 5 0 0 3 2 7 0\n",
      " 0 1 6 4 0 7 4 4 0 1 4 0 0 1 2 3 5 2 7 0 1 4 2 0 3 3 0 7 7 4 1 2 3 7 7 1 0\n",
      " 7 3 1 2 6 5 5 0 0 0 3 3 1 4 3 1 2 7 3 1 0 1 0 6 6 3 0 3 2 0 6 0 6 2 7 4 2\n",
      " 2 1 7 6 5 7 3 2 7 6 6 0 0 4 0 3 7 2 1 4 0 0 0 1 1 1 4 5 6 0 0 4 1 7 7 3 0\n",
      " 0 0 0 1 4 1 0 4 0 0 4 3 3 0 0 3 0 2 4 0 0 5 6 7 0 1 2 0 2 7 1 0 0 7 0 2 3\n",
      " 7 1 0 7 2 1 1 0 3 0 4 2 1 1 0 7 0 1 7 0 6 0 1 3 0 7 4 6 3 6 1 7 1 3 3 4 0\n",
      " 7 5 3 1 3 6 2 7 2 3 4 7 1 0 3 7 1 7 6 2 4 3 0 3 1 5 3 0 6 4 3 0 2 3 0 6 0\n",
      " 6 2 0 4 4 6 0 5 2 2 7 0 1 0 5 0 0 7 7 1 1 1 0 3 0 5 7 4 0 1 7 4 7 3 5 4 6\n",
      " 5 0 0 2 6 7 0 0 1 6 1 0 3 5 0 0 2 2 3 5 3 3 3 0 7 1 7 6 0 6 5 5 0 0 1 2 1\n",
      " 0 3 7 3 0 7 0 1 0 1 4 2 0 0 3 6 1 0 4 2 4 3 1 7 6 0 1 0 1 4 6 2 0 0 0 0 7\n",
      " 4 0 7 0 3 0 2 0 2 1]\n",
      "arracy on test set 0.2708333333333333\n"
     ]
    },
    {
     "data": {
      "application/vnd.jupyter.widget-view+json": {
       "model_id": "0768135aaa174caaa95b494f04a74aef",
       "version_major": 2,
       "version_minor": 0
      },
      "text/plain": [
       "HBox(children=(FloatProgress(value=0.0, max=24.0), HTML(value='')))"
      ]
     },
     "metadata": {},
     "output_type": "display_data"
    },
    {
     "name": "stdout",
     "output_type": "stream",
     "text": [
      "\n",
      "Epoch: 56, Loss:  0.2766207456588745\n"
     ]
    },
    {
     "data": {
      "application/vnd.jupyter.widget-view+json": {
       "model_id": "48363a5137c34f57b31842b57f6d40b5",
       "version_major": 2,
       "version_minor": 0
      },
      "text/plain": [
       "HBox(children=(FloatProgress(value=0.0, max=17.0), HTML(value='')))"
      ]
     },
     "metadata": {},
     "output_type": "display_data"
    },
    {
     "name": "stdout",
     "output_type": "stream",
     "text": [
      "\n",
      "guess [6 0 7 6 1 1 6 3 7 1 1 0 0 3 0 1 1 3 0 6 6 1 0 1 7 0 1 3 4 4 3 0 0 1 3 6 0\n",
      " 6 3 1 0 6 6 1 0 2 0 0 1 1 0 7 1 0 0 0 0 0 1 3 0 0 1 7 6 0 7 0 1 1 0 6 1 1\n",
      " 0 3 3 1 0 0 0 0 1 0 0 0 1 0 7 1 0 0 6 3 0 0 1 0 1 0 0 1 0 1 0 0 1 1 0 0 0\n",
      " 0 4 0 0 0 1 0 6 0 0 0 1 6 6 1 0 7 0 0 1 0 1 1 3 3 0 0 0 1 1 1 6 0 0 0 0 0\n",
      " 0 0 1 1 1 0 6 3 1 6 6 3 0 0 0 0 1 0 1 0 3 0 4 6 0 3 0 0 0 0 0 6 0 0 1 0 1\n",
      " 6 0 6 0 0 0 7 1 0 0 3 0 6 1 7 1 0 6 1 0 1 7 6 0 1 6 1 0 0 0 0 0 7 6 3 0 0\n",
      " 6 0 1 0 1 0 0 0 0 4 0 1 1 6 0 6 3 0 0 0 1 0 3 0 0 0 6 1 1 3 1 0 1 6 0 0 0\n",
      " 3 0 3 0 1 4 3 1 1 6 3 0 0 6 3 0 0 0 0 0 0 0 1 1 3 0 6 0 0 0 1 0 0 6 0 0 6\n",
      " 0 6 6 0 1 3 0 1 4 0 0 1 7 6 0 1 0 0 3 1 0 7 0 0 1 1 0 3 6 0 1 6 0 6 0 0 0\n",
      " 1 3 0 0 1 1 3 0 0 0 1 1 6 0 7 4 6 6 6 1 0 6 3 1 4 1 6 6 3 1 0 1 0 0 6 1 1\n",
      " 7 6 1 0 0 0 7 0 0 0 0 0 0 6 1 0 0 0 0 0 0 1 1 1 1 1 0 0 0 0 7 0 0 0 0 1 3\n",
      " 6 0 0 0 6 4 0 1 0 0 0 0 0 7 0 1 3 6 0 7 0 1 1 0 1 0 0 0 0 0 1 0 3 1 6 6 6\n",
      " 7 0 0 4 0 1 1 0 0 3 0 0 1 0 0 4 0 7 1 1 1 7 0 0 0 1 3 6 0 1 0 0 1 1 7 0 3\n",
      " 1 3 1 0 1 0 7 4 1 6 0 4 0 0 1 3 0 0 1 1 7 0 1 0 0 0 1 0 7 1 1 0 7 0 0 3 0\n",
      " 7 1 3 0 7 6 0 6 1 0]\n",
      "targs [6 6 4 1 0 6 2 0 7 3 1 1 5 3 0 3 0 7 0 5 1 0 5 3 0 0 6 4 1 1 2 1 0 4 1 6 6\n",
      " 0 3 5 7 6 7 1 1 3 0 0 2 0 0 2 2 6 4 0 5 0 2 4 3 0 7 7 0 7 0 1 5 1 1 7 7 2\n",
      " 0 6 1 7 0 5 0 0 7 0 0 3 3 1 3 2 7 6 3 0 1 0 7 3 4 0 0 0 0 6 0 1 3 1 3 0 0\n",
      " 6 6 2 1 7 7 7 3 1 4 0 4 0 3 6 1 0 0 0 0 1 2 7 5 4 7 3 1 0 0 7 3 0 2 6 1 7\n",
      " 0 1 6 3 3 1 5 6 1 7 1 1 3 0 1 1 1 3 5 1 3 2 4 6 0 0 0 5 7 5 0 5 7 0 0 2 5\n",
      " 0 6 4 2 3 5 4 3 3 1 7 4 6 6 0 3 7 6 3 0 0 0 2 3 4 4 1 0 0 3 1 7 3 7 1 5 0\n",
      " 4 0 0 0 0 2 7 2 0 4 6 1 3 4 2 6 2 5 2 0 0 0 1 0 6 0 6 6 3 3 0 0 0 2 4 0 1\n",
      " 2 2 0 5 7 7 1 0 6 2 3 0 0 1 2 5 5 0 3 1 4 0 3 0 7 0 7 0 5 4 1 6 7 1 1 0 1\n",
      " 2 7 4 1 0 5 3 5 0 4 7 5 7 6 0 3 1 6 3 5 1 0 7 7 2 0 0 6 0 0 1 1 1 4 0 1 1\n",
      " 2 3 0 0 6 3 6 0 0 7 1 6 7 0 7 0 7 0 6 3 5 6 3 0 0 7 0 0 0 1 4 4 1 0 6 0 3\n",
      " 3 0 7 0 0 3 7 0 0 1 0 0 1 3 2 6 3 2 7 0 0 1 3 6 2 3 0 0 1 4 0 1 7 1 7 1 3\n",
      " 4 0 0 6 2 4 7 3 1 3 5 7 3 4 0 7 0 1 3 0 3 4 4 6 2 7 0 7 4 1 2 0 5 2 1 2 3\n",
      " 2 0 7 2 0 2 4 7 1 0 4 1 2 0 7 6 0 0 0 2 0 0 7 5 1 1 2 0 7 4 7 3 6 4 5 3 3\n",
      " 3 0 2 2 5 1 4 4 3 5 0 4 0 2 7 6 1 7 1 6 4 7 3 0 6 7 0 0 2 3 6 0 1 6 4 2 0\n",
      " 2 0 0 3 5 5 7 0 7 7]\n",
      "arracy on test set 0.25757575757575757\n"
     ]
    },
    {
     "data": {
      "application/vnd.jupyter.widget-view+json": {
       "model_id": "3ade128e9cbe4d7886dc672c716d7067",
       "version_major": 2,
       "version_minor": 0
      },
      "text/plain": [
       "HBox(children=(FloatProgress(value=0.0, max=24.0), HTML(value='')))"
      ]
     },
     "metadata": {},
     "output_type": "display_data"
    },
    {
     "name": "stdout",
     "output_type": "stream",
     "text": [
      "\n",
      "Epoch: 57, Loss:  0.22729764878749847\n"
     ]
    },
    {
     "data": {
      "application/vnd.jupyter.widget-view+json": {
       "model_id": "e158b55d4b524e1cb02101cefb06d2b2",
       "version_major": 2,
       "version_minor": 0
      },
      "text/plain": [
       "HBox(children=(FloatProgress(value=0.0, max=17.0), HTML(value='')))"
      ]
     },
     "metadata": {},
     "output_type": "display_data"
    },
    {
     "name": "stdout",
     "output_type": "stream",
     "text": [
      "\n",
      "guess [3 0 3 0 7 0 0 1 7 0 0 6 0 6 0 3 6 0 0 0 7 1 1 1 3 0 0 6 6 0 1 1 4 4 3 3 6\n",
      " 0 4 0 0 1 4 0 6 0 1 0 0 6 6 6 0 0 0 0 0 0 0 1 0 0 0 0 6 0 0 0 0 0 6 2 0 0\n",
      " 0 6 6 3 0 0 0 3 0 0 3 0 0 3 0 0 0 0 0 6 0 6 1 3 0 0 0 6 0 0 0 4 0 6 3 0 1\n",
      " 6 0 0 0 6 0 0 5 6 6 1 3 0 6 7 0 1 3 6 0 0 3 0 0 3 0 6 0 4 6 3 0 0 3 0 0 0\n",
      " 1 1 0 6 1 6 0 6 6 0 6 6 6 0 0 0 7 0 0 0 0 6 1 1 4 3 0 0 0 6 1 0 4 3 1 3 6\n",
      " 1 1 0 0 0 6 0 4 6 0 0 1 0 0 1 1 6 1 0 1 1 1 1 6 0 0 6 0 7 3 6 2 1 1 6 1 1\n",
      " 0 0 0 0 0 7 1 0 0 0 1 0 0 0 6 6 1 0 0 1 6 1 1 1 6 1 6 0 0 0 0 0 6 3 0 0 3\n",
      " 1 1 1 7 1 6 0 0 0 6 0 1 6 0 0 0 0 0 6 3 0 0 6 6 0 1 6 7 7 0 0 6 0 0 1 6 0\n",
      " 3 0 0 6 1 0 7 0 1 6 1 0 6 0 0 0 6 0 0 0 4 6 0 6 0 1 6 7 0 0 1 0 1 3 3 0 0\n",
      " 0 1 3 0 4 1 0 6 0 0 0 0 0 0 0 0 6 0 0 1 2 6 7 6 0 0 3 0 0 0 6 0 0 6 7 0 6\n",
      " 6 0 0 0 0 5 0 0 1 1 6 0 0 0 0 3 1 6 1 1 1 3 0 7 6 1 3 0 1 1 0 6 0 0 3 6 0\n",
      " 0 0 0 0 1 0 0 0 0 2 6 0 0 0 0 3 0 1 6 1 0 1 0 7 1 0 0 1 0 0 0 0 1 0 0 0 0\n",
      " 0 0 0 0 0 6 3 0 0 0 6 0 7 7 1 3 6 0 0 1 3 0 4 1 6 3 7 0 0 6 0 0 0 3 1 6 1\n",
      " 3 3 1 6 0 1 7 0 6 0 0 2 6 6 3 0 1 0 0 0 0 3 1 3 0 0 0 0 1 0 1 0 3 4 0 7 0\n",
      " 6 0 0 0 1 0 0 3 1 0]\n",
      "targs [1 3 0 3 0 1 6 7 0 0 1 0 5 1 7 0 0 5 0 2 5 1 1 6 0 0 1 0 3 1 4 3 0 4 5 0 2\n",
      " 7 7 0 0 3 2 0 1 1 0 0 1 2 0 4 0 7 0 0 7 0 0 5 0 5 5 7 3 0 0 6 0 1 6 5 0 0\n",
      " 0 1 2 6 4 1 4 4 0 3 3 1 7 6 1 0 0 1 0 7 7 1 3 1 2 7 0 4 3 4 0 0 1 6 4 2 3\n",
      " 1 4 1 0 6 1 5 0 7 6 4 3 3 5 1 0 7 5 7 0 0 3 4 0 1 0 7 0 4 3 4 1 0 2 3 0 5\n",
      " 7 0 7 4 3 6 0 1 6 3 0 6 1 6 5 7 0 1 0 0 0 7 7 5 4 0 3 0 2 7 3 7 4 3 3 0 7\n",
      " 0 7 6 0 3 3 0 1 7 6 6 0 7 0 2 6 0 5 0 2 0 5 2 0 3 1 1 1 0 2 6 3 3 3 3 2 7\n",
      " 6 0 1 6 5 0 3 7 0 0 1 4 3 0 1 4 3 1 2 0 7 2 1 3 0 4 6 0 0 5 7 0 3 7 0 7 2\n",
      " 4 5 1 3 7 6 0 2 1 4 1 3 1 7 1 0 1 6 0 6 7 6 1 2 7 7 6 2 0 2 0 1 0 0 3 2 0\n",
      " 3 7 0 6 0 1 4 1 3 0 4 0 0 7 0 1 0 0 0 1 0 7 0 1 7 6 5 3 0 0 0 1 5 2 2 0 7\n",
      " 3 2 6 4 6 3 0 0 0 7 0 3 0 5 7 1 2 3 7 3 4 4 2 5 0 1 1 7 7 1 3 5 5 2 4 7 4\n",
      " 6 1 4 1 0 0 0 6 0 3 4 1 0 0 2 1 6 2 6 5 2 3 7 0 2 5 7 0 0 0 7 4 6 0 3 1 3\n",
      " 7 0 3 2 1 6 7 2 0 2 0 6 1 1 1 4 7 0 1 6 1 6 5 3 6 0 0 0 3 4 3 2 4 1 0 6 4\n",
      " 1 3 0 4 2 0 2 0 0 0 0 7 7 7 0 2 6 5 0 2 3 6 6 1 5 0 7 5 3 7 3 3 0 7 2 4 2\n",
      " 5 0 2 2 6 3 4 0 2 0 0 3 5 1 7 0 1 7 1 2 7 3 2 3 0 2 1 6 4 0 1 7 3 7 1 4 4\n",
      " 6 3 6 1 6 5 0 0 3 7]\n",
      "arracy on test set 0.26136363636363635\n"
     ]
    },
    {
     "data": {
      "application/vnd.jupyter.widget-view+json": {
       "model_id": "1a24df12237341f280a6f5d8319c9207",
       "version_major": 2,
       "version_minor": 0
      },
      "text/plain": [
       "HBox(children=(FloatProgress(value=0.0, max=24.0), HTML(value='')))"
      ]
     },
     "metadata": {},
     "output_type": "display_data"
    },
    {
     "name": "stdout",
     "output_type": "stream",
     "text": [
      "\n",
      "Epoch: 58, Loss:  0.20506833493709564\n"
     ]
    },
    {
     "data": {
      "application/vnd.jupyter.widget-view+json": {
       "model_id": "12fb63630ddb498991225d352e0fee1f",
       "version_major": 2,
       "version_minor": 0
      },
      "text/plain": [
       "HBox(children=(FloatProgress(value=0.0, max=17.0), HTML(value='')))"
      ]
     },
     "metadata": {},
     "output_type": "display_data"
    },
    {
     "name": "stdout",
     "output_type": "stream",
     "text": [
      "\n",
      "guess [1 0 6 1 6 0 1 1 1 1 7 6 3 0 0 1 1 0 0 3 6 7 6 1 0 1 4 1 0 0 1 0 6 0 0 0 1\n",
      " 6 1 6 0 1 4 0 1 0 0 1 1 0 0 0 0 1 1 6 0 1 0 6 0 0 6 0 6 1 4 0 0 0 1 0 0 0\n",
      " 4 1 1 6 1 4 1 0 0 0 1 1 1 1 1 4 0 1 2 3 6 0 7 1 1 0 0 0 1 0 0 0 0 0 6 1 3\n",
      " 6 0 0 6 0 0 0 0 0 3 1 6 6 6 0 0 0 0 0 0 7 6 0 0 6 1 0 0 1 6 1 1 0 0 1 0 0\n",
      " 6 0 0 6 1 1 7 1 0 0 6 7 1 6 1 1 3 1 0 1 0 0 0 6 6 0 1 1 1 0 0 6 1 0 1 0 0\n",
      " 0 0 0 1 0 6 0 1 1 1 1 3 0 0 0 0 3 3 0 3 3 6 1 0 6 7 0 1 0 1 1 0 1 0 7 1 1\n",
      " 3 0 0 0 0 0 1 0 0 0 7 0 1 3 0 1 0 0 0 0 5 1 0 0 0 0 1 1 0 0 6 3 0 0 0 1 0\n",
      " 4 0 1 0 0 0 3 3 1 1 0 1 3 0 0 0 0 0 0 1 1 0 7 0 1 1 7 0 1 0 6 2 1 0 1 0 4\n",
      " 0 3 1 0 0 7 0 0 0 1 1 6 6 6 6 0 0 1 0 1 0 3 1 1 1 7 1 1 3 0 1 1 3 7 1 6 1\n",
      " 0 1 0 0 6 0 0 3 0 0 3 3 0 0 1 0 3 0 0 0 1 0 6 3 1 3 0 3 4 3 0 0 0 0 0 6 0\n",
      " 0 1 0 0 1 0 0 0 0 0 0 1 1 0 1 1 6 1 1 0 1 1 0 1 1 0 0 4 6 0 0 1 3 0 0 0 0\n",
      " 0 0 3 0 1 0 0 1 6 3 0 4 0 0 7 0 0 2 3 1 0 0 0 1 1 0 0 1 1 1 0 1 6 3 6 2 0\n",
      " 0 6 0 0 4 1 7 1 0 3 0 0 0 4 0 0 0 4 4 6 0 0 1 0 3 1 0 0 0 1 0 4 6 0 0 1 0\n",
      " 6 0 7 0 1 1 0 0 1 6 7 1 6 1 6 1 0 1 7 6 0 1 3 0 6 0 1 6 0 0 6 6 1 0 0 1 0\n",
      " 0 0 0 0 1 6 6 3 3 6]\n",
      "targs [6 7 0 0 1 3 6 7 2 0 3 6 3 5 1 0 3 0 5 4 0 4 0 3 0 0 0 1 1 0 2 7 1 3 0 6 1\n",
      " 3 7 6 3 0 4 0 7 0 0 1 4 1 3 6 5 3 5 1 0 1 0 2 7 7 5 0 7 1 2 0 0 7 3 0 3 0\n",
      " 7 0 5 4 7 1 6 7 2 1 1 7 6 3 6 0 7 0 3 0 7 3 0 6 6 2 0 6 3 1 0 0 4 4 6 6 4\n",
      " 1 7 2 6 7 1 6 0 0 0 0 5 7 7 5 0 0 0 6 0 4 6 1 0 2 4 2 1 0 6 1 1 0 0 0 7 0\n",
      " 4 7 4 1 6 0 7 0 3 1 4 0 1 3 6 1 5 3 1 0 6 0 0 5 5 2 7 6 5 4 1 1 0 7 5 7 0\n",
      " 7 7 0 0 0 4 4 6 0 5 6 3 7 0 7 6 6 5 5 1 2 0 3 0 6 1 7 6 5 7 7 0 3 4 4 5 0\n",
      " 2 1 3 0 3 7 6 4 6 1 7 1 3 7 0 0 0 1 0 1 0 3 5 0 3 2 0 3 7 1 0 7 3 7 5 3 0\n",
      " 2 1 3 0 1 0 2 0 3 4 3 2 0 0 5 3 4 2 0 6 4 4 0 2 4 2 2 0 7 0 3 1 1 1 2 7 6\n",
      " 1 7 7 4 0 5 0 1 7 0 2 0 7 6 2 0 2 0 0 2 6 1 0 1 0 2 3 5 4 5 3 0 1 3 3 4 2\n",
      " 2 7 0 3 6 1 1 0 1 0 3 3 0 5 0 1 6 5 1 7 1 7 0 2 7 0 3 6 4 3 1 1 5 7 0 3 0\n",
      " 7 3 0 3 3 0 1 7 0 7 0 7 3 3 5 0 0 1 0 0 4 4 1 1 3 7 6 1 0 7 7 3 0 0 0 0 6\n",
      " 2 1 2 0 5 6 0 1 2 1 0 4 0 6 4 6 4 1 2 2 0 0 5 6 3 0 0 3 1 7 1 2 4 5 7 3 1\n",
      " 0 1 0 3 4 2 0 1 0 0 4 2 1 7 1 1 7 6 4 6 0 0 4 1 0 2 0 7 0 5 1 0 6 5 6 2 0\n",
      " 2 7 0 1 4 7 3 4 2 3 0 3 0 7 5 0 0 3 3 0 2 4 2 0 1 3 2 6 0 0 7 0 2 2 1 3 3\n",
      " 1 0 7 0 0 2 4 3 3 2]\n",
      "arracy on test set 0.24621212121212122\n"
     ]
    },
    {
     "data": {
      "application/vnd.jupyter.widget-view+json": {
       "model_id": "ef006d5762e14627974d82181cd04cb7",
       "version_major": 2,
       "version_minor": 0
      },
      "text/plain": [
       "HBox(children=(FloatProgress(value=0.0, max=24.0), HTML(value='')))"
      ]
     },
     "metadata": {},
     "output_type": "display_data"
    },
    {
     "name": "stdout",
     "output_type": "stream",
     "text": [
      "\n",
      "Epoch: 59, Loss:  0.27079805731773376\n"
     ]
    },
    {
     "data": {
      "application/vnd.jupyter.widget-view+json": {
       "model_id": "8faeb31eac3a4a2195b2a735e5c1365a",
       "version_major": 2,
       "version_minor": 0
      },
      "text/plain": [
       "HBox(children=(FloatProgress(value=0.0, max=17.0), HTML(value='')))"
      ]
     },
     "metadata": {},
     "output_type": "display_data"
    },
    {
     "name": "stdout",
     "output_type": "stream",
     "text": [
      "\n",
      "guess [1 0 0 0 4 0 0 0 1 0 0 0 3 0 7 0 6 1 1 0 0 3 0 6 0 0 3 6 0 0 0 1 3 1 0 0 0\n",
      " 0 0 0 3 1 1 6 0 5 6 0 4 0 0 1 3 1 0 0 3 0 3 0 1 3 4 1 7 0 3 1 0 0 1 6 0 0\n",
      " 0 6 6 0 4 0 6 4 0 0 0 0 1 6 1 0 3 0 0 0 6 6 1 0 0 0 1 0 0 0 0 6 6 3 6 0 1\n",
      " 6 0 6 0 0 0 7 0 0 3 0 1 6 0 0 0 0 0 2 1 4 6 6 1 6 6 6 0 1 0 1 1 0 1 0 7 6\n",
      " 0 6 7 0 0 0 0 0 0 0 2 6 0 5 1 6 6 0 0 0 0 0 0 1 0 1 1 6 0 0 6 6 3 0 0 0 1\n",
      " 0 6 6 1 0 1 6 0 0 6 0 0 6 0 6 6 6 0 0 3 1 6 0 7 1 1 1 7 0 0 3 6 6 6 0 0 0\n",
      " 0 6 0 0 6 1 0 3 1 3 6 0 0 0 0 7 1 0 0 6 7 0 0 0 7 0 1 0 1 1 1 0 6 1 0 1 3\n",
      " 0 1 0 1 0 0 1 0 5 0 0 1 3 6 0 0 6 6 6 1 0 1 1 1 3 0 0 0 6 0 1 6 7 0 0 1 0\n",
      " 0 3 0 0 1 0 1 3 1 1 0 6 1 0 6 0 3 1 0 3 0 1 1 6 6 0 3 0 1 7 1 3 4 0 0 1 7\n",
      " 6 1 7 6 0 7 0 0 1 0 3 1 4 0 0 0 0 1 0 6 0 1 7 6 1 0 0 0 6 0 6 1 0 0 6 0 0\n",
      " 6 0 0 0 6 6 0 0 0 1 0 3 1 6 0 6 6 0 0 0 0 0 0 0 0 6 1 1 1 3 0 0 3 6 3 6 6\n",
      " 0 6 0 0 0 1 0 3 0 1 0 0 3 0 0 1 5 0 0 1 0 0 0 6 3 0 3 3 6 0 0 0 0 0 1 6 0\n",
      " 6 7 6 1 0 0 4 0 3 0 1 0 0 6 6 6 0 1 0 6 1 6 0 0 1 0 0 6 0 3 0 7 6 6 3 6 7\n",
      " 0 0 0 6 1 0 7 0 0 0 1 0 3 6 0 0 1 7 3 0 0 1 1 0 3 0 1 0 7 0 0 0 0 6 6 1 0\n",
      " 0 6 1 0 0 0 6 0 0 0]\n",
      "targs [1 1 0 6 4 2 2 3 2 0 0 0 4 0 2 5 0 2 2 0 3 4 6 4 1 0 3 3 0 0 0 3 1 7 4 0 4\n",
      " 0 6 0 1 0 3 2 0 1 0 0 0 6 1 0 0 2 0 0 4 3 2 0 2 0 1 0 0 0 6 2 1 4 3 2 0 0\n",
      " 1 7 3 0 4 7 1 0 1 6 7 6 6 0 5 1 2 7 7 4 2 2 6 4 7 5 6 0 7 0 7 3 2 3 4 0 0\n",
      " 6 0 3 3 1 0 5 0 0 3 1 2 0 6 1 3 5 1 5 3 6 1 6 4 6 6 0 1 6 7 0 4 7 4 1 3 6\n",
      " 1 0 0 2 0 0 2 1 3 4 3 0 2 0 2 2 7 7 1 0 0 1 0 5 2 3 3 3 3 1 7 7 7 0 6 4 2\n",
      " 7 6 4 4 7 0 2 0 6 1 7 7 7 6 0 0 6 2 3 6 6 1 7 4 2 3 5 4 7 4 2 0 6 4 0 1 0\n",
      " 7 5 7 3 0 2 1 4 1 5 3 7 1 5 5 7 4 2 6 6 2 0 0 4 0 7 3 6 7 0 4 0 1 7 3 1 0\n",
      " 3 5 0 1 1 0 0 4 0 0 0 0 2 1 7 3 4 0 0 0 0 0 3 1 1 0 0 1 6 0 1 6 2 6 4 1 7\n",
      " 1 5 5 2 3 3 0 2 0 7 1 5 2 2 4 3 1 5 7 0 5 3 6 4 5 1 3 1 1 0 1 0 4 0 4 3 0\n",
      " 6 4 6 7 7 3 1 0 6 3 7 0 7 1 3 0 0 6 0 6 0 5 0 6 0 0 0 0 6 0 2 0 0 0 1 0 5\n",
      " 0 0 0 3 1 7 6 7 0 3 3 3 3 7 7 5 7 0 3 1 0 3 7 0 7 1 1 0 3 0 2 1 0 1 3 3 6\n",
      " 7 7 0 1 1 3 0 2 0 4 0 7 1 0 0 0 0 3 0 5 5 7 1 1 3 0 7 0 1 3 5 0 7 1 6 5 0\n",
      " 1 3 6 4 0 5 4 3 6 0 7 5 3 7 6 0 0 2 5 2 7 0 6 1 1 2 0 0 0 3 4 7 3 4 5 1 7\n",
      " 0 1 7 1 7 6 1 7 2 0 3 7 2 4 1 7 7 7 7 1 0 2 3 3 1 5 3 1 4 0 1 1 5 3 2 0 5\n",
      " 3 0 5 2 0 7 7 0 0 6]\n",
      "arracy on test set 0.2556818181818182\n"
     ]
    },
    {
     "data": {
      "application/vnd.jupyter.widget-view+json": {
       "model_id": "233a1097f3294dceb660aaf080f8b989",
       "version_major": 2,
       "version_minor": 0
      },
      "text/plain": [
       "HBox(children=(FloatProgress(value=0.0, max=24.0), HTML(value='')))"
      ]
     },
     "metadata": {},
     "output_type": "display_data"
    },
    {
     "name": "stdout",
     "output_type": "stream",
     "text": [
      "\n",
      "Epoch: 60, Loss:  0.24888288974761963\n"
     ]
    },
    {
     "data": {
      "application/vnd.jupyter.widget-view+json": {
       "model_id": "b78bb632a2b44f3a9a2c2460153731db",
       "version_major": 2,
       "version_minor": 0
      },
      "text/plain": [
       "HBox(children=(FloatProgress(value=0.0, max=17.0), HTML(value='')))"
      ]
     },
     "metadata": {},
     "output_type": "display_data"
    },
    {
     "name": "stdout",
     "output_type": "stream",
     "text": [
      "\n",
      "guess [0 0 6 7 1 0 0 6 1 0 3 6 6 6 3 0 1 1 0 3 0 0 0 0 0 0 1 0 1 0 0 0 3 0 7 1 7\n",
      " 6 1 1 1 0 4 1 0 0 0 6 1 6 1 0 1 1 0 0 0 0 0 1 6 0 0 0 0 1 0 6 1 0 1 0 1 1\n",
      " 1 0 0 1 0 0 0 1 0 1 6 0 0 0 7 1 1 0 6 1 0 1 1 0 0 1 0 0 0 3 0 0 3 0 1 7 0\n",
      " 0 1 6 0 3 1 0 0 1 3 0 0 0 0 0 6 0 0 1 0 0 6 0 0 0 4 0 1 6 7 2 0 1 0 0 1 0\n",
      " 1 1 1 6 6 0 1 0 6 7 0 6 0 1 0 1 1 1 1 1 6 0 0 0 1 0 0 0 1 6 0 1 0 0 0 0 1\n",
      " 1 4 1 0 1 7 1 0 0 0 0 1 0 0 0 0 6 0 0 1 0 3 7 6 6 0 1 1 1 6 0 0 0 6 0 1 0\n",
      " 1 1 0 0 4 4 4 0 1 0 0 0 6 0 1 4 2 0 6 1 6 3 0 0 0 1 3 0 6 0 1 1 0 7 1 0 1\n",
      " 3 0 1 0 0 0 0 6 0 1 1 0 0 6 6 0 0 1 1 6 0 1 0 0 0 0 1 3 0 1 6 1 3 0 6 1 6\n",
      " 0 1 0 0 1 1 6 0 0 0 7 0 1 1 0 6 0 6 0 7 1 1 1 0 3 0 1 1 1 0 1 1 0 0 0 0 0\n",
      " 0 0 1 7 0 0 1 0 6 0 0 0 6 0 0 1 3 0 0 3 1 0 4 0 0 1 0 6 0 6 2 0 6 6 1 5 1\n",
      " 7 0 1 0 0 6 1 6 1 0 0 1 0 1 1 0 1 1 0 1 6 1 0 3 0 1 1 1 0 6 1 0 0 0 6 4 0\n",
      " 0 0 3 0 0 0 0 0 0 6 1 6 7 1 1 0 1 6 0 0 0 3 0 1 6 6 4 6 1 7 3 0 0 1 6 1 0\n",
      " 0 0 0 1 0 0 0 4 7 0 0 1 6 1 7 4 1 0 1 6 0 0 1 0 7 0 6 1 4 0 0 7 4 3 0 0 2\n",
      " 0 0 0 0 0 0 0 4 0 1 0 0 7 1 1 3 0 1 1 1 6 0 1 0 0 0 0 6 0 1 0 0 0 5 1 0 0\n",
      " 0 0 7 1 0 1 0 1 1 0]\n",
      "targs [0 4 6 5 0 1 0 3 3 0 4 0 2 0 3 0 3 7 3 0 0 1 7 1 3 0 0 7 7 1 2 0 6 0 5 2 3\n",
      " 1 1 3 5 1 7 1 3 7 2 0 6 6 7 0 0 4 2 1 3 0 0 1 1 0 5 0 0 7 1 7 1 7 0 1 2 2\n",
      " 7 1 0 2 4 0 6 1 6 3 6 0 1 6 4 6 1 6 6 7 4 0 7 7 5 5 7 0 3 1 3 0 1 0 3 7 0\n",
      " 7 2 6 3 3 4 0 3 7 5 4 0 7 7 7 5 5 7 3 7 6 6 7 0 0 4 1 1 5 0 1 0 2 1 2 2 0\n",
      " 7 2 0 4 7 0 2 0 7 4 0 7 0 4 7 0 0 3 6 6 0 2 0 0 4 2 7 6 6 6 7 3 0 1 0 1 0\n",
      " 4 4 1 7 0 2 1 4 0 0 0 2 0 7 0 3 2 7 0 2 2 2 3 1 1 7 1 5 3 7 0 0 3 6 1 5 4\n",
      " 3 0 1 1 1 1 6 7 7 2 0 0 5 1 0 7 3 1 0 6 2 1 6 3 3 0 3 3 2 3 1 1 0 0 0 0 6\n",
      " 3 5 6 2 7 1 7 0 1 4 1 2 5 7 3 1 5 0 3 0 3 5 4 0 0 0 6 3 0 0 2 6 2 0 2 3 3\n",
      " 4 5 4 3 7 3 5 0 2 6 3 6 6 2 4 2 0 6 1 0 3 4 6 1 4 0 6 3 7 0 3 5 0 1 7 5 7\n",
      " 0 0 3 4 1 4 0 4 4 0 5 6 5 0 7 7 3 0 0 0 3 7 4 0 6 2 1 3 0 4 3 1 3 3 1 2 3\n",
      " 0 7 5 2 1 4 3 3 0 7 0 0 1 1 3 3 5 6 3 0 0 0 1 5 0 3 2 2 0 0 2 0 1 5 6 0 2\n",
      " 0 1 2 5 6 7 7 5 0 4 0 6 1 4 1 3 1 0 0 0 5 2 1 6 1 4 4 4 6 2 3 1 0 6 1 1 0\n",
      " 3 7 0 6 0 0 6 0 7 1 0 0 1 0 4 2 0 6 0 1 5 1 1 6 7 2 7 3 4 0 0 0 6 7 7 3 0\n",
      " 0 3 0 6 0 5 4 2 1 4 0 7 0 0 3 5 1 7 0 1 1 7 3 0 1 7 0 7 0 2 6 0 0 0 0 1 4\n",
      " 0 0 0 0 0 7 7 4 5 2]\n",
      "arracy on test set 0.26325757575757575\n"
     ]
    },
    {
     "data": {
      "application/vnd.jupyter.widget-view+json": {
       "model_id": "04a363aaa6114f19908cf3822ff256f2",
       "version_major": 2,
       "version_minor": 0
      },
      "text/plain": [
       "HBox(children=(FloatProgress(value=0.0, max=24.0), HTML(value='')))"
      ]
     },
     "metadata": {},
     "output_type": "display_data"
    },
    {
     "name": "stdout",
     "output_type": "stream",
     "text": [
      "\n",
      "Epoch: 61, Loss:  0.10746356844902039\n"
     ]
    },
    {
     "data": {
      "application/vnd.jupyter.widget-view+json": {
       "model_id": "6bf3005853834637bb2875720f603da8",
       "version_major": 2,
       "version_minor": 0
      },
      "text/plain": [
       "HBox(children=(FloatProgress(value=0.0, max=17.0), HTML(value='')))"
      ]
     },
     "metadata": {},
     "output_type": "display_data"
    },
    {
     "name": "stdout",
     "output_type": "stream",
     "text": [
      "\n",
      "guess [0 0 7 0 4 0 0 0 7 0 0 0 4 1 3 3 0 0 7 4 3 3 0 0 6 6 0 1 3 6 0 0 6 1 0 3 0\n",
      " 0 6 0 0 1 0 0 0 0 7 0 0 6 0 7 6 6 0 6 0 0 6 0 0 0 0 0 6 0 0 0 1 0 3 1 0 0\n",
      " 6 0 6 0 0 0 3 1 0 0 0 1 1 1 0 0 6 6 3 0 3 3 3 0 3 0 1 0 6 0 3 0 1 4 4 0 0\n",
      " 7 0 7 0 6 3 0 0 0 6 0 1 6 0 2 4 0 0 6 0 3 6 0 3 1 6 6 1 3 0 3 1 3 0 0 0 0\n",
      " 1 1 6 0 6 3 6 0 1 0 6 0 0 3 1 3 0 0 0 0 3 0 0 7 0 1 6 0 0 4 4 0 0 0 0 1 0\n",
      " 6 0 0 0 0 0 0 0 7 0 6 0 1 0 0 1 0 0 0 0 0 0 3 6 6 6 0 0 0 3 0 0 6 0 1 0 3\n",
      " 0 0 3 6 0 3 0 1 1 0 0 6 0 0 1 0 0 0 1 0 1 3 0 3 0 0 0 0 6 6 6 0 0 1 0 0 0\n",
      " 0 1 0 0 3 0 0 0 6 0 0 0 3 0 0 3 0 1 0 0 3 0 0 0 0 3 3 0 6 0 3 7 0 1 0 0 0\n",
      " 1 0 1 0 7 0 3 0 0 4 7 0 0 0 6 0 4 0 6 0 6 6 0 3 6 1 7 0 0 3 0 0 1 0 0 1 1\n",
      " 0 0 3 0 0 1 7 4 1 0 0 0 0 0 6 6 6 0 6 1 6 6 0 3 0 1 7 3 7 0 0 3 7 0 3 0 0\n",
      " 3 0 0 0 0 0 4 0 6 6 1 0 6 0 0 0 0 0 0 0 0 3 3 4 0 3 7 6 3 6 0 7 6 1 0 0 3\n",
      " 0 0 3 0 0 0 6 0 0 0 1 0 1 0 0 0 6 7 6 0 6 1 0 7 3 0 1 0 0 0 0 6 0 1 0 0 0\n",
      " 0 0 0 0 6 7 3 1 1 3 0 0 1 0 6 0 1 1 0 0 0 3 3 0 1 1 1 0 0 0 0 0 0 0 6 6 0\n",
      " 1 6 0 1 0 0 6 0 7 3 0 3 0 0 6 0 3 4 6 0 1 6 0 0 1 0 7 0 0 0 1 0 0 0 0 0 6\n",
      " 0 4 6 1 0 3 1 0 0 0]\n",
      "targs [7 0 4 2 6 1 0 0 0 2 0 1 4 3 5 2 7 7 7 1 3 0 1 0 6 2 7 6 0 3 1 1 1 6 4 3 1\n",
      " 4 0 6 3 5 0 3 4 5 7 0 0 5 7 0 2 5 0 7 0 0 4 0 2 3 7 0 4 1 1 0 1 6 3 2 1 3\n",
      " 0 1 5 0 1 0 3 0 6 0 5 0 2 3 0 0 4 5 0 0 0 4 2 0 7 7 0 7 2 0 1 5 4 0 7 0 7\n",
      " 3 0 2 4 1 3 0 3 0 6 5 3 7 0 3 4 0 6 6 6 0 7 0 2 4 6 2 5 2 4 5 0 7 0 1 0 2\n",
      " 3 5 4 4 1 3 6 3 4 0 6 5 7 6 2 0 0 7 0 0 0 3 6 7 6 2 2 6 0 4 2 5 1 0 0 3 6\n",
      " 0 3 0 1 2 0 5 0 0 5 2 4 1 2 5 4 0 1 7 7 7 0 3 7 4 1 0 0 0 4 7 4 7 1 3 0 3\n",
      " 1 0 4 0 1 7 7 7 7 5 2 3 2 4 4 7 4 1 2 7 3 1 0 5 1 0 5 7 0 0 0 7 5 3 7 1 3\n",
      " 1 0 5 7 1 3 0 6 3 0 0 0 1 1 3 1 3 6 2 0 3 5 6 0 2 7 3 0 4 5 0 3 6 0 1 3 6\n",
      " 7 0 5 2 0 1 7 0 7 6 1 6 0 1 6 7 0 1 0 0 1 1 1 6 0 6 0 6 1 3 0 3 7 1 4 3 0\n",
      " 3 3 7 7 1 2 3 7 7 0 1 7 4 0 1 5 2 0 7 1 1 6 2 0 2 7 1 2 0 0 6 6 2 3 5 1 0\n",
      " 2 0 7 7 0 1 1 5 6 7 7 0 3 0 1 0 6 7 0 3 3 3 2 4 7 2 7 4 4 7 0 5 1 2 0 0 0\n",
      " 0 3 2 1 0 1 6 0 6 0 5 5 2 1 4 1 6 0 1 3 0 3 3 3 6 1 3 3 7 4 0 1 0 1 0 7 6\n",
      " 3 7 0 7 7 4 3 3 4 0 0 0 0 0 4 4 2 6 7 2 0 6 4 1 1 2 0 1 3 0 2 6 6 0 7 2 3\n",
      " 0 3 5 0 1 0 3 6 0 0 1 2 1 7 0 3 0 2 0 1 3 6 2 0 6 3 0 0 0 1 4 0 0 5 7 0 1\n",
      " 1 4 6 3 0 1 6 0 1 1]\n",
      "arracy on test set 0.26325757575757575\n"
     ]
    },
    {
     "data": {
      "application/vnd.jupyter.widget-view+json": {
       "model_id": "aa1e0b2c56d3427da475e86fd398a3ae",
       "version_major": 2,
       "version_minor": 0
      },
      "text/plain": [
       "HBox(children=(FloatProgress(value=0.0, max=24.0), HTML(value='')))"
      ]
     },
     "metadata": {},
     "output_type": "display_data"
    },
    {
     "name": "stdout",
     "output_type": "stream",
     "text": [
      "\n",
      "Epoch: 62, Loss:  0.1335339993238449\n"
     ]
    },
    {
     "data": {
      "application/vnd.jupyter.widget-view+json": {
       "model_id": "9e7ba85948c0427583cf5a954dcdf8b2",
       "version_major": 2,
       "version_minor": 0
      },
      "text/plain": [
       "HBox(children=(FloatProgress(value=0.0, max=17.0), HTML(value='')))"
      ]
     },
     "metadata": {},
     "output_type": "display_data"
    },
    {
     "name": "stdout",
     "output_type": "stream",
     "text": [
      "\n",
      "guess [6 6 1 1 0 1 3 1 0 0 4 1 0 0 1 0 1 7 0 0 7 2 1 0 6 6 0 1 0 3 1 0 1 0 1 7 0\n",
      " 3 0 0 1 0 1 0 0 1 1 1 1 0 0 6 0 4 0 6 1 7 0 0 0 0 1 0 0 7 1 0 0 0 6 1 0 1\n",
      " 1 7 0 0 0 1 0 0 0 0 0 1 7 6 0 1 7 0 0 0 1 6 0 7 0 3 6 1 6 1 0 0 0 0 0 1 1\n",
      " 0 6 0 6 6 0 1 1 3 6 1 0 1 1 6 0 0 0 4 0 0 1 0 0 0 0 0 0 7 3 1 1 6 1 1 6 3\n",
      " 1 0 3 4 0 7 0 0 0 1 0 0 1 0 1 1 1 0 0 1 4 4 6 2 1 4 7 0 1 1 3 6 0 3 6 0 0\n",
      " 1 0 0 0 1 6 0 0 3 1 7 6 1 1 6 6 0 3 0 1 0 0 1 1 0 1 0 1 0 0 1 0 0 1 1 1 1\n",
      " 1 4 6 1 4 0 1 7 0 0 0 4 0 0 7 1 1 7 0 1 7 3 0 6 0 0 1 0 1 6 0 6 0 0 7 0 1\n",
      " 0 0 7 5 6 0 0 1 0 0 0 0 0 0 1 0 7 1 0 1 0 0 3 4 6 7 3 0 4 0 1 1 1 0 0 0 7\n",
      " 0 0 0 0 6 0 1 0 1 0 0 4 1 3 0 7 6 6 1 1 0 0 1 0 1 3 3 1 3 3 7 1 0 0 7 0 1\n",
      " 0 1 0 0 0 1 7 1 0 3 1 1 1 7 0 1 0 1 0 0 1 3 7 7 6 0 0 1 6 0 6 7 0 6 0 1 7\n",
      " 0 0 0 1 0 3 6 0 1 1 0 3 0 1 0 0 1 4 0 0 1 3 1 0 1 7 1 0 1 0 1 7 1 1 1 1 0\n",
      " 4 0 0 3 0 0 0 0 0 6 1 6 1 0 0 1 1 6 3 0 1 1 7 0 1 1 1 1 3 3 1 1 1 0 0 1 0\n",
      " 6 1 1 4 0 0 7 3 0 0 1 1 0 0 4 1 0 0 0 0 0 1 1 0 0 0 6 0 0 0 7 0 0 0 6 0 0\n",
      " 0 7 1 1 6 1 1 1 1 0 1 0 0 7 0 0 0 0 0 7 0 0 1 0 0 3 0 0 1 1 1 1 1 1 6 1 0\n",
      " 0 1 0 1 0 1 6 0 0 3]\n",
      "targs [6 6 6 1 0 2 0 6 4 1 1 0 0 1 1 3 0 3 1 7 3 1 5 2 0 2 0 6 0 7 4 3 0 4 2 1 0\n",
      " 1 2 0 2 1 0 0 0 4 1 0 2 7 0 0 6 0 3 0 7 0 4 2 1 0 4 1 0 0 5 6 0 3 7 0 0 3\n",
      " 1 7 0 0 5 3 0 7 0 2 7 0 7 1 5 0 2 7 7 0 1 0 3 0 0 0 2 0 1 0 1 1 0 2 6 0 3\n",
      " 1 0 0 4 6 0 0 1 2 7 7 7 3 1 5 5 0 3 4 1 2 0 1 1 6 6 0 3 7 3 2 5 2 6 7 4 6\n",
      " 7 0 5 4 7 0 7 4 0 2 0 7 3 7 7 5 5 1 0 0 4 2 0 3 1 4 0 3 3 3 2 1 5 5 1 1 6\n",
      " 4 0 0 7 4 6 7 7 1 0 6 7 5 0 3 1 6 5 1 2 0 1 6 3 0 7 1 6 3 3 0 1 7 4 4 7 1\n",
      " 2 2 6 2 4 0 3 7 0 2 0 1 0 3 1 5 4 1 1 2 5 3 6 2 0 7 3 7 7 7 0 6 2 0 2 0 6\n",
      " 4 2 3 0 6 0 0 2 7 1 0 4 0 0 1 0 3 6 3 3 0 1 6 6 1 3 2 6 6 1 0 6 5 1 7 5 4\n",
      " 0 7 1 1 0 5 6 4 1 0 7 7 0 3 1 5 3 6 6 1 3 0 3 3 1 1 0 5 6 7 0 1 1 4 0 1 7\n",
      " 0 4 4 1 6 7 0 5 4 4 0 1 7 2 0 3 0 2 0 1 6 0 4 2 7 3 0 0 7 0 6 0 0 3 0 2 3\n",
      " 1 0 7 2 7 0 5 0 3 0 1 2 3 0 7 2 1 7 7 7 1 4 2 0 0 4 6 0 0 1 4 3 6 3 4 4 0\n",
      " 0 7 0 4 0 7 0 0 1 5 3 1 2 2 5 3 0 2 1 1 7 3 7 0 7 6 0 3 0 3 6 7 1 6 0 0 0\n",
      " 5 4 3 0 0 5 1 3 4 7 1 5 1 3 0 3 6 5 0 7 5 0 2 0 6 5 4 3 6 7 4 2 0 0 0 5 3\n",
      " 5 4 3 2 4 7 7 3 1 0 0 0 3 0 0 6 7 2 1 0 0 1 3 7 0 0 0 7 3 2 3 3 6 6 3 3 0\n",
      " 5 3 0 6 1 7 0 4 0 2]\n",
      "arracy on test set 0.24242424242424243\n"
     ]
    },
    {
     "data": {
      "application/vnd.jupyter.widget-view+json": {
       "model_id": "25c842e9dd2c482083fc61e334f51090",
       "version_major": 2,
       "version_minor": 0
      },
      "text/plain": [
       "HBox(children=(FloatProgress(value=0.0, max=24.0), HTML(value='')))"
      ]
     },
     "metadata": {},
     "output_type": "display_data"
    },
    {
     "name": "stdout",
     "output_type": "stream",
     "text": [
      "\n",
      "Epoch: 63, Loss:  0.2652858793735504\n"
     ]
    },
    {
     "data": {
      "application/vnd.jupyter.widget-view+json": {
       "model_id": "fa6f97dff4c14096b8a9e1b8353d8426",
       "version_major": 2,
       "version_minor": 0
      },
      "text/plain": [
       "HBox(children=(FloatProgress(value=0.0, max=17.0), HTML(value='')))"
      ]
     },
     "metadata": {},
     "output_type": "display_data"
    },
    {
     "name": "stdout",
     "output_type": "stream",
     "text": [
      "\n",
      "guess [0 1 6 1 0 6 1 0 0 6 0 7 0 1 0 0 1 6 0 1 0 6 1 7 0 0 0 0 0 0 7 1 1 1 0 1 0\n",
      " 6 1 6 0 0 3 1 0 1 0 1 0 6 0 1 0 0 1 0 0 0 0 7 0 4 7 1 0 0 0 0 6 1 0 0 0 1\n",
      " 6 0 0 7 1 1 1 0 1 0 6 0 0 1 1 1 1 0 0 6 6 0 3 7 0 1 0 7 0 6 1 0 0 3 1 0 6\n",
      " 0 0 1 0 0 0 0 0 0 3 1 3 6 0 4 1 7 0 0 0 1 0 0 0 0 1 0 6 0 0 0 0 0 6 3 0 0\n",
      " 6 3 0 4 0 0 1 4 1 0 0 7 0 0 6 0 6 0 1 0 1 0 6 0 0 3 3 1 0 0 0 1 6 6 0 1 3\n",
      " 1 0 1 0 6 1 0 0 0 1 0 6 6 0 0 0 6 0 0 3 1 0 0 1 3 6 0 0 1 6 0 7 7 0 1 1 6\n",
      " 0 0 1 3 6 0 3 7 0 0 3 0 0 0 1 0 0 3 0 6 0 3 0 6 6 0 0 0 3 0 0 6 6 1 0 4 6\n",
      " 0 0 4 6 0 6 0 2 0 0 0 1 0 0 3 6 1 0 1 1 1 0 0 1 0 7 0 6 1 0 0 0 0 6 3 3 0\n",
      " 0 1 7 0 0 0 6 6 0 0 1 6 0 6 6 4 0 3 0 0 6 1 0 6 0 1 0 0 0 6 6 1 1 0 6 6 0\n",
      " 1 0 1 0 0 1 0 1 1 0 0 0 1 0 1 1 0 0 0 0 3 6 6 1 0 0 0 7 1 0 6 6 1 1 1 4 6\n",
      " 0 0 1 6 0 1 0 7 0 7 0 1 1 6 0 7 0 0 1 0 0 4 0 3 0 0 7 0 0 0 0 1 6 0 0 0 0\n",
      " 6 3 0 0 6 6 1 1 0 7 0 7 0 0 4 0 0 3 1 0 0 0 0 0 0 7 1 0 0 6 1 0 1 1 1 0 0\n",
      " 0 0 4 0 0 1 3 6 0 0 6 0 4 0 0 1 0 0 1 0 0 0 3 0 6 3 0 1 0 7 6 7 0 1 6 7 0\n",
      " 6 0 0 1 6 0 0 6 0 4 6 0 0 1 6 0 6 6 6 0 0 0 6 4 0 0 0 0 1 6 0 6 7 0 0 4 0\n",
      " 0 0 1 6 0 0 0 0 6 0]\n",
      "targs [1 0 6 1 3 7 4 7 4 0 5 4 0 0 0 2 6 0 1 0 7 5 0 0 5 0 0 0 1 1 3 6 0 4 3 2 0\n",
      " 7 4 1 0 7 6 1 1 2 6 3 1 4 1 0 1 2 5 0 7 0 0 3 5 1 0 1 5 1 4 0 6 3 0 7 5 2\n",
      " 3 0 0 7 7 2 3 0 3 2 7 1 0 1 6 3 3 1 0 3 3 0 5 2 0 3 0 7 2 1 6 3 3 7 5 0 6\n",
      " 1 0 2 3 7 7 0 0 3 2 0 2 7 3 4 5 1 7 4 0 4 7 7 0 4 4 1 6 4 0 0 5 3 0 5 5 1\n",
      " 2 2 6 0 6 1 5 4 0 0 7 0 0 1 2 6 1 4 6 6 0 0 2 2 3 3 1 4 6 0 1 2 6 0 1 3 4\n",
      " 7 0 0 0 4 3 5 0 0 7 1 6 4 0 0 0 7 2 5 4 7 0 7 0 3 6 0 7 3 0 6 0 3 5 7 5 4\n",
      " 0 0 4 7 1 7 1 4 1 0 4 3 7 0 3 2 0 5 0 0 6 3 1 6 6 1 0 7 3 6 1 5 1 0 2 2 2\n",
      " 3 1 0 6 1 0 5 3 0 0 6 3 0 0 1 1 6 2 3 7 3 1 7 1 3 0 0 6 0 3 6 7 1 3 0 2 6\n",
      " 3 2 3 0 0 0 1 6 1 0 6 5 0 6 6 4 0 1 5 7 5 7 4 1 3 3 6 5 7 3 2 7 7 2 7 1 2\n",
      " 3 0 1 0 3 2 0 2 2 0 1 5 3 1 6 3 6 0 2 0 0 4 5 4 0 0 7 1 5 4 3 0 3 0 2 7 7\n",
      " 1 4 7 0 7 5 1 7 7 2 1 5 1 0 0 0 7 7 0 0 3 0 0 6 4 0 3 2 0 0 0 2 4 7 1 3 4\n",
      " 4 2 3 6 6 3 2 1 0 4 0 0 3 0 4 5 0 2 6 0 6 7 1 6 6 4 0 0 0 1 3 0 0 2 3 0 7\n",
      " 3 0 1 0 1 4 3 6 7 7 1 7 2 2 1 1 3 0 1 4 0 1 3 0 0 0 5 3 0 5 7 7 0 1 6 0 7\n",
      " 4 7 0 2 0 0 0 2 1 6 7 1 0 3 2 5 2 1 4 7 7 7 3 7 0 0 1 6 1 7 0 0 0 0 3 4 7\n",
      " 7 6 0 0 1 1 1 1 0 2]\n",
      "arracy on test set 0.2689393939393939\n"
     ]
    },
    {
     "data": {
      "application/vnd.jupyter.widget-view+json": {
       "model_id": "887308632d0b4119b2eab5133149b08a",
       "version_major": 2,
       "version_minor": 0
      },
      "text/plain": [
       "HBox(children=(FloatProgress(value=0.0, max=24.0), HTML(value='')))"
      ]
     },
     "metadata": {},
     "output_type": "display_data"
    },
    {
     "name": "stdout",
     "output_type": "stream",
     "text": [
      "\n",
      "Epoch: 64, Loss:  0.21061252057552338\n"
     ]
    },
    {
     "data": {
      "application/vnd.jupyter.widget-view+json": {
       "model_id": "2bc4592ba60f41069e78df65c82f312b",
       "version_major": 2,
       "version_minor": 0
      },
      "text/plain": [
       "HBox(children=(FloatProgress(value=0.0, max=17.0), HTML(value='')))"
      ]
     },
     "metadata": {},
     "output_type": "display_data"
    },
    {
     "name": "stdout",
     "output_type": "stream",
     "text": [
      "\n",
      "guess [1 0 7 6 6 1 7 0 1 0 0 6 6 3 0 0 7 6 6 1 0 0 1 0 3 7 4 1 3 1 0 0 0 0 2 1 1\n",
      " 0 0 1 1 0 0 0 0 6 0 6 1 6 6 0 0 1 0 3 1 3 7 0 1 0 1 0 7 1 0 1 6 6 1 3 1 0\n",
      " 3 6 0 6 3 0 0 1 6 0 1 0 0 1 0 0 0 3 1 6 1 7 4 6 3 0 7 1 0 0 1 0 0 1 3 6 0\n",
      " 3 0 1 1 6 0 6 0 0 6 4 0 3 1 0 6 1 0 0 4 7 1 0 3 0 0 0 7 0 3 1 6 0 6 0 3 7\n",
      " 3 0 6 1 0 0 0 1 1 1 0 1 0 0 0 7 0 6 0 6 0 3 0 0 1 3 3 1 3 0 0 0 1 6 7 0 7\n",
      " 6 6 0 1 6 0 0 0 1 0 0 0 1 1 1 1 0 1 1 3 0 6 6 3 0 0 4 0 1 0 1 3 0 0 1 0 1\n",
      " 0 7 1 3 1 0 0 1 7 0 0 6 3 0 3 0 1 6 1 6 0 7 5 0 1 3 0 0 7 1 1 1 6 0 0 7 3\n",
      " 1 6 3 0 6 0 0 1 1 1 1 3 1 0 1 0 6 1 3 1 0 0 1 3 7 1 3 0 3 1 0 1 1 6 7 6 0\n",
      " 1 2 1 0 7 6 0 1 0 1 0 7 1 0 0 0 0 0 0 6 1 5 6 6 6 0 3 1 1 6 0 6 0 1 0 0 1\n",
      " 0 1 1 6 0 3 0 0 0 6 0 0 1 0 0 4 0 7 0 0 1 4 0 0 6 1 0 0 6 0 0 0 0 0 6 7 1\n",
      " 1 4 1 0 6 3 6 6 0 5 0 6 0 0 3 7 0 0 6 1 7 6 4 0 0 3 0 5 0 1 0 1 1 6 1 6 6\n",
      " 1 0 0 7 1 4 0 3 1 0 4 1 1 1 0 0 1 3 1 0 0 6 6 0 1 3 5 3 1 3 0 4 6 3 3 1 7\n",
      " 0 0 1 1 6 6 0 6 6 1 0 4 6 3 6 6 3 6 0 7 6 7 0 0 0 6 0 7 0 0 0 0 6 3 4 1 1\n",
      " 6 1 3 6 0 7 0 0 0 0 6 0 0 3 1 3 6 1 3 0 0 1 7 0 6 1 6 0 6 0 1 0 1 3 0 0 0\n",
      " 6 0 4 6 1 6 1 1 6 0]\n",
      "targs [0 7 7 4 3 1 0 1 2 3 0 0 3 2 0 3 4 0 3 3 4 5 7 3 2 3 4 3 3 6 1 3 1 1 3 2 0\n",
      " 2 7 5 1 0 1 7 7 4 1 6 3 6 5 3 0 5 0 4 3 3 1 3 2 0 3 7 7 1 0 6 1 7 5 0 0 5\n",
      " 1 5 1 7 0 7 0 5 1 0 2 1 1 7 0 0 0 0 7 1 1 2 4 0 5 0 3 3 7 6 1 4 0 3 1 0 0\n",
      " 3 0 6 0 7 2 0 0 7 0 1 6 0 0 0 3 2 0 4 4 0 6 0 7 7 4 1 7 1 1 5 0 3 5 7 4 7\n",
      " 3 1 1 7 0 3 1 4 1 3 0 0 2 0 7 0 2 0 3 6 7 7 1 0 2 3 2 6 2 0 7 0 5 4 5 1 0\n",
      " 3 0 5 0 1 6 3 5 4 1 6 4 2 6 2 6 2 6 2 2 5 1 5 0 6 4 6 7 0 2 0 7 3 7 7 7 5\n",
      " 0 5 5 6 0 4 6 7 0 6 1 4 4 1 5 7 4 6 3 7 0 6 0 2 0 1 1 4 0 4 0 6 0 0 1 0 6\n",
      " 3 1 2 0 7 0 0 7 0 3 1 1 3 4 0 0 1 1 3 6 7 5 1 0 0 4 3 7 4 6 0 4 2 6 1 6 0\n",
      " 6 0 3 0 0 5 0 0 0 3 5 5 0 0 0 0 1 0 1 6 0 0 3 2 1 0 1 0 1 6 0 2 3 0 5 7 3\n",
      " 3 7 2 7 5 0 1 0 7 0 0 2 5 1 7 0 0 4 1 6 7 7 5 0 2 3 0 1 0 0 1 3 0 1 4 0 0\n",
      " 7 2 3 0 1 7 6 3 1 0 0 4 6 0 7 7 7 1 6 1 0 7 2 0 0 0 0 0 0 4 2 1 7 1 2 7 4\n",
      " 0 5 0 0 6 7 1 5 2 0 1 1 3 1 3 7 1 6 3 0 0 6 6 3 4 6 1 0 3 3 3 4 0 2 3 1 4\n",
      " 0 1 0 3 6 0 6 2 2 2 0 1 2 0 7 2 3 0 7 4 4 4 0 0 0 6 0 2 6 1 7 2 3 1 4 1 3\n",
      " 6 2 3 4 0 3 0 2 7 7 3 0 7 2 7 2 0 0 6 0 0 7 0 0 4 4 6 5 2 2 5 1 3 0 6 3 0\n",
      " 1 5 0 1 0 7 7 3 6 7]\n",
      "arracy on test set 0.24621212121212122\n"
     ]
    },
    {
     "data": {
      "application/vnd.jupyter.widget-view+json": {
       "model_id": "a16e662c9bee4502b0258379621f7993",
       "version_major": 2,
       "version_minor": 0
      },
      "text/plain": [
       "HBox(children=(FloatProgress(value=0.0, max=24.0), HTML(value='')))"
      ]
     },
     "metadata": {},
     "output_type": "display_data"
    },
    {
     "name": "stdout",
     "output_type": "stream",
     "text": [
      "\n",
      "Epoch: 65, Loss:  0.18435059487819672\n"
     ]
    },
    {
     "data": {
      "application/vnd.jupyter.widget-view+json": {
       "model_id": "1f176417348541e9bfbf3f1dc991d49e",
       "version_major": 2,
       "version_minor": 0
      },
      "text/plain": [
       "HBox(children=(FloatProgress(value=0.0, max=17.0), HTML(value='')))"
      ]
     },
     "metadata": {},
     "output_type": "display_data"
    },
    {
     "name": "stdout",
     "output_type": "stream",
     "text": [
      "\n",
      "guess [0 0 0 1 3 1 0 0 0 0 0 1 0 1 0 0 1 3 3 0 1 0 0 1 0 1 0 0 1 0 3 6 0 0 0 1 1\n",
      " 0 0 3 0 1 0 0 1 0 0 0 7 1 0 7 0 1 6 4 1 0 1 0 0 0 0 1 1 1 4 7 4 0 0 0 0 7\n",
      " 6 3 4 4 0 1 1 0 0 0 0 1 5 0 6 0 1 3 1 0 1 0 0 0 0 0 2 0 0 0 0 7 1 0 0 6 1\n",
      " 1 0 1 3 1 1 0 0 0 3 1 0 0 0 0 0 6 0 0 0 6 0 1 3 1 0 6 0 7 0 0 0 1 1 0 1 3\n",
      " 0 7 0 0 1 0 0 6 0 4 2 6 0 1 1 0 1 1 0 0 0 0 0 6 0 1 0 0 1 7 7 3 0 1 1 1 1\n",
      " 1 6 0 3 0 1 0 0 0 7 0 1 0 0 0 1 6 0 1 0 6 0 1 0 0 0 0 1 0 0 0 3 1 1 0 6 7\n",
      " 1 0 0 1 1 1 0 0 0 6 0 0 0 0 0 1 1 1 0 1 0 1 0 1 0 0 1 0 0 0 1 0 1 0 1 1 7\n",
      " 1 0 0 0 0 6 1 0 1 1 0 3 0 2 0 0 0 1 3 0 0 0 1 0 0 0 7 1 1 1 7 0 0 7 0 0 3\n",
      " 0 6 6 1 0 0 0 1 6 0 0 0 6 0 7 1 1 1 6 1 0 0 3 3 7 0 0 0 0 4 0 0 0 0 4 0 0\n",
      " 1 1 0 1 1 0 7 0 0 1 1 7 0 0 0 6 1 6 0 6 0 1 1 0 0 0 0 0 4 0 6 0 1 0 0 0 4\n",
      " 0 0 1 0 6 6 1 1 0 0 6 0 1 6 0 1 0 0 0 6 1 1 7 6 0 0 1 1 0 1 1 7 4 0 3 6 0\n",
      " 0 0 6 0 6 0 4 0 0 0 1 0 0 0 0 0 7 1 4 0 7 0 0 1 7 1 0 6 7 0 1 0 0 0 6 7 7\n",
      " 1 1 0 3 1 0 1 3 0 0 6 7 1 1 0 1 0 0 1 1 6 6 0 0 0 0 0 0 0 4 0 0 1 1 1 0 3\n",
      " 0 6 0 1 0 6 0 0 1 1 0 1 0 0 0 1 1 1 0 0 0 0 7 0 1 0 0 3 0 0 0 0 1 0 0 6 0\n",
      " 1 0 0 1 0 3 1 0 0 0]\n",
      "targs [1 1 1 2 5 7 0 2 4 1 0 3 6 0 7 6 5 0 2 0 6 1 0 3 0 3 0 0 2 1 3 6 4 5 1 1 3\n",
      " 7 0 2 0 6 7 5 2 2 1 2 3 2 3 4 6 4 0 4 2 0 6 6 4 7 0 4 0 0 7 2 1 0 6 0 2 7\n",
      " 1 4 6 6 1 3 0 0 0 1 0 6 2 0 3 2 7 0 5 7 5 7 4 0 0 0 3 0 5 0 1 4 0 0 0 5 3\n",
      " 1 1 3 4 7 1 1 0 1 1 2 7 2 5 3 5 5 2 1 5 2 2 4 3 3 0 5 1 7 7 0 0 0 2 1 6 5\n",
      " 1 3 0 0 1 3 0 6 4 0 3 7 7 1 4 0 3 5 0 1 7 0 0 2 0 6 0 1 4 3 0 1 6 4 2 0 1\n",
      " 4 1 0 4 7 2 7 3 7 0 4 1 7 0 6 0 2 3 2 0 6 0 0 7 5 3 0 1 5 1 1 5 0 2 0 0 1\n",
      " 7 7 4 3 0 0 0 4 5 1 2 4 3 7 2 7 1 3 0 2 0 6 5 0 0 0 4 0 0 6 5 0 2 6 1 1 0\n",
      " 3 7 6 3 1 6 3 6 7 6 7 2 7 0 3 7 0 6 7 0 1 1 4 0 5 1 2 0 3 0 0 3 0 3 0 7 3\n",
      " 0 7 7 2 3 1 0 3 7 1 2 0 4 0 2 3 6 6 3 0 3 7 3 2 1 6 1 7 0 4 0 1 5 4 7 6 1\n",
      " 5 6 0 7 7 1 0 4 7 2 3 7 0 0 0 4 1 7 0 5 7 5 7 5 0 0 4 1 0 6 1 6 6 1 3 1 2\n",
      " 3 1 6 0 0 1 6 0 0 4 7 1 0 0 1 7 1 0 0 0 5 3 5 1 3 0 7 3 0 1 0 3 1 5 1 4 6\n",
      " 2 3 6 1 1 7 4 7 0 0 0 1 0 1 0 7 3 3 4 7 4 0 0 6 0 2 0 6 0 3 7 3 1 0 3 7 0\n",
      " 4 5 0 1 4 6 7 6 3 7 6 7 3 6 0 2 5 4 4 4 0 0 0 3 0 7 0 2 0 2 5 7 1 2 1 0 3\n",
      " 3 6 2 0 1 3 0 6 0 6 0 3 2 1 0 5 0 3 3 3 0 7 0 6 3 2 0 2 0 0 7 0 7 6 0 0 0\n",
      " 4 7 0 7 1 3 3 1 4 7]\n",
      "arracy on test set 0.26325757575757575\n"
     ]
    },
    {
     "data": {
      "application/vnd.jupyter.widget-view+json": {
       "model_id": "699875a4a5b6428a864238097844d179",
       "version_major": 2,
       "version_minor": 0
      },
      "text/plain": [
       "HBox(children=(FloatProgress(value=0.0, max=24.0), HTML(value='')))"
      ]
     },
     "metadata": {},
     "output_type": "display_data"
    },
    {
     "name": "stdout",
     "output_type": "stream",
     "text": [
      "\n",
      "Epoch: 66, Loss:  0.2163972705602646\n"
     ]
    },
    {
     "data": {
      "application/vnd.jupyter.widget-view+json": {
       "model_id": "fe48cd8bf79b409fba0f2d1c8b95ca52",
       "version_major": 2,
       "version_minor": 0
      },
      "text/plain": [
       "HBox(children=(FloatProgress(value=0.0, max=17.0), HTML(value='')))"
      ]
     },
     "metadata": {},
     "output_type": "display_data"
    },
    {
     "name": "stdout",
     "output_type": "stream",
     "text": [
      "\n",
      "guess [0 1 1 0 1 7 0 0 1 4 0 1 7 0 0 7 0 1 6 4 1 0 1 1 1 7 0 1 0 1 0 5 0 6 0 3 0\n",
      " 0 0 6 0 3 0 4 0 6 0 1 0 4 0 0 6 6 3 0 6 0 0 1 4 0 6 0 7 0 4 1 0 1 1 0 0 0\n",
      " 6 0 0 0 7 6 0 0 7 6 1 0 3 3 0 6 1 7 1 4 7 0 0 1 5 6 0 1 0 0 0 0 0 3 6 0 1\n",
      " 1 0 6 6 0 0 4 7 7 7 0 7 0 0 1 6 3 0 0 3 0 0 0 0 0 0 0 6 7 6 0 1 6 0 0 0 3\n",
      " 0 0 1 3 1 0 0 0 0 4 6 0 7 0 1 0 1 1 0 1 0 0 6 1 1 1 6 0 1 0 6 0 0 0 7 0 1\n",
      " 0 6 6 6 1 0 3 1 0 6 0 0 1 0 0 6 7 6 6 0 6 0 3 3 0 5 0 0 0 0 7 6 0 2 6 0 1\n",
      " 7 1 6 6 3 1 1 0 1 6 0 3 0 7 1 7 0 1 4 6 0 1 0 1 6 0 0 0 0 0 0 7 3 0 0 1 7\n",
      " 0 1 6 0 7 0 0 0 0 0 0 6 0 1 7 1 0 0 0 0 1 7 0 3 0 6 7 6 0 0 3 7 0 6 0 0 1\n",
      " 0 6 6 6 1 3 0 0 0 0 0 0 1 0 0 6 6 7 0 3 0 0 6 0 1 0 0 1 7 0 7 3 1 0 1 6 1\n",
      " 1 1 0 4 6 1 7 3 0 0 0 1 0 0 1 0 7 6 0 0 7 7 7 0 1 7 0 6 7 0 0 2 4 6 7 0 0\n",
      " 0 3 0 0 1 0 1 1 1 1 3 0 0 1 0 6 1 7 1 1 6 4 3 6 0 0 1 0 3 1 0 1 0 6 1 1 6\n",
      " 0 0 0 7 0 0 0 1 0 4 0 0 6 0 4 7 7 3 6 0 3 1 6 3 1 3 1 5 0 7 6 0 0 1 1 1 1\n",
      " 1 1 6 0 0 0 0 0 1 6 1 0 1 1 1 0 7 6 1 0 1 0 1 0 0 1 0 6 1 6 0 6 4 0 1 1 1\n",
      " 6 0 0 7 0 3 6 0 1 6 1 0 3 0 7 0 6 6 0 6 4 0 0 1 3 0 3 0 6 1 6 7 0 1 0 1 0\n",
      " 6 0 6 0 0 6 6 1 0 0]\n",
      "targs [7 1 7 3 2 0 3 4 7 4 7 2 7 3 1 1 1 1 0 6 4 1 6 0 6 2 0 2 1 1 0 1 0 1 0 1 2\n",
      " 0 7 0 3 5 1 4 0 7 0 0 0 4 5 0 0 0 0 3 3 0 1 7 1 0 2 7 5 7 1 7 6 5 4 1 0 1\n",
      " 0 6 7 0 0 4 0 1 4 7 4 6 6 0 3 3 6 5 4 6 0 0 5 3 0 6 1 7 0 3 0 5 2 0 2 0 1\n",
      " 3 7 0 0 3 0 4 1 0 1 1 3 0 5 0 7 4 1 1 2 0 2 5 5 2 0 0 7 0 4 4 1 6 0 0 0 4\n",
      " 6 0 7 6 1 0 5 0 0 0 7 7 3 6 4 5 1 0 4 6 1 6 6 3 2 5 4 0 3 2 6 0 1 0 0 1 5\n",
      " 2 7 4 7 3 6 4 6 5 3 0 0 2 5 0 1 2 2 1 2 5 1 3 3 4 0 5 1 4 0 0 6 5 3 2 0 3\n",
      " 0 2 6 0 7 3 2 1 7 4 7 0 7 1 2 0 1 0 4 6 0 0 1 3 0 1 3 7 0 2 0 0 6 3 3 1 3\n",
      " 0 3 0 0 1 0 0 0 0 0 1 2 3 4 2 2 0 1 7 7 0 7 0 3 1 0 6 5 0 7 2 1 7 6 0 0 0\n",
      " 0 6 6 2 5 2 7 0 0 0 7 4 0 0 1 6 0 6 0 2 3 0 0 2 1 0 1 3 7 0 3 3 0 1 0 1 0\n",
      " 3 3 7 2 4 3 3 3 0 0 4 6 6 0 1 0 0 6 5 0 3 3 7 6 5 4 0 2 4 3 1 5 7 3 0 1 6\n",
      " 7 3 1 3 1 6 3 3 0 0 0 7 7 2 0 1 7 4 4 0 6 2 2 4 1 6 3 3 0 6 0 3 6 2 0 4 7\n",
      " 4 1 6 4 0 1 2 2 7 0 7 7 3 4 3 1 0 5 7 3 2 3 5 1 5 5 6 0 1 0 1 5 3 2 0 1 5\n",
      " 7 3 5 0 0 7 7 1 0 4 1 7 0 7 0 6 3 6 7 7 2 1 6 5 0 0 6 1 2 5 0 7 0 3 2 6 4\n",
      " 3 7 1 1 0 2 0 3 3 3 3 7 1 7 0 1 1 6 7 7 7 7 4 3 7 4 0 0 3 0 1 7 0 6 2 5 0\n",
      " 1 0 4 2 7 0 1 7 2 0]\n",
      "arracy on test set 0.23674242424242425\n"
     ]
    },
    {
     "data": {
      "application/vnd.jupyter.widget-view+json": {
       "model_id": "4a343008e6254cffbd0be80131d67a52",
       "version_major": 2,
       "version_minor": 0
      },
      "text/plain": [
       "HBox(children=(FloatProgress(value=0.0, max=24.0), HTML(value='')))"
      ]
     },
     "metadata": {},
     "output_type": "display_data"
    },
    {
     "name": "stdout",
     "output_type": "stream",
     "text": [
      "\n",
      "Epoch: 67, Loss:  0.16918373107910156\n"
     ]
    },
    {
     "data": {
      "application/vnd.jupyter.widget-view+json": {
       "model_id": "199c9b7d3e5e4a02b076e6857af01217",
       "version_major": 2,
       "version_minor": 0
      },
      "text/plain": [
       "HBox(children=(FloatProgress(value=0.0, max=17.0), HTML(value='')))"
      ]
     },
     "metadata": {},
     "output_type": "display_data"
    },
    {
     "name": "stdout",
     "output_type": "stream",
     "text": [
      "\n",
      "guess [0 1 6 7 6 0 3 0 0 0 0 0 1 0 0 3 0 0 0 0 0 6 6 0 6 7 1 0 6 6 0 0 0 0 1 0 1\n",
      " 3 1 0 0 0 0 0 7 0 0 4 4 1 1 3 6 4 1 3 0 0 1 0 7 3 3 1 4 0 6 0 1 3 1 0 7 0\n",
      " 1 1 0 0 5 1 0 3 0 6 0 0 0 0 6 4 1 6 0 1 6 0 0 0 0 0 1 0 1 6 1 0 6 6 1 0 4\n",
      " 1 3 0 6 5 0 0 0 1 6 1 1 0 4 1 0 1 1 0 0 1 3 0 3 0 1 1 0 1 6 7 1 0 0 6 7 0\n",
      " 1 4 7 0 1 7 6 7 0 0 0 6 6 1 0 1 0 0 0 0 1 1 6 0 6 0 1 3 0 0 1 0 0 0 0 7 6\n",
      " 1 0 6 0 0 0 4 0 1 3 3 1 0 0 0 0 1 6 0 1 4 1 0 5 0 0 1 1 1 1 1 0 1 1 7 1 0\n",
      " 0 1 4 3 1 0 0 1 0 1 3 3 7 0 1 1 6 5 0 0 0 1 0 0 0 1 1 0 0 0 1 7 0 1 0 1 0\n",
      " 0 6 0 1 3 0 0 6 3 6 0 1 6 6 0 0 0 0 0 0 0 0 1 6 0 1 4 1 6 1 7 0 1 4 1 0 3\n",
      " 0 1 0 1 1 6 0 0 0 6 1 0 1 6 0 1 1 0 7 3 0 6 0 0 1 0 0 1 3 1 0 0 0 0 1 2 3\n",
      " 1 0 0 3 0 1 4 6 1 0 1 0 0 1 0 0 1 0 0 1 0 0 3 0 6 0 6 0 0 1 0 1 0 6 0 1 1\n",
      " 1 0 0 1 1 5 1 6 7 3 0 7 3 0 0 0 7 1 0 0 6 6 1 0 3 0 1 0 6 0 0 0 0 6 0 3 6\n",
      " 3 1 6 1 6 7 1 1 0 0 1 0 0 1 0 0 6 3 6 1 1 1 0 0 0 0 0 3 0 1 6 6 3 1 0 0 1\n",
      " 0 0 0 1 1 1 0 1 6 1 7 0 1 0 0 6 0 6 0 4 0 0 4 0 1 6 6 1 3 1 0 0 1 1 6 6 3\n",
      " 0 1 1 7 0 7 1 0 3 0 1 1 0 0 0 7 1 0 1 1 1 0 1 1 0 0 1 0 1 1 0 7 1 6 0 3 1\n",
      " 6 1 7 6 0 0 0 0 1 0]\n",
      "targs [7 1 2 1 4 0 5 0 1 0 0 4 7 0 1 2 3 3 7 0 2 4 4 2 5 0 6 5 2 3 1 0 1 0 4 0 1\n",
      " 3 2 3 0 7 2 1 4 6 0 1 0 4 0 3 1 1 4 0 0 7 0 7 5 3 2 3 2 0 6 7 0 0 3 6 1 0\n",
      " 4 7 5 0 0 3 0 6 0 1 1 4 5 0 6 4 3 2 0 0 2 1 0 1 6 0 0 0 2 7 7 0 7 7 7 0 0\n",
      " 4 1 0 0 0 0 7 0 1 1 3 5 7 4 2 6 3 6 7 1 6 2 7 1 0 0 2 0 0 3 5 2 3 0 6 0 5\n",
      " 5 6 3 1 3 0 4 0 7 3 2 7 0 3 7 0 0 0 1 6 0 5 0 2 4 0 0 4 1 0 0 0 1 0 0 0 1\n",
      " 6 3 6 3 7 0 0 7 6 1 0 5 5 3 0 1 3 4 0 6 6 0 4 0 0 0 2 3 3 0 3 0 0 2 7 3 0\n",
      " 7 1 7 1 7 6 2 3 3 0 1 6 4 2 2 0 1 0 2 0 1 1 4 5 7 7 1 0 6 3 7 0 0 3 6 1 0\n",
      " 3 5 0 0 0 3 3 7 2 5 1 6 0 1 3 7 0 1 4 2 5 1 1 6 0 2 4 1 2 1 4 0 3 7 1 4 0\n",
      " 2 0 3 3 3 6 2 5 6 0 7 1 2 7 0 1 2 5 3 2 1 6 3 6 7 0 7 1 7 0 7 7 3 1 4 3 4\n",
      " 5 0 0 3 7 0 2 6 3 0 6 0 0 4 0 0 2 7 0 5 1 4 5 1 7 1 6 7 5 6 6 1 1 5 0 7 6\n",
      " 2 2 1 4 2 1 2 6 4 0 4 3 2 7 7 6 0 5 1 5 0 1 5 2 7 1 3 1 1 0 1 1 0 3 3 3 7\n",
      " 5 6 3 3 0 2 6 0 7 4 7 0 0 6 0 5 4 3 6 1 0 0 7 1 0 7 0 2 7 0 4 5 6 5 4 0 1\n",
      " 7 0 0 1 0 0 5 2 0 3 7 7 2 2 0 3 1 0 0 4 1 3 4 7 3 0 1 0 4 1 0 4 7 3 7 3 3\n",
      " 1 0 6 7 6 0 7 5 0 3 6 5 1 7 0 0 3 6 6 6 7 6 4 0 4 0 6 1 4 1 7 2 3 0 1 3 0\n",
      " 2 3 7 0 0 7 3 0 0 1]\n",
      "arracy on test set 0.24053030303030304\n"
     ]
    },
    {
     "data": {
      "application/vnd.jupyter.widget-view+json": {
       "model_id": "a77f8b5ffde245628823bbc56c768b1a",
       "version_major": 2,
       "version_minor": 0
      },
      "text/plain": [
       "HBox(children=(FloatProgress(value=0.0, max=24.0), HTML(value='')))"
      ]
     },
     "metadata": {},
     "output_type": "display_data"
    },
    {
     "name": "stdout",
     "output_type": "stream",
     "text": [
      "\n",
      "Epoch: 68, Loss:  0.19114823639392853\n"
     ]
    },
    {
     "data": {
      "application/vnd.jupyter.widget-view+json": {
       "model_id": "e02ac8dfe1634a5395a103a7d3a4ad7e",
       "version_major": 2,
       "version_minor": 0
      },
      "text/plain": [
       "HBox(children=(FloatProgress(value=0.0, max=17.0), HTML(value='')))"
      ]
     },
     "metadata": {},
     "output_type": "display_data"
    },
    {
     "name": "stdout",
     "output_type": "stream",
     "text": [
      "\n",
      "guess [0 0 0 0 0 0 1 0 3 0 1 6 0 1 0 0 1 7 0 0 6 0 0 7 1 6 0 0 6 0 1 0 3 0 0 0 0\n",
      " 3 0 0 3 0 0 0 0 1 0 0 1 0 0 0 0 0 0 0 0 6 0 3 0 0 4 0 1 0 6 1 0 6 0 0 0 4\n",
      " 7 6 4 1 3 0 0 6 0 6 4 0 0 0 1 1 0 6 0 0 0 0 0 0 0 3 0 0 0 0 0 0 0 7 0 0 1\n",
      " 0 6 0 0 1 6 0 3 0 0 0 0 1 6 0 0 6 0 1 0 1 0 0 6 0 1 3 0 1 0 1 1 3 7 0 1 0\n",
      " 0 1 0 6 0 0 1 1 0 6 0 6 0 7 0 0 0 0 0 3 0 1 1 1 6 7 0 0 1 0 6 0 0 0 0 1 0\n",
      " 0 3 0 4 0 0 0 0 6 0 3 0 1 1 1 0 0 1 0 0 0 0 2 1 0 6 0 6 0 0 0 0 3 0 1 1 0\n",
      " 0 3 1 0 0 0 0 0 0 0 1 0 0 0 0 0 0 0 0 3 0 1 1 6 0 0 6 0 7 0 0 0 1 0 1 4 1\n",
      " 0 1 0 0 6 1 6 0 0 0 0 7 2 0 0 3 0 1 1 0 1 6 0 0 1 3 1 0 0 1 0 0 4 1 7 0 7\n",
      " 0 3 0 1 6 0 0 6 0 0 1 0 6 3 0 0 1 0 0 7 0 6 0 1 0 1 3 0 0 0 7 0 0 4 0 0 7\n",
      " 0 1 0 0 6 0 0 0 6 0 1 3 0 6 0 1 1 0 0 0 2 1 0 1 0 0 0 0 0 1 1 0 0 0 1 0 3\n",
      " 6 0 1 0 0 0 6 1 0 0 0 0 4 1 0 7 3 6 6 1 0 0 0 6 7 1 0 0 1 3 0 0 1 0 6 1 1\n",
      " 1 1 0 0 4 3 0 0 1 0 6 0 1 0 1 3 0 0 0 0 1 0 0 1 0 0 0 0 0 0 0 0 3 1 1 0 0\n",
      " 1 1 0 0 6 3 0 0 7 6 6 0 0 0 1 1 1 0 0 0 0 0 0 0 1 6 0 0 4 0 0 0 3 1 0 1 0\n",
      " 1 0 0 1 0 0 0 6 4 0 0 3 0 0 3 1 0 0 0 6 4 6 0 0 3 0 7 0 0 6 4 0 0 0 0 0 0\n",
      " 4 0 0 1 0 0 1 0 1 0]\n",
      "targs [3 1 4 0 0 1 3 0 3 3 3 5 3 4 2 0 2 2 5 0 7 7 7 0 4 7 4 0 0 1 1 0 3 1 4 1 3\n",
      " 3 3 0 0 4 2 3 0 4 0 2 3 0 4 2 0 7 0 7 6 5 2 0 0 0 1 7 2 0 7 7 3 7 5 0 3 7\n",
      " 7 1 6 0 5 0 0 4 0 3 6 4 3 5 7 0 0 4 1 0 1 0 1 0 0 3 1 7 7 1 1 6 0 0 3 6 2\n",
      " 2 2 3 7 3 4 0 3 3 1 7 0 0 7 4 1 6 1 0 4 2 7 0 0 6 3 2 4 6 3 3 4 3 0 7 7 0\n",
      " 5 0 0 0 3 0 6 1 0 3 5 6 3 3 6 7 0 0 6 7 1 7 4 6 6 4 0 0 6 0 4 7 0 0 7 7 0\n",
      " 0 6 6 2 0 5 7 0 2 1 2 0 7 0 4 0 0 2 7 0 7 7 0 3 0 1 0 4 0 3 0 0 2 0 1 0 0\n",
      " 5 2 2 0 7 7 1 5 5 4 2 6 0 0 6 0 4 0 1 5 7 1 3 3 1 0 0 2 0 0 0 7 1 1 0 4 0\n",
      " 4 2 5 0 0 4 1 1 5 2 4 3 3 5 7 4 6 1 5 6 0 2 6 1 2 6 1 1 0 7 0 1 1 2 4 1 0\n",
      " 0 6 1 3 6 2 0 7 0 1 6 0 7 1 7 7 0 1 7 7 0 0 6 1 1 6 2 4 0 1 2 5 0 0 0 0 1\n",
      " 0 0 1 0 6 3 0 5 1 0 0 5 1 6 7 0 7 6 3 6 3 3 0 3 0 7 1 0 0 2 6 7 3 1 3 0 1\n",
      " 1 2 6 7 3 2 3 5 3 6 6 4 7 0 0 5 1 5 2 3 2 3 1 6 3 5 7 3 0 1 0 3 5 0 1 3 4\n",
      " 3 2 1 6 0 3 7 7 6 1 5 5 1 1 2 1 0 0 0 0 1 0 1 7 0 0 7 0 5 1 7 1 4 4 3 0 6\n",
      " 1 6 2 5 0 0 0 5 7 6 4 7 1 7 3 0 6 0 1 0 1 1 0 0 2 1 1 7 4 0 1 3 2 2 0 0 2\n",
      " 5 3 5 7 4 0 2 6 4 1 3 3 0 7 4 2 2 1 0 3 2 0 1 7 3 6 4 0 6 7 4 6 2 6 2 3 7\n",
      " 4 0 6 5 0 7 5 3 3 1]\n",
      "arracy on test set 0.2765151515151515\n"
     ]
    },
    {
     "data": {
      "application/vnd.jupyter.widget-view+json": {
       "model_id": "a9533c6f47c94c759dc681cb2fcf34c5",
       "version_major": 2,
       "version_minor": 0
      },
      "text/plain": [
       "HBox(children=(FloatProgress(value=0.0, max=24.0), HTML(value='')))"
      ]
     },
     "metadata": {},
     "output_type": "display_data"
    },
    {
     "name": "stdout",
     "output_type": "stream",
     "text": [
      "\n",
      "Epoch: 69, Loss:  0.23367811739444733\n"
     ]
    },
    {
     "data": {
      "application/vnd.jupyter.widget-view+json": {
       "model_id": "29df83b4221b459f9f7264a8c1e41bf5",
       "version_major": 2,
       "version_minor": 0
      },
      "text/plain": [
       "HBox(children=(FloatProgress(value=0.0, max=17.0), HTML(value='')))"
      ]
     },
     "metadata": {},
     "output_type": "display_data"
    },
    {
     "name": "stdout",
     "output_type": "stream",
     "text": [
      "\n",
      "guess [0 0 0 0 1 6 0 0 0 1 0 0 6 0 1 1 0 0 0 1 1 1 7 7 7 7 7 0 0 0 0 1 0 1 7 6 1\n",
      " 0 6 6 7 0 0 0 6 1 7 0 1 1 0 0 7 1 1 0 0 1 0 6 1 0 6 0 0 6 7 4 0 1 1 0 0 1\n",
      " 1 1 4 3 0 0 0 1 6 1 0 7 1 3 7 0 0 0 0 7 6 1 6 0 1 3 1 1 3 1 0 7 1 3 3 7 1\n",
      " 0 7 1 0 0 0 0 1 4 1 0 1 1 1 6 0 0 6 1 1 0 7 1 0 7 0 7 0 0 0 0 3 4 1 0 0 6\n",
      " 6 1 7 0 3 6 6 0 0 7 3 4 1 1 6 0 6 0 1 0 0 6 7 3 3 0 1 0 6 1 0 0 0 1 4 0 1\n",
      " 1 0 6 1 0 6 5 1 3 0 0 1 3 0 0 1 3 0 1 6 1 0 0 0 7 1 7 1 1 0 0 0 0 1 1 0 1\n",
      " 1 1 1 1 7 6 7 0 0 0 1 1 6 7 1 0 5 1 6 6 6 1 7 1 0 7 0 7 1 0 0 6 1 7 3 1 0\n",
      " 1 0 7 3 4 0 4 6 0 0 0 0 1 0 6 0 3 1 5 7 7 0 7 0 1 1 0 0 7 1 6 4 0 0 3 0 1\n",
      " 7 0 0 0 7 1 0 6 6 6 6 0 1 6 7 0 1 6 3 0 0 1 0 3 3 7 0 3 6 6 0 0 7 6 0 1 1\n",
      " 1 0 1 0 7 0 1 7 1 7 1 0 0 1 1 0 0 0 0 1 0 0 1 0 4 3 0 0 0 1 1 0 0 3 1 1 7\n",
      " 1 1 1 0 1 0 7 4 1 1 1 0 1 6 0 7 1 0 0 0 1 7 0 1 0 1 1 1 7 1 0 6 0 1 1 0 1\n",
      " 0 1 0 1 1 1 6 0 0 0 1 1 7 0 1 7 0 1 0 0 7 7 0 3 0 0 0 1 6 6 3 0 0 0 6 0 4\n",
      " 3 0 1 6 0 1 1 6 2 0 0 5 0 6 1 1 0 0 0 0 0 0 1 0 1 1 1 0 0 6 0 0 4 7 0 1 0\n",
      " 1 1 5 0 6 0 1 0 0 0 0 0 0 6 6 1 7 0 4 1 1 0 0 6 0 3 1 1 0 1 0 0 1 6 6 1 0\n",
      " 0 1 0 0 0 6 7 1 0 0]\n",
      "targs [1 0 0 2 2 1 0 0 2 0 1 5 0 0 0 0 7 7 2 0 4 6 3 0 1 0 1 7 1 1 0 0 2 2 7 2 1\n",
      " 0 5 6 4 0 0 4 6 1 0 0 0 3 0 6 7 3 1 1 1 0 0 1 4 3 7 0 7 0 7 4 5 1 3 5 0 0\n",
      " 7 3 6 1 0 2 3 1 7 1 7 0 6 6 0 1 7 7 7 0 1 7 7 5 2 3 3 3 2 0 0 4 0 2 0 0 1\n",
      " 0 0 6 7 0 7 0 0 4 0 7 3 6 1 4 7 4 4 5 4 7 2 3 1 2 0 5 0 0 0 0 5 6 6 1 0 0\n",
      " 0 3 0 0 4 5 6 0 0 1 0 4 6 0 4 5 1 0 6 7 0 7 3 6 2 1 0 1 0 3 0 0 0 2 2 1 6\n",
      " 3 0 6 4 7 7 1 5 0 3 0 6 0 6 0 5 7 1 1 2 3 7 3 4 0 6 0 1 1 2 4 3 1 2 1 7 7\n",
      " 0 4 2 5 0 6 2 4 0 1 5 2 0 0 0 0 2 7 6 0 5 3 5 0 0 7 5 7 3 1 7 1 2 5 4 3 1\n",
      " 3 1 6 0 0 6 4 2 0 7 5 1 2 7 5 7 1 0 0 1 7 5 0 0 7 3 6 0 4 3 1 1 2 5 5 0 0\n",
      " 3 0 2 7 2 7 6 4 3 5 1 3 6 0 3 0 7 6 0 5 3 6 5 1 3 1 3 4 3 4 6 1 3 7 1 4 3\n",
      " 1 7 0 1 0 3 2 0 2 0 0 0 3 1 0 7 1 0 0 3 3 1 2 3 4 2 1 0 0 4 2 1 6 3 0 1 5\n",
      " 2 7 1 1 2 5 4 0 0 5 6 6 7 3 1 3 5 0 2 0 0 6 3 0 1 3 7 4 7 1 0 6 0 7 0 0 6\n",
      " 2 2 1 5 0 2 4 1 1 4 0 0 7 6 4 4 0 0 0 7 4 2 7 6 4 7 0 6 6 3 1 0 0 3 1 4 7\n",
      " 2 5 3 2 0 1 7 4 3 1 0 0 0 0 3 5 3 2 2 7 3 7 3 1 3 7 0 2 7 3 4 2 0 3 3 1 6\n",
      " 4 6 0 0 6 6 3 0 6 0 3 7 1 7 2 0 0 6 1 6 1 3 0 6 0 3 4 1 0 7 3 0 3 3 0 7 7\n",
      " 1 5 0 0 4 7 6 3 0 7]\n",
      "arracy on test set 0.23106060606060605\n"
     ]
    },
    {
     "data": {
      "application/vnd.jupyter.widget-view+json": {
       "model_id": "f16abd17857147d8ac7585e2bfb0f28f",
       "version_major": 2,
       "version_minor": 0
      },
      "text/plain": [
       "HBox(children=(FloatProgress(value=0.0, max=24.0), HTML(value='')))"
      ]
     },
     "metadata": {},
     "output_type": "display_data"
    },
    {
     "name": "stdout",
     "output_type": "stream",
     "text": [
      "\n",
      "Epoch: 70, Loss:  0.2853236496448517\n"
     ]
    },
    {
     "data": {
      "application/vnd.jupyter.widget-view+json": {
       "model_id": "aae2e9636cc340f0896db9197f3b345f",
       "version_major": 2,
       "version_minor": 0
      },
      "text/plain": [
       "HBox(children=(FloatProgress(value=0.0, max=17.0), HTML(value='')))"
      ]
     },
     "metadata": {},
     "output_type": "display_data"
    },
    {
     "name": "stdout",
     "output_type": "stream",
     "text": [
      "\n",
      "guess [0 6 1 0 6 1 0 3 1 2 1 6 0 3 1 6 0 1 1 0 0 0 1 0 1 0 0 0 0 0 0 0 0 6 6 1 3\n",
      " 5 7 6 1 0 0 0 0 0 1 1 0 3 1 0 1 0 0 1 6 1 6 6 0 0 0 4 4 0 0 0 1 1 0 3 0 0\n",
      " 0 0 0 6 0 0 1 6 1 3 1 1 0 0 0 1 1 6 7 6 1 0 1 3 4 4 6 6 1 0 6 6 0 0 0 0 6\n",
      " 4 0 1 1 6 0 0 4 3 7 0 0 0 6 1 0 0 0 7 1 6 6 0 1 0 1 1 0 0 0 0 1 1 3 0 0 1\n",
      " 7 1 1 6 0 0 0 0 0 1 3 0 0 0 1 1 1 3 1 0 0 1 0 6 1 0 1 7 0 0 0 6 0 1 3 0 0\n",
      " 1 1 0 1 0 0 0 0 0 7 3 0 0 1 0 0 0 6 0 1 7 7 0 0 6 0 6 0 0 4 6 1 0 0 7 1 1\n",
      " 0 0 0 3 1 6 1 0 6 6 0 5 0 7 0 0 0 1 6 3 0 3 6 1 1 0 1 6 1 0 0 0 6 0 1 0 0\n",
      " 0 7 1 1 0 0 0 0 0 0 0 6 1 1 0 1 0 1 3 0 1 1 0 1 0 0 1 0 0 3 1 0 0 1 0 0 0\n",
      " 0 1 3 0 0 0 0 0 4 6 0 3 0 0 0 3 0 0 1 1 1 0 1 0 0 0 1 0 1 3 6 0 6 0 7 1 3\n",
      " 0 1 0 1 6 1 1 3 0 0 0 6 0 0 0 1 0 1 0 0 0 1 1 0 6 1 0 1 0 3 0 0 0 3 0 0 1\n",
      " 0 0 0 1 0 3 6 1 6 0 0 1 0 1 0 6 0 6 0 6 1 1 0 0 6 0 6 0 0 1 1 1 0 6 0 6 0\n",
      " 0 1 0 1 0 7 1 0 1 0 0 6 6 1 1 1 6 1 0 1 0 7 0 6 3 0 1 3 0 5 0 0 1 1 0 6 0\n",
      " 0 3 0 6 6 0 3 1 0 6 7 0 6 0 1 3 0 0 1 0 1 1 1 1 0 0 0 1 3 1 1 6 0 0 0 4 0\n",
      " 0 0 1 1 4 1 0 6 5 0 3 1 6 0 0 1 3 1 0 4 0 1 0 0 6 1 1 6 1 1 1 1 5 3 7 0 1\n",
      " 7 0 0 0 0 0 1 1 0 1]\n",
      "targs [7 1 0 0 4 6 2 3 0 3 5 2 4 0 0 1 0 7 3 0 1 3 3 0 7 7 7 7 0 1 7 4 2 2 4 5 5\n",
      " 0 0 7 0 0 7 0 7 0 3 3 6 1 7 2 7 6 1 0 0 3 7 1 5 0 7 1 4 0 3 7 6 3 0 1 5 7\n",
      " 5 0 4 3 1 1 3 0 0 4 4 2 0 4 0 1 5 0 4 2 0 6 6 2 4 4 3 1 0 0 1 1 6 4 6 5 7\n",
      " 0 1 1 1 6 0 1 6 7 1 1 3 3 0 6 0 6 4 0 0 6 0 1 2 0 7 2 2 0 0 1 0 2 0 7 3 1\n",
      " 7 4 3 6 0 1 0 6 7 4 1 3 3 4 3 0 6 0 2 3 1 1 7 7 1 4 1 4 1 0 7 7 5 4 3 7 0\n",
      " 3 3 0 2 5 3 0 7 4 2 0 0 0 3 3 7 0 7 1 1 3 4 0 1 7 1 2 0 0 7 4 2 6 0 3 6 5\n",
      " 1 1 7 0 3 4 7 0 1 5 2 0 0 5 0 7 0 0 5 4 1 5 2 0 7 0 6 0 4 7 0 0 2 7 1 0 0\n",
      " 0 2 0 2 7 1 0 0 5 2 0 5 5 5 6 1 4 0 3 1 2 1 0 6 0 7 3 7 0 6 3 1 0 0 2 0 0\n",
      " 5 2 0 0 0 0 0 1 0 6 0 1 3 0 0 2 0 7 3 6 0 2 6 0 1 6 7 1 0 2 0 6 4 0 0 0 3\n",
      " 3 7 0 0 4 7 7 3 3 6 1 0 3 3 4 1 0 3 7 6 3 2 1 7 0 2 5 7 6 3 0 1 0 5 0 3 4\n",
      " 6 0 0 6 0 6 3 0 3 0 6 2 5 3 1 0 1 6 0 6 3 1 0 1 4 0 2 0 1 3 7 4 0 7 2 6 5\n",
      " 0 5 0 4 2 0 5 5 6 0 7 2 1 6 6 4 5 0 5 6 7 7 0 4 0 7 1 2 1 0 7 6 0 3 2 0 0\n",
      " 3 3 1 3 2 3 2 2 7 6 7 7 1 7 3 1 0 7 1 2 7 3 2 3 1 7 0 5 3 6 0 3 1 4 1 4 0\n",
      " 3 4 6 0 0 1 1 4 1 1 4 0 6 2 0 3 0 0 5 6 1 3 2 7 6 4 0 5 0 7 3 1 0 6 0 2 1\n",
      " 2 5 0 1 5 7 2 3 3 1]\n",
      "arracy on test set 0.2481060606060606\n"
     ]
    },
    {
     "data": {
      "application/vnd.jupyter.widget-view+json": {
       "model_id": "b13a0ce4de414ee2b7e95fe92a93d0b1",
       "version_major": 2,
       "version_minor": 0
      },
      "text/plain": [
       "HBox(children=(FloatProgress(value=0.0, max=24.0), HTML(value='')))"
      ]
     },
     "metadata": {},
     "output_type": "display_data"
    },
    {
     "name": "stdout",
     "output_type": "stream",
     "text": [
      "\n",
      "Epoch: 71, Loss:  0.26582470536231995\n"
     ]
    },
    {
     "data": {
      "application/vnd.jupyter.widget-view+json": {
       "model_id": "efe997dd340c4480940df58805f8046d",
       "version_major": 2,
       "version_minor": 0
      },
      "text/plain": [
       "HBox(children=(FloatProgress(value=0.0, max=17.0), HTML(value='')))"
      ]
     },
     "metadata": {},
     "output_type": "display_data"
    },
    {
     "name": "stdout",
     "output_type": "stream",
     "text": [
      "\n",
      "guess [1 0 6 0 1 6 1 0 1 1 0 0 0 3 7 0 0 1 0 6 6 0 0 6 3 2 1 1 0 1 0 6 0 0 6 0 1\n",
      " 7 1 3 1 6 0 6 6 0 1 7 0 0 6 0 0 6 6 0 0 0 0 1 6 0 6 4 0 0 0 1 0 1 3 0 0 0\n",
      " 0 0 6 1 1 4 7 3 6 6 7 1 3 6 1 0 0 6 0 3 1 1 6 6 0 0 0 6 1 7 6 1 0 1 0 0 1\n",
      " 0 0 3 0 6 4 0 0 0 1 0 7 0 0 0 0 1 0 0 0 0 3 6 0 0 6 0 1 1 0 0 1 0 0 1 7 0\n",
      " 6 0 1 2 3 0 0 0 0 0 0 1 0 1 7 6 1 1 4 0 1 1 6 0 1 7 1 2 7 6 0 0 1 7 0 3 7\n",
      " 0 7 3 4 0 7 0 0 0 6 0 0 1 1 6 0 0 3 0 0 6 0 1 0 0 0 6 1 1 1 7 0 6 0 6 0 6\n",
      " 6 6 0 1 0 0 0 0 7 7 1 0 0 0 1 1 1 7 0 0 0 7 1 1 3 0 1 1 7 3 1 3 0 1 1 0 6\n",
      " 0 0 0 1 6 3 0 6 6 0 1 3 0 0 0 0 6 0 0 1 1 0 0 6 0 6 0 0 4 3 0 3 0 0 0 0 0\n",
      " 6 0 3 2 1 0 0 0 0 7 1 0 0 3 0 0 0 0 6 0 0 7 0 0 0 1 0 0 0 0 0 0 0 0 0 1 0\n",
      " 0 3 0 0 6 6 0 0 0 0 0 1 7 1 1 0 1 0 0 0 6 1 7 0 1 6 0 0 0 1 0 6 0 1 0 6 0\n",
      " 1 0 6 0 4 7 3 0 1 6 0 3 0 0 0 1 1 0 1 0 0 0 1 1 0 6 0 0 0 3 1 3 3 0 0 6 0\n",
      " 4 0 7 0 1 0 7 3 0 1 0 0 0 1 1 6 0 1 3 1 1 6 0 6 0 0 7 0 6 0 0 1 7 1 7 1 0\n",
      " 1 1 1 1 0 3 0 3 0 0 0 3 0 0 0 1 1 3 0 7 1 0 1 0 0 1 0 1 1 6 0 0 0 0 0 6 1\n",
      " 0 4 6 6 0 3 1 0 6 0 0 1 4 1 0 0 0 6 0 6 6 0 0 3 1 0 1 0 6 3 4 0 7 6 3 0 1\n",
      " 0 0 0 0 6 0 3 0 0 0]\n",
      "targs [3 0 0 4 2 3 2 1 2 3 0 1 1 3 5 1 0 3 1 7 0 0 5 2 4 3 2 0 5 1 0 7 7 4 6 0 6\n",
      " 6 7 7 3 7 0 4 2 1 1 5 0 4 1 0 3 6 5 0 0 5 3 7 5 7 7 2 1 7 0 3 1 7 5 0 7 6\n",
      " 3 7 6 0 3 4 3 3 7 1 3 6 5 4 2 4 1 0 2 6 7 1 3 5 4 0 0 2 3 2 1 2 0 2 7 1 7\n",
      " 0 0 0 1 2 1 2 7 3 3 0 1 1 1 6 7 4 0 4 6 6 4 4 0 3 1 0 5 0 0 0 3 3 1 2 2 1\n",
      " 1 1 4 0 0 4 7 7 7 6 7 4 2 5 2 6 3 3 0 1 4 7 4 7 0 0 0 7 7 6 0 5 1 3 0 3 4\n",
      " 0 6 2 0 2 1 7 1 2 7 1 1 0 0 3 3 4 4 0 0 6 5 0 1 4 0 4 4 7 0 4 2 6 0 1 1 0\n",
      " 3 6 1 3 3 0 7 0 0 0 0 7 5 7 0 0 6 0 2 6 1 7 5 0 1 0 2 4 3 2 3 6 2 6 0 7 0\n",
      " 0 0 3 0 4 3 0 0 6 2 1 0 0 4 3 6 7 2 0 2 1 0 0 2 3 4 7 2 6 5 7 6 3 6 7 0 1\n",
      " 6 3 3 4 2 0 5 0 0 0 3 0 6 4 6 3 0 0 6 7 2 7 0 0 3 3 6 5 4 0 5 1 0 1 7 5 0\n",
      " 0 3 0 6 6 0 1 0 5 1 0 3 0 6 5 1 0 7 1 4 1 7 7 0 0 0 2 0 0 3 3 0 1 3 0 0 7\n",
      " 1 0 7 6 4 7 0 1 2 5 5 2 6 0 0 3 1 0 6 1 0 0 0 2 5 0 3 1 0 1 6 1 2 0 3 7 7\n",
      " 4 1 0 7 2 0 7 0 1 4 7 6 3 6 7 2 0 1 1 0 6 2 0 0 7 7 0 7 4 7 0 0 0 0 0 1 1\n",
      " 5 5 0 4 0 0 1 0 5 7 0 1 0 3 3 3 2 2 7 4 3 1 6 0 5 7 1 5 7 7 0 0 6 5 0 0 1\n",
      " 0 1 1 1 1 0 1 6 1 7 3 3 4 2 1 0 0 7 1 6 1 0 3 2 3 1 6 0 3 0 6 3 3 3 3 0 4\n",
      " 0 0 0 2 5 5 2 6 4 7]\n",
      "arracy on test set 0.2481060606060606\n"
     ]
    },
    {
     "data": {
      "application/vnd.jupyter.widget-view+json": {
       "model_id": "5c50d87e20fb47ef9395c6df0f9f614d",
       "version_major": 2,
       "version_minor": 0
      },
      "text/plain": [
       "HBox(children=(FloatProgress(value=0.0, max=24.0), HTML(value='')))"
      ]
     },
     "metadata": {},
     "output_type": "display_data"
    },
    {
     "name": "stdout",
     "output_type": "stream",
     "text": [
      "\n",
      "Epoch: 72, Loss:  0.1336347609758377\n"
     ]
    },
    {
     "data": {
      "application/vnd.jupyter.widget-view+json": {
       "model_id": "1d8e4a370c1d4d28a504da9d1927f3f1",
       "version_major": 2,
       "version_minor": 0
      },
      "text/plain": [
       "HBox(children=(FloatProgress(value=0.0, max=17.0), HTML(value='')))"
      ]
     },
     "metadata": {},
     "output_type": "display_data"
    },
    {
     "name": "stdout",
     "output_type": "stream",
     "text": [
      "\n",
      "guess [3 0 1 6 1 0 0 6 0 0 1 6 1 0 0 6 0 0 0 1 3 0 0 0 6 3 0 1 1 0 1 0 1 6 6 6 1\n",
      " 0 0 1 7 6 0 0 1 1 0 0 6 1 0 4 0 0 3 0 1 0 7 0 0 7 0 0 1 1 3 6 0 7 0 0 0 6\n",
      " 0 0 0 3 1 1 3 1 0 0 0 3 0 6 6 0 0 0 0 6 6 0 6 0 6 0 0 7 0 0 0 0 0 0 6 1 0\n",
      " 0 0 0 0 6 1 3 1 4 0 7 0 0 1 0 6 0 1 1 1 0 0 1 0 0 0 0 3 0 0 0 1 0 6 7 0 1\n",
      " 6 0 0 0 1 7 0 0 0 0 1 2 4 0 1 3 5 1 3 0 1 0 1 1 7 0 1 0 0 0 1 6 7 3 0 0 0\n",
      " 0 1 7 0 0 0 1 6 7 0 0 0 0 0 0 0 1 0 7 0 1 1 7 1 1 0 6 0 0 0 0 0 6 0 0 0 0\n",
      " 3 3 0 3 0 0 6 6 0 0 0 6 6 7 0 3 6 3 0 3 6 6 3 0 1 0 0 0 0 0 1 0 1 0 6 4 0\n",
      " 0 0 3 1 0 0 0 1 0 0 0 0 1 1 6 1 7 0 0 0 0 1 0 1 0 0 0 1 6 0 6 0 7 0 1 1 0\n",
      " 0 0 4 0 0 0 7 0 1 1 1 6 0 0 0 0 0 0 0 0 0 3 0 1 1 1 0 6 0 0 0 0 1 6 0 0 1\n",
      " 0 0 0 3 1 0 3 0 6 1 0 1 3 3 0 0 0 0 1 6 1 0 0 0 0 6 1 0 0 1 4 0 0 0 0 1 0\n",
      " 1 1 3 0 1 0 6 0 1 6 1 0 6 0 0 6 3 0 0 0 0 1 1 0 1 0 0 6 4 1 0 1 0 1 0 3 0\n",
      " 0 1 6 3 0 0 0 0 0 0 0 0 0 0 0 0 0 0 4 1 7 0 0 1 1 1 0 0 0 0 0 4 6 4 4 1 6\n",
      " 7 0 0 0 3 0 0 0 4 0 1 0 0 3 1 0 0 0 3 0 7 1 6 6 0 0 0 7 1 0 0 1 4 6 4 1 6\n",
      " 6 3 1 1 0 1 0 1 1 3 0 7 0 1 0 6 0 1 1 0 1 0 0 4 0 3 0 6 0 7 0 1 1 0 0 6 0\n",
      " 1 0 4 6 0 0 1 0 6 0]\n",
      "targs [0 0 1 3 1 3 4 4 0 3 0 7 7 1 3 4 1 1 0 1 3 0 0 7 0 0 1 1 0 6 0 0 2 2 5 3 2\n",
      " 1 7 6 3 7 5 3 2 4 5 3 1 3 4 4 0 1 1 3 3 0 0 1 7 1 1 0 5 6 1 3 0 4 3 0 0 1\n",
      " 0 0 1 4 4 4 0 3 5 6 0 4 4 7 0 0 0 1 0 3 0 7 7 1 0 0 3 5 0 5 2 0 1 1 0 0 2\n",
      " 5 3 0 5 1 3 2 2 0 0 0 0 2 3 4 6 2 1 7 5 7 5 3 0 7 0 4 2 7 0 0 0 0 4 2 3 7\n",
      " 6 2 4 2 3 4 6 2 0 6 0 3 6 5 2 1 2 3 6 6 3 4 2 4 0 7 1 0 3 0 6 6 0 2 1 1 0\n",
      " 0 1 6 0 2 0 2 7 7 3 3 0 4 7 0 1 0 0 4 1 4 7 0 0 0 0 0 0 6 7 7 0 7 6 3 1 0\n",
      " 4 5 0 1 7 0 2 4 1 0 0 2 0 7 0 7 1 0 6 1 0 1 7 4 6 1 1 7 3 7 2 0 0 1 6 0 7\n",
      " 1 1 3 0 7 5 0 0 7 0 1 1 7 6 1 0 0 6 7 0 4 2 7 2 6 0 1 4 1 0 0 2 7 0 6 1 1\n",
      " 1 0 2 0 1 0 3 2 2 3 6 6 1 1 5 3 6 0 1 7 0 0 6 3 6 3 0 6 0 0 0 0 2 6 6 7 5\n",
      " 0 0 0 3 4 0 3 0 7 0 7 3 5 0 7 2 0 0 0 2 6 5 5 7 6 6 3 2 1 2 0 1 2 6 7 4 7\n",
      " 0 6 2 1 1 1 5 3 4 6 3 0 2 0 7 4 2 5 4 6 6 3 2 0 2 0 6 5 1 3 4 5 7 7 1 2 1\n",
      " 7 3 6 0 1 7 0 3 0 7 0 6 3 0 7 0 7 7 7 7 0 3 0 3 3 7 2 0 0 0 1 4 5 7 2 0 4\n",
      " 0 6 0 1 3 1 2 5 4 4 1 0 7 3 7 3 0 4 3 2 1 5 1 4 0 0 0 0 6 7 3 3 4 3 1 5 1\n",
      " 3 5 5 7 6 7 7 6 3 4 0 5 7 1 3 6 1 1 1 3 7 0 5 6 0 3 7 6 3 3 5 2 1 0 5 0 3\n",
      " 0 1 4 2 0 0 0 7 5 0]\n",
      "arracy on test set 0.26515151515151514\n"
     ]
    },
    {
     "data": {
      "application/vnd.jupyter.widget-view+json": {
       "model_id": "0e177a2b07a140628a81d59e399ccdc4",
       "version_major": 2,
       "version_minor": 0
      },
      "text/plain": [
       "HBox(children=(FloatProgress(value=0.0, max=24.0), HTML(value='')))"
      ]
     },
     "metadata": {},
     "output_type": "display_data"
    },
    {
     "name": "stdout",
     "output_type": "stream",
     "text": [
      "\n",
      "Epoch: 73, Loss:  0.29215073585510254\n"
     ]
    },
    {
     "data": {
      "application/vnd.jupyter.widget-view+json": {
       "model_id": "016e1b8f376b45d4823b02d992cd15cb",
       "version_major": 2,
       "version_minor": 0
      },
      "text/plain": [
       "HBox(children=(FloatProgress(value=0.0, max=17.0), HTML(value='')))"
      ]
     },
     "metadata": {},
     "output_type": "display_data"
    },
    {
     "name": "stdout",
     "output_type": "stream",
     "text": [
      "\n",
      "guess [0 1 0 1 1 0 7 0 0 0 0 1 1 0 0 7 6 0 4 7 1 0 1 6 0 1 1 6 0 0 0 0 7 1 0 1 7\n",
      " 1 0 0 0 1 0 7 0 0 0 7 0 3 1 0 0 1 1 0 0 7 0 7 0 1 0 3 6 6 0 0 1 0 1 0 1 1\n",
      " 0 0 0 1 1 7 7 1 7 0 0 7 0 0 3 0 0 0 0 6 1 0 0 0 0 1 0 0 0 3 0 0 0 7 0 0 0\n",
      " 6 0 0 0 0 1 0 0 0 6 6 0 3 0 6 3 7 0 6 0 0 0 4 3 0 3 0 0 0 1 0 0 7 0 0 6 1\n",
      " 0 7 7 7 1 0 3 0 1 0 0 6 6 0 0 1 6 1 0 0 0 0 0 1 7 6 1 7 4 0 0 2 1 1 7 3 6\n",
      " 7 0 1 0 0 0 0 0 0 6 6 1 6 3 1 0 0 7 0 1 4 6 1 0 3 0 1 7 0 7 7 1 0 0 0 0 6\n",
      " 6 0 0 1 3 0 1 7 3 0 6 0 0 0 3 7 0 3 0 1 1 0 0 0 1 6 0 0 1 1 7 6 1 0 6 0 1\n",
      " 6 3 1 1 1 0 0 1 0 0 6 6 6 1 0 1 0 1 0 3 0 1 6 0 0 1 0 0 1 0 1 4 0 0 7 1 7\n",
      " 1 0 0 1 3 0 1 0 0 1 1 6 1 0 1 0 0 1 7 0 1 0 0 0 0 0 1 7 0 0 7 0 0 0 7 7 6\n",
      " 0 6 7 1 0 1 1 0 4 7 6 0 3 0 4 1 0 1 3 1 1 1 7 1 4 1 1 0 0 6 0 6 3 4 0 3 1\n",
      " 0 0 6 1 1 4 1 1 1 1 6 1 6 1 7 2 0 1 0 0 4 0 4 6 1 4 7 0 1 0 1 0 6 6 0 0 0\n",
      " 6 7 7 6 7 6 0 1 6 0 0 0 0 0 0 1 0 0 0 7 1 1 6 0 0 6 6 0 0 7 1 0 1 0 1 3 0\n",
      " 0 1 1 0 7 3 0 6 3 7 1 4 0 7 0 0 1 0 1 1 0 1 0 6 6 0 7 1 0 0 1 7 6 0 0 0 3\n",
      " 0 0 1 0 0 1 0 0 0 0 6 1 0 1 0 1 1 0 0 0 0 0 0 0 1 0 3 0 0 1 7 1 7 0 6 0 0\n",
      " 1 0 6 1 1 4 0 0 3 1]\n",
      "targs [2 1 0 7 0 5 7 7 0 7 3 3 2 0 7 3 6 0 0 5 7 4 1 2 0 2 0 7 3 0 1 0 0 5 0 7 0\n",
      " 2 2 3 3 3 0 0 0 0 0 1 4 0 1 2 1 6 2 0 0 3 6 5 0 4 6 1 7 1 0 6 3 0 3 3 7 0\n",
      " 5 1 1 4 4 7 4 6 0 0 6 2 0 5 3 7 1 3 2 0 0 1 0 7 0 1 7 0 1 7 0 1 6 0 0 0 5\n",
      " 2 7 1 0 0 2 0 0 1 7 0 0 2 1 6 5 2 1 6 0 7 1 6 1 1 6 1 6 0 5 0 1 2 0 5 2 6\n",
      " 3 4 4 7 0 0 5 1 1 4 1 7 7 5 0 0 5 6 6 0 4 0 2 0 7 5 5 0 4 6 3 3 1 2 7 2 0\n",
      " 5 4 3 0 1 3 3 2 7 3 0 0 1 1 1 7 2 1 0 6 0 0 4 1 1 6 3 2 5 0 0 0 0 4 1 3 0\n",
      " 6 1 0 1 3 3 4 7 3 0 3 6 5 7 2 1 0 4 5 4 3 7 7 2 6 3 0 7 6 0 5 5 3 0 6 5 0\n",
      " 6 4 4 3 7 7 5 3 3 0 1 0 7 7 0 0 7 2 0 0 6 3 1 0 3 3 4 7 3 1 2 4 1 0 0 1 6\n",
      " 3 1 6 5 2 0 3 7 0 6 3 4 0 3 7 1 7 2 3 7 3 0 7 0 2 7 0 3 0 5 4 2 0 1 4 6 2\n",
      " 0 4 3 0 0 7 2 7 2 2 4 6 2 7 1 4 0 2 0 0 7 2 0 5 6 7 6 0 0 6 0 6 1 4 5 4 3\n",
      " 5 2 0 3 1 0 5 2 7 3 5 0 1 0 3 3 1 3 7 7 0 6 4 6 7 4 0 4 1 0 4 0 1 3 0 3 6\n",
      " 6 7 0 7 0 6 0 3 4 3 1 1 4 0 6 0 0 4 0 1 0 0 7 7 0 4 0 0 1 1 1 0 2 0 7 3 6\n",
      " 0 6 0 0 1 3 6 4 0 1 5 1 0 0 0 7 0 7 1 1 1 6 0 1 2 0 5 3 7 0 0 4 0 7 2 4 0\n",
      " 7 1 1 7 2 2 1 0 7 0 3 2 2 4 2 1 0 0 3 0 3 1 7 5 4 1 6 0 0 6 3 1 6 3 5 0 3\n",
      " 1 1 1 6 2 7 3 3 3 7]\n",
      "arracy on test set 0.2556818181818182\n"
     ]
    },
    {
     "data": {
      "application/vnd.jupyter.widget-view+json": {
       "model_id": "f7c9ae80aecd4c18a034ebf79cfa5409",
       "version_major": 2,
       "version_minor": 0
      },
      "text/plain": [
       "HBox(children=(FloatProgress(value=0.0, max=24.0), HTML(value='')))"
      ]
     },
     "metadata": {},
     "output_type": "display_data"
    },
    {
     "name": "stdout",
     "output_type": "stream",
     "text": [
      "\n",
      "Epoch: 74, Loss:  0.2733594477176666\n"
     ]
    },
    {
     "data": {
      "application/vnd.jupyter.widget-view+json": {
       "model_id": "536eaf6428fd40db8c18992044480fd5",
       "version_major": 2,
       "version_minor": 0
      },
      "text/plain": [
       "HBox(children=(FloatProgress(value=0.0, max=17.0), HTML(value='')))"
      ]
     },
     "metadata": {},
     "output_type": "display_data"
    },
    {
     "name": "stdout",
     "output_type": "stream",
     "text": [
      "\n",
      "guess [0 1 6 3 1 1 3 0 0 0 6 0 3 1 0 1 0 0 6 0 0 1 0 0 0 0 0 0 3 0 0 7 1 0 0 0 4\n",
      " 1 7 1 6 6 0 1 4 0 0 0 1 1 0 1 1 6 0 4 6 0 0 0 0 0 0 1 0 0 7 1 6 1 4 1 0 1\n",
      " 1 3 0 6 6 6 6 0 6 0 0 7 1 0 0 0 0 0 0 0 0 1 1 1 6 0 0 1 1 7 0 0 1 3 0 0 0\n",
      " 1 1 3 1 0 0 0 1 6 6 0 0 0 6 0 6 1 0 1 6 3 1 0 0 3 1 0 1 1 0 1 1 1 0 1 0 1\n",
      " 6 6 3 1 1 0 1 7 6 6 0 0 1 0 0 6 6 3 3 1 1 4 6 1 0 0 1 0 1 0 3 0 0 1 0 1 0\n",
      " 1 0 0 1 7 3 0 0 1 0 3 0 0 0 1 0 0 0 1 4 1 0 1 0 1 1 1 0 0 1 0 7 3 0 1 0 0\n",
      " 7 6 0 0 6 4 1 4 0 4 0 6 0 0 0 0 1 0 0 6 1 0 0 1 1 6 1 6 0 0 3 6 1 4 6 0 0\n",
      " 0 1 6 0 1 0 0 0 3 0 1 0 0 0 6 1 4 6 1 0 0 0 0 6 1 7 7 7 1 6 0 1 0 0 1 0 0\n",
      " 1 7 0 0 1 1 0 0 1 0 1 1 0 1 0 0 4 4 0 0 0 0 1 1 0 0 6 1 1 1 0 0 0 6 0 0 1\n",
      " 1 0 3 1 1 2 0 0 0 0 0 6 0 1 0 0 1 0 0 0 1 6 0 1 1 7 1 3 0 0 6 1 1 0 0 0 1\n",
      " 0 7 7 6 0 6 0 0 3 7 0 0 3 1 1 1 0 0 1 6 6 1 1 0 4 0 1 1 0 6 0 0 1 0 1 0 0\n",
      " 6 6 4 1 6 3 0 0 6 1 0 6 0 0 0 0 0 1 0 6 0 1 1 1 6 0 1 0 1 0 0 1 0 7 0 6 0\n",
      " 3 1 0 0 0 7 6 0 0 1 0 0 0 0 6 1 6 0 0 3 0 0 6 1 6 0 0 0 0 4 3 6 7 6 6 1 7\n",
      " 0 3 3 0 0 3 0 0 7 6 0 6 0 0 1 3 0 0 1 0 0 3 0 7 0 1 0 1 1 7 0 0 0 1 0 6 3\n",
      " 0 0 0 0 0 0 6 6 0 1]\n",
      "targs [5 2 4 2 0 5 4 1 1 0 7 5 5 0 3 0 7 0 1 0 0 0 7 7 7 0 0 7 4 1 0 0 3 7 0 1 7\n",
      " 5 0 1 2 7 0 7 2 4 5 0 2 1 3 6 0 0 0 6 4 6 6 0 3 1 0 1 0 5 1 3 2 2 0 6 0 6\n",
      " 1 2 5 2 1 1 7 0 2 2 0 2 4 0 0 3 1 0 0 4 0 3 2 0 7 0 0 1 0 7 0 1 4 2 1 1 5\n",
      " 3 7 5 5 3 0 1 7 6 0 7 6 0 6 0 7 4 0 0 6 0 2 2 6 2 0 0 6 0 0 5 5 6 1 3 6 0\n",
      " 5 2 6 3 2 0 7 7 7 0 7 2 0 0 6 6 3 1 7 7 5 6 3 7 4 6 0 1 3 0 3 4 1 0 1 3 1\n",
      " 5 2 1 0 0 0 1 0 0 0 3 1 3 1 6 0 1 2 5 4 1 0 6 7 6 6 4 0 3 7 0 3 5 0 4 4 1\n",
      " 5 0 7 1 1 4 3 1 0 4 0 1 1 0 1 0 4 0 7 4 1 7 4 1 0 3 1 0 4 0 1 0 6 7 1 6 1\n",
      " 0 0 1 5 3 0 1 0 1 0 2 3 7 0 0 7 0 3 2 3 1 7 2 3 0 2 4 3 1 4 3 1 0 5 0 0 0\n",
      " 3 7 5 2 3 1 0 0 0 0 0 0 1 2 3 6 4 1 6 7 0 3 3 0 2 0 1 2 1 2 7 7 2 2 2 7 4\n",
      " 2 7 3 6 1 3 4 5 0 0 2 6 0 1 0 0 1 0 0 1 3 3 0 3 4 4 3 2 7 0 4 1 3 7 7 0 7\n",
      " 6 0 3 0 0 0 7 3 3 0 3 1 4 0 6 6 5 2 5 7 4 2 1 3 2 4 6 6 7 7 7 7 3 5 3 1 1\n",
      " 0 0 4 5 1 0 0 7 6 7 2 3 0 3 7 4 3 6 7 6 1 3 0 0 5 1 2 0 2 0 2 2 0 0 6 6 1\n",
      " 3 6 3 1 0 4 2 0 5 6 1 3 6 7 5 3 1 5 3 3 0 0 4 3 6 7 0 7 7 0 6 7 0 6 5 7 4\n",
      " 0 0 0 1 0 3 2 1 4 5 4 7 5 1 3 0 0 7 3 0 6 1 3 7 0 2 6 3 7 1 0 3 1 4 0 0 0\n",
      " 7 7 0 0 3 7 4 6 6 4]\n",
      "arracy on test set 0.2556818181818182\n"
     ]
    },
    {
     "data": {
      "application/vnd.jupyter.widget-view+json": {
       "model_id": "55c4bb9c1bc44f3c8eebb573b27ff215",
       "version_major": 2,
       "version_minor": 0
      },
      "text/plain": [
       "HBox(children=(FloatProgress(value=0.0, max=24.0), HTML(value='')))"
      ]
     },
     "metadata": {},
     "output_type": "display_data"
    },
    {
     "name": "stdout",
     "output_type": "stream",
     "text": [
      "\n",
      "Epoch: 75, Loss:  0.14046268165111542\n"
     ]
    },
    {
     "data": {
      "application/vnd.jupyter.widget-view+json": {
       "model_id": "8ea77db8da13428b8be9ddbd8df2cc63",
       "version_major": 2,
       "version_minor": 0
      },
      "text/plain": [
       "HBox(children=(FloatProgress(value=0.0, max=17.0), HTML(value='')))"
      ]
     },
     "metadata": {},
     "output_type": "display_data"
    },
    {
     "name": "stdout",
     "output_type": "stream",
     "text": [
      "\n",
      "guess [0 1 3 0 6 0 1 6 1 1 0 0 0 0 0 0 0 6 6 0 7 0 0 6 1 1 1 0 0 3 0 0 1 1 0 1 0\n",
      " 0 0 0 0 0 0 0 0 1 0 0 0 3 0 3 0 0 0 0 0 0 0 6 0 1 0 1 1 6 7 0 1 7 7 1 7 0\n",
      " 1 3 1 0 0 6 0 3 0 3 0 0 6 0 0 0 0 0 0 1 7 0 0 1 0 1 0 0 1 4 6 1 0 0 0 1 0\n",
      " 3 0 0 3 1 0 1 0 0 6 3 1 0 0 0 0 0 0 0 1 0 0 1 0 3 7 0 0 0 0 7 3 7 0 0 1 4\n",
      " 1 0 0 0 1 0 1 1 0 0 0 0 7 4 0 0 0 0 0 3 0 0 0 0 0 0 0 0 0 4 4 1 0 0 1 1 0\n",
      " 1 0 1 0 1 0 0 0 1 0 0 1 1 0 6 0 0 7 7 2 1 7 6 0 0 6 0 1 0 0 0 0 0 0 0 1 6\n",
      " 0 0 0 0 0 0 3 1 0 0 7 1 0 0 1 1 0 7 4 1 0 0 0 1 0 0 0 1 1 0 1 0 1 0 0 0 6\n",
      " 0 0 7 0 0 1 1 1 0 1 0 1 0 6 1 4 0 7 0 0 0 1 7 0 4 0 7 0 0 0 0 0 0 0 4 0 0\n",
      " 0 0 1 0 1 0 1 6 3 7 6 0 0 1 0 0 0 6 7 7 0 0 3 3 0 0 1 0 0 0 7 0 0 0 1 7 0\n",
      " 0 0 1 6 0 1 0 0 1 0 3 3 0 0 0 6 1 1 0 0 1 1 3 0 0 0 7 0 4 0 6 6 0 0 6 0 0\n",
      " 0 0 0 6 0 7 0 0 4 1 1 0 0 0 6 1 0 1 3 3 0 0 1 0 0 0 0 6 0 0 0 3 0 0 3 0 6\n",
      " 0 6 0 0 0 0 0 0 0 0 1 0 1 0 1 3 0 0 0 0 0 0 6 0 1 3 1 0 0 6 6 0 0 7 7 4 0\n",
      " 0 0 1 1 0 0 0 0 0 6 1 0 1 0 0 7 0 1 0 6 7 1 1 1 6 0 6 0 0 3 0 0 1 0 7 1 3\n",
      " 3 0 0 0 0 1 6 0 0 0 1 7 1 1 0 1 0 7 0 3 1 1 0 7 0 0 0 0 0 6 6 6 6 0 6 7 0\n",
      " 0 0 6 0 0 0 0 6 4 0]\n",
      "targs [1 2 3 0 6 3 0 1 6 2 7 1 1 1 0 4 0 6 1 0 0 7 1 1 6 2 0 1 3 1 1 1 4 0 5 6 4\n",
      " 0 4 4 1 0 0 5 0 7 4 0 1 5 3 3 0 7 0 6 2 0 3 3 1 3 3 0 3 2 3 0 0 4 2 3 0 2\n",
      " 4 2 5 0 0 3 3 5 3 6 3 7 7 4 1 0 0 4 0 0 0 1 7 1 5 7 0 2 7 6 7 0 2 0 0 6 6\n",
      " 7 2 2 1 0 6 2 0 0 6 1 1 1 0 0 5 6 1 7 2 0 5 1 7 1 1 0 0 4 6 1 7 7 2 0 4 4\n",
      " 3 4 0 2 4 7 3 1 5 0 1 6 0 0 0 7 0 3 1 4 1 1 3 1 6 7 1 0 0 4 7 2 3 1 4 7 7\n",
      " 6 0 0 6 3 0 7 6 3 5 0 3 4 0 1 6 0 0 2 3 4 2 6 0 0 6 1 5 3 7 3 0 5 5 0 4 0\n",
      " 7 5 7 1 0 0 0 5 7 0 4 1 0 2 4 1 4 6 1 6 0 7 0 5 2 0 6 2 2 1 2 3 0 1 7 0 5\n",
      " 0 3 3 1 7 7 4 0 0 7 0 6 2 0 3 4 1 3 0 0 5 2 3 1 4 6 0 3 1 0 1 4 1 0 6 0 0\n",
      " 7 0 3 0 6 5 3 2 4 2 2 0 3 3 1 0 0 4 7 3 6 4 2 2 0 0 7 0 6 0 0 1 0 7 3 7 0\n",
      " 2 0 2 7 0 0 7 6 2 0 0 3 6 0 7 3 3 6 5 0 2 1 1 0 1 3 4 2 4 0 6 5 4 7 5 0 1\n",
      " 0 0 2 6 3 2 0 7 1 1 3 5 7 1 0 5 0 7 3 2 1 1 6 2 0 3 0 0 6 0 0 0 7 3 3 7 5\n",
      " 6 3 0 0 0 6 0 7 0 7 3 3 7 3 1 0 0 4 6 0 5 3 7 7 0 3 3 0 0 6 4 3 1 0 7 2 2\n",
      " 3 5 7 4 0 7 7 1 6 0 5 1 0 1 7 5 3 0 1 4 0 3 2 5 7 6 0 6 0 3 5 7 1 5 4 3 2\n",
      " 0 0 5 7 1 0 1 1 7 7 2 0 2 3 7 7 1 1 7 4 6 2 1 0 5 1 0 6 0 6 7 4 6 3 1 7 0\n",
      " 3 0 1 4 7 0 1 0 0 2]\n",
      "arracy on test set 0.2689393939393939\n"
     ]
    },
    {
     "data": {
      "application/vnd.jupyter.widget-view+json": {
       "model_id": "b35112135ea5479191f5dc7f8076b484",
       "version_major": 2,
       "version_minor": 0
      },
      "text/plain": [
       "HBox(children=(FloatProgress(value=0.0, max=24.0), HTML(value='')))"
      ]
     },
     "metadata": {},
     "output_type": "display_data"
    },
    {
     "name": "stdout",
     "output_type": "stream",
     "text": [
      "\n",
      "Epoch: 76, Loss:  0.246007040143013\n"
     ]
    },
    {
     "data": {
      "application/vnd.jupyter.widget-view+json": {
       "model_id": "b8eed35db087447aa959cf4b6b06be24",
       "version_major": 2,
       "version_minor": 0
      },
      "text/plain": [
       "HBox(children=(FloatProgress(value=0.0, max=17.0), HTML(value='')))"
      ]
     },
     "metadata": {},
     "output_type": "display_data"
    },
    {
     "name": "stdout",
     "output_type": "stream",
     "text": [
      "\n",
      "guess [3 0 0 0 0 7 0 1 0 0 1 1 6 7 0 6 7 6 1 7 6 1 1 0 1 0 1 0 1 1 1 3 0 3 1 4 1\n",
      " 1 0 1 6 6 0 0 7 0 1 1 4 1 0 6 0 1 0 6 0 0 0 6 1 1 6 3 1 6 1 1 7 0 3 0 1 0\n",
      " 0 0 0 6 1 0 0 5 0 6 1 7 7 3 7 1 2 6 3 0 0 6 1 0 0 0 0 0 0 1 1 4 0 7 1 0 0\n",
      " 6 0 3 0 0 0 1 7 1 1 0 1 0 1 1 4 0 1 1 0 0 0 3 0 0 7 6 3 0 0 3 1 1 6 7 0 1\n",
      " 1 6 6 0 6 1 0 1 7 3 0 1 7 0 0 6 7 4 1 0 0 0 1 1 6 0 1 0 6 2 1 3 3 6 6 0 0\n",
      " 1 1 7 1 3 0 0 1 2 0 1 0 6 0 0 0 7 0 0 6 0 0 0 0 0 0 0 0 3 3 6 6 7 0 6 0 7\n",
      " 0 0 0 0 1 0 6 1 7 0 1 0 7 0 0 6 7 0 3 3 0 1 3 0 0 1 6 6 6 1 3 0 0 0 3 6 1\n",
      " 6 0 7 7 3 0 4 4 0 6 1 0 6 6 0 1 0 5 7 1 0 6 0 0 0 7 0 1 0 7 1 0 0 6 2 3 0\n",
      " 7 6 1 0 0 0 1 4 1 0 0 1 5 6 0 0 0 1 6 1 0 0 1 0 6 0 1 0 0 0 0 7 3 1 0 0 1\n",
      " 0 0 1 1 7 0 1 1 0 6 0 1 0 0 1 1 6 3 0 2 0 7 0 0 1 1 7 0 1 0 1 4 0 7 5 0 6\n",
      " 7 0 3 6 0 1 0 1 0 7 1 3 0 5 0 1 0 0 1 0 0 6 6 0 6 3 1 0 0 1 1 1 0 0 0 0 0\n",
      " 1 1 0 1 0 6 1 0 0 1 0 1 0 0 0 1 0 6 0 0 0 7 0 0 1 3 0 1 1 0 0 0 1 6 0 0 0\n",
      " 3 7 3 3 0 0 3 1 1 6 1 1 1 1 1 0 0 7 0 0 6 4 6 0 0 1 3 0 0 1 3 6 7 1 6 1 0\n",
      " 6 0 0 7 7 0 0 7 5 1 7 7 0 0 0 0 1 1 0 0 6 1 3 6 7 6 4 0 0 0 1 1 0 1 3 7 1\n",
      " 1 0 6 0 7 0 0 1 1 4]\n",
      "targs [1 0 0 3 0 0 0 1 3 7 0 4 6 3 7 2 1 1 0 0 0 0 0 6 4 1 0 2 7 4 2 2 7 7 1 0 0\n",
      " 1 1 6 6 0 1 0 2 0 7 0 4 0 0 1 4 3 7 0 3 4 1 6 6 2 7 1 1 4 2 6 1 0 1 0 1 3\n",
      " 1 0 0 1 4 0 5 7 0 2 3 5 1 3 0 1 3 6 0 0 4 7 0 0 1 0 0 0 1 3 5 4 7 0 5 3 1\n",
      " 7 7 4 0 1 7 6 5 1 3 0 1 3 3 0 1 1 7 2 5 0 7 5 0 5 3 4 0 0 7 3 6 4 0 1 1 4\n",
      " 3 3 6 1 4 6 7 0 3 0 7 4 0 1 0 6 2 1 0 6 0 1 6 2 2 5 3 0 4 4 5 2 5 2 5 3 6\n",
      " 5 5 0 4 3 7 3 7 7 0 0 7 6 4 6 7 7 0 6 2 7 5 0 5 1 3 2 7 3 4 5 1 7 0 0 0 3\n",
      " 1 0 0 2 3 7 6 3 7 1 7 7 0 1 2 0 0 1 0 6 6 3 2 7 1 0 6 0 1 3 2 2 0 1 6 4 3\n",
      " 5 0 0 4 0 2 0 2 7 0 0 0 4 5 2 0 0 0 7 0 0 3 2 7 7 5 0 3 3 3 2 7 5 3 6 5 0\n",
      " 4 3 6 0 0 0 1 7 0 0 0 0 1 7 0 0 7 2 7 0 1 0 3 1 1 5 3 6 0 0 7 7 1 7 0 1 7\n",
      " 4 1 5 1 7 0 1 0 1 3 7 3 6 1 1 6 0 4 7 0 0 6 2 0 2 5 2 4 6 1 1 4 4 0 0 1 4\n",
      " 1 0 0 1 6 2 0 3 3 0 5 0 0 0 6 7 0 1 6 5 0 0 0 1 6 3 7 1 7 5 3 0 0 4 5 6 7\n",
      " 2 3 7 1 0 7 0 3 0 3 0 2 2 0 0 1 2 7 2 3 1 6 3 3 6 3 1 6 1 2 3 2 1 1 6 0 7\n",
      " 1 1 3 3 0 1 7 2 2 0 3 7 7 0 4 5 4 0 6 0 1 4 3 4 6 2 6 6 0 2 7 7 0 6 7 0 4\n",
      " 6 0 0 2 4 0 5 0 2 3 0 3 3 1 0 3 3 0 7 7 6 3 2 5 0 4 6 3 0 5 4 2 4 3 0 0 2\n",
      " 3 0 6 0 4 1 0 5 7 2]\n",
      "arracy on test set 0.23674242424242425\n"
     ]
    },
    {
     "data": {
      "application/vnd.jupyter.widget-view+json": {
       "model_id": "63a1cdd5d17643aca3525b336f467083",
       "version_major": 2,
       "version_minor": 0
      },
      "text/plain": [
       "HBox(children=(FloatProgress(value=0.0, max=24.0), HTML(value='')))"
      ]
     },
     "metadata": {},
     "output_type": "display_data"
    },
    {
     "name": "stdout",
     "output_type": "stream",
     "text": [
      "\n",
      "Epoch: 77, Loss:  0.21535365283489227\n"
     ]
    },
    {
     "data": {
      "application/vnd.jupyter.widget-view+json": {
       "model_id": "e0bd3c34bdb04de5a26a5d2686b25c63",
       "version_major": 2,
       "version_minor": 0
      },
      "text/plain": [
       "HBox(children=(FloatProgress(value=0.0, max=17.0), HTML(value='')))"
      ]
     },
     "metadata": {},
     "output_type": "display_data"
    },
    {
     "name": "stdout",
     "output_type": "stream",
     "text": [
      "\n",
      "guess [0 0 1 0 0 0 0 6 0 7 0 0 1 0 3 1 6 1 0 0 0 0 6 3 0 1 0 0 0 0 1 4 0 1 1 6 1\n",
      " 0 1 0 0 0 0 6 0 3 0 0 3 6 0 0 6 7 0 0 0 0 1 1 6 1 0 1 3 0 6 6 0 0 0 0 7 0\n",
      " 1 0 0 0 6 0 3 0 0 7 0 0 0 0 0 0 3 1 3 0 6 6 6 4 0 6 4 0 3 1 0 6 4 0 0 0 6\n",
      " 0 1 0 0 0 0 1 7 0 0 6 0 4 0 6 7 0 0 7 0 0 6 3 7 0 3 0 0 0 6 7 1 0 0 0 1 0\n",
      " 0 1 6 0 1 3 0 0 0 1 4 1 3 1 0 0 0 6 0 0 7 0 1 1 7 0 1 0 0 0 0 6 0 0 0 3 0\n",
      " 0 6 1 0 1 1 0 1 0 0 1 1 0 4 1 0 1 0 0 1 6 4 1 0 0 4 1 0 1 0 0 6 1 1 0 1 0\n",
      " 0 1 1 0 7 0 0 0 1 6 1 6 0 1 6 6 0 0 0 1 0 4 7 0 6 0 0 1 1 0 0 0 0 0 1 0 0\n",
      " 6 0 6 2 6 0 1 3 1 1 3 3 6 3 1 7 0 1 6 6 0 6 0 6 6 1 0 1 0 1 0 7 0 0 1 7 0\n",
      " 0 1 0 1 4 1 1 0 0 1 0 4 6 0 3 0 1 0 0 1 1 6 0 1 6 0 0 0 1 1 3 6 1 0 0 1 0\n",
      " 0 0 0 0 1 3 4 0 3 7 1 0 1 1 3 0 0 0 0 7 0 0 3 0 0 0 0 6 1 0 0 6 6 0 0 0 0\n",
      " 1 0 1 0 0 6 0 0 0 1 7 0 0 0 1 0 0 0 1 1 0 1 0 0 0 1 0 0 0 0 0 0 0 1 0 0 0\n",
      " 0 0 6 6 0 1 0 0 0 1 1 0 0 4 1 1 0 0 6 0 6 0 6 1 6 0 0 0 6 1 0 1 7 1 0 1 0\n",
      " 0 0 3 1 1 0 0 0 7 0 0 7 0 6 0 0 1 0 6 0 0 0 1 0 6 0 0 6 1 1 7 0 0 7 1 0 0\n",
      " 6 1 0 1 1 4 7 1 0 7 1 0 0 0 0 0 0 0 0 0 6 0 1 3 1 1 0 0 1 0 0 6 3 1 0 0 6\n",
      " 6 0 4 1 1 0 6 0 0 0]\n",
      "targs [7 1 3 5 3 2 0 4 0 3 6 4 7 0 2 6 7 6 0 0 3 1 0 2 6 0 6 0 1 1 1 4 1 2 3 1 7\n",
      " 0 3 4 6 7 7 6 0 5 0 7 4 2 0 0 1 0 3 0 0 0 6 0 1 5 0 4 6 0 0 2 2 0 7 0 2 0\n",
      " 3 0 0 5 2 5 7 2 3 4 0 5 0 0 3 4 3 0 3 7 4 0 6 0 7 4 4 7 0 4 0 0 2 1 7 0 1\n",
      " 5 6 1 6 6 3 0 0 0 1 3 0 4 1 5 2 7 1 0 3 4 0 0 0 0 5 2 0 7 3 3 3 6 1 3 0 0\n",
      " 3 2 6 6 3 2 0 3 6 3 6 3 6 4 1 0 3 0 2 1 7 5 2 3 0 3 1 1 0 7 5 2 0 0 5 0 0\n",
      " 0 6 1 4 6 7 7 0 2 6 1 7 1 2 3 0 1 0 0 1 3 6 2 7 1 4 6 1 3 3 0 1 6 6 1 0 6\n",
      " 0 2 5 0 2 1 0 7 0 0 7 0 7 5 4 3 0 0 0 3 1 1 7 7 7 2 5 3 0 0 0 4 0 1 3 0 0\n",
      " 7 6 6 3 7 5 7 3 6 2 3 2 0 2 2 3 7 0 3 3 3 4 6 5 1 3 0 4 4 7 5 0 0 0 7 1 7\n",
      " 1 1 1 6 7 2 0 0 0 1 0 1 2 0 0 4 4 2 0 1 3 0 0 2 4 1 0 0 0 0 4 5 4 5 0 0 7\n",
      " 4 0 0 3 1 4 7 0 1 3 1 6 5 5 3 2 0 0 6 7 0 0 1 6 6 0 7 0 6 1 1 6 6 0 0 7 0\n",
      " 0 1 3 7 0 0 4 0 5 2 5 0 0 3 4 6 1 2 0 0 6 3 0 6 3 2 0 0 0 3 0 5 1 2 7 1 7\n",
      " 7 1 7 5 0 5 7 3 1 0 4 1 1 4 4 2 0 5 6 0 6 1 7 3 4 7 0 0 7 1 1 3 0 7 3 2 2\n",
      " 7 3 1 5 2 1 0 7 1 1 5 4 4 6 0 1 7 6 1 7 0 3 1 3 1 2 1 7 1 3 3 0 7 3 6 0 2\n",
      " 7 3 3 0 1 0 4 6 7 4 7 0 0 2 4 5 7 1 2 0 4 7 1 1 0 2 7 5 4 7 0 7 5 0 1 7 6\n",
      " 1 7 0 2 3 3 5 2 1 1]\n",
      "arracy on test set 0.26325757575757575\n"
     ]
    },
    {
     "data": {
      "application/vnd.jupyter.widget-view+json": {
       "model_id": "2a768c57d5c64246acb0c0ddd879f9ae",
       "version_major": 2,
       "version_minor": 0
      },
      "text/plain": [
       "HBox(children=(FloatProgress(value=0.0, max=24.0), HTML(value='')))"
      ]
     },
     "metadata": {},
     "output_type": "display_data"
    },
    {
     "name": "stdout",
     "output_type": "stream",
     "text": [
      "\n",
      "Epoch: 78, Loss:  0.236284077167511\n"
     ]
    },
    {
     "data": {
      "application/vnd.jupyter.widget-view+json": {
       "model_id": "02eb034936ed41068f9a8b75e8742423",
       "version_major": 2,
       "version_minor": 0
      },
      "text/plain": [
       "HBox(children=(FloatProgress(value=0.0, max=17.0), HTML(value='')))"
      ]
     },
     "metadata": {},
     "output_type": "display_data"
    },
    {
     "name": "stdout",
     "output_type": "stream",
     "text": [
      "\n",
      "guess [3 1 6 0 0 7 0 0 0 0 0 7 0 0 6 6 6 1 0 0 1 0 0 7 0 6 7 2 6 1 0 0 0 1 0 0 0\n",
      " 6 0 1 6 6 0 0 0 4 1 1 7 6 0 1 0 6 1 6 0 1 0 0 6 0 0 6 0 6 0 0 7 0 6 0 1 1\n",
      " 0 1 3 0 0 4 6 1 1 1 0 1 0 1 1 0 3 0 0 3 0 0 0 1 0 3 1 0 0 1 6 0 7 0 0 0 0\n",
      " 7 0 3 1 0 0 0 6 6 0 0 6 0 0 0 0 1 0 0 0 3 1 0 0 1 1 0 6 3 7 0 1 0 0 0 0 0\n",
      " 6 0 0 6 3 1 0 1 0 1 1 1 0 6 1 0 1 1 0 0 6 1 6 7 3 1 0 1 0 7 0 0 1 0 0 0 1\n",
      " 7 0 0 0 0 6 0 0 0 6 6 0 0 7 7 3 0 0 0 0 1 1 0 0 1 6 0 0 0 6 0 0 6 6 1 1 1\n",
      " 7 0 0 0 1 1 1 0 0 0 1 0 1 0 0 0 6 6 7 1 0 0 6 0 0 0 0 7 6 0 1 0 0 0 1 1 4\n",
      " 0 7 1 0 0 7 0 1 0 1 6 0 0 1 7 0 6 6 0 7 1 1 0 0 0 0 0 6 1 0 6 3 0 1 0 0 6\n",
      " 6 0 0 7 4 1 0 3 7 4 0 0 7 1 7 1 6 0 3 6 0 1 1 0 0 1 3 0 0 0 0 0 3 4 7 1 3\n",
      " 4 0 1 0 0 6 6 0 0 0 1 1 0 0 4 4 0 0 0 7 7 3 0 3 6 1 3 7 3 0 0 1 1 3 4 0 0\n",
      " 6 0 7 1 0 1 1 1 0 1 6 7 1 0 1 6 7 7 6 3 3 6 6 0 0 0 1 0 1 0 0 0 0 1 6 1 6\n",
      " 1 1 4 1 0 0 6 6 1 7 1 0 0 0 1 4 7 1 0 0 0 0 6 0 0 1 6 1 1 7 0 1 0 7 0 0 6\n",
      " 0 0 1 6 0 1 0 0 1 1 6 4 0 7 1 1 4 1 1 0 1 3 1 1 0 1 3 0 1 0 1 6 0 4 7 1 0\n",
      " 0 0 1 0 0 0 7 7 0 0 1 1 1 0 4 0 7 3 0 1 0 3 0 1 3 1 0 1 7 7 1 6 0 1 0 0 0\n",
      " 0 0 0 3 0 4 6 1 0 1]\n",
      "targs [3 3 4 6 3 0 7 6 1 2 0 1 2 5 6 1 1 6 1 1 1 0 1 1 0 0 0 3 4 4 0 3 1 7 2 0 0\n",
      " 7 4 6 1 6 1 5 0 4 0 2 3 0 0 2 0 5 1 7 2 4 3 1 4 1 1 4 0 0 0 7 0 6 7 7 4 7\n",
      " 6 4 7 0 1 4 1 2 2 5 0 2 1 2 0 0 4 2 0 3 0 0 7 3 6 5 2 0 5 1 2 0 3 0 0 0 0\n",
      " 1 3 1 5 0 5 6 2 7 0 1 0 6 4 0 0 3 1 1 0 0 3 6 7 6 4 3 3 3 3 0 3 0 0 3 6 5\n",
      " 3 0 7 4 6 3 6 0 0 3 6 0 0 7 3 1 6 1 1 7 0 4 0 2 5 1 3 3 3 7 2 0 6 3 5 1 3\n",
      " 1 3 0 7 7 0 0 0 1 7 0 5 4 4 0 2 1 3 4 1 0 0 7 0 7 0 3 2 0 5 0 0 6 5 7 6 0\n",
      " 4 0 5 0 7 3 3 6 0 7 5 7 1 7 1 7 7 4 4 6 2 7 3 0 0 4 1 5 0 6 2 4 2 7 3 0 4\n",
      " 1 0 6 5 3 5 0 7 4 6 7 3 0 5 4 0 6 0 6 0 1 4 0 5 0 0 4 0 1 5 3 0 7 2 0 0 7\n",
      " 2 7 7 3 1 0 1 3 2 0 1 0 0 3 7 1 6 0 2 1 1 3 7 7 3 2 3 0 1 6 7 0 1 0 3 3 0\n",
      " 4 0 1 0 7 3 6 7 0 7 2 3 1 7 2 7 0 1 3 7 7 2 0 0 3 4 1 0 3 0 3 2 5 6 2 3 6\n",
      " 1 6 7 3 5 0 1 0 1 5 2 0 0 0 0 1 0 1 1 0 4 5 4 1 0 0 6 0 7 7 1 1 0 3 6 2 6\n",
      " 2 1 6 3 0 7 6 2 3 3 6 1 6 0 6 0 6 5 5 3 3 7 0 7 2 3 4 2 0 2 0 7 1 3 0 1 5\n",
      " 3 7 0 7 3 0 5 0 0 1 2 6 0 2 0 0 1 2 7 0 0 4 1 0 2 0 0 7 4 2 0 6 0 4 4 7 0\n",
      " 2 7 1 0 0 7 0 6 1 2 0 1 0 1 0 1 0 5 4 6 1 0 4 1 2 4 7 7 0 5 6 1 4 3 3 5 1\n",
      " 7 0 0 2 7 7 6 2 0 5]\n",
      "arracy on test set 0.24242424242424243\n"
     ]
    },
    {
     "data": {
      "application/vnd.jupyter.widget-view+json": {
       "model_id": "fe4a896a4b71456d93a9fce7c2d95bf4",
       "version_major": 2,
       "version_minor": 0
      },
      "text/plain": [
       "HBox(children=(FloatProgress(value=0.0, max=24.0), HTML(value='')))"
      ]
     },
     "metadata": {},
     "output_type": "display_data"
    },
    {
     "name": "stdout",
     "output_type": "stream",
     "text": [
      "\n",
      "Epoch: 79, Loss:  0.17845427989959717\n"
     ]
    },
    {
     "data": {
      "application/vnd.jupyter.widget-view+json": {
       "model_id": "151cc112b09f4a398b5beb0e599dd30f",
       "version_major": 2,
       "version_minor": 0
      },
      "text/plain": [
       "HBox(children=(FloatProgress(value=0.0, max=17.0), HTML(value='')))"
      ]
     },
     "metadata": {},
     "output_type": "display_data"
    },
    {
     "name": "stdout",
     "output_type": "stream",
     "text": [
      "\n",
      "guess [6 6 0 1 6 1 0 0 0 0 0 6 0 0 6 3 6 6 3 0 0 7 7 0 0 7 7 1 7 1 0 0 6 1 0 0 7\n",
      " 0 0 0 0 1 3 0 0 0 1 0 4 1 1 1 6 4 0 7 1 0 0 1 0 0 1 6 7 1 0 6 0 6 0 0 6 7\n",
      " 3 0 0 0 1 7 7 3 7 1 0 0 0 1 0 6 3 0 1 6 0 6 6 0 0 0 0 0 1 0 0 1 0 7 6 4 0\n",
      " 0 6 1 0 4 0 1 0 0 0 7 1 0 0 0 1 0 0 1 5 1 0 0 1 3 0 6 0 6 0 0 0 0 6 7 0 6\n",
      " 7 0 0 6 0 4 0 6 1 7 2 1 1 0 0 1 6 6 0 0 0 0 1 6 0 0 1 0 6 1 3 1 0 6 0 0 1\n",
      " 0 0 0 0 6 0 0 0 0 6 0 3 0 0 6 0 0 1 0 0 0 6 0 0 1 0 6 1 6 6 1 0 1 0 0 0 0\n",
      " 0 0 7 0 6 0 6 1 0 0 1 1 0 4 6 0 0 0 1 0 0 0 7 6 1 0 3 4 6 0 0 7 0 1 0 1 0\n",
      " 3 0 0 0 7 0 4 1 0 0 0 1 0 0 6 0 3 3 1 0 6 1 0 0 5 0 1 1 0 1 0 1 7 1 0 6 6\n",
      " 1 0 1 6 0 7 0 6 7 7 0 0 4 1 0 6 0 0 4 7 0 0 5 0 0 1 0 0 0 3 1 6 0 0 0 1 7\n",
      " 0 0 0 1 1 3 3 0 6 0 1 0 1 1 6 6 3 0 1 0 6 0 0 7 0 6 6 1 1 7 0 1 0 7 3 0 3\n",
      " 4 0 0 0 1 6 0 5 3 0 7 6 1 1 0 0 0 1 0 1 1 1 6 0 0 7 7 1 6 0 7 7 1 0 0 6 0\n",
      " 0 0 7 7 6 7 0 1 0 1 7 1 1 0 1 0 6 7 0 0 0 6 1 1 1 6 1 4 7 0 7 1 6 7 1 0 0\n",
      " 1 0 0 1 4 4 5 6 1 0 6 1 0 4 6 1 7 0 0 6 1 0 0 7 6 1 1 6 7 6 0 1 0 6 1 1 0\n",
      " 7 0 0 6 1 1 1 0 1 5 6 1 1 1 1 1 0 6 0 3 7 0 6 0 6 1 0 0 7 0 1 0 0 0 1 6 0\n",
      " 6 3 4 0 0 0 0 0 7 0]\n",
      "targs [1 4 7 4 4 3 0 3 3 2 7 1 0 6 0 1 6 5 2 0 1 7 2 3 1 4 2 2 3 2 0 1 7 6 6 1 0\n",
      " 0 2 0 3 1 0 2 4 3 0 0 4 4 2 2 2 7 6 0 3 1 0 7 3 7 3 0 3 1 0 0 0 1 7 0 2 3\n",
      " 0 0 2 6 0 1 0 3 0 1 3 5 2 3 0 0 7 1 5 1 0 6 0 6 3 6 4 0 2 0 7 4 1 0 0 2 1\n",
      " 0 0 1 7 0 0 3 0 5 1 4 0 4 0 0 2 0 0 0 7 6 7 1 3 4 1 4 2 5 0 5 1 0 1 0 0 7\n",
      " 0 4 6 7 0 4 7 6 0 1 3 3 4 0 0 2 3 6 2 6 0 1 1 4 7 0 1 7 7 2 5 3 0 2 0 7 3\n",
      " 7 3 3 7 3 7 1 0 4 6 0 2 0 5 6 0 0 3 1 5 4 0 6 0 0 5 2 7 0 1 5 0 3 0 7 1 7\n",
      " 0 0 7 7 5 3 7 0 5 6 0 6 2 6 1 1 7 0 6 5 0 7 0 6 1 0 3 4 6 1 1 6 0 4 5 0 7\n",
      " 3 1 1 0 4 1 0 0 0 3 0 6 5 7 4 1 2 0 3 0 6 7 0 0 0 7 3 1 0 1 0 2 3 0 0 7 1\n",
      " 7 1 0 7 4 3 2 0 5 0 0 7 6 3 7 6 2 0 7 5 1 3 0 2 7 4 7 1 5 2 0 6 1 0 7 0 3\n",
      " 0 0 5 2 5 0 5 0 0 1 7 2 0 6 4 2 4 6 6 1 3 0 0 5 0 3 2 2 2 7 0 7 0 7 1 0 2\n",
      " 4 7 0 6 0 5 3 1 4 7 3 2 2 5 1 1 3 7 6 0 0 6 3 0 4 0 3 3 5 3 2 5 6 0 1 6 7\n",
      " 0 3 1 4 1 4 5 1 7 5 3 3 0 4 7 0 2 1 4 6 5 7 6 3 1 0 3 4 7 5 5 6 1 0 3 7 7\n",
      " 0 2 3 3 1 0 0 0 2 7 7 3 0 2 7 7 0 2 0 0 4 4 1 6 3 6 7 2 1 4 1 1 3 4 0 4 3\n",
      " 3 7 3 3 1 2 0 0 0 0 7 7 0 6 6 3 0 1 0 1 1 0 1 0 0 4 0 3 6 1 1 6 5 1 5 4 0\n",
      " 6 6 1 0 1 6 0 1 3 1]\n",
      "arracy on test set 0.23484848484848486\n"
     ]
    },
    {
     "data": {
      "application/vnd.jupyter.widget-view+json": {
       "model_id": "4acbda81ec5f486c89b4f8bce0630aa2",
       "version_major": 2,
       "version_minor": 0
      },
      "text/plain": [
       "HBox(children=(FloatProgress(value=0.0, max=24.0), HTML(value='')))"
      ]
     },
     "metadata": {},
     "output_type": "display_data"
    },
    {
     "name": "stdout",
     "output_type": "stream",
     "text": [
      "\n",
      "Epoch: 80, Loss:  0.1813974529504776\n"
     ]
    },
    {
     "data": {
      "application/vnd.jupyter.widget-view+json": {
       "model_id": "2b040ba2df754090a69e1708e671b122",
       "version_major": 2,
       "version_minor": 0
      },
      "text/plain": [
       "HBox(children=(FloatProgress(value=0.0, max=17.0), HTML(value='')))"
      ]
     },
     "metadata": {},
     "output_type": "display_data"
    },
    {
     "name": "stdout",
     "output_type": "stream",
     "text": [
      "\n",
      "guess [3 1 1 0 1 6 7 0 0 0 0 6 0 0 6 3 0 0 1 1 0 1 0 0 0 1 0 0 0 5 6 1 0 6 3 6 0\n",
      " 5 6 0 3 0 0 4 0 6 0 4 7 0 6 1 0 6 1 7 0 0 0 6 0 4 0 6 6 0 6 3 0 1 6 0 3 1\n",
      " 0 0 0 0 0 0 0 1 0 0 1 0 0 0 3 1 3 1 0 3 0 0 0 6 0 0 0 1 0 0 0 6 0 6 1 0 0\n",
      " 7 1 6 4 1 0 6 3 4 1 0 4 0 0 0 0 0 1 0 1 0 0 1 0 0 0 6 0 0 1 0 0 3 6 0 0 4\n",
      " 0 6 1 6 1 0 0 0 3 7 1 6 6 0 1 1 0 0 0 7 0 0 1 1 6 0 0 0 7 1 0 0 0 6 7 0 1\n",
      " 6 1 0 1 7 3 6 0 6 0 0 6 3 0 6 1 0 0 0 1 0 0 0 1 7 1 0 6 7 7 3 3 0 1 0 1 1\n",
      " 1 0 0 0 0 1 0 4 0 0 3 0 0 0 0 1 0 0 6 0 0 0 1 0 6 6 0 6 0 0 6 0 4 1 0 0 0\n",
      " 0 3 0 0 0 1 0 0 0 2 1 0 3 1 0 6 0 0 0 0 6 7 0 0 0 0 1 0 0 6 0 3 1 6 6 0 6\n",
      " 0 0 3 0 0 0 1 1 1 0 0 0 0 0 0 0 1 0 0 0 1 1 0 0 5 1 6 0 0 0 0 3 1 4 6 0 0\n",
      " 1 0 4 0 7 1 0 0 0 1 1 3 0 0 0 6 6 0 0 0 0 4 0 0 1 0 0 0 0 0 0 1 0 0 1 0 0\n",
      " 0 0 3 1 0 0 1 1 0 1 1 6 3 6 1 6 3 1 7 4 6 0 0 3 1 0 1 0 6 3 4 1 1 0 1 0 0\n",
      " 0 4 1 0 0 7 7 0 1 0 0 0 0 0 6 7 0 0 0 6 0 0 4 0 0 1 7 3 1 0 0 0 1 1 4 1 6\n",
      " 7 0 0 6 0 1 1 1 7 1 0 1 0 1 3 0 0 0 5 0 6 0 1 0 0 0 1 0 6 1 0 6 0 0 0 6 6\n",
      " 0 1 3 0 0 6 0 1 1 3 6 0 0 0 0 3 0 0 0 0 0 0 1 7 6 0 0 1 0 0 0 0 1 0 0 0 0\n",
      " 0 0 0 6 0 1 0 6 0 0]\n",
      "targs [3 0 2 4 0 3 0 6 0 1 3 6 3 2 7 4 7 0 2 5 0 6 3 2 0 1 2 1 5 1 3 7 5 1 6 0 1\n",
      " 0 1 1 2 0 0 1 6 3 4 4 7 7 4 2 0 6 5 0 0 0 0 6 3 4 0 0 3 5 4 2 1 6 6 1 1 6\n",
      " 3 0 0 4 0 0 1 5 6 7 0 7 0 7 2 2 3 6 6 4 3 6 0 4 1 0 0 2 6 7 5 0 0 2 3 1 0\n",
      " 0 3 1 0 3 0 0 3 3 1 1 6 1 0 7 7 0 5 0 2 1 3 4 0 3 0 7 4 0 1 1 1 3 0 0 1 7\n",
      " 0 0 3 1 7 1 0 0 2 0 3 7 5 7 0 0 7 7 7 4 0 0 1 0 6 3 4 1 7 0 1 5 0 2 7 0 3\n",
      " 2 1 6 4 5 3 3 1 1 7 0 5 3 7 7 3 0 7 7 0 0 2 0 2 0 2 1 5 3 3 0 3 0 7 2 0 3\n",
      " 6 3 1 0 5 5 7 7 7 0 4 0 5 1 2 2 0 6 5 4 5 3 4 0 7 6 1 6 0 5 6 0 0 6 0 2 7\n",
      " 0 5 3 7 7 0 2 2 1 3 7 5 1 1 7 0 0 0 0 1 4 7 0 0 5 0 7 1 5 1 0 2 3 3 0 2 6\n",
      " 6 0 0 0 1 0 2 2 2 0 3 7 1 1 2 7 6 0 0 0 6 4 2 6 2 5 6 0 3 0 4 5 1 0 6 0 0\n",
      " 0 4 2 2 0 2 5 4 0 6 2 0 6 1 0 6 4 0 6 0 7 1 7 3 3 0 3 0 3 7 6 4 1 0 3 0 3\n",
      " 6 0 4 4 3 0 2 2 0 4 7 7 6 1 2 4 0 4 4 4 1 0 6 3 3 0 4 4 1 1 4 7 1 1 1 4 1\n",
      " 1 6 7 6 0 5 3 2 0 0 6 2 3 7 0 1 7 3 7 7 0 0 4 5 0 0 3 1 1 1 0 0 4 0 2 3 7\n",
      " 0 3 6 2 7 3 6 3 5 7 7 3 1 1 1 1 4 1 0 2 1 1 0 7 0 3 0 7 0 6 0 7 1 4 3 2 5\n",
      " 3 0 7 1 0 6 1 6 3 2 0 7 5 3 7 5 5 0 0 6 7 0 3 2 1 0 0 1 1 7 5 1 0 7 4 1 0\n",
      " 0 3 6 7 0 3 7 0 0 4]\n",
      "arracy on test set 0.2689393939393939\n"
     ]
    },
    {
     "data": {
      "application/vnd.jupyter.widget-view+json": {
       "model_id": "b805a02610b74b8e96eeb49e6e0af19f",
       "version_major": 2,
       "version_minor": 0
      },
      "text/plain": [
       "HBox(children=(FloatProgress(value=0.0, max=24.0), HTML(value='')))"
      ]
     },
     "metadata": {},
     "output_type": "display_data"
    },
    {
     "name": "stdout",
     "output_type": "stream",
     "text": [
      "\n",
      "Epoch: 81, Loss:  0.2060435265302658\n"
     ]
    },
    {
     "data": {
      "application/vnd.jupyter.widget-view+json": {
       "model_id": "ff0ed4b8730b433a85b9ecad79c63d75",
       "version_major": 2,
       "version_minor": 0
      },
      "text/plain": [
       "HBox(children=(FloatProgress(value=0.0, max=17.0), HTML(value='')))"
      ]
     },
     "metadata": {},
     "output_type": "display_data"
    },
    {
     "name": "stdout",
     "output_type": "stream",
     "text": [
      "\n",
      "guess [0 0 0 0 0 0 1 0 0 7 0 0 0 0 0 1 6 1 0 1 0 3 6 6 0 0 0 1 0 1 0 0 0 0 7 1 0\n",
      " 3 0 3 0 0 6 1 3 0 6 7 3 6 0 3 6 6 1 1 7 6 6 0 1 4 6 6 1 0 0 1 0 3 1 1 4 0\n",
      " 0 0 0 6 3 7 1 0 3 1 6 3 0 0 0 7 0 1 1 3 0 0 5 0 1 1 7 1 0 6 0 3 1 6 2 0 0\n",
      " 6 6 0 0 6 1 3 0 0 0 0 3 6 0 0 6 3 0 3 3 0 0 0 1 0 4 0 0 0 6 0 0 0 0 1 1 0\n",
      " 0 0 0 0 6 2 3 1 0 0 0 0 6 6 3 3 3 0 0 0 6 4 0 0 0 7 6 0 6 3 0 0 0 3 3 1 0\n",
      " 0 7 1 1 1 0 6 0 6 6 6 0 6 0 0 0 0 0 1 7 1 1 0 3 1 0 1 0 1 1 0 7 0 6 1 1 0\n",
      " 1 0 0 6 0 0 0 1 0 0 6 0 0 3 0 0 0 0 6 6 0 7 7 3 6 0 3 6 0 0 0 0 6 1 3 0 0\n",
      " 5 0 1 0 6 0 1 1 3 0 0 3 0 3 0 0 6 6 2 0 0 3 1 0 0 0 0 7 0 0 1 3 3 6 0 0 1\n",
      " 7 0 6 6 6 0 4 0 0 6 7 4 3 7 4 1 0 0 0 0 0 0 0 0 0 0 3 0 6 0 1 1 0 1 3 1 0\n",
      " 0 0 0 1 0 3 0 6 7 7 1 1 0 0 2 0 0 6 7 3 4 6 0 0 7 0 1 0 1 0 4 0 0 6 3 7 6\n",
      " 0 6 4 3 3 0 0 3 0 1 3 0 1 1 0 0 0 0 1 5 0 1 0 3 0 6 4 0 1 0 2 0 6 4 6 0 3\n",
      " 0 0 0 0 6 7 0 0 0 2 3 0 6 7 0 0 0 0 0 0 0 6 0 4 6 3 6 0 3 0 0 1 0 1 0 0 0\n",
      " 1 0 4 1 3 6 1 4 6 7 1 1 6 0 3 7 1 0 0 0 1 0 0 0 3 1 3 0 0 6 7 4 1 1 0 0 3\n",
      " 0 0 0 0 0 1 1 3 1 0 0 6 0 1 3 0 0 0 1 1 6 0 4 3 1 0 0 0 1 0 1 1 0 0 0 1 0\n",
      " 0 0 1 0 1 1 0 0 0 0]\n",
      "targs [3 0 1 1 0 7 1 7 0 0 0 3 0 0 0 1 6 5 0 7 5 0 0 6 7 7 0 3 0 1 0 3 4 1 7 2 1\n",
      " 0 3 2 0 3 6 3 2 3 5 2 1 4 2 2 5 6 6 3 5 1 1 0 6 4 2 7 1 0 0 3 0 3 6 4 4 7\n",
      " 0 3 1 2 3 1 2 7 0 4 6 2 0 0 3 0 7 4 0 0 7 2 2 3 2 5 0 3 0 1 3 0 2 4 0 1 6\n",
      " 5 7 0 0 3 4 2 3 6 5 0 0 7 5 3 3 3 7 2 3 7 6 3 3 1 4 1 1 0 2 5 1 4 1 6 7 7\n",
      " 1 1 7 4 0 3 1 1 4 0 6 0 6 0 6 5 0 0 0 2 6 7 0 0 0 0 4 5 0 4 0 1 7 3 5 2 0\n",
      " 0 0 7 1 2 4 1 7 0 6 5 4 1 1 0 0 1 1 2 7 0 2 3 7 3 1 0 3 1 6 0 7 4 7 0 3 0\n",
      " 5 0 0 3 1 6 0 4 7 3 7 0 6 7 1 5 6 6 3 2 7 0 3 4 7 1 7 2 5 7 1 7 3 0 0 0 5\n",
      " 0 2 3 0 1 1 3 4 5 0 0 7 0 6 0 2 0 0 1 7 1 1 6 0 1 0 4 3 0 0 2 1 0 4 7 7 1\n",
      " 0 0 6 1 0 0 4 1 1 6 7 6 0 5 0 2 2 1 1 0 2 3 0 0 1 1 2 7 0 2 6 6 7 2 6 7 0\n",
      " 6 4 7 3 6 3 3 7 4 4 4 2 0 3 4 0 5 0 3 3 7 1 7 0 4 5 1 2 3 0 4 7 5 6 3 0 1\n",
      " 6 1 1 7 3 0 5 6 7 0 4 0 0 0 0 0 0 2 4 0 1 6 3 6 6 5 1 4 2 0 5 0 6 2 1 7 1\n",
      " 0 3 4 3 6 6 0 0 4 2 1 5 3 1 0 6 6 0 5 0 6 6 7 0 1 3 0 0 0 7 1 2 3 0 4 0 1\n",
      " 2 0 6 7 0 7 1 2 4 3 0 0 0 6 0 3 7 2 2 1 2 0 7 0 0 3 4 0 1 1 5 0 5 7 3 1 7\n",
      " 1 0 7 7 1 0 0 2 3 2 2 7 3 0 7 3 5 7 3 5 4 0 3 0 6 1 0 1 3 0 0 4 0 0 5 5 4\n",
      " 1 0 7 0 7 3 6 7 0 1]\n",
      "arracy on test set 0.2537878787878788\n"
     ]
    },
    {
     "data": {
      "application/vnd.jupyter.widget-view+json": {
       "model_id": "7555d0176215499596137a0d27298015",
       "version_major": 2,
       "version_minor": 0
      },
      "text/plain": [
       "HBox(children=(FloatProgress(value=0.0, max=24.0), HTML(value='')))"
      ]
     },
     "metadata": {},
     "output_type": "display_data"
    },
    {
     "name": "stdout",
     "output_type": "stream",
     "text": [
      "\n",
      "Epoch: 82, Loss:  0.1823134869337082\n"
     ]
    },
    {
     "data": {
      "application/vnd.jupyter.widget-view+json": {
       "model_id": "0e7482d918e745b6babe2391bac19bba",
       "version_major": 2,
       "version_minor": 0
      },
      "text/plain": [
       "HBox(children=(FloatProgress(value=0.0, max=17.0), HTML(value='')))"
      ]
     },
     "metadata": {},
     "output_type": "display_data"
    },
    {
     "name": "stdout",
     "output_type": "stream",
     "text": [
      "\n",
      "guess [0 1 7 7 0 7 7 7 1 7 0 0 1 0 6 6 1 0 6 7 0 4 0 1 3 0 1 6 1 1 7 0 6 3 0 0 0\n",
      " 1 6 1 2 6 0 0 0 1 1 1 0 0 0 0 0 1 0 1 6 0 4 0 0 1 6 3 7 1 1 0 0 0 0 0 0 0\n",
      " 0 7 1 7 7 0 0 6 0 0 1 1 0 6 0 0 0 0 0 0 0 3 4 1 1 4 0 0 0 0 2 0 0 0 4 4 6\n",
      " 0 4 4 4 6 3 1 0 0 6 0 1 3 0 1 0 0 0 0 0 6 0 3 1 0 0 1 6 0 0 1 1 1 0 0 1 0\n",
      " 7 1 1 1 1 0 1 6 1 1 6 0 6 0 1 0 1 1 0 0 6 0 1 0 0 0 0 1 0 0 7 1 0 0 6 0 6\n",
      " 0 0 0 6 1 0 1 7 0 0 1 0 0 1 2 6 0 0 6 1 0 4 7 0 1 0 3 6 0 3 0 6 0 0 0 1 0\n",
      " 0 0 6 7 0 6 0 0 0 1 1 6 0 1 6 7 6 0 0 0 6 0 0 0 5 0 0 0 6 6 0 1 0 3 0 3 0\n",
      " 1 0 7 0 0 0 0 0 1 1 1 0 0 6 0 6 1 6 4 6 1 4 0 1 2 0 0 1 6 0 0 0 6 0 4 1 0\n",
      " 0 0 0 1 0 1 3 6 1 1 0 7 1 6 6 3 0 3 0 0 0 0 0 1 3 0 6 2 0 6 0 7 3 0 0 0 0\n",
      " 0 1 0 4 0 7 1 1 0 0 6 0 0 1 6 7 0 0 0 1 1 6 0 0 1 0 7 6 1 6 0 0 1 4 1 6 0\n",
      " 1 0 0 7 4 6 1 1 7 0 7 1 0 0 0 1 1 1 1 7 1 0 0 0 6 0 0 0 1 0 1 1 1 0 0 0 0\n",
      " 0 0 1 0 3 0 0 6 3 0 4 1 6 0 1 0 0 0 6 1 1 4 0 0 1 1 6 0 0 0 0 6 1 0 1 1 1\n",
      " 0 0 0 1 1 1 1 0 0 6 0 0 0 1 0 6 6 0 6 0 0 0 1 0 1 6 0 1 0 0 1 3 3 7 0 0 0\n",
      " 0 0 0 1 0 0 0 7 1 1 0 0 3 0 3 3 6 3 7 0 1 4 1 0 0 1 1 1 1 0 6 6 3 6 1 0 0\n",
      " 0 1 0 0 6 0 7 0 0 0]\n",
      "targs [1 7 0 1 6 4 5 3 1 2 0 3 5 1 7 4 4 1 4 4 3 7 0 1 4 0 5 7 3 7 5 0 4 3 0 3 0\n",
      " 4 7 1 1 4 1 3 4 6 0 0 0 6 7 3 0 6 6 2 0 1 4 5 2 1 6 7 7 7 3 3 0 0 1 7 7 6\n",
      " 5 0 6 5 3 1 0 2 0 3 7 2 7 5 0 7 0 0 0 7 0 0 1 4 6 6 0 1 5 0 1 1 3 7 1 0 7\n",
      " 0 0 6 7 5 5 0 0 0 6 7 6 3 7 2 1 3 2 7 2 4 1 0 0 7 4 3 2 6 1 0 1 6 7 0 2 0\n",
      " 7 0 2 0 6 0 2 5 3 2 6 7 6 0 1 0 0 1 1 1 2 0 5 0 0 1 0 0 0 7 3 6 0 1 5 5 6\n",
      " 5 1 2 0 3 1 6 3 1 0 5 1 0 3 3 1 0 0 7 2 1 4 4 0 1 1 0 3 7 1 3 4 7 3 0 3 1\n",
      " 0 0 6 0 7 1 2 3 3 3 4 0 6 1 6 5 0 0 0 0 1 0 3 0 0 4 7 7 2 0 0 1 0 2 1 6 5\n",
      " 7 7 2 1 7 4 0 3 6 3 3 0 0 6 0 6 2 4 4 2 1 0 0 0 3 0 0 2 1 5 0 1 1 2 4 4 0\n",
      " 0 3 6 6 3 7 3 0 2 1 0 3 7 1 2 2 0 4 0 7 1 1 4 5 1 1 1 0 7 7 1 0 5 7 1 2 0\n",
      " 6 5 5 1 0 0 3 0 1 2 0 0 7 2 0 3 1 0 6 4 3 3 7 0 3 1 3 7 0 7 2 6 6 2 5 3 2\n",
      " 2 0 1 4 4 7 0 0 0 0 0 6 0 7 4 0 3 4 2 0 3 7 7 5 4 7 0 5 0 7 6 7 7 1 4 7 0\n",
      " 0 3 4 3 2 0 2 0 0 1 2 7 5 0 0 6 3 6 3 3 0 0 0 7 3 4 0 2 7 7 6 6 6 0 5 1 5\n",
      " 6 0 6 0 3 3 0 0 4 2 4 6 0 3 0 7 1 1 1 3 0 0 6 5 5 3 7 6 2 0 0 2 7 4 6 3 5\n",
      " 0 7 0 3 0 0 5 7 1 3 7 4 0 1 2 0 0 1 2 4 3 6 3 0 1 0 2 2 7 1 0 6 4 3 0 0 4\n",
      " 3 0 1 1 1 2 1 2 0 3]\n",
      "arracy on test set 0.23863636363636365\n"
     ]
    },
    {
     "data": {
      "application/vnd.jupyter.widget-view+json": {
       "model_id": "6950f8813cb240329638286221eca012",
       "version_major": 2,
       "version_minor": 0
      },
      "text/plain": [
       "HBox(children=(FloatProgress(value=0.0, max=24.0), HTML(value='')))"
      ]
     },
     "metadata": {},
     "output_type": "display_data"
    },
    {
     "name": "stdout",
     "output_type": "stream",
     "text": [
      "\n",
      "Epoch: 83, Loss:  0.16759879887104034\n"
     ]
    },
    {
     "data": {
      "application/vnd.jupyter.widget-view+json": {
       "model_id": "40bf9b9eeb9f451986c8d5587d46beea",
       "version_major": 2,
       "version_minor": 0
      },
      "text/plain": [
       "HBox(children=(FloatProgress(value=0.0, max=17.0), HTML(value='')))"
      ]
     },
     "metadata": {},
     "output_type": "display_data"
    },
    {
     "name": "stdout",
     "output_type": "stream",
     "text": [
      "\n",
      "guess [1 1 0 1 0 0 6 6 6 0 6 4 0 0 6 1 6 0 6 1 7 0 1 1 0 3 0 7 6 0 0 0 1 0 1 0 7\n",
      " 0 3 1 0 3 0 0 7 0 0 0 4 7 0 0 7 0 7 0 0 1 1 2 6 0 0 0 3 7 3 0 0 1 6 6 7 0\n",
      " 0 1 1 6 6 0 3 0 0 6 0 7 7 0 0 7 0 0 6 0 7 0 0 1 7 3 0 6 0 6 1 0 0 1 3 0 0\n",
      " 0 0 6 0 6 0 0 4 1 0 7 0 6 6 0 0 0 7 6 1 0 0 0 1 1 0 7 0 1 0 7 4 6 0 0 6 0\n",
      " 4 1 1 1 0 0 0 0 7 1 1 1 7 6 6 1 5 0 6 6 0 1 1 0 1 0 6 0 0 1 6 0 0 0 1 0 0\n",
      " 0 4 0 1 6 1 1 7 3 0 0 1 7 0 0 0 0 0 6 0 3 0 0 0 1 0 0 1 7 1 0 0 6 0 0 1 6\n",
      " 1 0 6 1 0 0 0 4 0 1 0 0 4 1 0 1 1 3 6 1 1 0 0 0 0 0 1 0 7 6 7 6 1 6 0 0 1\n",
      " 0 0 0 1 1 0 4 3 0 6 0 4 1 0 0 6 1 0 0 0 0 0 0 0 0 0 1 0 0 4 3 0 1 1 3 1 6\n",
      " 6 1 1 0 3 7 0 0 1 1 6 0 0 0 6 6 6 1 0 0 0 5 1 0 0 0 0 0 0 1 7 6 0 7 1 7 1\n",
      " 0 1 1 0 0 1 1 1 0 0 6 1 0 1 0 0 0 0 1 1 6 4 1 0 0 1 0 1 6 6 0 1 0 0 1 1 0\n",
      " 0 0 0 0 0 1 0 1 0 6 6 6 0 1 1 0 0 0 1 1 0 4 6 0 3 6 0 0 0 0 0 0 0 0 0 0 1\n",
      " 6 0 0 7 3 6 6 0 7 0 4 7 0 6 0 1 0 0 0 0 1 1 0 7 7 1 1 0 6 0 0 0 6 1 0 7 0\n",
      " 0 1 0 0 0 0 0 1 3 1 1 4 6 0 3 6 6 0 4 0 0 0 6 1 6 6 0 1 0 6 6 1 7 5 7 1 0\n",
      " 6 3 6 0 6 0 3 7 0 0 0 1 0 0 0 3 1 0 0 0 0 0 3 0 0 0 0 0 1 1 6 0 0 1 1 6 0\n",
      " 1 0 1 1 0 7 1 1 0 6]\n",
      "targs [6 2 0 0 5 7 4 7 7 1 1 4 1 4 7 3 1 2 6 7 7 7 2 2 2 0 1 5 0 7 5 5 0 3 3 0 0\n",
      " 1 1 2 4 3 3 1 3 0 6 0 6 7 0 5 3 6 0 0 0 1 4 3 3 0 5 0 1 0 3 0 7 2 0 6 3 3\n",
      " 2 2 5 2 6 1 7 3 5 6 3 4 3 6 7 4 2 1 6 1 0 7 7 7 4 2 0 0 0 0 5 0 0 2 1 7 0\n",
      " 0 0 7 7 3 3 2 4 6 6 3 5 1 2 2 0 0 5 1 6 7 7 4 7 0 6 3 7 7 0 7 0 2 1 7 4 4\n",
      " 2 3 7 7 0 7 7 3 0 1 3 3 0 3 0 1 1 2 7 4 0 3 3 7 6 0 7 6 0 6 4 5 0 0 5 3 6\n",
      " 3 4 4 0 0 0 0 5 6 1 1 4 3 0 3 0 0 0 6 3 4 3 0 0 4 6 6 0 2 5 4 2 5 7 7 1 0\n",
      " 3 7 1 4 6 1 7 7 7 1 1 0 7 6 0 2 0 5 5 4 1 0 5 4 0 3 0 0 5 5 2 1 2 0 0 4 6\n",
      " 7 5 1 4 3 2 4 2 7 6 0 6 0 3 0 7 3 7 0 1 0 6 3 0 0 1 0 0 1 4 2 0 6 0 5 5 2\n",
      " 0 5 1 7 4 0 3 3 6 3 0 6 7 7 4 7 6 7 0 6 2 0 5 0 1 0 4 7 7 2 4 1 0 6 2 2 6\n",
      " 0 3 0 0 1 2 3 7 0 0 6 0 0 1 0 1 1 0 4 4 1 1 3 1 2 2 7 3 1 1 1 0 1 0 0 3 0\n",
      " 3 3 3 0 5 7 7 3 0 0 3 3 4 5 4 3 1 1 6 3 0 1 1 2 0 0 0 0 1 0 1 0 0 0 7 0 2\n",
      " 6 1 2 0 2 1 4 6 7 0 0 3 0 5 0 6 0 0 0 6 2 3 0 1 0 1 2 0 6 3 0 7 7 0 2 1 0\n",
      " 7 3 1 0 1 7 1 1 2 5 3 2 4 4 0 1 6 0 0 0 7 1 2 0 7 0 5 3 0 3 0 5 4 0 1 1 0\n",
      " 3 4 0 1 5 6 3 0 0 0 1 4 1 3 6 0 2 6 1 0 3 1 0 0 1 2 4 1 0 7 6 0 1 7 7 2 5\n",
      " 0 7 0 3 0 1 1 6 1 6]\n",
      "arracy on test set 0.24242424242424243\n"
     ]
    },
    {
     "data": {
      "application/vnd.jupyter.widget-view+json": {
       "model_id": "8054563783e84a8b98444b52b403ea57",
       "version_major": 2,
       "version_minor": 0
      },
      "text/plain": [
       "HBox(children=(FloatProgress(value=0.0, max=24.0), HTML(value='')))"
      ]
     },
     "metadata": {},
     "output_type": "display_data"
    },
    {
     "name": "stdout",
     "output_type": "stream",
     "text": [
      "\n",
      "Epoch: 84, Loss:  0.1914694458246231\n"
     ]
    },
    {
     "data": {
      "application/vnd.jupyter.widget-view+json": {
       "model_id": "7d835175c6fc4e728f7c9ae021363800",
       "version_major": 2,
       "version_minor": 0
      },
      "text/plain": [
       "HBox(children=(FloatProgress(value=0.0, max=17.0), HTML(value='')))"
      ]
     },
     "metadata": {},
     "output_type": "display_data"
    },
    {
     "name": "stdout",
     "output_type": "stream",
     "text": [
      "\n",
      "guess [1 1 0 0 0 0 0 6 4 3 0 1 1 0 0 0 0 1 0 6 6 6 1 0 6 3 1 1 3 0 1 7 1 0 1 0 1\n",
      " 0 0 6 6 5 1 0 0 7 0 1 0 0 0 1 1 1 0 3 0 1 0 0 0 4 6 6 0 0 0 6 7 6 1 6 6 0\n",
      " 1 0 0 1 0 0 0 6 0 1 0 4 0 1 1 1 0 0 0 0 3 0 1 0 6 0 7 0 0 3 0 6 1 6 6 0 0\n",
      " 1 0 6 0 0 0 0 0 0 0 0 3 1 6 3 0 0 4 3 0 3 0 1 1 0 0 0 0 0 1 3 1 0 1 0 0 0\n",
      " 0 3 0 0 7 0 1 5 0 1 1 0 0 1 6 0 0 0 1 1 0 6 0 3 1 1 0 0 0 0 0 1 1 0 6 0 6\n",
      " 7 0 0 3 6 1 0 0 0 1 7 1 1 0 0 1 0 7 0 1 6 0 0 1 1 1 3 0 0 3 0 6 0 0 6 3 6\n",
      " 0 0 1 7 1 0 7 1 4 0 1 1 0 2 4 1 0 1 1 6 7 0 3 0 2 7 0 0 1 0 6 0 6 0 3 3 7\n",
      " 4 1 6 0 0 0 0 0 0 1 0 2 1 0 0 0 0 6 0 0 0 1 1 0 0 4 1 0 1 1 0 1 3 1 0 0 0\n",
      " 3 0 1 1 0 0 0 6 7 1 0 0 0 0 6 7 0 6 0 6 0 0 6 1 1 0 1 0 0 0 3 7 1 0 0 6 4\n",
      " 3 0 1 0 0 0 0 1 4 1 0 6 7 0 0 0 0 1 1 1 0 1 7 0 6 0 0 1 0 1 1 7 1 1 0 0 1\n",
      " 0 1 0 0 0 1 1 1 0 3 0 0 0 4 0 0 0 1 7 0 1 3 6 1 0 0 6 0 0 0 0 0 6 0 1 0 3\n",
      " 6 0 0 0 0 0 1 0 0 0 7 4 0 3 0 1 7 1 7 0 0 5 1 0 0 3 0 0 4 1 0 3 1 1 3 0 7\n",
      " 7 1 1 0 0 1 0 3 1 4 1 0 0 0 1 0 0 0 2 0 2 1 0 1 4 0 0 1 0 1 0 0 6 0 1 1 0\n",
      " 3 1 6 0 1 1 0 0 0 3 0 0 0 7 0 0 6 0 0 6 0 1 6 0 1 0 3 0 0 0 4 6 1 0 1 1 0\n",
      " 0 0 0 5 1 1 0 0 0 7]\n",
      "targs [2 3 7 0 7 1 3 1 2 4 2 3 0 0 7 3 7 6 0 2 4 0 2 3 7 2 5 1 1 5 4 3 1 0 7 2 2\n",
      " 0 1 0 1 1 4 0 1 6 0 2 7 4 2 3 3 0 4 2 0 3 5 1 0 6 6 6 1 4 1 6 0 3 4 5 1 0\n",
      " 3 0 7 1 0 0 1 2 3 1 0 7 0 0 1 0 1 7 0 1 0 1 6 0 4 0 7 7 0 0 0 3 3 1 6 0 6\n",
      " 1 7 3 0 0 3 1 2 7 0 2 1 5 7 1 4 4 1 5 3 4 7 1 7 1 0 1 7 7 2 3 0 1 3 1 7 7\n",
      " 7 2 5 0 0 0 1 0 0 7 3 7 6 2 6 0 0 0 6 5 0 4 0 0 2 0 0 1 0 0 7 7 2 2 7 7 0\n",
      " 2 1 5 0 1 1 3 0 0 2 1 3 4 6 4 2 7 3 0 6 0 7 4 6 3 0 4 0 2 3 3 3 0 7 5 5 5\n",
      " 0 1 6 3 1 5 3 5 4 1 0 3 7 3 4 6 3 0 5 4 0 0 5 1 3 7 3 2 3 4 7 0 2 0 2 3 1\n",
      " 4 1 6 1 6 0 0 0 1 1 7 1 7 0 3 0 3 0 0 0 2 0 2 6 3 2 6 0 0 6 2 7 3 2 7 0 1\n",
      " 7 0 0 4 5 6 2 4 4 1 1 0 4 0 7 5 7 1 7 7 6 7 7 0 3 0 3 0 0 1 2 2 5 4 6 2 4\n",
      " 0 1 3 1 4 0 6 1 1 3 5 0 4 3 1 1 6 0 5 1 2 4 3 0 3 1 6 7 3 7 7 0 0 3 0 1 4\n",
      " 0 6 0 2 7 0 0 4 5 4 7 0 5 0 3 6 1 6 0 6 0 7 5 6 0 0 5 3 0 2 1 6 1 0 5 0 6\n",
      " 6 1 1 1 6 0 7 4 0 0 3 7 0 0 0 6 4 0 7 0 0 0 7 7 5 3 0 0 6 7 3 2 3 5 0 3 0\n",
      " 0 3 2 5 3 2 0 7 4 0 0 0 5 7 6 0 0 7 1 1 0 2 5 2 0 1 7 0 1 4 1 1 2 0 0 2 3\n",
      " 3 0 0 1 3 0 6 1 4 1 0 7 3 4 0 5 6 7 3 0 5 3 6 7 6 6 2 2 0 0 4 6 4 0 3 7 1\n",
      " 6 0 0 0 5 3 6 6 0 7]\n",
      "arracy on test set 0.2518939393939394\n"
     ]
    },
    {
     "data": {
      "application/vnd.jupyter.widget-view+json": {
       "model_id": "42f718ce42fa4d478367b21a928df719",
       "version_major": 2,
       "version_minor": 0
      },
      "text/plain": [
       "HBox(children=(FloatProgress(value=0.0, max=24.0), HTML(value='')))"
      ]
     },
     "metadata": {},
     "output_type": "display_data"
    },
    {
     "name": "stdout",
     "output_type": "stream",
     "text": [
      "\n",
      "Epoch: 85, Loss:  0.19454936683177948\n"
     ]
    },
    {
     "data": {
      "application/vnd.jupyter.widget-view+json": {
       "model_id": "88489692f90841a0b3747696f4d5ab71",
       "version_major": 2,
       "version_minor": 0
      },
      "text/plain": [
       "HBox(children=(FloatProgress(value=0.0, max=17.0), HTML(value='')))"
      ]
     },
     "metadata": {},
     "output_type": "display_data"
    },
    {
     "name": "stdout",
     "output_type": "stream",
     "text": [
      "\n",
      "guess [0 0 0 2 6 7 0 1 0 0 1 0 0 0 1 3 3 1 6 1 1 1 0 1 6 0 6 0 0 6 3 7 0 5 0 0 6\n",
      " 0 0 1 0 1 6 3 0 0 6 1 0 0 0 0 0 0 6 0 0 0 3 0 6 0 0 0 0 6 0 7 1 6 0 4 7 0\n",
      " 0 5 3 3 6 0 4 1 1 0 0 0 1 0 0 0 0 0 1 0 1 0 0 0 1 0 6 5 0 1 0 6 0 0 6 0 0\n",
      " 0 0 0 1 1 0 0 6 7 0 0 0 0 6 0 0 0 0 1 1 7 3 1 0 6 6 0 1 6 3 6 0 0 1 0 6 0\n",
      " 1 7 0 5 0 1 1 6 5 3 3 0 1 0 2 0 1 1 1 0 3 7 0 6 0 0 3 0 2 0 0 0 7 0 0 0 0\n",
      " 6 6 6 0 6 0 0 0 0 4 0 0 0 0 1 0 1 6 6 0 0 6 1 0 0 6 0 1 6 0 0 1 6 6 1 3 0\n",
      " 0 0 3 6 0 0 0 0 6 6 7 0 1 1 0 7 4 6 1 7 0 6 4 0 0 0 0 6 0 6 6 1 6 1 3 0 1\n",
      " 1 3 0 1 1 1 0 0 1 6 1 4 0 6 0 6 0 6 3 1 4 0 0 1 3 1 6 7 6 0 0 0 1 0 4 0 6\n",
      " 1 0 1 6 0 0 0 6 3 0 0 4 0 0 6 6 7 7 6 0 3 1 0 0 1 1 0 1 0 1 0 1 0 0 3 6 0\n",
      " 6 1 0 0 0 3 3 1 6 3 0 3 3 1 3 0 0 1 0 0 0 1 0 0 0 3 0 0 0 6 3 6 0 0 0 0 0\n",
      " 0 1 1 0 0 1 0 6 0 0 0 0 0 6 0 0 7 0 0 0 0 3 0 1 7 0 7 0 3 0 3 0 0 1 0 0 0\n",
      " 6 0 7 6 7 4 0 0 0 0 0 7 0 1 3 0 6 0 6 0 0 1 7 0 0 0 0 0 0 0 0 0 0 1 6 1 7\n",
      " 0 0 0 0 7 0 1 0 0 4 6 0 3 0 4 3 0 6 0 0 0 6 4 0 6 0 3 0 4 4 3 6 0 3 0 7 1\n",
      " 0 0 3 1 6 0 0 0 6 0 0 1 0 6 6 1 1 0 0 0 6 0 0 0 0 6 0 3 0 4 3 0 0 0 3 3 0\n",
      " 3 1 0 0 6 0 3 1 0 0]\n",
      "targs [6 2 0 3 7 0 0 0 7 3 4 1 5 0 2 0 1 5 0 3 0 5 0 1 1 0 1 0 0 7 4 7 4 0 7 2 4\n",
      " 6 3 4 1 6 1 7 1 1 3 1 2 0 7 3 0 0 3 6 7 2 5 0 6 0 0 0 5 3 0 3 4 0 1 4 1 1\n",
      " 0 0 3 6 2 5 4 6 3 0 3 6 5 1 0 2 1 3 0 1 3 7 0 0 6 7 6 0 6 3 0 4 0 7 3 5 5\n",
      " 6 0 7 6 0 0 5 6 0 0 0 7 1 2 3 1 2 2 3 6 6 5 5 0 7 1 0 0 1 3 4 7 5 7 2 7 0\n",
      " 2 0 0 1 7 2 0 4 2 0 7 0 3 1 5 6 3 2 0 5 2 5 0 4 0 0 3 0 3 2 0 3 0 1 4 0 0\n",
      " 7 6 6 7 1 1 3 7 0 1 0 5 7 0 0 0 6 2 5 0 0 0 1 0 0 0 0 6 2 0 0 3 6 1 7 3 0\n",
      " 7 0 1 0 5 0 7 0 2 3 1 0 3 7 1 3 4 3 7 4 7 5 2 0 7 4 1 3 4 0 6 1 7 3 0 7 6\n",
      " 1 3 6 0 7 2 3 1 6 0 2 2 1 2 3 1 0 6 5 0 0 3 1 4 2 2 6 0 5 7 0 6 0 0 7 6 0\n",
      " 3 0 0 5 6 0 7 0 2 4 6 4 7 7 3 7 3 7 7 5 7 3 3 0 5 1 7 0 1 2 1 2 0 7 3 2 1\n",
      " 6 6 1 1 0 2 0 3 6 2 0 1 0 6 4 5 0 1 0 1 0 0 3 0 1 3 3 3 3 6 2 7 7 6 1 0 0\n",
      " 0 2 2 7 0 2 0 4 0 0 1 1 1 5 1 4 4 5 7 6 7 5 1 0 2 1 5 3 2 2 1 0 5 3 1 0 0\n",
      " 1 0 7 4 4 0 2 1 4 0 0 0 6 4 4 0 2 3 1 3 1 5 0 5 2 1 0 0 3 7 4 1 6 3 7 7 3\n",
      " 3 3 4 3 4 2 7 0 2 0 4 1 3 1 6 3 6 0 7 0 6 0 7 4 1 1 4 3 6 1 3 7 7 0 3 0 0\n",
      " 0 0 7 1 4 7 0 1 1 7 7 4 0 1 4 1 2 1 1 3 2 7 6 1 0 0 0 0 6 4 0 4 0 4 3 2 6\n",
      " 1 4 5 0 7 0 6 7 0 7]\n",
      "arracy on test set 0.25757575757575757\n"
     ]
    },
    {
     "data": {
      "application/vnd.jupyter.widget-view+json": {
       "model_id": "1d602090b99646bd8347ff11ff0b567c",
       "version_major": 2,
       "version_minor": 0
      },
      "text/plain": [
       "HBox(children=(FloatProgress(value=0.0, max=24.0), HTML(value='')))"
      ]
     },
     "metadata": {},
     "output_type": "display_data"
    },
    {
     "name": "stdout",
     "output_type": "stream",
     "text": [
      "\n",
      "Epoch: 86, Loss:  0.1460275799036026\n"
     ]
    },
    {
     "data": {
      "application/vnd.jupyter.widget-view+json": {
       "model_id": "b04a8b67d39045a385597ed847fa8244",
       "version_major": 2,
       "version_minor": 0
      },
      "text/plain": [
       "HBox(children=(FloatProgress(value=0.0, max=17.0), HTML(value='')))"
      ]
     },
     "metadata": {},
     "output_type": "display_data"
    },
    {
     "name": "stdout",
     "output_type": "stream",
     "text": [
      "\n",
      "guess [1 0 1 7 6 0 3 0 6 0 1 0 6 0 0 0 0 1 0 1 1 0 6 0 0 1 0 1 1 0 1 0 0 6 0 0 6\n",
      " 0 0 4 1 0 0 1 0 1 0 7 0 4 1 1 0 1 1 0 7 7 1 0 7 0 7 0 3 1 4 3 1 0 0 6 4 1\n",
      " 0 0 4 0 1 0 1 0 1 0 1 1 0 6 3 3 6 1 0 7 1 3 1 1 6 3 0 0 1 0 1 0 1 0 1 1 0\n",
      " 0 1 4 6 0 0 1 0 1 0 6 0 0 0 0 7 0 0 3 1 6 1 7 1 7 0 1 3 6 0 3 1 0 0 1 7 0\n",
      " 1 6 1 1 1 1 0 0 0 6 6 0 0 0 0 0 6 0 0 1 1 6 0 0 0 3 6 0 1 6 3 0 0 1 0 7 0\n",
      " 3 0 1 0 0 0 6 0 6 0 0 0 0 7 0 0 0 1 6 0 0 0 0 1 1 1 1 3 0 0 0 0 1 0 0 6 1\n",
      " 1 3 0 7 4 0 0 1 1 0 0 0 0 6 0 0 0 0 0 0 0 6 0 1 0 0 0 0 1 6 0 0 1 0 6 1 6\n",
      " 0 0 1 1 1 0 0 3 0 0 0 3 6 1 0 1 0 0 7 1 0 7 1 0 0 1 0 0 6 0 0 6 0 3 1 0 0\n",
      " 3 1 0 0 0 0 0 0 6 0 0 1 1 1 7 1 1 3 1 0 1 4 0 0 0 0 6 1 0 1 0 1 1 3 0 0 0\n",
      " 1 4 4 0 0 1 0 0 6 0 0 0 1 7 6 1 0 0 0 0 3 1 3 6 0 0 0 0 0 0 1 1 1 3 7 1 0\n",
      " 0 6 0 1 0 1 6 1 0 1 0 1 0 2 0 3 0 0 1 0 0 1 7 1 4 0 0 0 1 1 1 6 0 0 1 1 6\n",
      " 3 1 4 0 0 1 1 0 1 0 1 6 6 0 6 1 3 7 0 6 0 1 0 0 0 0 0 7 6 1 1 0 0 0 0 1 0\n",
      " 0 3 3 6 0 0 0 0 0 4 1 0 7 4 0 7 0 0 0 1 0 1 0 3 0 0 0 0 1 0 0 6 1 0 0 0 0\n",
      " 0 1 0 0 0 6 0 4 1 1 1 1 0 7 0 1 0 0 4 0 1 0 0 1 1 0 1 1 0 0 3 0 1 0 6 6 7\n",
      " 3 0 0 0 0 6 0 0 0 0]\n",
      "targs [6 3 0 7 0 7 4 1 2 0 3 0 7 1 3 0 5 6 0 0 1 1 0 7 0 0 7 1 1 1 6 3 7 6 1 7 4\n",
      " 0 0 4 4 6 3 5 0 2 3 7 6 7 4 2 0 0 6 0 7 6 0 1 0 0 2 0 4 0 6 5 2 0 0 5 2 6\n",
      " 2 0 0 0 0 7 0 7 6 1 6 0 0 0 4 7 6 3 7 3 7 0 0 4 5 0 7 7 4 0 3 0 7 1 3 6 1\n",
      " 1 3 0 4 2 7 5 5 7 7 3 1 0 7 0 1 6 0 2 1 1 1 3 3 0 6 3 4 2 0 7 2 7 7 2 3 2\n",
      " 3 5 3 2 3 4 0 1 7 0 3 7 5 0 7 0 3 1 4 0 2 1 6 3 6 6 4 7 0 7 0 3 0 0 0 4 4\n",
      " 1 6 3 0 7 1 0 4 1 1 0 2 5 4 3 2 3 3 1 1 0 2 1 2 6 7 4 3 3 0 0 1 3 0 0 3 3\n",
      " 2 2 0 3 4 3 0 2 1 4 0 0 6 1 7 0 0 3 0 0 0 2 1 0 6 7 4 5 7 0 0 0 7 1 6 6 7\n",
      " 0 0 1 7 1 0 6 0 0 7 0 3 2 6 0 0 4 7 4 7 3 0 0 0 2 0 0 3 1 0 0 0 0 2 2 7 0\n",
      " 3 0 3 3 3 4 7 0 6 0 0 7 2 2 2 6 5 2 0 0 3 1 4 7 7 2 5 0 0 5 1 3 2 1 1 2 1\n",
      " 1 7 6 2 0 5 2 0 6 0 3 1 0 7 7 5 0 0 7 1 1 6 3 6 0 0 1 1 1 1 1 7 0 1 0 3 0\n",
      " 7 5 1 5 3 0 3 5 3 2 1 6 0 3 4 5 2 6 1 0 3 1 4 1 2 0 0 0 4 0 4 6 0 0 7 1 7\n",
      " 5 4 1 3 6 4 3 0 1 5 7 3 4 0 0 3 3 0 0 7 0 0 7 6 1 5 2 0 1 5 1 3 6 4 1 4 2\n",
      " 5 0 2 6 2 0 5 5 7 4 3 6 0 4 1 5 1 5 5 2 1 0 5 2 1 4 5 1 2 1 3 1 6 0 3 0 6\n",
      " 1 4 1 1 6 6 0 0 7 1 3 6 0 0 1 3 0 7 4 0 6 1 7 3 0 0 6 3 7 0 3 7 0 6 1 2 5\n",
      " 0 7 5 7 4 7 2 4 0 0]\n",
      "arracy on test set 0.2537878787878788\n"
     ]
    },
    {
     "data": {
      "application/vnd.jupyter.widget-view+json": {
       "model_id": "a1da05ffd2464a17b65fab7e6d56c037",
       "version_major": 2,
       "version_minor": 0
      },
      "text/plain": [
       "HBox(children=(FloatProgress(value=0.0, max=24.0), HTML(value='')))"
      ]
     },
     "metadata": {},
     "output_type": "display_data"
    },
    {
     "name": "stdout",
     "output_type": "stream",
     "text": [
      "\n",
      "Epoch: 87, Loss:  0.21966618299484253\n"
     ]
    },
    {
     "data": {
      "application/vnd.jupyter.widget-view+json": {
       "model_id": "bf425608211c4f46bc127514cb917775",
       "version_major": 2,
       "version_minor": 0
      },
      "text/plain": [
       "HBox(children=(FloatProgress(value=0.0, max=17.0), HTML(value='')))"
      ]
     },
     "metadata": {},
     "output_type": "display_data"
    },
    {
     "name": "stdout",
     "output_type": "stream",
     "text": [
      "\n",
      "guess [0 1 0 2 0 0 0 4 3 0 0 6 6 0 0 0 0 0 0 0 0 0 0 6 0 1 3 0 5 0 1 7 0 6 7 0 0\n",
      " 0 3 6 6 0 3 0 1 0 0 0 0 2 6 0 0 1 3 1 0 0 6 0 6 7 6 0 3 0 0 6 0 1 1 0 3 4\n",
      " 0 0 0 0 0 0 0 0 0 3 1 0 1 1 6 0 1 0 1 4 1 1 0 3 6 0 0 6 6 0 3 0 0 0 0 0 1\n",
      " 4 0 3 0 7 3 0 0 0 0 0 6 6 0 0 4 0 6 0 0 0 6 0 0 6 0 0 6 1 0 1 4 6 7 0 0 6\n",
      " 1 1 0 0 6 0 1 0 0 0 0 0 1 1 1 7 6 2 0 0 0 3 0 1 0 3 4 1 1 0 1 1 0 6 0 1 0\n",
      " 0 0 0 6 0 7 0 0 0 0 1 0 0 1 0 0 3 0 1 6 6 0 0 1 1 7 0 1 0 6 0 3 0 0 0 1 1\n",
      " 3 3 0 1 0 1 0 3 0 6 4 0 0 0 0 0 0 1 1 0 1 0 6 3 7 1 6 6 0 0 1 1 0 0 1 0 0\n",
      " 3 0 1 0 0 6 0 0 7 1 0 0 0 3 0 0 0 3 0 0 0 0 0 1 1 6 4 0 6 0 6 0 0 6 0 0 3\n",
      " 0 0 0 0 0 3 0 3 0 0 6 1 6 6 6 6 0 6 0 1 1 6 0 0 0 6 0 6 0 0 6 0 0 6 7 0 0\n",
      " 6 3 3 0 3 6 3 0 0 6 1 0 0 6 0 3 1 6 0 0 0 0 0 7 0 3 0 0 0 0 7 1 6 0 0 0 6\n",
      " 0 6 0 6 0 0 6 0 0 0 0 1 0 3 0 0 0 0 0 1 0 7 0 4 1 6 6 3 0 0 3 0 4 6 7 0 0\n",
      " 0 6 6 6 6 0 4 0 3 0 0 6 0 3 1 6 6 0 0 0 0 7 4 6 0 1 1 6 0 6 0 0 1 0 0 3 1\n",
      " 3 6 0 0 0 0 0 0 0 0 1 0 3 0 0 1 3 0 1 0 3 3 0 0 1 0 0 0 3 0 1 0 0 0 6 6 6\n",
      " 0 0 7 0 1 1 0 6 0 4 0 0 0 0 0 6 3 7 0 1 1 6 0 0 0 0 6 7 4 3 0 1 6 0 7 1 0\n",
      " 0 1 0 0 1 6 6 6 0 0]\n",
      "targs [1 6 1 3 4 0 0 6 2 0 6 6 2 3 0 0 1 2 1 0 3 0 1 1 0 7 3 3 0 0 3 0 0 6 5 7 2\n",
      " 0 6 1 6 3 2 1 0 0 1 1 3 3 3 5 0 0 2 0 4 0 0 0 7 0 2 0 6 1 6 0 3 4 5 1 1 4\n",
      " 2 0 7 0 7 0 6 4 5 2 0 1 4 3 4 1 1 7 3 7 7 3 7 4 7 0 0 3 6 1 5 2 0 2 1 0 6\n",
      " 0 7 3 4 3 2 1 0 0 1 6 7 3 3 5 1 0 6 7 0 0 0 3 6 6 3 7 1 0 0 0 7 4 0 1 0 3\n",
      " 2 0 0 3 7 4 6 0 0 0 1 4 4 5 3 0 6 5 4 0 7 4 1 6 4 0 0 4 0 6 3 0 7 2 1 2 3\n",
      " 5 6 0 1 1 3 1 0 3 4 7 6 5 3 0 4 5 0 2 0 0 3 2 4 4 3 0 3 0 0 7 1 0 3 3 1 6\n",
      " 2 0 0 1 0 1 6 1 7 6 4 0 7 1 1 7 1 3 5 4 3 0 4 4 5 0 5 1 0 0 3 0 0 2 7 7 3\n",
      " 2 0 1 0 0 4 7 1 0 1 5 3 3 3 0 7 7 0 5 0 0 0 0 0 1 6 2 7 0 3 5 0 0 4 3 6 1\n",
      " 0 7 7 7 5 7 1 0 0 5 6 5 7 6 4 6 0 1 0 3 1 1 0 1 7 2 0 7 6 7 3 1 1 0 5 7 7\n",
      " 1 0 0 5 7 1 6 7 2 2 2 6 3 1 1 4 6 3 0 3 2 5 0 7 1 1 3 6 7 7 1 2 2 1 2 6 3\n",
      " 5 2 0 0 7 0 7 0 0 3 1 6 4 0 1 5 6 7 0 2 6 3 1 0 3 4 3 3 0 0 3 0 1 4 7 7 1\n",
      " 0 7 2 0 4 0 4 7 4 0 1 7 3 3 7 0 5 6 4 6 7 4 4 5 5 0 5 1 0 2 2 0 2 1 6 7 2\n",
      " 5 4 0 7 0 7 2 1 6 1 6 0 2 1 2 7 3 0 5 0 3 4 0 3 2 3 2 7 3 0 1 5 1 0 0 1 1\n",
      " 5 7 2 0 2 0 1 0 0 2 0 0 0 7 0 7 2 0 0 6 3 7 0 3 6 1 6 7 4 0 0 2 6 1 4 7 0\n",
      " 3 0 2 0 2 6 7 5 1 0]\n",
      "arracy on test set 0.26704545454545453\n"
     ]
    },
    {
     "data": {
      "application/vnd.jupyter.widget-view+json": {
       "model_id": "1f159c4f093a451e80585e15831f1ebc",
       "version_major": 2,
       "version_minor": 0
      },
      "text/plain": [
       "HBox(children=(FloatProgress(value=0.0, max=24.0), HTML(value='')))"
      ]
     },
     "metadata": {},
     "output_type": "display_data"
    },
    {
     "name": "stdout",
     "output_type": "stream",
     "text": [
      "\n",
      "Epoch: 88, Loss:  0.2104654759168625\n"
     ]
    },
    {
     "data": {
      "application/vnd.jupyter.widget-view+json": {
       "model_id": "686c2a1b82f6485aa418313141e74770",
       "version_major": 2,
       "version_minor": 0
      },
      "text/plain": [
       "HBox(children=(FloatProgress(value=0.0, max=17.0), HTML(value='')))"
      ]
     },
     "metadata": {},
     "output_type": "display_data"
    },
    {
     "name": "stdout",
     "output_type": "stream",
     "text": [
      "\n",
      "guess [7 0 0 1 0 6 0 0 0 6 0 0 0 0 1 1 0 0 0 7 1 3 0 1 1 3 0 0 1 6 3 1 1 0 0 0 1\n",
      " 0 0 7 7 0 3 0 1 0 1 1 0 0 0 6 0 0 1 1 0 1 0 0 0 0 1 0 6 3 0 0 6 0 0 0 0 6\n",
      " 3 0 1 4 0 1 3 6 0 1 0 1 1 0 6 0 0 3 0 3 0 1 1 0 0 3 0 1 0 0 0 3 0 7 6 0 1\n",
      " 0 3 0 0 6 0 1 0 1 0 0 1 0 0 3 6 0 0 1 0 1 0 0 0 0 1 4 6 7 0 1 0 0 0 0 0 0\n",
      " 1 6 0 1 1 7 0 1 3 0 0 0 0 1 1 0 0 5 0 6 0 7 0 0 3 0 0 0 0 0 0 0 1 1 1 0 0\n",
      " 1 0 6 6 4 1 0 0 0 0 0 1 1 1 1 1 0 0 0 1 6 0 0 0 6 1 1 0 4 0 0 7 0 1 0 1 4\n",
      " 4 0 7 0 0 0 0 1 0 6 1 7 0 1 6 0 6 0 0 1 0 0 0 0 1 0 0 0 1 0 0 3 0 0 0 3 0\n",
      " 0 3 0 1 0 0 1 7 0 0 1 1 0 1 6 3 0 6 2 1 0 0 1 0 1 0 6 6 6 0 4 3 1 1 1 1 0\n",
      " 0 3 0 0 1 0 0 0 6 0 0 3 0 1 0 0 1 1 6 7 3 1 0 1 0 0 6 1 1 0 0 1 0 1 3 6 6\n",
      " 1 6 0 1 3 1 1 0 0 1 0 0 6 3 0 0 1 0 1 1 1 0 0 6 0 0 1 4 5 0 3 4 7 3 0 0 2\n",
      " 3 0 6 1 0 3 0 0 0 0 0 4 0 0 0 0 0 1 4 3 1 0 3 3 0 0 0 7 1 3 1 0 0 1 1 6 0\n",
      " 1 6 0 0 1 3 6 0 0 0 0 0 1 3 1 6 0 6 0 6 1 0 0 0 1 6 0 0 0 3 0 0 3 2 0 0 3\n",
      " 0 7 7 6 0 6 0 0 1 0 3 1 0 0 1 0 0 4 0 3 1 0 0 0 3 0 0 0 4 0 1 1 4 0 0 3 1\n",
      " 0 3 3 0 1 1 0 0 6 6 1 0 1 0 6 4 0 3 0 0 0 0 7 4 0 0 0 1 0 1 6 6 6 0 3 0 0\n",
      " 6 1 1 6 3 1 1 0 0 6]\n",
      "targs [0 0 7 2 0 1 6 0 0 5 1 0 7 0 3 3 0 0 2 0 4 5 3 3 0 2 3 0 1 4 1 7 4 7 0 0 4\n",
      " 6 0 0 5 3 3 5 3 0 0 6 1 0 3 2 6 3 4 7 1 7 5 0 7 5 1 6 6 2 1 4 0 3 4 3 0 6\n",
      " 1 1 1 6 7 0 7 0 7 7 5 2 3 0 7 0 4 0 5 2 3 2 3 3 2 6 3 3 6 0 6 6 1 0 7 6 0\n",
      " 0 2 0 1 1 1 6 0 0 0 7 2 4 1 1 1 4 5 5 0 7 1 1 6 1 6 4 0 5 7 7 3 7 0 0 0 0\n",
      " 2 7 1 0 7 4 0 7 0 7 3 0 2 5 3 0 1 2 1 6 0 7 0 1 0 1 7 5 6 0 1 0 0 6 1 5 7\n",
      " 7 1 0 1 6 5 1 0 0 7 0 3 3 6 0 4 5 6 1 0 6 1 5 3 7 2 1 0 4 7 2 3 1 0 0 1 1\n",
      " 0 0 2 1 0 7 0 0 1 0 2 0 0 2 0 3 4 7 7 2 7 2 0 2 3 3 3 7 4 1 0 7 0 1 7 6 0\n",
      " 3 6 2 1 7 7 7 3 7 4 2 3 0 2 2 0 3 1 3 1 0 7 0 7 5 0 6 5 6 0 7 0 3 7 1 2 0\n",
      " 5 3 2 0 0 2 0 1 2 0 0 4 0 3 0 7 0 2 5 4 4 5 4 6 7 6 6 1 4 1 0 6 0 2 0 5 6\n",
      " 3 2 3 0 1 6 2 5 3 0 0 1 1 3 7 1 3 6 5 4 0 2 7 3 7 1 3 7 0 1 7 4 0 2 0 6 1\n",
      " 3 0 4 5 6 1 1 0 7 1 4 2 0 1 0 3 1 5 4 4 3 0 0 0 0 0 1 7 1 7 0 0 5 3 4 3 0\n",
      " 0 0 7 4 4 2 0 0 4 2 0 0 4 0 3 3 6 0 5 6 0 6 0 0 1 7 2 0 7 4 0 3 3 3 4 3 7\n",
      " 0 1 3 6 0 1 3 1 6 2 2 2 0 0 6 2 7 4 0 3 0 1 4 6 0 0 1 0 0 2 3 6 1 1 0 5 6\n",
      " 1 3 4 0 6 6 1 0 5 1 2 7 3 0 7 0 4 3 0 6 0 1 7 2 7 4 0 3 5 3 4 3 7 7 5 0 7\n",
      " 3 4 1 2 0 6 5 1 0 1]\n",
      "arracy on test set 0.2537878787878788\n"
     ]
    },
    {
     "data": {
      "application/vnd.jupyter.widget-view+json": {
       "model_id": "ffda0732b9554298b61d5ea0583eaebf",
       "version_major": 2,
       "version_minor": 0
      },
      "text/plain": [
       "HBox(children=(FloatProgress(value=0.0, max=24.0), HTML(value='')))"
      ]
     },
     "metadata": {},
     "output_type": "display_data"
    },
    {
     "name": "stdout",
     "output_type": "stream",
     "text": [
      "\n",
      "Epoch: 89, Loss:  0.1972111612558365\n"
     ]
    },
    {
     "data": {
      "application/vnd.jupyter.widget-view+json": {
       "model_id": "683f94e5afae4549b512b664731c9d34",
       "version_major": 2,
       "version_minor": 0
      },
      "text/plain": [
       "HBox(children=(FloatProgress(value=0.0, max=17.0), HTML(value='')))"
      ]
     },
     "metadata": {},
     "output_type": "display_data"
    },
    {
     "name": "stdout",
     "output_type": "stream",
     "text": [
      "\n",
      "guess [3 0 3 1 6 0 0 3 6 0 3 1 6 0 3 1 0 1 0 0 0 1 6 0 0 4 0 0 2 1 0 0 0 0 0 7 4\n",
      " 0 0 1 0 7 3 0 3 0 1 0 0 0 1 7 0 0 4 0 3 1 0 0 4 3 0 4 1 1 1 0 0 0 0 4 4 1\n",
      " 0 0 6 0 0 0 1 0 0 0 1 6 1 3 0 1 0 0 0 1 6 0 1 0 0 0 3 0 6 1 0 0 0 0 0 0 0\n",
      " 0 0 6 0 7 0 3 6 4 6 1 0 0 6 0 0 0 0 0 6 0 0 0 1 6 0 1 1 0 0 1 7 0 3 0 1 1\n",
      " 0 3 0 0 0 1 7 0 0 6 0 1 3 1 0 4 1 0 3 3 0 3 0 0 0 1 0 0 1 3 1 6 0 6 0 6 0\n",
      " 3 1 0 5 6 1 0 0 0 0 0 1 0 0 0 0 1 1 0 1 1 0 0 0 0 0 0 1 0 6 7 0 6 6 0 0 1\n",
      " 1 0 1 4 1 0 1 0 0 0 7 0 3 6 0 0 1 0 0 0 2 6 0 0 1 0 1 3 0 0 6 6 0 1 6 6 0\n",
      " 1 0 0 1 1 1 1 6 1 0 0 0 0 0 0 0 0 0 0 0 1 0 0 1 1 1 1 6 0 0 0 7 1 0 0 7 0\n",
      " 0 1 7 0 0 1 0 0 6 0 0 6 0 6 0 0 0 1 0 0 3 0 0 0 1 6 0 3 1 4 6 0 6 0 1 0 0\n",
      " 0 0 7 1 4 6 1 6 0 7 0 0 1 1 0 0 0 6 1 1 0 6 0 0 3 0 0 7 6 0 0 0 1 1 0 6 1\n",
      " 0 6 6 6 1 4 0 0 1 0 0 0 0 6 0 0 0 4 0 0 0 1 3 0 1 0 0 6 0 1 1 0 6 0 0 0 0\n",
      " 7 0 3 0 0 0 1 0 6 0 0 1 0 0 3 0 1 0 1 1 0 0 0 3 0 6 0 0 3 6 0 0 0 0 0 1 0\n",
      " 0 0 0 1 6 0 0 0 0 0 0 0 6 1 0 4 0 3 1 0 0 7 0 0 3 3 0 7 0 0 7 0 1 0 6 0 0\n",
      " 0 0 3 0 0 0 0 0 1 7 6 0 0 6 0 3 0 0 6 0 0 0 3 1 0 6 3 6 1 0 4 1 6 0 0 0 1\n",
      " 1 0 0 0 0 0 0 0 0 6]\n",
      "targs [5 6 0 2 0 1 7 6 4 0 3 7 7 0 3 0 2 5 0 0 1 3 4 6 1 4 0 0 5 4 7 0 3 7 2 0 1\n",
      " 7 1 3 1 2 6 7 1 7 4 0 7 4 5 6 4 0 2 4 3 0 6 7 4 4 1 4 7 0 5 0 6 5 6 1 2 3\n",
      " 5 0 6 7 1 4 6 0 1 0 5 3 2 3 4 2 7 4 0 2 0 0 6 0 0 0 4 5 1 2 1 1 0 3 0 6 3\n",
      " 1 1 1 6 3 0 1 3 0 2 3 7 0 5 1 1 6 0 4 5 0 3 1 6 7 0 4 4 0 1 3 3 3 5 1 1 2\n",
      " 1 3 6 7 7 4 7 0 5 2 0 6 7 4 0 7 2 0 2 1 0 7 0 1 3 4 0 0 4 1 4 2 7 6 3 6 0\n",
      " 4 3 4 0 1 0 3 0 0 0 0 3 0 7 0 5 6 1 2 2 7 0 0 4 0 1 7 7 1 6 0 0 0 4 0 0 0\n",
      " 3 0 2 6 1 3 6 1 0 7 0 0 2 1 2 0 7 7 0 3 3 6 1 3 2 7 0 5 0 1 1 3 2 0 2 2 7\n",
      " 7 5 1 5 6 3 3 0 3 1 3 3 5 4 5 0 1 0 0 0 3 0 2 0 5 1 7 3 0 0 0 2 2 5 2 0 0\n",
      " 7 7 3 2 6 3 7 5 6 0 0 3 4 3 6 5 0 0 3 5 0 0 1 1 1 1 1 0 3 4 0 7 5 3 3 7 0\n",
      " 0 1 4 2 7 7 3 1 4 0 7 0 0 0 1 2 3 4 3 2 6 6 6 2 2 7 0 7 1 5 6 0 1 1 7 0 1\n",
      " 0 7 0 5 7 4 0 1 2 0 3 0 5 0 0 1 3 0 3 1 0 3 3 1 1 0 6 2 1 0 6 0 6 5 7 1 0\n",
      " 1 1 2 1 7 0 2 2 7 3 1 0 0 0 2 4 2 0 7 0 0 3 2 0 0 1 1 1 0 4 3 0 3 7 7 6 4\n",
      " 6 7 7 6 7 7 6 3 6 0 0 1 6 3 0 6 0 1 0 3 6 1 2 6 7 2 0 4 2 1 7 3 4 0 6 7 0\n",
      " 2 0 3 0 0 7 5 0 1 5 5 0 0 4 7 4 6 7 0 7 0 1 3 0 5 0 0 3 1 0 0 6 7 2 1 4 5\n",
      " 6 0 0 3 7 6 1 0 3 7]\n",
      "arracy on test set 0.2689393939393939\n"
     ]
    },
    {
     "data": {
      "application/vnd.jupyter.widget-view+json": {
       "model_id": "060ee1eacd62427c81e64b77b42987d8",
       "version_major": 2,
       "version_minor": 0
      },
      "text/plain": [
       "HBox(children=(FloatProgress(value=0.0, max=24.0), HTML(value='')))"
      ]
     },
     "metadata": {},
     "output_type": "display_data"
    },
    {
     "name": "stdout",
     "output_type": "stream",
     "text": [
      "\n",
      "Epoch: 90, Loss:  0.15563301742076874\n"
     ]
    },
    {
     "data": {
      "application/vnd.jupyter.widget-view+json": {
       "model_id": "29497ba1debb4e2ab440d529a146968e",
       "version_major": 2,
       "version_minor": 0
      },
      "text/plain": [
       "HBox(children=(FloatProgress(value=0.0, max=17.0), HTML(value='')))"
      ]
     },
     "metadata": {},
     "output_type": "display_data"
    },
    {
     "name": "stdout",
     "output_type": "stream",
     "text": [
      "\n",
      "guess [0 6 0 0 0 3 1 1 0 6 0 0 1 1 0 7 0 3 0 0 3 7 6 6 0 7 1 0 0 0 0 1 3 0 1 1 3\n",
      " 6 0 0 1 0 1 0 1 0 3 6 0 0 6 6 3 1 0 5 7 0 1 1 7 6 6 3 1 1 0 0 4 1 2 1 1 0\n",
      " 0 1 3 4 0 2 1 0 0 3 0 0 0 0 0 3 0 0 0 0 0 7 3 6 1 4 0 0 1 7 7 7 0 1 1 1 7\n",
      " 4 1 0 1 1 5 0 6 1 1 0 0 0 0 1 6 0 4 0 4 5 0 7 0 6 3 0 6 7 7 1 7 1 1 0 4 0\n",
      " 6 3 6 1 0 2 0 0 1 1 6 6 1 1 3 0 3 7 3 0 7 0 0 0 0 7 0 7 6 0 1 0 1 0 7 6 0\n",
      " 0 3 4 3 3 0 6 0 3 0 7 0 0 1 3 0 1 5 0 6 0 3 0 1 0 0 0 0 7 3 1 0 0 5 3 0 3\n",
      " 0 0 0 6 1 0 0 0 4 3 0 0 5 6 7 0 0 3 3 1 0 1 3 6 7 3 6 4 3 0 1 6 3 1 7 3 0\n",
      " 6 1 0 0 1 0 1 3 0 1 7 0 1 6 1 3 0 0 0 0 6 1 0 6 7 1 0 1 4 3 0 2 3 6 6 3 3\n",
      " 3 6 4 1 0 1 1 0 3 0 3 0 4 7 0 4 1 6 0 0 0 6 0 1 0 0 1 0 1 0 6 0 0 0 0 1 1\n",
      " 6 6 6 0 1 0 3 7 0 6 0 0 0 0 6 0 0 0 6 1 0 0 3 0 0 0 6 3 1 1 7 1 1 0 6 0 0\n",
      " 0 1 0 0 3 1 2 5 1 0 0 6 0 0 0 3 7 6 0 0 0 3 3 6 7 3 0 0 1 1 0 7 1 1 3 6 0\n",
      " 1 6 0 0 3 1 0 6 1 1 0 1 1 6 3 0 7 3 0 0 1 1 0 1 0 1 0 7 0 3 0 0 0 1 0 7 1\n",
      " 6 0 6 0 0 0 4 1 0 6 0 0 0 3 0 3 0 0 3 1 1 4 7 7 0 0 6 6 0 0 3 1 0 3 0 0 0\n",
      " 0 1 0 6 3 0 0 0 1 0 0 0 0 0 5 3 1 0 0 1 3 1 0 3 6 0 3 0 0 0 1 0 0 3 7 0 0\n",
      " 1 1 6 6 1 0 4 6 0 0]\n",
      "targs [7 4 2 0 1 6 6 4 3 1 5 1 0 5 0 3 3 6 4 1 2 0 6 2 0 0 2 5 3 7 6 3 2 1 7 1 6\n",
      " 5 0 3 1 6 6 1 6 0 4 2 7 3 3 4 0 2 0 7 7 3 3 7 0 6 7 4 0 0 0 0 7 0 3 4 0 5\n",
      " 0 0 0 4 0 5 0 1 0 3 0 7 1 3 0 1 0 2 0 6 0 7 4 6 2 4 0 0 2 5 1 4 0 3 0 6 0\n",
      " 7 1 0 6 6 0 0 4 3 2 5 7 7 2 3 3 0 2 4 4 0 0 1 1 1 3 4 1 6 4 3 0 0 3 6 1 1\n",
      " 7 0 3 0 1 6 1 7 6 2 2 0 6 7 1 7 2 0 0 0 7 6 0 7 3 0 7 5 0 4 5 1 3 7 0 0 0\n",
      " 5 7 0 7 2 7 1 0 3 0 1 1 5 5 0 7 6 0 2 4 0 3 0 6 2 3 1 2 0 0 1 7 0 0 3 3 3\n",
      " 0 1 4 1 3 1 0 7 4 0 2 0 1 1 1 1 0 1 1 1 5 5 7 6 0 0 0 4 0 0 1 0 7 3 6 4 6\n",
      " 2 2 7 0 0 7 2 2 1 4 5 0 1 7 3 1 3 3 7 0 0 2 7 1 5 0 7 4 4 2 3 1 6 7 1 3 7\n",
      " 7 6 0 4 0 5 0 6 2 1 1 4 1 6 7 6 3 3 0 0 0 3 1 5 1 7 5 0 3 0 0 0 0 0 0 1 1\n",
      " 5 5 6 0 3 4 1 0 0 7 1 6 7 4 7 7 1 1 1 4 2 0 0 2 0 7 5 0 6 0 3 1 3 4 0 0 1\n",
      " 6 6 3 0 0 0 0 0 3 3 5 6 2 0 0 1 4 0 0 3 0 7 1 0 0 0 1 1 3 5 1 0 7 2 3 1 0\n",
      " 2 6 7 3 0 2 7 2 0 7 1 0 2 7 3 5 3 5 1 0 6 0 0 6 7 3 0 0 1 0 0 0 7 7 0 7 3\n",
      " 4 1 2 3 0 1 6 7 0 4 3 1 6 5 1 6 0 0 4 4 7 2 3 2 3 2 0 7 0 2 3 3 6 2 7 4 5\n",
      " 1 0 2 5 3 0 6 5 3 0 4 0 0 2 2 3 7 7 7 2 0 4 4 5 7 1 7 4 1 0 5 6 6 0 0 7 1\n",
      " 4 2 6 3 3 3 2 6 5 1]\n",
      "arracy on test set 0.22348484848484848\n"
     ]
    },
    {
     "data": {
      "application/vnd.jupyter.widget-view+json": {
       "model_id": "6af7a7a45f3346388ebee7d9eb01add8",
       "version_major": 2,
       "version_minor": 0
      },
      "text/plain": [
       "HBox(children=(FloatProgress(value=0.0, max=24.0), HTML(value='')))"
      ]
     },
     "metadata": {},
     "output_type": "display_data"
    },
    {
     "name": "stdout",
     "output_type": "stream",
     "text": [
      "\n",
      "Epoch: 91, Loss:  0.2615100145339966\n"
     ]
    },
    {
     "data": {
      "application/vnd.jupyter.widget-view+json": {
       "model_id": "bb2d267f9a904284b343ab86178dcb15",
       "version_major": 2,
       "version_minor": 0
      },
      "text/plain": [
       "HBox(children=(FloatProgress(value=0.0, max=17.0), HTML(value='')))"
      ]
     },
     "metadata": {},
     "output_type": "display_data"
    },
    {
     "name": "stdout",
     "output_type": "stream",
     "text": [
      "\n",
      "guess [6 3 0 0 0 0 0 0 0 0 0 1 6 1 0 0 0 1 0 0 6 6 2 0 6 0 0 0 0 0 1 0 1 0 0 0 0\n",
      " 1 0 0 0 0 3 6 0 7 0 0 0 0 0 1 1 0 1 1 6 1 1 0 0 1 3 0 1 0 0 0 0 1 6 3 3 0\n",
      " 6 0 1 3 0 4 0 3 0 6 0 1 0 0 0 0 1 0 0 3 0 0 6 4 1 1 0 0 1 3 3 0 0 0 0 1 0\n",
      " 0 6 0 1 6 6 3 0 3 0 0 4 0 6 3 1 7 3 0 0 0 4 0 0 3 0 0 0 3 1 0 4 1 1 7 0 7\n",
      " 6 0 0 7 6 1 0 1 0 0 3 6 6 3 1 6 1 0 4 0 3 1 1 6 6 7 1 0 0 0 0 6 0 0 6 1 0\n",
      " 7 3 0 0 1 1 0 1 0 0 6 0 0 1 0 0 1 0 0 0 7 0 6 0 1 1 0 6 0 0 0 0 0 0 0 0 0\n",
      " 1 7 6 0 3 1 1 3 0 0 0 0 1 0 0 0 0 0 0 1 0 0 6 0 0 3 6 1 0 6 0 3 0 0 5 3 0\n",
      " 6 0 0 1 1 4 3 0 2 0 0 0 0 0 4 0 0 3 6 0 0 6 0 7 1 0 6 0 0 6 1 0 0 3 6 1 0\n",
      " 7 6 1 3 7 0 4 3 1 1 0 4 0 0 1 0 3 3 6 0 0 0 0 0 0 0 6 0 0 0 0 0 0 3 7 0 1\n",
      " 0 0 1 1 1 0 6 1 1 0 0 0 7 0 6 0 1 0 3 6 3 7 0 0 1 4 0 0 0 0 0 1 1 6 0 0 1\n",
      " 3 0 7 0 0 1 6 6 6 1 0 0 7 3 1 6 0 0 1 6 1 0 2 0 0 1 0 3 1 0 6 0 0 1 0 3 7\n",
      " 4 3 1 3 3 0 0 1 1 3 0 6 0 7 6 0 0 1 0 0 0 3 1 1 0 0 6 0 3 1 0 3 1 0 0 7 0\n",
      " 0 4 0 0 1 0 3 0 3 7 0 1 2 6 1 0 0 0 6 4 7 1 0 0 7 0 7 4 0 0 2 0 1 0 3 3 0\n",
      " 3 0 6 0 4 0 0 6 0 0 0 6 3 1 1 0 4 0 0 0 3 0 1 1 0 0 0 6 1 4 7 0 1 1 3 0 1\n",
      " 0 0 7 0 0 3 0 0 1 0]\n",
      "targs [1 5 7 2 3 1 0 0 0 3 2 0 6 5 7 1 1 4 1 5 2 7 5 0 4 0 0 5 4 0 2 0 3 4 3 0 1\n",
      " 4 5 1 0 1 3 1 0 0 0 0 7 2 2 6 5 1 3 3 0 2 3 0 7 3 0 7 6 7 7 1 0 2 7 3 0 0\n",
      " 3 7 6 1 7 2 0 0 1 3 4 0 0 1 0 0 2 0 6 0 0 0 1 6 6 4 7 0 3 0 3 7 6 6 5 5 0\n",
      " 7 4 4 3 0 2 0 1 0 0 5 4 6 0 1 5 4 2 0 0 2 4 0 1 3 1 3 4 6 0 1 0 0 3 0 0 7\n",
      " 7 3 7 0 3 0 1 3 1 0 3 5 3 5 0 3 3 3 6 2 6 0 6 5 0 3 5 0 0 0 2 1 3 1 4 7 6\n",
      " 2 0 1 0 0 2 3 4 0 0 6 0 7 3 6 0 1 0 4 7 4 7 6 0 5 3 2 0 6 0 0 4 7 3 7 6 0\n",
      " 7 7 5 0 6 2 3 0 0 0 5 0 4 0 0 6 0 0 6 0 0 0 1 0 1 4 2 0 4 6 1 2 1 7 0 2 0\n",
      " 5 7 6 0 7 7 1 0 1 1 0 6 5 4 0 7 3 1 6 0 0 1 1 7 4 1 0 7 6 0 1 6 7 0 4 1 0\n",
      " 0 6 7 0 5 0 4 3 4 3 1 2 4 0 7 7 0 7 6 3 2 1 0 6 6 0 0 3 1 6 0 1 0 7 0 0 2\n",
      " 0 0 3 4 0 6 7 7 4 3 1 1 3 5 0 6 1 4 3 7 1 4 3 0 3 4 2 7 3 0 2 1 5 6 0 3 6\n",
      " 6 3 0 0 1 2 7 4 0 2 5 0 0 7 0 1 3 7 4 7 6 5 3 7 0 3 7 2 0 0 0 0 0 1 1 3 3\n",
      " 1 2 7 1 4 3 7 1 6 2 0 1 7 0 6 1 3 6 6 0 0 4 6 1 0 0 2 1 7 0 1 7 1 1 2 7 7\n",
      " 1 4 5 7 1 4 3 7 4 1 3 7 3 5 0 1 7 2 1 0 5 2 1 3 0 0 0 4 0 0 6 1 6 1 3 5 6\n",
      " 7 1 2 2 7 3 2 7 0 5 0 3 0 2 2 7 2 0 0 1 3 1 1 2 4 7 2 6 7 1 5 3 3 2 2 3 7\n",
      " 1 5 2 5 0 4 3 5 2 1]\n",
      "arracy on test set 0.2537878787878788\n"
     ]
    },
    {
     "data": {
      "application/vnd.jupyter.widget-view+json": {
       "model_id": "655fe0e4d1244d2fb82c4c50ec2d9258",
       "version_major": 2,
       "version_minor": 0
      },
      "text/plain": [
       "HBox(children=(FloatProgress(value=0.0, max=24.0), HTML(value='')))"
      ]
     },
     "metadata": {},
     "output_type": "display_data"
    },
    {
     "name": "stdout",
     "output_type": "stream",
     "text": [
      "\n",
      "Epoch: 92, Loss:  0.1702256053686142\n"
     ]
    },
    {
     "data": {
      "application/vnd.jupyter.widget-view+json": {
       "model_id": "080c47c31fbd47109212954193718fa5",
       "version_major": 2,
       "version_minor": 0
      },
      "text/plain": [
       "HBox(children=(FloatProgress(value=0.0, max=17.0), HTML(value='')))"
      ]
     },
     "metadata": {},
     "output_type": "display_data"
    },
    {
     "name": "stdout",
     "output_type": "stream",
     "text": [
      "\n",
      "guess [0 4 7 0 2 6 6 0 0 1 0 6 6 1 0 3 0 0 0 3 0 6 0 0 0 1 1 0 3 6 0 3 0 1 0 6 0\n",
      " 0 0 0 0 3 1 0 3 0 0 3 0 3 0 1 2 0 0 0 1 0 1 0 1 4 0 0 0 6 3 0 0 6 0 0 1 6\n",
      " 0 0 0 0 4 1 0 0 0 0 1 0 0 3 0 1 0 0 0 0 0 0 0 0 6 0 0 0 0 0 1 0 0 0 2 0 0\n",
      " 1 1 0 0 4 3 0 1 3 1 0 0 6 0 0 0 0 0 0 0 3 0 0 6 0 1 0 3 3 1 6 1 6 0 3 0 1\n",
      " 0 0 0 0 0 6 2 1 0 6 0 1 0 0 4 0 1 0 0 0 4 0 6 0 0 0 6 6 0 0 3 0 0 1 1 0 0\n",
      " 0 0 3 1 0 0 3 0 1 1 0 7 1 0 0 0 0 0 0 6 0 0 0 0 0 0 1 0 6 1 0 0 6 1 0 0 6\n",
      " 0 1 0 0 6 0 0 6 3 0 0 0 0 0 1 0 4 0 0 0 4 0 1 0 3 0 1 0 1 0 6 6 0 6 3 6 0\n",
      " 3 7 4 0 0 1 0 0 0 0 7 0 0 0 6 0 1 0 3 0 0 3 1 0 1 1 0 0 0 1 4 6 0 1 1 6 0\n",
      " 0 0 0 2 0 3 0 0 4 1 0 0 0 0 0 1 0 6 7 0 1 4 0 3 0 0 0 0 0 0 6 6 1 0 6 1 6\n",
      " 0 0 7 6 0 3 1 0 6 3 7 0 0 0 0 1 2 7 4 0 0 0 3 4 1 1 6 0 7 0 0 1 7 0 0 0 0\n",
      " 0 0 1 0 0 0 1 6 0 1 0 1 0 0 3 3 6 3 0 1 0 0 3 0 0 1 6 1 0 0 0 0 1 0 0 0 1\n",
      " 7 6 0 0 1 3 1 6 0 0 3 0 0 1 0 1 0 0 1 6 0 0 0 0 6 0 3 3 0 0 1 0 6 0 6 0 3\n",
      " 0 3 0 0 0 0 6 0 7 0 4 0 6 3 0 0 0 1 0 7 0 1 1 6 0 0 1 0 6 4 1 0 0 7 0 1 0\n",
      " 7 7 1 7 0 0 4 0 1 0 0 0 6 0 0 0 1 0 0 7 1 1 7 3 0 0 0 1 6 0 0 6 0 6 6 0 1\n",
      " 0 0 0 0 1 0 1 0 6 4]\n",
      "targs [7 2 3 0 3 0 2 6 1 6 2 4 2 3 6 4 7 0 3 3 0 1 0 7 1 3 5 3 0 3 5 2 4 7 0 5 0\n",
      " 0 6 5 0 3 7 3 7 1 6 2 2 0 0 7 3 2 3 0 3 1 3 7 5 4 7 2 3 1 6 7 3 4 0 1 2 5\n",
      " 1 0 0 0 4 2 5 0 0 7 3 4 3 2 1 6 0 7 5 0 6 0 7 0 6 5 3 0 0 1 0 6 1 6 1 4 0\n",
      " 2 6 4 0 6 3 0 2 0 5 7 3 7 1 1 2 1 6 6 0 7 7 0 7 0 1 0 0 4 7 7 3 7 7 3 1 6\n",
      " 0 3 0 0 1 7 6 3 0 6 6 5 4 0 4 0 1 1 6 5 0 7 3 0 7 0 2 4 0 0 2 2 7 0 5 4 1\n",
      " 0 0 0 0 6 2 3 7 3 2 7 0 1 0 0 0 4 0 3 7 1 3 2 1 0 3 0 0 6 3 4 0 0 6 6 0 4\n",
      " 0 6 0 5 1 1 7 4 2 2 5 7 1 0 3 6 6 7 0 6 4 0 0 7 1 0 2 1 0 7 5 6 3 3 6 2 3\n",
      " 0 0 1 7 5 6 1 0 4 7 3 0 1 3 6 0 6 5 3 1 3 4 2 0 3 3 0 3 0 3 4 7 4 4 0 1 0\n",
      " 1 7 0 3 7 0 0 0 7 4 7 7 2 3 3 2 4 1 0 0 4 0 7 3 1 5 5 6 0 0 0 6 2 4 1 7 4\n",
      " 0 1 0 6 2 0 3 7 7 3 7 5 3 0 4 0 1 7 0 0 0 0 6 7 2 4 6 0 3 1 4 6 0 0 0 1 1\n",
      " 6 0 1 0 7 7 0 0 5 0 7 4 1 1 2 5 1 4 4 1 7 6 5 3 0 6 3 0 3 1 7 3 1 0 0 2 3\n",
      " 4 1 0 7 2 1 3 0 0 2 1 1 1 1 6 7 1 0 7 4 1 1 0 6 0 5 7 2 2 0 4 7 2 0 0 1 7\n",
      " 7 0 1 2 5 0 0 5 1 3 1 0 3 1 1 0 4 4 3 0 1 2 7 2 0 1 1 1 6 4 2 1 0 4 2 1 0\n",
      " 0 0 3 5 3 0 2 0 3 5 0 5 3 3 1 7 7 1 6 2 0 0 2 7 1 0 0 0 6 0 7 1 0 1 0 6 0\n",
      " 2 5 0 5 5 0 5 1 6 2]\n",
      "arracy on test set 0.26136363636363635\n"
     ]
    },
    {
     "data": {
      "application/vnd.jupyter.widget-view+json": {
       "model_id": "8753194264ab4f41870f614c650b5814",
       "version_major": 2,
       "version_minor": 0
      },
      "text/plain": [
       "HBox(children=(FloatProgress(value=0.0, max=24.0), HTML(value='')))"
      ]
     },
     "metadata": {},
     "output_type": "display_data"
    },
    {
     "name": "stdout",
     "output_type": "stream",
     "text": [
      "\n",
      "Epoch: 93, Loss:  0.2522926330566406\n"
     ]
    },
    {
     "data": {
      "application/vnd.jupyter.widget-view+json": {
       "model_id": "be5c900438a54cfdb7da702175767f3b",
       "version_major": 2,
       "version_minor": 0
      },
      "text/plain": [
       "HBox(children=(FloatProgress(value=0.0, max=17.0), HTML(value='')))"
      ]
     },
     "metadata": {},
     "output_type": "display_data"
    },
    {
     "name": "stdout",
     "output_type": "stream",
     "text": [
      "\n",
      "guess [2 0 0 6 0 3 6 0 1 0 0 0 0 1 6 0 1 1 0 0 0 0 0 1 0 1 3 7 0 6 3 0 4 7 1 0 0\n",
      " 6 0 4 1 0 0 0 1 0 3 1 0 0 0 6 0 0 0 1 0 0 0 6 0 7 7 0 1 3 7 0 6 0 7 0 6 1\n",
      " 0 1 0 0 7 1 1 0 3 3 0 0 1 1 0 0 7 7 0 3 6 4 0 7 1 0 7 0 1 3 6 1 4 0 3 6 1\n",
      " 6 0 3 0 3 0 7 0 3 0 0 0 3 3 0 0 0 0 0 3 0 0 1 1 1 3 0 0 3 1 6 6 1 0 0 1 3\n",
      " 0 0 1 0 0 0 3 0 3 0 6 0 1 0 0 0 1 7 0 6 6 6 0 0 0 0 1 2 6 1 0 6 6 0 1 0 0\n",
      " 0 7 0 0 0 0 0 1 0 3 1 1 1 0 3 1 3 1 0 0 1 7 0 7 0 6 3 4 0 6 7 0 0 0 1 7 1\n",
      " 6 1 0 1 1 3 0 6 3 7 0 0 1 7 0 6 7 0 1 3 3 0 7 7 0 1 6 1 0 0 1 1 0 6 0 0 0\n",
      " 0 6 3 1 0 4 0 0 3 0 0 1 0 0 0 1 1 0 0 0 1 0 7 6 0 1 0 1 3 6 3 0 0 3 3 0 1\n",
      " 6 0 0 3 0 7 1 0 0 0 0 0 0 0 0 3 0 0 0 3 1 0 2 0 0 3 0 7 3 7 3 6 0 0 0 0 6\n",
      " 1 0 6 0 0 6 1 6 4 0 0 0 6 3 1 0 7 4 4 1 6 0 1 6 7 7 3 1 3 0 0 2 3 1 3 0 0\n",
      " 0 0 6 3 1 6 0 1 0 4 0 0 0 0 3 0 1 0 0 3 0 0 3 1 3 0 0 0 3 0 4 7 0 0 1 6 1\n",
      " 0 0 1 7 0 7 0 6 1 0 1 6 3 0 1 0 3 7 6 1 0 6 0 0 1 0 6 3 0 0 1 3 1 0 0 3 6\n",
      " 3 1 3 3 0 0 7 0 1 0 0 3 7 0 0 0 6 0 4 0 1 0 0 0 1 0 4 0 5 7 6 0 4 7 1 7 3\n",
      " 0 0 0 0 3 0 0 0 0 0 6 4 0 3 0 3 0 6 3 0 1 0 1 1 6 6 7 6 0 6 1 3 3 3 0 0 1\n",
      " 0 1 7 3 0 3 0 0 0 1]\n",
      "targs [6 7 3 6 4 2 2 1 1 1 0 7 0 4 7 3 1 5 0 0 0 3 1 6 0 6 6 2 0 1 1 6 7 0 2 2 0\n",
      " 5 1 4 7 0 1 5 4 0 6 6 0 0 1 3 0 0 1 6 0 7 0 6 0 4 4 0 4 6 0 1 6 0 0 1 0 0\n",
      " 0 1 0 0 4 0 3 1 7 4 0 1 0 1 0 3 0 3 1 3 7 0 5 5 5 0 1 6 7 1 0 6 4 0 3 1 1\n",
      " 6 5 0 0 7 5 7 7 3 0 4 1 3 0 0 6 4 6 2 0 1 7 2 0 5 0 7 5 2 2 6 1 0 0 4 4 7\n",
      " 5 1 0 0 3 1 0 0 1 7 7 7 3 0 1 0 6 0 6 1 4 5 0 1 7 1 0 1 7 2 6 2 3 7 2 7 7\n",
      " 0 2 6 7 7 0 7 2 7 2 2 0 3 4 4 2 1 2 7 0 0 2 2 0 0 5 0 1 1 7 7 0 3 7 4 6 3\n",
      " 4 3 5 4 3 1 2 2 0 4 4 0 3 7 2 7 3 1 5 1 3 6 6 5 5 3 3 6 1 5 7 2 5 7 7 0 6\n",
      " 3 6 2 2 4 4 0 7 0 7 1 1 3 7 1 6 3 7 0 3 3 1 0 1 3 1 2 5 0 1 3 7 0 7 3 2 5\n",
      " 2 6 0 3 4 7 7 1 7 4 0 6 7 1 0 5 4 6 0 4 3 0 3 1 2 3 0 0 2 0 2 7 0 4 7 1 6\n",
      " 2 5 6 6 1 0 2 0 7 3 7 4 1 3 1 3 3 0 2 0 0 3 6 0 5 3 1 1 6 3 1 3 0 7 0 7 1\n",
      " 0 0 3 7 0 0 2 4 3 2 5 0 2 5 3 0 6 7 0 5 0 1 3 2 7 0 4 6 0 0 6 0 1 0 1 7 0\n",
      " 3 3 3 0 1 1 0 2 4 0 0 1 2 0 7 3 3 0 4 0 0 1 0 0 3 0 7 6 7 1 0 7 6 1 0 5 5\n",
      " 4 3 4 6 3 4 1 0 6 1 0 1 1 0 5 7 0 7 4 0 3 3 5 3 3 0 1 2 0 0 0 5 6 0 0 5 4\n",
      " 2 1 0 2 0 3 6 0 2 0 1 4 0 3 0 0 7 6 7 1 2 0 3 0 3 0 3 4 7 4 1 2 5 0 3 1 0\n",
      " 0 0 0 2 6 6 0 0 0 7]\n",
      "arracy on test set 0.24053030303030304\n"
     ]
    },
    {
     "data": {
      "application/vnd.jupyter.widget-view+json": {
       "model_id": "72c01575de2744859b8a4e0a2bb35d45",
       "version_major": 2,
       "version_minor": 0
      },
      "text/plain": [
       "HBox(children=(FloatProgress(value=0.0, max=24.0), HTML(value='')))"
      ]
     },
     "metadata": {},
     "output_type": "display_data"
    },
    {
     "name": "stdout",
     "output_type": "stream",
     "text": [
      "\n",
      "Epoch: 94, Loss:  0.25348761677742004\n"
     ]
    },
    {
     "data": {
      "application/vnd.jupyter.widget-view+json": {
       "model_id": "d0ff1bda49f64f9cb7882c4c17e8a8c1",
       "version_major": 2,
       "version_minor": 0
      },
      "text/plain": [
       "HBox(children=(FloatProgress(value=0.0, max=17.0), HTML(value='')))"
      ]
     },
     "metadata": {},
     "output_type": "display_data"
    },
    {
     "name": "stdout",
     "output_type": "stream",
     "text": [
      "\n",
      "guess [7 3 1 4 1 1 1 0 0 0 1 6 1 0 0 7 0 1 0 0 3 0 1 1 1 3 1 1 3 0 0 7 0 0 0 6 1\n",
      " 0 6 7 1 0 0 0 1 4 4 0 4 0 0 7 6 0 6 3 0 0 1 1 1 0 0 0 1 0 6 0 0 6 1 1 0 1\n",
      " 0 1 0 0 6 0 0 1 6 1 6 1 0 3 0 0 3 0 0 1 6 0 0 0 6 0 0 0 6 1 0 1 0 0 0 3 0\n",
      " 7 6 0 0 0 1 3 3 1 0 0 0 6 3 0 3 7 7 1 0 1 0 0 0 7 1 3 0 0 0 1 0 1 0 1 0 6\n",
      " 0 1 1 0 0 0 1 3 6 0 1 0 6 0 4 0 0 0 0 3 0 1 0 6 6 0 6 0 0 1 6 1 0 1 0 7 6\n",
      " 0 1 1 6 1 3 0 0 6 0 1 1 3 6 4 7 0 1 1 1 1 0 1 0 0 0 0 0 0 1 3 6 0 4 6 0 0\n",
      " 7 0 0 1 0 0 7 0 0 1 1 0 0 4 0 6 0 0 0 6 6 0 0 0 6 0 0 3 1 4 1 3 0 0 3 0 7\n",
      " 1 7 0 1 7 1 0 0 3 4 0 1 3 3 0 0 0 1 0 3 0 1 0 0 0 6 0 1 7 7 6 0 1 1 1 1 0\n",
      " 6 0 6 0 7 0 0 1 1 0 6 0 0 1 6 1 0 0 0 0 1 7 7 0 6 1 3 1 6 1 0 1 0 0 6 0 0\n",
      " 1 4 0 0 0 0 1 0 0 1 1 1 1 7 1 1 1 0 0 1 1 1 0 0 3 0 0 0 1 3 7 6 0 0 1 3 1\n",
      " 0 0 1 4 1 0 1 7 7 1 0 0 0 1 0 1 7 1 1 1 1 1 0 7 6 1 3 0 0 0 0 0 0 0 6 7 3\n",
      " 4 1 3 7 3 0 0 7 0 7 0 1 1 0 0 0 1 1 2 6 0 0 0 0 6 0 3 0 0 0 0 1 1 0 1 0 0\n",
      " 6 3 6 6 1 7 0 0 1 0 0 0 0 0 1 0 6 0 6 1 7 0 1 1 1 0 0 0 0 0 0 0 0 6 6 0 0\n",
      " 3 7 0 3 0 0 3 0 3 0 0 0 0 7 3 0 0 6 0 0 1 0 0 1 0 3 0 0 1 1 0 1 0 1 0 1 0\n",
      " 0 7 3 0 6 7 3 1 0 0]\n",
      "targs [1 5 5 1 3 3 6 2 5 1 0 6 6 0 3 0 0 4 5 1 3 7 3 1 1 1 0 3 0 6 6 0 3 4 7 0 7\n",
      " 7 1 3 3 0 0 1 0 4 1 0 4 0 2 4 2 7 5 3 3 3 2 7 7 0 0 3 2 7 0 7 7 6 6 6 0 1\n",
      " 0 0 3 1 2 3 0 0 7 3 3 4 1 5 5 0 1 7 7 6 3 0 6 0 3 0 5 1 6 3 0 0 5 1 0 3 4\n",
      " 3 2 1 7 1 3 0 0 4 0 0 5 4 2 0 3 7 0 6 3 0 5 0 0 7 3 6 7 1 0 7 6 3 1 4 5 7\n",
      " 1 3 3 7 1 0 7 0 0 1 2 7 1 3 0 0 4 0 7 1 0 6 3 1 6 0 7 4 0 6 0 5 3 2 1 4 5\n",
      " 2 0 4 6 2 2 0 5 6 0 0 2 4 3 7 5 4 2 6 5 7 7 1 0 4 0 7 7 1 4 4 7 0 4 5 7 2\n",
      " 7 6 0 3 4 3 4 0 7 0 0 1 0 0 0 4 1 4 6 1 0 0 0 1 0 3 7 3 1 6 6 5 7 1 0 6 3\n",
      " 1 2 3 6 0 7 0 0 1 4 4 0 3 7 0 0 1 0 7 1 7 1 3 1 1 7 1 2 6 0 4 1 3 6 1 6 2\n",
      " 6 0 0 1 5 6 0 2 2 1 1 6 1 4 0 1 5 2 0 0 0 1 2 0 6 1 2 1 0 3 2 0 0 2 3 1 0\n",
      " 2 4 3 2 0 7 2 1 3 5 0 6 6 0 1 2 7 0 1 5 2 3 7 2 2 1 0 1 3 0 0 7 6 5 1 7 5\n",
      " 0 3 4 6 2 4 4 1 0 0 0 1 6 0 5 3 2 4 3 0 6 0 0 0 2 2 2 0 2 6 7 0 3 0 7 0 2\n",
      " 2 6 4 0 4 0 4 5 5 3 1 5 2 7 7 6 0 7 3 1 0 7 0 0 6 0 3 1 0 0 7 0 3 7 0 0 2\n",
      " 6 3 1 0 0 0 7 2 0 4 3 0 0 3 3 0 1 7 5 4 6 7 3 3 1 6 7 5 0 1 4 4 0 4 5 0 7\n",
      " 2 0 3 0 6 1 0 0 7 1 7 1 1 7 6 1 0 7 5 0 4 7 0 3 0 7 2 0 2 7 1 7 1 3 3 0 0\n",
      " 0 5 0 0 1 2 6 0 0 0]\n",
      "arracy on test set 0.23863636363636365\n"
     ]
    },
    {
     "data": {
      "application/vnd.jupyter.widget-view+json": {
       "model_id": "9db12b3ac1e14b1f81d48dce86b60ce3",
       "version_major": 2,
       "version_minor": 0
      },
      "text/plain": [
       "HBox(children=(FloatProgress(value=0.0, max=24.0), HTML(value='')))"
      ]
     },
     "metadata": {},
     "output_type": "display_data"
    },
    {
     "name": "stdout",
     "output_type": "stream",
     "text": [
      "\n",
      "Epoch: 95, Loss:  0.19216793775558472\n"
     ]
    },
    {
     "data": {
      "application/vnd.jupyter.widget-view+json": {
       "model_id": "8e9e1ee13b0d4738bfd0c3ff3fdd6e13",
       "version_major": 2,
       "version_minor": 0
      },
      "text/plain": [
       "HBox(children=(FloatProgress(value=0.0, max=17.0), HTML(value='')))"
      ]
     },
     "metadata": {},
     "output_type": "display_data"
    },
    {
     "name": "stdout",
     "output_type": "stream",
     "text": [
      "\n",
      "guess [3 0 0 3 0 7 3 0 0 7 6 4 0 0 3 1 1 6 0 0 1 0 3 7 3 6 6 1 1 0 0 7 7 0 7 6 1\n",
      " 3 4 0 0 1 0 0 0 3 0 4 0 0 6 3 7 0 6 0 0 0 3 1 1 1 6 7 1 0 7 0 6 0 0 1 1 6\n",
      " 1 0 0 0 6 1 6 7 0 1 7 6 1 0 0 0 4 0 0 3 1 0 1 4 0 3 0 6 6 0 0 0 1 0 1 0 0\n",
      " 3 0 0 0 6 6 0 0 1 3 0 0 1 0 1 1 1 6 3 0 0 0 0 0 1 3 6 0 3 1 6 0 3 0 0 0 1\n",
      " 5 6 3 0 6 1 1 0 0 7 0 0 0 6 3 1 3 1 0 6 1 1 1 7 1 0 0 0 0 4 0 6 0 3 3 0 0\n",
      " 0 0 0 1 0 6 0 1 0 6 1 3 1 0 1 0 1 3 1 6 3 7 7 1 1 4 6 1 0 4 0 1 0 0 1 0 1\n",
      " 3 7 0 0 1 1 1 0 0 3 0 0 0 1 6 0 1 6 3 6 0 0 3 0 4 0 7 7 6 0 6 0 6 3 3 3 1\n",
      " 1 1 0 1 1 1 0 3 0 0 0 6 3 0 4 1 1 0 6 6 0 0 0 0 6 6 3 3 0 0 1 0 0 3 0 0 6\n",
      " 0 6 7 0 0 0 0 1 0 1 0 1 0 3 0 0 0 3 0 4 0 1 0 0 0 0 0 0 0 0 0 0 3 1 0 0 1\n",
      " 0 0 0 0 0 0 1 6 6 0 1 1 0 0 7 7 0 0 0 6 0 0 0 1 0 0 0 0 0 0 7 7 0 0 6 0 0\n",
      " 0 3 2 3 1 0 0 0 0 0 0 1 6 0 0 7 3 0 3 6 0 0 6 0 0 7 3 6 0 0 6 1 3 0 0 1 0\n",
      " 7 6 1 6 6 1 6 1 1 1 0 7 1 0 1 0 0 6 0 0 0 0 1 1 0 3 0 1 0 0 0 1 6 0 0 3 3\n",
      " 0 0 0 6 0 0 1 1 0 0 1 0 6 6 0 0 6 7 1 0 0 0 0 6 0 0 1 3 7 3 0 3 1 1 6 4 1\n",
      " 0 3 1 3 0 1 1 1 4 0 0 7 0 1 1 0 3 0 0 7 0 6 1 0 1 0 6 1 4 0 6 0 3 0 1 1 0\n",
      " 3 6 0 0 0 3 1 0 6 6]\n",
      "targs [0 0 2 0 7 2 5 0 1 0 7 7 2 1 6 3 6 3 0 3 4 1 3 0 0 1 0 2 0 0 0 6 4 7 0 6 2\n",
      " 3 4 0 7 0 6 0 5 3 0 4 1 6 0 2 1 0 3 3 1 0 7 2 1 5 4 0 3 6 3 6 5 3 7 7 0 0\n",
      " 6 5 5 0 6 2 6 0 2 5 7 7 3 0 0 0 4 0 6 5 6 4 2 0 1 0 0 0 0 1 7 0 2 0 2 7 0\n",
      " 3 1 7 5 1 3 0 0 4 1 0 7 0 1 1 0 6 0 0 2 3 7 5 1 4 2 6 0 3 2 1 0 1 3 1 3 4\n",
      " 0 1 4 1 5 6 5 5 4 3 0 7 0 3 1 0 7 7 0 0 1 3 2 0 6 0 7 2 0 0 3 6 0 7 0 6 1\n",
      " 2 6 3 0 2 3 7 2 0 1 6 4 0 0 5 2 2 0 0 0 3 3 7 1 0 1 1 7 5 4 3 1 6 0 0 0 1\n",
      " 0 1 3 1 1 7 7 1 7 4 0 2 0 2 3 0 7 7 4 1 0 7 5 1 6 2 7 5 2 5 0 1 0 2 1 6 0\n",
      " 6 0 7 2 4 2 0 3 0 0 4 4 7 3 6 3 3 0 2 1 0 0 3 7 5 6 2 2 3 2 3 0 7 2 3 5 4\n",
      " 0 7 3 1 1 7 3 4 0 2 1 4 6 0 1 4 7 3 3 0 4 1 6 5 0 1 7 0 1 0 1 6 2 3 0 0 6\n",
      " 0 0 0 0 0 1 1 1 6 0 3 3 3 0 5 0 0 1 0 5 1 6 1 3 7 0 6 3 6 0 5 7 0 0 3 0 5\n",
      " 4 1 3 6 0 0 6 4 3 6 0 0 1 7 0 5 2 3 6 7 1 0 1 7 7 7 2 7 0 2 0 4 6 5 3 3 3\n",
      " 0 3 5 1 7 1 7 1 3 6 5 4 3 5 7 0 4 2 1 1 5 1 4 0 7 0 1 3 7 6 0 3 5 0 1 4 4\n",
      " 0 1 0 6 4 7 4 4 0 0 4 3 1 0 6 7 4 0 3 1 7 7 0 6 2 0 7 0 1 1 7 3 2 3 7 1 7\n",
      " 4 1 1 0 3 6 0 5 2 0 5 2 1 2 3 4 0 0 7 0 1 4 6 7 7 0 2 0 4 0 2 0 4 7 0 0 7\n",
      " 7 6 0 1 0 3 1 7 6 2]\n",
      "arracy on test set 0.2481060606060606\n"
     ]
    },
    {
     "data": {
      "application/vnd.jupyter.widget-view+json": {
       "model_id": "0e76e1f3fd024feab8411ead93d122c9",
       "version_major": 2,
       "version_minor": 0
      },
      "text/plain": [
       "HBox(children=(FloatProgress(value=0.0, max=24.0), HTML(value='')))"
      ]
     },
     "metadata": {},
     "output_type": "display_data"
    },
    {
     "name": "stdout",
     "output_type": "stream",
     "text": [
      "\n",
      "Epoch: 96, Loss:  0.2531382739543915\n"
     ]
    },
    {
     "data": {
      "application/vnd.jupyter.widget-view+json": {
       "model_id": "5257dd0deffd4e029a27bd6209de1fb2",
       "version_major": 2,
       "version_minor": 0
      },
      "text/plain": [
       "HBox(children=(FloatProgress(value=0.0, max=17.0), HTML(value='')))"
      ]
     },
     "metadata": {},
     "output_type": "display_data"
    },
    {
     "name": "stdout",
     "output_type": "stream",
     "text": [
      "\n",
      "guess [1 0 0 0 1 0 6 7 7 0 1 0 0 1 0 0 0 0 0 3 6 3 6 6 1 3 0 0 0 0 0 0 1 7 0 0 1\n",
      " 0 1 1 1 7 6 1 1 1 3 0 1 1 0 0 0 0 0 1 1 0 3 6 0 1 0 3 3 4 0 6 0 7 3 4 1 0\n",
      " 0 0 0 0 1 3 6 3 0 6 0 6 3 1 6 0 0 2 2 0 0 0 0 3 0 0 3 1 1 1 3 0 0 6 3 0 0\n",
      " 4 0 0 0 0 1 0 3 1 0 1 6 1 0 0 6 7 0 3 6 0 0 1 0 3 0 0 0 1 1 6 0 0 1 0 3 7\n",
      " 4 1 0 0 0 0 0 6 6 3 6 0 1 0 0 0 0 3 0 0 0 0 0 0 1 3 0 0 0 1 1 0 6 6 0 7 1\n",
      " 3 0 0 0 0 0 1 0 6 0 1 0 0 4 7 6 0 0 0 0 6 0 3 0 0 0 0 0 0 0 1 0 7 6 0 0 3\n",
      " 6 0 0 0 0 1 7 0 1 1 7 0 3 0 3 0 3 6 1 1 3 0 1 1 6 0 0 3 0 0 0 0 0 3 0 1 6\n",
      " 0 6 0 1 1 7 2 0 4 0 1 0 3 4 3 0 0 0 0 0 0 0 6 3 3 0 3 0 7 0 1 0 1 4 1 0 7\n",
      " 7 1 6 3 3 3 1 3 3 0 0 0 0 0 0 1 0 3 0 6 0 4 0 0 1 1 0 0 0 0 0 0 0 7 0 0 0\n",
      " 0 3 0 1 0 0 4 1 1 3 1 0 1 0 1 0 1 0 6 1 1 0 1 1 0 3 0 7 0 6 0 0 0 3 6 0 0\n",
      " 6 3 1 0 1 0 7 0 1 0 0 0 7 0 0 1 6 6 0 0 0 1 0 0 3 1 0 0 7 3 1 0 7 0 1 1 0\n",
      " 0 0 1 6 0 3 0 1 0 0 0 0 0 0 6 0 7 0 0 0 0 0 6 1 3 1 0 0 1 7 0 1 0 3 0 5 0\n",
      " 7 0 1 7 6 0 0 6 1 0 0 0 0 1 0 0 0 3 0 0 0 0 1 2 0 0 0 4 1 0 0 7 1 3 4 0 0\n",
      " 0 7 1 0 0 0 3 3 0 0 3 6 1 3 0 0 1 7 1 0 3 1 0 0 0 0 0 0 1 0 0 3 0 4 0 6 0\n",
      " 7 6 0 0 0 0 1 1 0 1]\n",
      "targs [1 3 3 7 1 1 3 7 0 7 0 1 0 0 0 0 4 6 2 0 7 4 2 2 2 3 0 6 5 0 4 1 0 7 2 6 7\n",
      " 4 3 7 4 3 0 6 4 2 0 1 5 7 0 0 0 0 5 2 1 3 2 4 2 4 6 0 1 4 7 4 0 0 0 6 7 2\n",
      " 3 5 6 6 6 4 6 1 0 0 0 1 4 4 3 0 0 3 0 7 5 7 7 5 1 0 6 4 7 3 2 0 6 7 0 0 1\n",
      " 4 0 0 7 3 6 1 2 0 7 0 3 7 0 0 3 2 0 0 5 0 1 0 0 3 3 6 7 1 0 6 3 0 1 0 3 5\n",
      " 7 0 5 3 2 6 0 0 6 0 2 6 2 2 1 0 0 1 7 7 1 1 0 7 1 3 0 3 1 7 2 7 6 6 7 3 0\n",
      " 7 0 3 1 1 0 5 1 1 4 1 1 3 0 6 7 0 6 0 7 1 0 3 0 7 7 0 7 1 0 3 2 4 3 6 0 0\n",
      " 0 6 6 1 0 2 0 2 0 4 7 0 7 3 0 7 7 0 5 2 7 3 3 3 5 0 0 5 6 7 0 0 0 3 0 6 1\n",
      " 0 5 0 3 1 2 6 1 4 4 6 0 2 4 6 0 1 6 0 7 1 0 6 2 1 0 5 5 5 4 0 4 3 4 6 3 0\n",
      " 0 2 5 7 0 0 2 2 1 0 3 1 7 0 0 2 5 1 1 0 0 6 7 0 5 5 3 0 5 7 3 5 2 0 0 3 1\n",
      " 2 3 3 3 7 1 1 1 3 7 3 2 3 1 6 5 4 5 6 7 3 1 3 2 7 0 4 3 4 7 1 0 7 4 7 0 0\n",
      " 7 3 7 0 3 1 2 0 4 0 5 1 1 0 1 2 0 1 3 0 1 7 0 2 6 2 7 0 0 6 1 5 0 3 4 0 4\n",
      " 0 7 2 6 0 3 1 2 1 6 0 1 1 1 6 0 5 7 1 7 0 1 4 6 4 0 4 1 0 0 4 0 0 4 7 0 7\n",
      " 3 1 3 7 1 0 0 1 6 2 7 3 0 1 5 0 0 6 3 3 1 5 1 1 5 0 3 0 0 0 5 4 3 2 1 1 7\n",
      " 1 0 2 0 0 0 2 3 6 3 3 7 0 2 0 7 7 0 3 2 0 3 1 6 4 1 2 4 6 6 0 4 0 2 3 0 1\n",
      " 5 4 7 2 1 0 4 5 0 6]\n",
      "arracy on test set 0.2537878787878788\n"
     ]
    },
    {
     "data": {
      "application/vnd.jupyter.widget-view+json": {
       "model_id": "bcd4f7916c3b48f7939a1266de32fa22",
       "version_major": 2,
       "version_minor": 0
      },
      "text/plain": [
       "HBox(children=(FloatProgress(value=0.0, max=24.0), HTML(value='')))"
      ]
     },
     "metadata": {},
     "output_type": "display_data"
    },
    {
     "name": "stdout",
     "output_type": "stream",
     "text": [
      "\n",
      "Epoch: 97, Loss:  0.2677520215511322\n"
     ]
    },
    {
     "data": {
      "application/vnd.jupyter.widget-view+json": {
       "model_id": "cc69effba6ca4ff88c4f7ed75d8b92d1",
       "version_major": 2,
       "version_minor": 0
      },
      "text/plain": [
       "HBox(children=(FloatProgress(value=0.0, max=17.0), HTML(value='')))"
      ]
     },
     "metadata": {},
     "output_type": "display_data"
    },
    {
     "name": "stdout",
     "output_type": "stream",
     "text": [
      "\n",
      "guess [1 0 0 1 0 0 7 1 0 6 4 0 1 7 0 1 0 1 3 6 0 1 0 0 7 0 0 5 1 0 3 7 1 0 0 0 1\n",
      " 0 0 1 0 1 4 1 6 6 3 7 7 6 0 1 0 1 0 7 3 1 0 0 6 6 0 0 0 1 1 0 0 1 0 1 1 0\n",
      " 0 1 0 1 0 7 0 0 3 0 3 1 6 0 6 1 1 3 7 3 0 6 7 0 6 1 1 1 6 4 7 0 1 7 6 6 0\n",
      " 0 6 0 0 0 0 1 1 0 4 1 0 0 1 7 1 0 0 0 4 4 0 0 0 7 1 6 2 1 0 7 0 0 1 0 6 0\n",
      " 6 0 7 5 1 0 1 1 0 6 0 4 0 1 0 0 0 0 1 1 1 0 3 7 0 1 0 4 3 6 0 7 7 3 0 0 3\n",
      " 3 1 6 0 0 7 0 1 0 0 1 0 0 0 1 1 4 7 1 4 0 0 1 0 1 0 4 0 1 6 1 1 7 0 1 6 0\n",
      " 1 0 0 1 6 1 1 0 3 0 0 6 0 7 1 0 1 0 4 1 0 0 0 3 0 3 0 1 0 0 1 1 1 3 0 6 1\n",
      " 0 0 0 0 3 6 0 7 0 6 0 0 3 0 3 1 0 0 4 0 3 0 1 7 3 7 0 7 7 1 0 6 1 4 1 7 1\n",
      " 6 0 7 0 7 1 1 0 3 0 0 6 0 1 7 6 0 0 0 0 1 1 6 0 0 0 0 3 0 0 1 6 0 0 0 0 6\n",
      " 1 6 1 0 1 1 7 0 0 6 0 4 1 1 7 0 3 0 1 6 7 0 0 1 0 0 7 0 0 3 1 1 1 6 1 3 6\n",
      " 0 0 0 0 0 1 7 0 1 6 6 0 0 1 0 3 0 1 0 0 7 1 5 0 0 6 1 3 1 0 0 0 0 0 0 0 0\n",
      " 3 1 0 0 3 0 3 7 0 0 3 0 0 3 1 0 0 0 0 0 1 0 1 0 0 6 0 1 3 0 3 0 6 1 0 4 7\n",
      " 0 7 1 7 0 0 3 1 0 0 0 0 7 0 1 0 0 0 1 6 7 0 6 0 0 1 0 6 0 7 0 0 0 1 0 3 1\n",
      " 0 6 0 7 7 1 1 1 6 6 0 0 7 0 0 1 6 0 0 6 3 0 0 0 0 4 0 0 1 1 1 3 0 0 0 6 0\n",
      " 6 1 3 0 0 6 0 0 6 7]\n",
      "targs [0 0 0 6 1 7 1 4 0 6 2 0 0 6 7 1 0 5 3 3 6 2 0 6 1 0 0 0 0 4 2 0 3 3 6 0 2\n",
      " 7 0 2 7 4 0 3 7 1 2 7 3 5 2 7 0 7 5 0 5 4 4 0 7 6 1 0 1 2 7 0 3 6 0 2 6 0\n",
      " 0 1 0 0 0 4 3 1 0 3 3 3 0 5 4 0 3 1 7 3 4 2 3 6 3 6 2 0 0 1 3 0 4 2 7 6 2\n",
      " 0 0 1 5 0 1 7 0 1 3 2 1 1 7 3 5 1 6 0 1 6 3 0 1 0 2 4 3 3 7 5 7 0 3 0 5 1\n",
      " 5 4 5 1 0 7 2 4 0 4 1 4 1 3 3 7 3 1 3 1 6 1 0 1 0 3 6 4 6 6 7 0 2 3 0 2 4\n",
      " 2 0 4 5 1 4 2 1 1 0 0 4 0 6 4 0 7 4 7 7 1 7 0 0 3 0 4 4 3 1 3 5 1 7 5 5 6\n",
      " 1 7 0 2 0 1 2 6 6 5 7 7 0 1 1 0 4 1 4 0 1 0 0 7 7 1 0 3 7 4 1 6 3 3 3 3 1\n",
      " 0 3 6 0 7 7 3 0 3 0 2 7 0 3 1 0 5 0 0 6 0 7 5 4 4 0 7 3 0 3 1 7 2 0 1 0 4\n",
      " 2 7 1 0 7 6 2 0 4 4 1 0 7 5 0 4 0 5 6 5 5 3 7 1 5 2 3 0 0 2 2 6 4 0 3 1 0\n",
      " 6 6 2 0 0 6 2 1 0 6 0 4 0 1 7 0 7 0 0 1 0 3 0 2 3 0 6 1 0 5 3 6 2 6 7 3 5\n",
      " 0 1 1 7 0 1 5 3 0 1 1 0 0 7 4 0 1 4 2 7 2 7 0 3 1 2 3 6 1 7 7 5 1 7 6 0 2\n",
      " 2 7 7 0 1 1 0 0 0 0 0 6 3 2 6 0 0 0 1 0 3 2 4 1 0 6 5 5 1 3 2 1 3 6 1 6 3\n",
      " 0 0 0 5 0 5 0 1 1 0 0 2 3 1 7 7 6 7 7 6 7 3 1 4 0 0 6 0 0 0 7 5 7 6 1 5 4\n",
      " 0 2 7 2 2 0 0 3 1 0 0 7 0 7 7 0 3 5 2 3 3 4 0 0 0 2 0 0 7 6 3 3 1 7 4 6 0\n",
      " 3 0 4 6 0 7 2 0 1 0]\n",
      "arracy on test set 0.24053030303030304\n"
     ]
    },
    {
     "data": {
      "application/vnd.jupyter.widget-view+json": {
       "model_id": "235009b7a7dd42f297e3181114906e31",
       "version_major": 2,
       "version_minor": 0
      },
      "text/plain": [
       "HBox(children=(FloatProgress(value=0.0, max=24.0), HTML(value='')))"
      ]
     },
     "metadata": {},
     "output_type": "display_data"
    },
    {
     "name": "stdout",
     "output_type": "stream",
     "text": [
      "\n",
      "Epoch: 98, Loss:  0.24917198717594147\n"
     ]
    },
    {
     "data": {
      "application/vnd.jupyter.widget-view+json": {
       "model_id": "f9bc178b85d14852aa83d51f75365877",
       "version_major": 2,
       "version_minor": 0
      },
      "text/plain": [
       "HBox(children=(FloatProgress(value=0.0, max=17.0), HTML(value='')))"
      ]
     },
     "metadata": {},
     "output_type": "display_data"
    },
    {
     "name": "stdout",
     "output_type": "stream",
     "text": [
      "\n",
      "guess [0 6 1 0 6 7 1 1 0 1 1 0 0 3 1 6 0 1 1 0 0 0 4 0 6 6 0 1 0 6 1 0 3 0 4 0 4\n",
      " 0 7 0 0 7 0 6 0 0 1 0 0 6 6 0 0 0 0 0 1 0 6 6 0 7 4 0 1 0 3 0 0 0 0 0 3 0\n",
      " 3 6 6 1 0 1 6 0 0 0 6 1 4 0 1 4 7 6 0 7 3 3 0 6 0 3 0 6 7 2 3 0 1 4 1 6 0\n",
      " 6 1 0 4 6 0 0 0 0 0 0 1 3 0 0 1 0 0 0 6 0 0 0 6 6 6 0 0 1 6 0 6 0 0 0 1 6\n",
      " 2 0 0 0 0 0 1 0 0 0 4 1 0 4 6 0 0 0 0 0 0 0 0 0 1 0 1 0 0 6 0 6 0 0 2 1 4\n",
      " 0 0 0 0 6 7 0 0 6 6 6 3 6 6 0 0 0 0 0 6 0 3 0 0 1 6 0 3 0 0 0 3 0 0 1 0 3\n",
      " 0 1 1 6 0 0 0 1 0 1 0 3 3 6 0 0 0 0 0 0 1 0 0 0 0 6 1 0 0 0 3 1 6 0 0 3 0\n",
      " 0 1 7 0 0 0 0 0 0 6 6 3 7 0 6 3 3 7 1 0 0 6 3 0 6 0 3 0 0 3 0 0 0 3 0 1 1\n",
      " 0 0 0 1 1 0 0 1 1 0 0 6 0 0 0 1 6 1 0 0 0 0 1 0 0 0 0 1 1 6 0 0 0 6 6 3 1\n",
      " 4 6 1 1 3 3 0 1 1 0 1 0 0 0 0 0 7 0 6 3 0 0 0 1 0 0 1 1 3 0 0 0 0 6 7 1 0\n",
      " 3 0 6 0 6 6 0 0 0 3 0 0 4 0 0 3 0 6 6 0 0 0 6 0 4 0 0 1 0 3 3 1 4 1 0 0 0\n",
      " 1 1 0 7 1 0 6 0 0 0 0 6 0 3 0 1 0 0 3 0 0 0 1 1 3 0 7 6 3 3 0 1 1 3 0 0 3\n",
      " 1 0 1 3 6 0 1 1 1 0 1 0 3 1 3 0 3 0 0 0 0 0 0 0 0 1 6 3 0 0 0 6 1 6 6 0 0\n",
      " 0 4 0 3 3 0 0 0 0 0 6 6 0 0 3 0 6 0 3 1 0 0 0 1 0 0 6 6 4 0 0 6 1 0 6 0 1\n",
      " 0 1 3 0 0 1 0 0 0 6]\n",
      "targs [2 1 3 1 2 0 6 2 1 3 2 1 0 6 1 1 0 6 3 5 1 0 3 5 4 2 0 1 0 4 4 0 0 1 6 4 0\n",
      " 7 0 0 7 5 3 6 5 7 0 1 0 6 3 6 0 0 0 7 6 3 3 6 0 1 7 7 0 1 0 1 7 1 0 6 4 0\n",
      " 2 0 5 0 1 6 3 1 4 2 0 3 4 1 2 4 7 0 0 3 2 7 6 0 7 5 0 2 0 3 3 7 0 1 0 6 7\n",
      " 6 1 4 0 1 1 5 0 1 0 4 0 0 7 1 0 7 0 0 3 5 3 6 6 0 1 5 0 7 0 6 7 1 7 7 0 7\n",
      " 1 4 0 4 7 1 3 1 5 0 1 3 0 7 2 2 3 6 3 0 4 2 3 6 5 7 0 0 0 4 0 0 0 5 6 1 4\n",
      " 0 1 0 2 0 2 1 0 5 5 0 4 5 7 7 0 1 3 0 7 2 0 5 7 5 2 1 6 0 6 3 4 0 0 7 0 1\n",
      " 7 1 6 7 0 6 0 2 0 0 0 3 7 7 0 1 0 7 6 0 4 0 1 6 0 5 2 0 1 3 2 0 2 3 3 2 0\n",
      " 0 6 3 7 0 2 7 0 3 7 7 3 4 7 0 3 3 3 2 0 0 6 5 3 3 3 6 7 1 3 0 6 0 3 0 4 3\n",
      " 2 3 7 4 3 0 7 2 3 0 7 1 0 0 5 5 1 0 1 1 1 1 3 5 1 1 0 6 2 4 1 0 7 4 4 4 1\n",
      " 2 1 7 3 3 6 0 2 0 4 3 1 0 2 0 7 0 1 6 0 3 0 6 7 3 7 7 4 1 0 0 2 1 4 3 0 0\n",
      " 0 0 1 0 0 4 1 6 3 3 1 0 2 5 3 4 7 7 6 0 6 0 0 0 0 0 0 3 6 3 1 2 4 3 5 0 1\n",
      " 5 1 0 0 6 7 1 2 3 6 5 0 0 2 4 4 0 5 1 7 1 1 4 0 5 3 7 3 0 7 4 0 5 0 4 1 7\n",
      " 5 6 7 0 2 0 6 5 2 0 1 7 0 2 6 0 1 1 7 3 7 3 2 6 4 3 1 3 2 4 0 0 6 4 2 0 0\n",
      " 0 4 1 2 3 0 1 2 2 1 6 7 1 4 0 5 7 0 7 7 0 0 7 2 7 0 5 6 6 3 0 3 3 0 2 2 4\n",
      " 3 1 2 1 6 7 5 1 0 7]\n",
      "arracy on test set 0.25757575757575757\n"
     ]
    },
    {
     "data": {
      "application/vnd.jupyter.widget-view+json": {
       "model_id": "2642037a9a714e489e75c6e09becbfa3",
       "version_major": 2,
       "version_minor": 0
      },
      "text/plain": [
       "HBox(children=(FloatProgress(value=0.0, max=24.0), HTML(value='')))"
      ]
     },
     "metadata": {},
     "output_type": "display_data"
    },
    {
     "name": "stdout",
     "output_type": "stream",
     "text": [
      "\n",
      "Epoch: 99, Loss:  0.2897215187549591\n"
     ]
    },
    {
     "data": {
      "application/vnd.jupyter.widget-view+json": {
       "model_id": "60c9fae4ffa749868353fca8d2624b56",
       "version_major": 2,
       "version_minor": 0
      },
      "text/plain": [
       "HBox(children=(FloatProgress(value=0.0, max=17.0), HTML(value='')))"
      ]
     },
     "metadata": {},
     "output_type": "display_data"
    },
    {
     "name": "stdout",
     "output_type": "stream",
     "text": [
      "\n",
      "guess [0 0 3 7 3 6 0 0 0 1 0 0 1 0 0 6 1 0 6 6 1 0 1 0 3 1 0 0 0 1 3 7 0 0 4 7 0\n",
      " 7 0 1 6 0 1 0 7 1 0 3 0 1 0 3 0 1 6 6 6 0 1 7 0 3 0 1 1 0 0 0 0 0 0 6 0 0\n",
      " 3 0 6 3 0 0 1 0 4 0 0 0 0 0 0 6 0 3 0 0 7 3 0 6 0 7 1 4 1 6 6 6 6 3 1 0 3\n",
      " 7 0 0 3 3 0 0 0 0 7 1 1 0 6 0 1 0 3 0 3 6 3 3 0 0 0 0 0 0 3 4 3 3 6 0 1 3\n",
      " 0 0 3 0 1 6 1 0 6 0 1 6 0 1 1 3 0 0 0 1 0 1 3 0 3 1 3 0 0 0 0 4 0 0 6 1 1\n",
      " 0 6 3 1 1 3 1 1 2 0 0 0 3 1 0 0 1 2 0 0 3 0 7 0 3 1 0 3 0 1 0 0 0 3 0 3 1\n",
      " 0 6 0 1 1 0 0 1 0 3 1 3 3 0 1 0 0 0 0 0 1 3 0 0 1 0 0 0 6 0 0 0 0 6 0 6 6\n",
      " 1 0 1 0 0 7 4 0 4 0 1 1 3 0 6 1 0 0 1 6 2 1 3 3 6 1 0 1 1 3 0 3 1 0 1 7 6\n",
      " 0 3 0 3 6 3 0 1 0 3 0 0 1 0 0 0 0 1 7 6 6 7 0 0 0 1 1 0 3 1 3 0 1 0 1 3 0\n",
      " 0 0 0 0 0 4 0 0 0 0 7 0 3 4 1 1 0 6 0 0 1 0 3 0 0 1 1 3 0 3 1 6 4 0 0 0 1\n",
      " 1 0 0 1 0 3 0 3 1 0 3 3 0 0 0 0 0 0 0 0 0 0 1 4 0 6 0 6 1 3 3 0 0 0 0 0 0\n",
      " 0 0 0 6 0 6 0 0 0 0 1 0 4 0 0 0 0 1 0 1 0 0 4 0 3 7 0 0 0 6 6 0 0 0 0 0 3\n",
      " 7 1 1 1 0 1 7 6 0 0 0 0 4 0 0 7 1 3 0 0 0 0 0 6 0 0 0 3 1 0 0 3 4 7 1 0 0\n",
      " 0 6 6 0 0 0 3 1 0 0 4 0 1 0 0 1 0 3 0 6 3 1 0 0 6 0 1 3 5 0 3 0 6 1 1 6 0\n",
      " 4 0 1 0 3 1 0 6 0 6]\n",
      "targs [1 0 2 0 1 2 3 1 0 6 0 3 3 7 0 3 1 0 1 7 7 0 4 0 0 3 7 7 7 4 5 3 0 0 4 0 6\n",
      " 0 1 2 0 0 1 2 1 1 7 4 0 6 5 1 0 0 0 2 7 3 5 5 7 7 3 7 6 1 1 0 0 6 0 6 6 0\n",
      " 2 0 1 4 0 0 0 4 3 1 0 5 7 0 0 6 6 7 4 5 3 3 7 6 7 0 1 2 6 0 5 4 0 3 2 0 0\n",
      " 4 1 0 3 4 3 0 0 0 2 4 0 1 6 0 3 1 1 1 0 3 1 1 4 2 7 4 0 7 6 0 0 0 5 0 6 2\n",
      " 3 0 0 4 1 0 3 0 4 3 3 7 1 5 1 3 0 0 0 3 0 0 0 6 3 2 7 0 0 0 7 4 1 5 6 0 7\n",
      " 0 3 1 1 0 0 3 0 1 1 1 7 0 1 6 2 4 6 5 0 3 3 3 3 3 2 7 6 6 4 4 1 7 2 1 0 2\n",
      " 1 5 1 5 0 2 0 2 6 4 4 2 6 4 1 2 4 4 5 7 3 2 0 2 4 0 5 7 4 1 1 3 0 7 5 4 6\n",
      " 2 0 3 7 7 0 1 3 7 0 0 0 0 0 7 7 0 0 2 2 3 0 4 5 0 2 5 4 3 0 3 2 2 3 1 3 1\n",
      " 0 0 0 4 7 3 4 1 2 3 6 0 2 6 5 1 1 2 4 1 0 2 1 6 2 5 3 7 3 0 0 0 4 3 3 1 0\n",
      " 0 6 0 0 2 2 6 0 1 0 0 7 6 4 7 0 0 2 0 0 5 1 2 6 0 7 3 7 0 3 4 6 7 7 0 7 0\n",
      " 1 0 1 3 7 3 7 2 6 0 0 6 1 6 1 3 7 6 1 3 2 6 7 4 5 1 7 6 6 4 6 2 0 0 0 5 0\n",
      " 0 0 1 7 1 5 2 1 7 4 0 1 6 1 5 7 1 6 0 5 0 3 1 1 3 0 4 0 3 5 3 1 3 3 7 5 5\n",
      " 7 2 7 5 3 0 7 1 5 5 0 1 6 0 0 0 2 7 0 4 7 0 1 4 0 7 1 1 3 0 0 3 0 2 6 7 0\n",
      " 0 7 7 7 0 1 7 0 2 2 4 1 7 1 0 7 7 7 3 0 3 0 1 1 6 6 7 3 0 6 2 0 0 6 3 3 1\n",
      " 0 5 2 5 6 3 0 6 0 1]\n",
      "arracy on test set 0.25946969696969696\n"
     ]
    }
   ],
   "source": [
    "model = BERTClass(NUM_OUT)\n",
    "model.to(device)    \n",
    "\n",
    "optimizer = torch.optim.Adam(params =  model.parameters(), lr=LEARNING_RATE)\n",
    "\n",
    "for epoch in range(EPOCHS):\n",
    "    loss = train(model, training_loader, optimizer)\n",
    "    print(f'Epoch: {epoch}, Loss:  {loss.item()}') \n",
    "    guess, targs = validation(model, testing_loader)\n",
    "#     guess = (guess > 0.56) * 1\n",
    "    guess = guess.numpy().argmax(1)\n",
    "    targs = targs.numpy().argmax(1)\n",
    "    print('guess', guess)\n",
    "    print('targs', targs)\n",
    "    print('arracy on test set {}'.format(accuracy_score(guess, targs)))"
   ]
  },
  {
   "cell_type": "code",
   "execution_count": null,
   "id": "c463af3d",
   "metadata": {},
   "outputs": [],
   "source": []
  },
  {
   "cell_type": "code",
   "execution_count": null,
   "id": "f7ec92fb",
   "metadata": {},
   "outputs": [],
   "source": []
  },
  {
   "cell_type": "code",
   "execution_count": null,
   "id": "81deb6d3",
   "metadata": {},
   "outputs": [],
   "source": []
  }
 ],
 "metadata": {
  "kernelspec": {
   "display_name": "Python 3",
   "language": "python",
   "name": "python3"
  },
  "language_info": {
   "codemirror_mode": {
    "name": "ipython",
    "version": 3
   },
   "file_extension": ".py",
   "mimetype": "text/x-python",
   "name": "python",
   "nbconvert_exporter": "python",
   "pygments_lexer": "ipython3",
   "version": "3.8.8"
  }
 },
 "nbformat": 4,
 "nbformat_minor": 5
}
