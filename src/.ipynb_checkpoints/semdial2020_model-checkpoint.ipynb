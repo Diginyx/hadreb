{
 "cells": [
  {
   "cell_type": "code",
   "execution_count": 31,
   "id": "843d122b",
   "metadata": {},
   "outputs": [],
   "source": [
    "import pandas as pd\n",
    "import numpy as np\n",
    "import json\n",
    "import os\n",
    "import re\n",
    "from skmultilearn.adapt import MLkNN\n",
    "from sklearn.metrics import accuracy_score, recall_score, average_precision_score, f1_score\n",
    "from novikova import NovikovaFeatures\n",
    "\n",
    "nov = NovikovaFeatures()"
   ]
  },
  {
   "cell_type": "code",
   "execution_count": 133,
   "id": "1ed04014",
   "metadata": {},
   "outputs": [],
   "source": [
    "robot = 'misty'"
   ]
  },
  {
   "cell_type": "code",
   "execution_count": 134,
   "id": "d7e3d46b",
   "metadata": {},
   "outputs": [],
   "source": [
    "states_folder = f'../{robot}_filtered/states/'\n",
    "files = [f for f in os.listdir(states_folder) if os.path.isfile(os.path.join(states_folder, f))]"
   ]
  },
  {
   "cell_type": "code",
   "execution_count": 135,
   "id": "7271fd5f",
   "metadata": {},
   "outputs": [],
   "source": [
    "def load_states_json(f, robot='cozmo'):\n",
    "    states = []\n",
    "    s = r''\n",
    "    lines = open(f).readlines()\n",
    "    \n",
    "    for line in lines:\n",
    "        if line == '\\n':\n",
    "            states.append(json.loads(s))\n",
    "            s = r''\n",
    "            continue\n",
    "        s += line.strip()\n",
    "        \n",
    "    states = [json.loads(s['value']) for s in states]\n",
    "    remap = []\n",
    "    if robot=='cozmo':\n",
    "        for s in states:\n",
    "            del s['pose']\n",
    "            for key in s:\n",
    "        #         print(s[key])\n",
    "                results = re.findall(r'\\(.*?\\)',s[key])\n",
    "        #         for result in results:\n",
    "        #         print(results)\n",
    "                if len(results) > 0:\n",
    "                    s[key] = float(str(results[-1][1:]).split()[0])\n",
    "                elif s[key] == 'True': s[key] = True\n",
    "                elif s[key] == 'False': s[key] = False\n",
    "                elif 'Speed' in s[key]: s[key] = float(s[key].split()[1])  \n",
    "                    \n",
    "    \n",
    "    elif robot=='misty':\n",
    "        misty_cozmo_map = {\n",
    "            'Actuator_HeadPitch' : 'head_angle',\n",
    "            'Actuator_RightArm' : 'lift_height',\n",
    "            'Actuator_LeftArm' : 'lift_height',\n",
    "        }\n",
    "#         print(states)\n",
    "        remap_ = {}\n",
    "        for s in states:\n",
    "#             print('s', s)\n",
    "            if 'Actuator_' in s['eventName']:\n",
    "                if s['eventName'] in misty_cozmo_map:\n",
    "                    remap_[misty_cozmo_map[s['eventName']]] = s['message']['value']\n",
    "                else:\n",
    "                    remap_[s['eventName']]= s['message']['value']\n",
    "                remap_['are_wheels_moving'] = False\n",
    "                remap_['pose_angle'] = 0\n",
    "                remap_['left_wheel_speed'] = 0\n",
    "                \n",
    "                if len(remap_) == 7:\n",
    "                    remap.append(dict(remap_))\n",
    "        \n",
    "        states = remap\n",
    "        \n",
    "    return states\n",
    "\n",
    "\n",
    "# load_states_json(states_folder+files[0], robot=robot)"
   ]
  },
  {
   "cell_type": "code",
   "execution_count": 136,
   "id": "8eb6552a",
   "metadata": {},
   "outputs": [],
   "source": [
    "all_states = {f.replace('.json', ''):load_states_json(states_folder+f, robot=robot) for f in files}"
   ]
  },
  {
   "cell_type": "code",
   "execution_count": 137,
   "id": "1b577d01",
   "metadata": {},
   "outputs": [
    {
     "data": {
      "text/plain": [
       "17.743119266055047"
      ]
     },
     "execution_count": 137,
     "metadata": {},
     "output_type": "execute_result"
    }
   ],
   "source": [
    "np.mean([len(s) for s in all_states])"
   ]
  },
  {
   "cell_type": "code",
   "execution_count": 138,
   "id": "3df66b70",
   "metadata": {},
   "outputs": [],
   "source": [
    "responses = pd.read_csv(f'../raw_data/responses_{robot}.csv')\n",
    "responses['Timestamp'] = responses.Timestamp.map(lambda x: str(x))\n",
    "responses = responses[responses.Timestamp.isin(all_states.keys())]\n",
    "resp = {str(row[1]['Timestamp']):np.array(row[1][2:], dtype=float) for row in responses.iterrows() }"
   ]
  },
  {
   "cell_type": "code",
   "execution_count": 139,
   "id": "69fa4076",
   "metadata": {},
   "outputs": [],
   "source": [
    "vectors = { ts:nov.get_vectors(all_states[ts]) for ts in all_states}"
   ]
  },
  {
   "cell_type": "code",
   "execution_count": 140,
   "id": "dbf71dc2",
   "metadata": {},
   "outputs": [
    {
     "data": {
      "text/plain": [
       "(545, 545, 545)"
      ]
     },
     "execution_count": 140,
     "metadata": {},
     "output_type": "execute_result"
    }
   ],
   "source": [
    "len(files), len(vectors), len(resp)"
   ]
  },
  {
   "cell_type": "code",
   "execution_count": 141,
   "id": "0eb572a4",
   "metadata": {},
   "outputs": [
    {
     "data": {
      "text/plain": [
       "((100, 9), (445, 9), (100, 8), (445, 8))"
      ]
     },
     "execution_count": 141,
     "metadata": {},
     "output_type": "execute_result"
    }
   ],
   "source": [
    "def softmax(x):\n",
    "    f_x = np.exp(x) / np.sum(np.exp(x))\n",
    "    return f_x\n",
    "\n",
    "\n",
    "train = list(vectors.keys())[-100:]\n",
    "test = list(vectors.keys())[:-100]\n",
    "\n",
    "X_train = np.array([vectors[v] for v in train])\n",
    "X_test = np.array([vectors[v] for v in test])\n",
    "\n",
    "y_train = np.array([resp[r]>3 for r in train], dtype=np.float32)\n",
    "y_test = np.array([resp[r]>3 for r in test], dtype=np.float32)\n",
    "\n",
    "\n",
    "X_train.shape, X_test.shape, y_train.shape, y_test.shape"
   ]
  },
  {
   "cell_type": "code",
   "execution_count": 142,
   "id": "0272a0bb",
   "metadata": {},
   "outputs": [
    {
     "name": "stdout",
     "output_type": "stream",
     "text": [
      "f1 0.5351424106480287, acc 0.7485955056179775\n"
     ]
    }
   ],
   "source": [
    "classifier_affect = MLkNN(k=5)\n",
    "classifier_affect.fit(X_train, y_train)\n",
    "predictions = classifier_affect.predict(X_test)\n",
    "pre=np.mean([f1_score(y_test[i], predictions.toarray()[i], average='macro')  for i in range(0,len(y_test))])\n",
    "acc=np.mean([accuracy_score(y_test[i], predictions.toarray()[i]) for i in range(0,len(y_test))])\n",
    "print(\"f1 {}, acc {}\".format(pre,acc))"
   ]
  },
  {
   "cell_type": "code",
   "execution_count": 144,
   "id": "dd9041d3",
   "metadata": {},
   "outputs": [
    {
     "name": "stdout",
     "output_type": "stream",
     "text": [
      "(545, 9) (545, 8)\n"
     ]
    }
   ],
   "source": [
    "train = list(vectors.keys())\n",
    "\n",
    "if robot == 'cozmo':\n",
    "    X_cozmo = np.array([vectors[v] for v in train])\n",
    "    y_cozmo = np.array([resp[r]>3 for r in train], dtype=np.float32)\n",
    "    \n",
    "    \n",
    "if robot == 'misty':\n",
    "    X_misty = np.array([vectors[v] for v in train])\n",
    "    y_misty = np.array([resp[r]>3 for r in train], dtype=np.float32)    \n",
    "    print(X_misty.shape, y_misty.shape)"
   ]
  },
  {
   "cell_type": "code",
   "execution_count": 151,
   "id": "304e1af6",
   "metadata": {},
   "outputs": [
    {
     "name": "stdout",
     "output_type": "stream",
     "text": [
      "f1 0.5127091271515404, acc 0.6912705667276051\n"
     ]
    }
   ],
   "source": [
    "X_train = X_misty\n",
    "y_train = y_misty\n",
    "X_test = X_cozmo\n",
    "y_test = y_cozmo\n",
    "\n",
    "classifier_affect = MLkNN(k=5)\n",
    "classifier_affect.fit(X_train, y_train)\n",
    "predictions = classifier_affect.predict(X_test)\n",
    "pre=np.mean([f1_score(y_test[i], predictions.toarray()[i], average='macro')  for i in range(0,len(y_test))])\n",
    "acc=np.mean([accuracy_score(y_test[i], predictions.toarray()[i]) for i in range(0,len(y_test))])\n",
    "print(\"f1 {}, acc {}\".format(pre,acc))"
   ]
  },
  {
   "cell_type": "markdown",
   "id": "b597d13a",
   "metadata": {},
   "source": [
    "Cozmo (n_train=447, n_test=100)\n",
    "\n",
    "f1 0.5829350366263119, acc 0.7961409395973155\n",
    "\n",
    "Misty (n_train=445, n_test=100)\n",
    "\n",
    "f1 0.5351424106480287, acc 0.7485955056179775\n",
    "\n",
    "Cozmo->Misty (n_train=547, n_test=545)\n",
    "\n",
    "f1 0.5436941040610765, acc 0.7635321100917432\n",
    "\n",
    "Misty->Cozmo (n_train=545, n_test=547)\n",
    "\n",
    "f1 0.5127091271515404, acc 0.6912705667276051"
   ]
  },
  {
   "cell_type": "code",
   "execution_count": null,
   "id": "7d0a1157",
   "metadata": {},
   "outputs": [],
   "source": []
  }
 ],
 "metadata": {
  "kernelspec": {
   "display_name": "Python 3",
   "language": "python",
   "name": "python3"
  },
  "language_info": {
   "codemirror_mode": {
    "name": "ipython",
    "version": 3
   },
   "file_extension": ".py",
   "mimetype": "text/x-python",
   "name": "python",
   "nbconvert_exporter": "python",
   "pygments_lexer": "ipython3",
   "version": "3.8.8"
  }
 },
 "nbformat": 4,
 "nbformat_minor": 5
}
